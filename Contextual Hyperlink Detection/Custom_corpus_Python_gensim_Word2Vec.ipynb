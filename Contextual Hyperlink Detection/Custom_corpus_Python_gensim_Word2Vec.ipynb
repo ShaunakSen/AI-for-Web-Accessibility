{
  "nbformat": 4,
  "nbformat_minor": 0,
  "metadata": {
    "colab": {
      "name": "Custom corpus - Python gensim Word2Vec.ipynb",
      "provenance": [],
      "collapsed_sections": [],
      "toc_visible": true,
      "include_colab_link": true
    },
    "kernelspec": {
      "name": "python3",
      "display_name": "Python 3"
    },
    "accelerator": "GPU"
  },
  "cells": [
    {
      "cell_type": "markdown",
      "metadata": {
        "id": "view-in-github",
        "colab_type": "text"
      },
      "source": [
        "<a href=\"https://colab.research.google.com/github/ShaunakSen/AI-for-Web-Accessibility/blob/master/Custom_corpus_Python_gensim_Word2Vec.ipynb\" target=\"_parent\"><img src=\"https://colab.research.google.com/assets/colab-badge.svg\" alt=\"Open In Colab\"/></a>"
      ]
    },
    {
      "cell_type": "markdown",
      "metadata": {
        "id": "AMBWo8QHpOa1",
        "colab_type": "text"
      },
      "source": [
        "## Python gensim Word2Vec tutorial with TensorFlow and Keras\n",
        "\n",
        "[link](https://adventuresinmachinelearning.com/gensim-word2vec-tutorial/)\n",
        "\n",
        "### Word embedding and Word2Vec\n",
        "\n",
        "Word embedding involves creating better vector representations of words – both in terms of efficiency and maintaining meaning. For instance, a word embedding layer may involve creating a 10,000 x 300 sized matrix, whereby we look up a 300 length vector representation for each of the 10,000 words in our vocabulary.  This new, 300 length vector is obviously a lot more efficient than a 10,000 length one-hot representation.  But we also need to create this 300 length vector in such a way as to preserve some semblance of the meaning of the word.\n",
        "\n",
        "Word2Vec does this by taking the context of words surrounding the target word.  So, if we have a context window of 2, the context of the target word “sat” in the sentence “the cat sat on the mat” is the list of words [“the”, “cat”, “on”, “the”]. In Word2Vec, the meaning of a word is roughly translatable to context – and it basically works. Target words which share similar common context words often have similar meanings. The way Word2Vec trains the embedding vectors is via a neural network of sorts – the neural network, given a one-hot representation of a target word, tries to predict the most likely context words.\n",
        "\n",
        "Here’s a naive way of performing the neural network training using an output softmax layer:\n",
        "\n",
        "![](https://i2.wp.com/adventuresinmachinelearning.com/wp-content/uploads/2017/07/Word2Vec-softmax.jpg?w=676&ssl=1)\n",
        "\n",
        "In this network, the 300 node hidden layer weights are training by trying to predict (via a softmax output layer) genuine, high probability context words.  Once the training is complete, the output softmax layer is discarded and what is of real value is the 10,000 x 300 weight matrix connecting the input to the hidden layer. This is our embedding matrix, and we can look up any member of our 10,000-word vocabulary and get it’s 300 length vector representation.\n",
        "\n",
        "It turns out that this softmax way of training the embedding layer is very inefficient, due to the millions of weights that need to be involved in updating and calculating the softmax values. Therefore, a concept called negative sampling is used in the real Word2Vec, which involves training the layer with real context words and a few negative samples which are chosen randomly from outside the context.  For more details on this, see my Word2Vec Keras tutorial.\n",
        "\n",
        "Now we understand what Word2Vec training of embedding layers involves, let’s talk about the gensim Word2Vec module.\n",
        "\n"
      ]
    },
    {
      "cell_type": "markdown",
      "metadata": {
        "id": "R6GbQbObqFIZ",
        "colab_type": "text"
      },
      "source": [
        "### A gensim Word2Vec tutorial\n",
        "\n",
        "This section will give a brief introduction to the gensim Word2Vec module.  The gensim library is an open-source Python library that specializes in vector space and topic modeling.  It can be made very fast with the use of the Cython Python model, which allows C code to be run inside the Python environment. This is good for our purposes, as the original Google Word2Vec implementation is written in C, and gensim has a wrapper for this code, which will be explained below."
      ]
    },
    {
      "cell_type": "code",
      "metadata": {
        "id": "KhMV8gcIdwy1",
        "colab_type": "code",
        "colab": {}
      },
      "source": [
        "import gensim\n",
        "from gensim.models import word2vec\n",
        "import logging\n",
        "\n",
        "from keras.layers import Input, Embedding, merge, Reshape, Dot\n",
        "from keras.models import Model\n",
        "\n",
        "import tensorflow as tf\n",
        "import numpy as np\n",
        "\n",
        "import urllib.request\n",
        "import os\n",
        "import zipfile\n",
        "import pickle\n",
        "\n",
        "from time import time \n",
        "\n",
        "from pprint import pprint"
      ],
      "execution_count": 0,
      "outputs": []
    },
    {
      "cell_type": "code",
      "metadata": {
        "id": "xMFg66Q7neo8",
        "colab_type": "code",
        "colab": {}
      },
      "source": [
        "def maybe_download(filename, url, expected_bytes):\n",
        "  \"\"\"Download a file if not present, and make sure it's the right size.\"\"\"\n",
        "\n",
        "  # check if file exists\n",
        "  if not os.path.exists(path=filename):\n",
        "    # download: Returns a tuple containing the path to the newly created data file as well as the resulting HTTPMessage object.\n",
        "    filename, _ = urllib.request.urlretrieve(url=url+filename, filename=filename)\n",
        "  statinfo = os.stat(path=filename)\n",
        "  # check file size\n",
        "  if statinfo.st_size == expected_bytes:\n",
        "    print('Found and verified', filename)\n",
        "  else:\n",
        "    print(statinfo.st_size)\n",
        "    raise Exception('Failed to verify ' + filename + '. Can you get to it with a browser?')\n",
        "  return filename"
      ],
      "execution_count": 0,
      "outputs": []
    },
    {
      "cell_type": "code",
      "metadata": {
        "id": "O1cucupHs7Eu",
        "colab_type": "code",
        "outputId": "315d96f8-6cdd-4a1f-f414-c64e5d5a7a43",
        "colab": {
          "base_uri": "https://localhost:8080/",
          "height": 50
        }
      },
      "source": [
        "url = 'http://mattmahoney.net/dc/'\n",
        "filename = maybe_download('text8.zip', url, 31344016)\n",
        "\n",
        "print (filename)"
      ],
      "execution_count": 0,
      "outputs": [
        {
          "output_type": "stream",
          "text": [
            "Found and verified text8.zip\n",
            "text8.zip\n"
          ],
          "name": "stdout"
        }
      ]
    },
    {
      "cell_type": "code",
      "metadata": {
        "id": "eVC8dm9qtUq5",
        "colab_type": "code",
        "colab": {}
      },
      "source": [
        "# extract the file\n",
        "if not os.path.exists((filename).strip('.zip')):\n",
        "    zipfile.ZipFile(filename).extractall()"
      ],
      "execution_count": 0,
      "outputs": []
    },
    {
      "cell_type": "markdown",
      "metadata": {
        "id": "umho2plut85Y",
        "colab_type": "text"
      },
      "source": [
        "The next step that is required is to create an iterator for gensim to extract its data from.  We can cheat a little bit here and use a supplied iterator that gensim provides for the text8 corpus:\n",
        "\n"
      ]
    },
    {
      "cell_type": "code",
      "metadata": {
        "id": "Atzs6MXcto-p",
        "colab_type": "code",
        "outputId": "4b9a1753-12ba-4257-deb6-e56f49750b20",
        "colab": {
          "base_uri": "https://localhost:8080/",
          "height": 33
        }
      },
      "source": [
        "# iterate over sentences from the \"text8\" corpus\n",
        "sentences = word2vec.Text8Corpus(fname='./text8')\n",
        "\n",
        "print (type(sentences))"
      ],
      "execution_count": 0,
      "outputs": [
        {
          "output_type": "stream",
          "text": [
            "<class 'gensim.models.word2vec.Text8Corpus'>\n"
          ],
          "name": "stdout"
        }
      ]
    },
    {
      "cell_type": "code",
      "metadata": {
        "id": "9UDOdR7Au1Hh",
        "colab_type": "code",
        "outputId": "16bc8b16-6416-403c-9cbf-8fbf140548b7",
        "colab": {
          "base_uri": "https://localhost:8080/",
          "height": 86
        }
      },
      "source": [
        "for sentence in sentences:\n",
        "  print (sentence)\n",
        "  break"
      ],
      "execution_count": 0,
      "outputs": [
        {
          "output_type": "stream",
          "text": [
            "['anarchism', 'originated', 'as', 'a', 'term', 'of', 'abuse', 'first', 'used', 'against', 'early', 'working', 'class', 'radicals', 'including', 'the', 'diggers', 'of', 'the', 'english', 'revolution', 'and', 'the', 'sans', 'culottes', 'of', 'the', 'french', 'revolution', 'whilst', 'the', 'term', 'is', 'still', 'used', 'in', 'a', 'pejorative', 'way', 'to', 'describe', 'any', 'act', 'that', 'used', 'violent', 'means', 'to', 'destroy', 'the', 'organization', 'of', 'society', 'it', 'has', 'also', 'been', 'taken', 'up', 'as', 'a', 'positive', 'label', 'by', 'self', 'defined', 'anarchists', 'the', 'word', 'anarchism', 'is', 'derived', 'from', 'the', 'greek', 'without', 'archons', 'ruler', 'chief', 'king', 'anarchism', 'as', 'a', 'political', 'philosophy', 'is', 'the', 'belief', 'that', 'rulers', 'are', 'unnecessary', 'and', 'should', 'be', 'abolished', 'although', 'there', 'are', 'differing', 'interpretations', 'of', 'what', 'this', 'means', 'anarchism', 'also', 'refers', 'to', 'related', 'social', 'movements', 'that', 'advocate', 'the', 'elimination', 'of', 'authoritarian', 'institutions', 'particularly', 'the', 'state', 'the', 'word', 'anarchy', 'as', 'most', 'anarchists', 'use', 'it', 'does', 'not', 'imply', 'chaos', 'nihilism', 'or', 'anomie', 'but', 'rather', 'a', 'harmonious', 'anti', 'authoritarian', 'society', 'in', 'place', 'of', 'what', 'are', 'regarded', 'as', 'authoritarian', 'political', 'structures', 'and', 'coercive', 'economic', 'institutions', 'anarchists', 'advocate', 'social', 'relations', 'based', 'upon', 'voluntary', 'association', 'of', 'autonomous', 'individuals', 'mutual', 'aid', 'and', 'self', 'governance', 'while', 'anarchism', 'is', 'most', 'easily', 'defined', 'by', 'what', 'it', 'is', 'against', 'anarchists', 'also', 'offer', 'positive', 'visions', 'of', 'what', 'they', 'believe', 'to', 'be', 'a', 'truly', 'free', 'society', 'however', 'ideas', 'about', 'how', 'an', 'anarchist', 'society', 'might', 'work', 'vary', 'considerably', 'especially', 'with', 'respect', 'to', 'economics', 'there', 'is', 'also', 'disagreement', 'about', 'how', 'a', 'free', 'society', 'might', 'be', 'brought', 'about', 'origins', 'and', 'predecessors', 'kropotkin', 'and', 'others', 'argue', 'that', 'before', 'recorded', 'history', 'human', 'society', 'was', 'organized', 'on', 'anarchist', 'principles', 'most', 'anthropologists', 'follow', 'kropotkin', 'and', 'engels', 'in', 'believing', 'that', 'hunter', 'gatherer', 'bands', 'were', 'egalitarian', 'and', 'lacked', 'division', 'of', 'labour', 'accumulated', 'wealth', 'or', 'decreed', 'law', 'and', 'had', 'equal', 'access', 'to', 'resources', 'william', 'godwin', 'anarchists', 'including', 'the', 'the', 'anarchy', 'organisation', 'and', 'rothbard', 'find', 'anarchist', 'attitudes', 'in', 'taoism', 'from', 'ancient', 'china', 'kropotkin', 'found', 'similar', 'ideas', 'in', 'stoic', 'zeno', 'of', 'citium', 'according', 'to', 'kropotkin', 'zeno', 'repudiated', 'the', 'omnipotence', 'of', 'the', 'state', 'its', 'intervention', 'and', 'regimentation', 'and', 'proclaimed', 'the', 'sovereignty', 'of', 'the', 'moral', 'law', 'of', 'the', 'individual', 'the', 'anabaptists', 'of', 'one', 'six', 'th', 'century', 'europe', 'are', 'sometimes', 'considered', 'to', 'be', 'religious', 'forerunners', 'of', 'modern', 'anarchism', 'bertrand', 'russell', 'in', 'his', 'history', 'of', 'western', 'philosophy', 'writes', 'that', 'the', 'anabaptists', 'repudiated', 'all', 'law', 'since', 'they', 'held', 'that', 'the', 'good', 'man', 'will', 'be', 'guided', 'at', 'every', 'moment', 'by', 'the', 'holy', 'spirit', 'from', 'this', 'premise', 'they', 'arrive', 'at', 'communism', 'the', 'diggers', 'or', 'true', 'levellers', 'were', 'an', 'early', 'communistic', 'movement', 'during', 'the', 'time', 'of', 'the', 'english', 'civil', 'war', 'and', 'are', 'considered', 'by', 'some', 'as', 'forerunners', 'of', 'modern', 'anarchism', 'in', 'the', 'modern', 'era', 'the', 'first', 'to', 'use', 'the', 'term', 'to', 'mean', 'something', 'other', 'than', 'chaos', 'was', 'louis', 'armand', 'baron', 'de', 'lahontan', 'in', 'his', 'nouveaux', 'voyages', 'dans', 'l', 'am', 'rique', 'septentrionale', 'one', 'seven', 'zero', 'three', 'where', 'he', 'described', 'the', 'indigenous', 'american', 'society', 'which', 'had', 'no', 'state', 'laws', 'prisons', 'priests', 'or', 'private', 'property', 'as', 'being', 'in', 'anarchy', 'russell', 'means', 'a', 'libertarian', 'and', 'leader', 'in', 'the', 'american', 'indian', 'movement', 'has', 'repeatedly', 'stated', 'that', 'he', 'is', 'an', 'anarchist', 'and', 'so', 'are', 'all', 'his', 'ancestors', 'in', 'one', 'seven', 'nine', 'three', 'in', 'the', 'thick', 'of', 'the', 'french', 'revolution', 'william', 'godwin', 'published', 'an', 'enquiry', 'concerning', 'political', 'justice', 'although', 'godwin', 'did', 'not', 'use', 'the', 'word', 'anarchism', 'many', 'later', 'anarchists', 'have', 'regarded', 'this', 'book', 'as', 'the', 'first', 'major', 'anarchist', 'text', 'and', 'godwin', 'as', 'the', 'founder', 'of', 'philosophical', 'anarchism', 'but', 'at', 'this', 'point', 'no', 'anarchist', 'movement', 'yet', 'existed', 'and', 'the', 'term', 'anarchiste', 'was', 'known', 'mainly', 'as', 'an', 'insult', 'hurled', 'by', 'the', 'bourgeois', 'girondins', 'at', 'more', 'radical', 'elements', 'in', 'the', 'french', 'revolution', 'the', 'first', 'self', 'labelled', 'anarchist', 'pierre', 'joseph', 'proudhon', 'it', 'is', 'commonly', 'held', 'that', 'it', 'wasn', 't', 'until', 'pierre', 'joseph', 'proudhon', 'published', 'what', 'is', 'property', 'in', 'one', 'eight', 'four', 'zero', 'that', 'the', 'term', 'anarchist', 'was', 'adopted', 'as', 'a', 'self', 'description', 'it', 'is', 'for', 'this', 'reason', 'that', 'some', 'claim', 'proudhon', 'as', 'the', 'founder', 'of', 'modern', 'anarchist', 'theory', 'in', 'what', 'is', 'property', 'proudhon', 'answers', 'with', 'the', 'famous', 'accusation', 'property', 'is', 'theft', 'in', 'this', 'work', 'he', 'opposed', 'the', 'institution', 'of', 'decreed', 'property', 'propri', 't', 'where', 'owners', 'have', 'complete', 'rights', 'to', 'use', 'and', 'abuse', 'their', 'property', 'as', 'they', 'wish', 'such', 'as', 'exploiting', 'workers', 'for', 'profit', 'in', 'its', 'place', 'proudhon', 'supported', 'what', 'he', 'called', 'possession', 'individuals', 'can', 'have', 'limited', 'rights', 'to', 'use', 'resources', 'capital', 'and', 'goods', 'in', 'accordance', 'with', 'principles', 'of', 'equality', 'and', 'justice', 'proudhon', 's', 'vision', 'of', 'anarchy', 'which', 'he', 'called', 'mutualism', 'mutuellisme', 'involved', 'an', 'exchange', 'economy', 'where', 'individuals', 'and', 'groups', 'could', 'trade', 'the', 'products', 'of', 'their', 'labor', 'using', 'labor', 'notes', 'which', 'represented', 'the', 'amount', 'of', 'working', 'time', 'involved', 'in', 'production', 'this', 'would', 'ensure', 'that', 'no', 'one', 'would', 'profit', 'from', 'the', 'labor', 'of', 'others', 'workers', 'could', 'freely', 'join', 'together', 'in', 'co', 'operative', 'workshops', 'an', 'interest', 'free', 'bank', 'would', 'be', 'set', 'up', 'to', 'provide', 'everyone', 'with', 'access', 'to', 'the', 'means', 'of', 'production', 'proudhon', 's', 'ideas', 'were', 'influential', 'within', 'french', 'working', 'class', 'movements', 'and', 'his', 'followers', 'were', 'active', 'in', 'the', 'revolution', 'of', 'one', 'eight', 'four', 'eight', 'in', 'france', 'proudhon', 's', 'philosophy', 'of', 'property', 'is', 'complex', 'it', 'was', 'developed', 'in', 'a', 'number', 'of', 'works', 'over', 'his', 'lifetime', 'and', 'there', 'are', 'differing', 'interpretations', 'of', 'some', 'of', 'his', 'ideas', 'for', 'more', 'detailed', 'discussion', 'see', 'here', 'max', 'stirner', 's', 'egoism', 'in', 'his', 'the', 'ego', 'and', 'its', 'own', 'stirner', 'argued', 'that', 'most', 'commonly', 'accepted', 'social', 'institutions', 'including', 'the', 'notion', 'of', 'state', 'property', 'as', 'a', 'right', 'natural', 'rights', 'in', 'general', 'and', 'the', 'very', 'notion', 'of', 'society', 'were', 'mere', 'illusions', 'or', 'ghosts', 'in', 'the', 'mind', 'saying', 'of', 'society', 'that', 'the', 'individuals', 'are', 'its', 'reality', 'he', 'advocated', 'egoism', 'and', 'a', 'form', 'of', 'amoralism', 'in', 'which', 'individuals', 'would', 'unite', 'in', 'associations', 'of', 'egoists', 'only', 'when', 'it', 'was', 'in', 'their', 'self', 'interest', 'to', 'do', 'so', 'for', 'him', 'property', 'simply', 'comes', 'about', 'through', 'might', 'whoever', 'knows', 'how', 'to', 'take', 'to', 'defend', 'the', 'thing', 'to', 'him', 'belongs', 'property', 'and', 'what', 'i', 'have', 'in', 'my', 'power', 'that', 'is', 'my', 'own', 'so', 'long', 'as', 'i', 'assert', 'myself', 'as', 'holder', 'i', 'am', 'the', 'proprietor', 'of', 'the', 'thing', 'stirner', 'never', 'called', 'himself', 'an', 'anarchist', 'he', 'accepted', 'only', 'the', 'label', 'egoist', 'nevertheless', 'his', 'ideas', 'were', 'influential', 'on', 'many', 'individualistically', 'inclined', 'anarchists', 'although', 'interpretations', 'of', 'his', 'thought', 'are', 'diverse', 'american', 'individualist', 'anarchism', 'benjamin', 'tucker', 'in', 'one', 'eight', 'two', 'five', 'josiah', 'warren', 'had', 'participated', 'in', 'a', 'communitarian', 'experiment', 'headed', 'by', 'robert', 'owen', 'called', 'new', 'harmony', 'which', 'failed', 'in', 'a', 'few', 'years', 'amidst', 'much', 'internal', 'conflict', 'warren', 'blamed', 'the', 'community', 's', 'failure', 'on', 'a', 'lack', 'of', 'individual', 'sovereignty', 'and', 'a', 'lack', 'of', 'private', 'property', 'warren', 'proceeded', 'to', 'organise', 'experimenal', 'anarchist', 'communities', 'which', 'respected', 'what', 'he', 'called', 'the', 'sovereignty', 'of', 'the', 'individual', 'at', 'utopia', 'and', 'modern', 'times', 'in', 'one', 'eight', 'three', 'three', 'warren', 'wrote', 'and', 'published', 'the', 'peaceful', 'revolutionist', 'which', 'some', 'have', 'noted', 'to', 'be', 'the', 'first', 'anarchist', 'periodical', 'ever', 'published', 'benjamin', 'tucker', 'says', 'that', 'warren', 'was', 'the', 'first', 'man', 'to', 'expound', 'and', 'formulate', 'the', 'doctrine', 'now', 'known', 'as', 'anarchism', 'liberty', 'xiv', 'december', 'one', 'nine', 'zero', 'zero', 'one', 'benjamin', 'tucker', 'became', 'interested', 'in', 'anarchism', 'through', 'meeting', 'josiah', 'warren', 'and', 'william', 'b', 'greene', 'he', 'edited', 'and', 'published', 'liberty', 'from', 'august', 'one', 'eight', 'eight', 'one', 'to', 'april', 'one', 'nine', 'zero', 'eight', 'it', 'is', 'widely', 'considered', 'to', 'be', 'the', 'finest', 'individualist', 'anarchist', 'periodical', 'ever', 'issued', 'in', 'the', 'english', 'language', 'tucker', 's', 'conception', 'of', 'individualist', 'anarchism', 'incorporated', 'the', 'ideas', 'of', 'a', 'variety', 'of', 'theorists', 'greene', 's', 'ideas', 'on', 'mutual', 'banking', 'warren', 's', 'ideas', 'on', 'cost', 'as', 'the', 'limit', 'of', 'price', 'a', 'heterodox', 'variety', 'of', 'labour', 'theory', 'of', 'value', 'proudhon', 's', 'market', 'anarchism', 'max', 'stirner', 's', 'egoism', 'and', 'herbert', 'spencer', 's', 'law', 'of', 'equal', 'freedom', 'tucker', 'strongly', 'supported', 'the', 'individual', 's', 'right', 'to', 'own', 'the', 'product', 'of', 'his', 'or', 'her', 'labour', 'as', 'private', 'property', 'and', 'believed', 'in', 'a', 'market', 'economy', 'for', 'trading', 'this', 'property', 'he', 'argued', 'that', 'in', 'a', 'truly', 'free', 'market', 'system', 'without', 'the', 'state', 'the', 'abundance', 'of', 'competition', 'would', 'eliminate', 'profits', 'and', 'ensure', 'that', 'all', 'workers', 'received', 'the', 'full', 'value', 'of', 'their', 'labor', 'other', 'one', 'nine', 'th', 'century', 'individualists', 'included', 'lysander', 'spooner', 'stephen', 'pearl', 'andrews', 'and', 'victor', 'yarros', 'the', 'first', 'international', 'mikhail', 'bakunin', 'one', 'eight', 'one', 'four', 'one', 'eight', 'seven', 'six', 'in', 'europe', 'harsh', 'reaction', 'followed', 'the', 'revolutions', 'of', 'one', 'eight', 'four', 'eight', 'twenty', 'years', 'later', 'in', 'one', 'eight', 'six', 'four', 'the', 'international', 'workingmen', 's', 'association', 'sometimes', 'called', 'the', 'first', 'international', 'united', 'some', 'diverse', 'european', 'revolutionary', 'currents', 'including', 'anarchism', 'due', 'to', 'its', 'genuine', 'links', 'to', 'active', 'workers', 'movements', 'the', 'international', 'became', 'signficiant', 'from', 'the', 'start', 'karl', 'marx', 'was', 'a', 'leading', 'figure', 'in', 'the', 'international', 'he', 'was', 'elected', 'to', 'every', 'succeeding', 'general', 'council', 'of', 'the', 'association', 'the', 'first', 'objections', 'to', 'marx', 'came', 'from', 'the', 'mutualists', 'who', 'opposed', 'communism', 'and', 'statism', 'shortly', 'after', 'mikhail', 'bakunin', 'and', 'his', 'followers', 'joined', 'in', 'one', 'eight', 'six', 'eight', 'the', 'first', 'international', 'became', 'polarised', 'into', 'two', 'camps', 'with', 'marx', 'and', 'bakunin', 'as', 'their', 'respective', 'figureheads', 'the', 'clearest', 'difference', 'between', 'the', 'camps', 'was', 'over', 'strategy', 'the', 'anarchists', 'around', 'bakunin', 'favoured', 'in', 'kropotkin', 's', 'words', 'direct', 'economical', 'struggle', 'against', 'capitalism', 'without', 'interfering', 'in', 'the', 'political', 'parliamentary', 'agitation', 'at', 'that', 'time', 'marx', 'and', 'his', 'followers', 'focused', 'on', 'parliamentary', 'activity', 'bakunin', 'characterised', 'marx', 's', 'ideas', 'as', 'authoritarian', 'and', 'predicted', 'that', 'if', 'a', 'marxist', 'party', 'gained', 'to', 'power', 'its', 'leaders', 'would', 'end', 'up', 'as', 'bad', 'as', 'the', 'ruling', 'class', 'they', 'had', 'fought', 'against', 'in', 'one', 'eight', 'seven', 'two', 'the', 'conflict', 'climaxed', 'with', 'a', 'final', 'split', 'between', 'the', 'two', 'groups', 'at', 'the', 'hague', 'congress', 'this', 'is', 'often', 'cited', 'as', 'the', 'origin', 'of', 'the', 'conflict', 'between', 'anarchists', 'and', 'marxists', 'from', 'this', 'moment', 'the', 'social', 'democratic', 'and', 'libertarian', 'currents', 'of', 'socialism', 'had', 'distinct', 'organisations', 'including', 'rival', 'internationals', 'anarchist', 'communism', 'peter', 'kropotkin', 'proudhon', 'and', 'bakunin', 'both', 'opposed', 'communism', 'associating', 'it', 'with', 'statism', 'however', 'in', 'the', 'one', 'eight', 'seven', 'zero', 's', 'many', 'anarchists', 'moved', 'away', 'from', 'bakunin', 's', 'economic', 'thinking', 'called', 'collectivism', 'and', 'embraced', 'communist', 'concepts', 'communists', 'believed', 'the', 'means', 'of', 'production', 'should', 'be', 'owned', 'collectively', 'and', 'that', 'goods', 'be', 'distributed', 'by', 'need', 'not', 'labor', 'an', 'early', 'anarchist', 'communist', 'was', 'joseph', 'd', 'jacque', 'the', 'first', 'person', 'to', 'describe', 'himself', 'as', 'libertarian', 'unlike', 'proudhon', 'he', 'argued', 'that', 'it', 'is', 'not', 'the', 'product', 'of', 'his', 'or', 'her', 'labor', 'that', 'the', 'worker', 'has', 'a', 'right', 'to', 'but', 'to', 'the', 'satisfaction', 'of', 'his', 'or', 'her', 'needs', 'whatever', 'may', 'be', 'their', 'nature', 'he', 'announced', 'his', 'ideas', 'in', 'his', 'us', 'published', 'journal', 'le', 'libertaire', 'one', 'eight', 'five', 'eight', 'one', 'eight', 'six', 'one', 'peter', 'kropotkin', 'often', 'seen', 'as', 'the', 'most', 'important', 'theorist', 'outlined', 'his', 'economic', 'ideas', 'in', 'the', 'conquest', 'of', 'bread', 'and', 'fields', 'factories', 'and', 'workshops', 'he', 'felt', 'co', 'operation', 'is', 'more', 'beneficial', 'than', 'competition', 'illustrated', 'in', 'nature', 'in', 'mutual', 'aid', 'a', 'factor', 'of', 'evolution', 'one', 'eight', 'nine', 'seven', 'subsequent', 'anarchist', 'communists', 'include', 'emma', 'goldman', 'and', 'alexander', 'berkman', 'many', 'in', 'the', 'anarcho', 'syndicalist', 'movements', 'see', 'below', 'saw', 'anarchist', 'communism', 'as', 'their', 'objective', 'isaac', 'puente', 's', 'one', 'nine', 'three', 'two', 'comunismo', 'libertario', 'was', 'adopted', 'by', 'the', 'spanish', 'cnt', 'as', 'its', 'manifesto', 'for', 'a', 'post', 'revolutionary', 'society', 'some', 'anarchists', 'disliked', 'merging', 'communism', 'with', 'anarchism', 'several', 'individualist', 'anarchists', 'maintained', 'that', 'abolition', 'of', 'private', 'property', 'was', 'not', 'consistent', 'with', 'liberty', 'for', 'example', 'benjamin', 'tucker', 'whilst', 'professing', 'respect', 'for', 'kropotkin', 'and', 'publishing', 'his', 'work', 'described', 'communist', 'anarchism', 'as', 'pseudo', 'anarchism', 'propaganda', 'of', 'the', 'deed', 'johann', 'most', 'was', 'an', 'outspoken', 'advocate', 'of', 'violence', 'anarchists', 'have', 'often', 'been', 'portrayed', 'as', 'dangerous', 'and', 'violent', 'due', 'mainly', 'to', 'a', 'number', 'of', 'high', 'profile', 'violent', 'acts', 'including', 'riots', 'assassinations', 'insurrections', 'and', 'terrorism', 'by', 'some', 'anarchists', 'some', 'revolutionaries', 'of', 'the', 'late', 'one', 'nine', 'th', 'century', 'encouraged', 'acts', 'of', 'political', 'violence', 'such', 'as', 'bombings', 'and', 'the', 'assassinations', 'of', 'heads', 'of', 'state', 'to', 'further', 'anarchism', 'such', 'actions', 'have', 'sometimes', 'been', 'called', 'propaganda', 'by', 'the', 'deed', 'one', 'of', 'the', 'more', 'outspoken', 'advocates', 'of', 'this', 'strategy', 'was', 'johann', 'most', 'who', 'said', 'the', 'existing', 'system', 'will', 'be', 'quickest', 'and', 'most', 'radically', 'overthrown', 'by', 'the', 'annihilation', 'of', 'its', 'exponents', 'therefore', 'massacres', 'of', 'the', 'enemies', 'of', 'the', 'people', 'must', 'be', 'set', 'in', 'motion', 'most', 's', 'preferred', 'method', 'of', 'terrorism', 'dynamite', 'earned', 'him', 'the', 'moniker', 'dynamost', 'however', 'there', 'is', 'no', 'consensus', 'on', 'the', 'legitimacy', 'or', 'utility', 'of', 'violence', 'in', 'general', 'mikhail', 'bakunin', 'and', 'errico', 'malatesta', 'for', 'example', 'wrote', 'of', 'violence', 'as', 'a', 'necessary', 'and', 'sometimes', 'desirable', 'force', 'in', 'revolutionary', 'settings', 'but', 'at', 'the', 'same', 'time', 'they', 'denounced', 'acts', 'of', 'individual', 'terrorism', 'malatesta', 'in', 'on', 'violence', 'and', 'bakunin', 'when', 'he', 'refuted', 'nechaev', 'other', 'anarchists', 'sometimes', 'identified', 'as', 'pacifist', 'anarchists', 'advocated', 'complete', 'nonviolence', 'leo', 'tolstoy', 'whose', 'philosophy', 'is', 'often', 'viewed', 'as', 'a', 'form', 'of', 'christian', 'anarchism', 'see', 'below', 'was', 'a', 'notable', 'exponent', 'of', 'nonviolent', 'resistance', 'anarchism', 'in', 'the', 'labour', 'movement', 'the', 'red', 'and', 'black', 'flag', 'coming', 'from', 'the', 'experience', 'of', 'anarchists', 'in', 'the', 'labour', 'movement', 'is', 'particularly', 'associated', 'with', 'anarcho', 'syndicalism', 'anarcho', 'syndicalism', 'was', 'an', 'early', 'two', 'zero', 'th', 'century', 'working', 'class', 'movement', 'seeking', 'to', 'overthrow', 'capitalism', 'and', 'the', 'state', 'to', 'institute', 'a', 'worker', 'controlled', 'society', 'the', 'movement', 'pursued', 'industrial', 'actions', 'such', 'as', 'general', 'strike', 'as', 'a', 'primary', 'strategy', 'many', 'anarcho', 'syndicalists', 'believed', 'in', 'anarchist', 'communism', 'though', 'not', 'all', 'communists', 'believed', 'in', 'syndicalism', 'after', 'the', 'one', 'eight', 'seven', 'one', 'repression', 'french', 'anarchism', 'reemerged', 'influencing', 'the', 'bourses', 'de', 'travails', 'of', 'autonomous', 'workers', 'groups', 'and', 'trade', 'unions', 'from', 'this', 'movement', 'the', 'conf', 'd', 'ration', 'g', 'n', 'rale', 'du', 'travail', 'general', 'confederation', 'of', 'work', 'cgt', 'was', 'formed', 'in', 'one', 'eight', 'nine', 'five', 'as', 'the', 'first', 'major', 'anarcho', 'syndicalist', 'movement', 'emile', 'pataud', 'and', 'emile', 'pouget', 's', 'writing', 'for', 'the', 'cgt', 'saw', 'libertarian', 'communism', 'developing', 'from', 'a', 'general', 'strike', 'after', 'one', 'nine', 'one', 'four', 'the', 'cgt', 'moved', 'away', 'from', 'anarcho', 'syndicalism', 'due', 'to', 'the', 'appeal', 'of', 'bolshevism', 'french', 'style', 'syndicalism', 'was', 'a', 'significant', 'movement', 'in', 'europe', 'prior', 'to', 'one', 'nine', 'two', 'one', 'and', 'remained', 'a', 'significant', 'movement', 'in', 'spain', 'until', 'the', 'mid', 'one', 'nine', 'four', 'zero', 's', 'the', 'industrial', 'workers', 'of', 'the', 'world', 'iww', 'founded', 'in', 'one', 'nine', 'zero', 'five', 'in', 'the', 'us', 'espoused', 'unionism', 'and', 'sought', 'a', 'general', 'strike', 'to', 'usher', 'in', 'a', 'stateless', 'society', 'in', 'one', 'nine', 'two', 'three', 'one', 'zero', 'zero', 'zero', 'zero', 'zero', 'members', 'existed', 'with', 'the', 'support', 'of', 'up', 'to', 'three', 'zero', 'zero', 'zero', 'zero', 'zero', 'though', 'not', 'explicitly', 'anarchist', 'they', 'organized', 'by', 'rank', 'and', 'file', 'democracy', 'embodying', 'a', 'spirit', 'of', 'resistance', 'that', 'has', 'inspired', 'many', 'anglophone', 'syndicalists', 'cnt', 'propaganda', 'from', 'april', 'two', 'zero', 'zero', 'four', 'reads', 'don', 't', 'let', 'the', 'politicians', 'rule', 'our', 'lives', 'you', 'vote', 'and', 'they', 'decide', 'don', 't', 'allow', 'it', 'unity', 'action', 'self', 'management', 'spanish', 'anarchist', 'trade', 'union', 'federations', 'were', 'formed', 'in', 'the', 'one', 'eight', 'seven', 'zero', 's', 'one', 'nine', 'zero', 'zero', 'and', 'one', 'nine', 'one', 'zero', 'the', 'most', 'successful', 'was', 'the', 'confederaci', 'n', 'nacional', 'del', 'trabajo', 'national', 'confederation', 'of', 'labour', 'cnt', 'founded', 'in', 'one', 'nine', 'one', 'zero', 'prior', 'to', 'the', 'one', 'nine', 'four', 'zero', 's', 'the', 'cnt', 'was', 'the', 'major', 'force', 'in', 'spanish', 'working', 'class', 'politics', 'with', 'a', 'membership', 'of', 'one', 'five', 'eight', 'million', 'in', 'one', 'nine', 'three', 'four', 'the', 'cnt', 'played', 'a', 'major', 'role', 'in', 'the', 'spanish', 'civil', 'war', 'see', 'also', 'anarchism', 'in', 'spain', 'syndicalists', 'like', 'ricardo', 'flores', 'mag', 'n', 'were', 'key', 'figures', 'in', 'the', 'mexican', 'revolution', 'latin', 'american', 'anarchism', 'was', 'strongly', 'influenced', 'extending', 'to', 'the', 'zapatista', 'rebellion', 'and', 'the', 'factory', 'occupation', 'movements', 'in', 'argentina', 'in', 'berlin', 'in', 'one', 'nine', 'two', 'two', 'the', 'cnt', 'was', 'joined', 'with', 'the', 'international', 'workers', 'association', 'an', 'anarcho', 'syndicalist', 'successor', 'to', 'the', 'first', 'international', 'contemporary', 'anarcho', 'syndicalism', 'continues', 'as', 'a', 'minor', 'force', 'in', 'many', 'socities', 'much', 'smaller', 'than', 'in', 'the', 'one', 'nine', 'one', 'zero', 's', 'two', 'zero', 's', 'and', 'three', 'zero', 's', 'the', 'largest', 'organised', 'anarchist', 'movement', 'today', 'is', 'in', 'spain', 'in', 'the', 'form', 'of', 'the', 'confederaci', 'n', 'general', 'del', 'trabajo', 'and', 'the', 'cnt', 'the', 'cgt', 'claims', 'a', 'paid', 'up', 'membership', 'of', 'six', 'zero', 'zero', 'zero', 'zero', 'and', 'received', 'over', 'a', 'million', 'votes', 'in', 'spanish', 'syndical', 'elections', 'other', 'active', 'syndicalist', 'movements', 'include', 'the', 'us', 'workers', 'solidarity', 'alliance', 'and', 'the', 'uk', 'solidarity', 'federation', 'the', 'revolutionary', 'industrial', 'unionist', 'industrial', 'workers', 'of', 'the', 'world', 'also', 'exists', 'claiming', 'two', 'zero', 'zero', 'zero', 'paid', 'members', 'contemporary', 'critics', 'of', 'anarcho', 'syndicalism', 'and', 'revolutionary', 'industrial', 'unionism', 'claim', 'that', 'they', 'are', 'workerist', 'and', 'fail', 'to', 'deal', 'with', 'economic', 'life', 'outside', 'work', 'post', 'leftist', 'critics', 'such', 'as', 'bob', 'black', 'claim', 'anarcho', 'syndicalism', 'advocates', 'oppressive', 'social', 'structures', 'such', 'as', 'work', 'and', 'the', 'workplace', 'anarcho', 'syndicalists', 'in', 'general', 'uphold', 'principles', 'of', 'workers', 'solidarity', 'direct', 'action', 'and', 'self', 'management', 'the', 'russian', 'revolution', 'the', 'russian', 'revolution', 'of', 'one', 'nine', 'one', 'seven', 'was', 'a', 'seismic', 'event', 'in', 'the', 'development', 'of', 'anarchism', 'as', 'a', 'movement', 'and', 'as', 'a', 'philosophy', 'anarchists', 'participated', 'alongside', 'the', 'bolsheviks', 'in', 'both', 'february', 'and', 'october', 'revolutions', 'many', 'anarchists', 'initially', 'supporting', 'the', 'bolshevik', 'coup', 'however', 'the', 'bolsheviks', 'soon', 'turned', 'against', 'the', 'anarchists', 'and', 'other', 'left', 'wing', 'opposition', 'a', 'conflict', 'which', 'culminated', 'in', 'the', 'one', 'nine', 'one', 'eight', 'kronstadt', 'rebellion', 'anarchists', 'in', 'central', 'russia', 'were', 'imprisoned', 'or', 'driven', 'underground', 'or', 'joined', 'the', 'victorious', 'bolsheviks', 'in', 'ukraine', 'anarchists', 'fought', 'in', 'the', 'civil', 'war', 'against', 'both', 'whites', 'and', 'bolsheviks', 'within', 'the', 'makhnovshchina', 'peasant', 'army', 'led', 'by', 'nestor', 'makhno', 'expelled', 'american', 'anarchists', 'emma', 'goldman', 'and', 'alexander', 'berkman', 'before', 'leaving', 'russia', 'were', 'amongst', 'those', 'agitating', 'in', 'response', 'to', 'bolshevik', 'policy', 'and', 'the', 'suppression', 'of', 'the', 'kronstadt', 'uprising', 'both', 'wrote', 'classic', 'accounts', 'of', 'their', 'experiences', 'in', 'russia', 'aiming', 'to', 'expose', 'the', 'reality', 'of', 'bolshevik', 'control', 'for', 'them', 'bakunin', 's', 'predictions', 'about', 'the', 'consequences', 'of', 'marxist', 'rule', 'had', 'proved', 'all', 'too', 'true', 'the', 'victory', 'of', 'the', 'bolsheviks', 'in', 'the', 'october', 'revolution', 'and', 'the', 'resulting', 'russian', 'civil', 'war', 'did', 'serious', 'damage', 'to', 'anarchist', 'movements', 'internationally', 'many', 'workers', 'and', 'activists', 'saw', 'bolshevik', 'success', 'as', 'setting', 'an', 'example', 'communist', 'parties', 'grew', 'at', 'the', 'expense', 'of', 'anarchism', 'and', 'other', 'socialist', 'movements', 'in', 'france', 'and', 'the', 'us', 'for', 'example', 'the', 'major', 'syndicalist', 'movements', 'of', 'the', 'cgt', 'and', 'iww', 'began', 'to', 'realign', 'themselves', 'away', 'from', 'anarchism', 'and', 'towards', 'the', 'communist', 'international', 'in', 'paris', 'the', 'dielo', 'truda', 'group', 'of', 'russian', 'anarchist', 'exiles', 'which', 'included', 'nestor', 'makhno', 'concluded', 'that', 'anarchists', 'needed', 'to', 'develop', 'new', 'forms', 'of', 'organisation', 'in', 'response', 'to', 'the', 'structures', 'of', 'bolshevism', 'their', 'one', 'nine', 'two', 'six', 'manifesto', 'known', 'as', 'the', 'organisational', 'platform', 'of', 'the', 'libertarian', 'communists', 'was', 'supported', 'by', 'some', 'communist', 'anarchists', 'though', 'opposed', 'by', 'many', 'others', 'the', 'platform', 'continues', 'to', 'inspire', 'some', 'contemporary', 'anarchist', 'groups', 'who', 'believe', 'in', 'an', 'anarchist', 'movement', 'organised', 'around', 'its', 'principles', 'of', 'theoretical', 'unity', 'tactical', 'unity', 'collective', 'responsibility', 'and', 'federalism', 'platformist', 'groups', 'today', 'include', 'the', 'workers', 'solidarity', 'movement', 'in', 'ireland', 'the', 'uk', 's', 'anarchist', 'federation', 'and', 'the', 'late', 'north', 'eastern', 'federation', 'of', 'anarchist', 'communists', 'in', 'the', 'northeastern', 'united', 'states', 'and', 'bordering', 'canada', 'the', 'fight', 'against', 'fascism', 'spain', 'one', 'nine', 'three', 'six', 'members', 'of', 'the', 'cnt', 'construct', 'armoured', 'cars', 'to', 'fight', 'against', 'the', 'fascists', 'in', 'one', 'of', 'the', 'collectivised', 'factories', 'in', 'the', 'one', 'nine', 'two', 'zero', 's', 'and', 'one', 'nine', 'three', 'zero', 's', 'the', 'familiar', 'dynamics', 'of', 'anarchism', 's', 'conflict', 'with', 'the', 'state', 'were', 'transformed', 'by', 'the', 'rise', 'of', 'fascism', 'in', 'europe', 'in', 'many', 'cases', 'european', 'anarchists', 'faced', 'difficult', 'choices', 'should', 'they', 'join', 'in', 'popular', 'fronts', 'with', 'reformist', 'democrats', 'and', 'soviet', 'led', 'communists', 'against', 'a', 'common', 'fascist', 'enemy', 'luigi', 'fabbri', 'an', 'exile', 'from', 'italian', 'fascism', 'was', 'amongst', 'those', 'arguing', 'that', 'fascism', 'was', 'something', 'different', 'fascism', 'is', 'not', 'just', 'another', 'form', 'of', 'government', 'which', 'like', 'all', 'others', 'uses', 'violence', 'it', 'is', 'the', 'most', 'authoritarian', 'and', 'the', 'most', 'violent', 'form', 'of', 'government', 'imaginable', 'it', 'represents', 'the', 'utmost', 'glorification', 'of', 'the', 'theory', 'and', 'practice', 'of', 'the', 'principle', 'of', 'authority', 'in', 'france', 'where', 'the', 'fascists', 'came', 'close', 'to', 'insurrection', 'in', 'the', 'february', 'one', 'nine', 'three', 'four', 'riots', 'anarchists', 'divided', 'over', 'a', 'united', 'front', 'policy', 'in', 'spain', 'the', 'cnt', 'initially', 'refused', 'to', 'join', 'a', 'popular', 'front', 'electoral', 'alliance', 'and', 'abstention', 'by', 'cnt', 'supporters', 'led', 'to', 'a', 'right', 'wing', 'election', 'victory', 'but', 'in', 'one', 'nine', 'three', 'six', 'the', 'cnt', 'changed', 'its', 'policy', 'and', 'anarchist', 'votes', 'helped', 'bring', 'the', 'popular', 'front', 'back', 'to', 'power', 'months', 'later', 'the', 'ruling', 'class', 'responded', 'with', 'an', 'attempted', 'coup', 'and', 'the', 'spanish', 'civil', 'war', 'one', 'nine', 'three', 'six', 'three', 'nine', 'was', 'underway', 'in', 'reponse', 'to', 'the', 'army', 'rebellion', 'an', 'anarchist', 'inspired', 'movement', 'of', 'peasants', 'and', 'workers', 'supported', 'by', 'armed', 'militias', 'took', 'control', 'of', 'the', 'major', 'city', 'of', 'barcelona', 'and', 'of', 'large', 'areas', 'of', 'rural', 'spain', 'where', 'they', 'collectivized', 'the', 'land', 'but', 'even', 'before', 'the', 'eventual', 'fascist', 'victory', 'in', 'one', 'nine', 'three', 'nine', 'the', 'anarchists', 'were', 'losing', 'ground', 'in', 'a', 'bitter', 'struggle', 'with', 'the', 'stalinists', 'the', 'cnt', 'leadership', 'often', 'appeared', 'confused', 'and', 'divided', 'with', 'some', 'members', 'controversially', 'entering', 'the', 'government', 'stalinist', 'led', 'troops', 'suppressed', 'the', 'collectives', 'and', 'persecuted', 'both', 'dissident', 'marxists', 'and', 'anarchists', 'since', 'the', 'late', 'one', 'nine', 'seven', 'zero', 's', 'anarchists', 'have', 'been', 'involved', 'in', 'fighting', 'the', 'rise', 'of', 'neo', 'fascist', 'groups', 'in', 'germany', 'and', 'the', 'united', 'kingdom', 'some', 'anarchists', 'worked', 'within', 'militant', 'anti', 'fascist', 'groups', 'alongside', 'members', 'of', 'the', 'marxist', 'left', 'they', 'advocated', 'directly', 'combating', 'fascists', 'with', 'physical', 'force', 'rather', 'than', 'relying', 'on', 'the', 'state', 'since', 'the', 'late', 'one', 'nine', 'nine', 'zero', 's', 'a', 'similar', 'tendency', 'has', 'developed', 'within', 'us', 'anarchism', 'see', 'also', 'anti', 'racist', 'action', 'us', 'anti', 'fascist', 'action', 'uk', 'antifa', 'religious', 'anarchism', 'leo', 'tolstoy', 'one', 'eight', 'two', 'eight', 'one', 'nine', 'one', 'zero', 'most', 'anarchist', 'culture', 'tends', 'to', 'be', 'secular', 'if', 'not', 'outright', 'anti', 'religious', 'however', 'the', 'combination', 'of', 'religious', 'social', 'conscience', 'historical', 'religiousity', 'amongst', 'oppressed', 'social', 'classes', 'and', 'the', 'compatibility', 'of', 'some', 'interpretations', 'of', 'religious', 'traditions', 'with', 'anarchism', 'has', 'resulted', 'in', 'religious', 'anarchism', 'christian', 'anarchists', 'believe', 'that', 'there', 'is', 'no', 'higher', 'authority', 'than', 'god', 'and', 'oppose', 'earthly', 'authority', 'such', 'as', 'government', 'and', 'established', 'churches', 'they', 'believe', 'that', 'jesus', 'teachings', 'were', 'clearly', 'anarchistic', 'but', 'were', 'corrupted', 'when', 'christianity', 'was', 'declared', 'the', 'official', 'religion', 'of', 'rome', 'christian', 'anarchists', 'who', 'follow', 'jesus', 'directive', 'to', 'turn', 'the', 'other', 'cheek', 'are', 'strict', 'pacifists', 'the', 'most', 'famous', 'advocate', 'of', 'christian', 'anarchism', 'was', 'leo', 'tolstoy', 'author', 'of', 'the', 'kingdom', 'of', 'god', 'is', 'within', 'you', 'who', 'called', 'for', 'a', 'society', 'based', 'on', 'compassion', 'nonviolent', 'principles', 'and', 'freedom', 'christian', 'anarchists', 'tend', 'to', 'form', 'experimental', 'communities', 'they', 'also', 'occasionally', 'resist', 'taxation', 'many', 'christian', 'anarchists', 'are', 'vegetarian', 'or', 'vegan', 'christian', 'anarchy', 'can', 'be', 'said', 'to', 'have', 'roots', 'as', 'old', 'as', 'the', 'religion', 's', 'birth', 'as', 'the', 'early', 'church', 'exhibits', 'many', 'anarchistic', 'tendencies', 'such', 'as', 'communal', 'goods', 'and', 'wealth', 'by', 'aiming', 'to', 'obey', 'utterly', 'certain', 'of', 'the', 'bible', 's', 'teachings', 'certain', 'anabaptist', 'groups', 'of', 'sixteenth', 'century', 'europe', 'attempted', 'to', 'emulate', 'the', 'early', 'church', 's', 'social', 'economic', 'organisation', 'and', 'philosophy', 'by', 'regarding', 'it', 'as', 'the', 'only', 'social', 'structure', 'capable', 'of', 'true', 'obediance', 'to', 'jesus', 'teachings', 'and', 'utterly', 'rejected', 'in', 'theory', 'all', 'earthly', 'hierarchies', 'and', 'authority', 'and', 'indeed', 'non', 'anabaptists', 'in', 'general', 'and', 'violence', 'as', 'ungodly', 'such', 'groups', 'for', 'example', 'the', 'hutterites', 'typically', 'went', 'from', 'initially', 'anarchistic', 'beginnings', 'to', 'as', 'their', 'movements', 'stabalised', 'more', 'authoritarian', 'social', 'models', 'chinese', 'anarchism', 'was', 'most', 'influential', 'in', 'the', 'one', 'nine', 'two', 'zero', 's', 'strands', 'of', 'chinese', 'anarchism', 'included', 'tai', 'xu', 's', 'buddhist', 'anarchism', 'which', 'was', 'influenced', 'by', 'tolstoy', 'and', 'the', 'well', 'field', 'system', 'neopaganism', 'with', 'its', 'focus', 'on', 'the', 'environment', 'and', 'equality', 'along', 'with', 'its', 'often', 'decentralized', 'nature', 'has', 'lead', 'to', 'a', 'number', 'of', 'neopagan', 'anarchists', 'one', 'of', 'the', 'most', 'prominent', 'is', 'starhawk', 'who', 'writes', 'extensively', 'about', 'both', 'spirituality', 'and', 'activism', 'anarchism', 'and', 'feminism', 'emma', 'goldman', 'early', 'french', 'feminists', 'such', 'as', 'jenny', 'd', 'h', 'ricourt', 'and', 'juliette', 'adam', 'criticised', 'the', 'mysogyny', 'in', 'the', 'anarchism', 'of', 'proudhon', 'during', 'the', 'one', 'eight', 'five', 'zero', 's', 'anarcha', 'feminism', 'is', 'a', 'kind', 'of', 'radical', 'feminism', 'that', 'espouses', 'the', 'belief', 'that', 'patriarchy', 'is', 'a', 'fundamental', 'problem', 'in', 'society', 'while', 'anarchist', 'feminism', 'has', 'existed', 'for', 'more', 'than', 'a', 'hundred', 'years', 'its', 'explicit', 'formulation', 'as', 'anarcha', 'feminism', 'dates', 'back', 'to', 'the', 'early', 'seven', 'zero', 's', 'during', 'the', 'second', 'wave', 'feminist', 'movement', 'anarcha', 'feminism', 'views', 'patriarchy', 'as', 'the', 'first', 'manifestation', 'of', 'hierarchy', 'in', 'human', 'history', 'thus', 'the', 'first', 'form', 'of', 'oppression', 'occurred', 'in', 'the', 'dominance', 'of', 'male', 'over', 'female', 'anarcha', 'feminists', 'then', 'conclude', 'that', 'if', 'feminists', 'are', 'against', 'patriarchy', 'they', 'must', 'also', 'be', 'against', 'all', 'forms', 'of', 'hierarchy', 'and', 'therefore', 'must', 'reject', 'the', 'authoritarian', 'nature', 'of', 'the', 'state', 'and', 'capitalism', 'anarcho', 'primitivists', 'see', 'the', 'creation', 'of', 'gender', 'roles', 'and', 'patriarchy', 'a', 'creation', 'of', 'the', 'start', 'of', 'civilization', 'and', 'therefore', 'consider', 'primitivism', 'to', 'also', 'be', 'an', 'anarchist', 'school', 'of', 'thought', 'that', 'addresses', 'feminist', 'concerns', 'eco', 'feminism', 'is', 'often', 'considered', 'a', 'feminist', 'variant', 'of', 'green', 'anarchist', 'feminist', 'thought', 'anarcha', 'feminism', 'is', 'most', 'often', 'associated', 'with', 'early', 'two', 'zero', 'th', 'century', 'authors', 'and', 'theorists', 'such', 'as', 'emma', 'goldman', 'and', 'voltairine', 'de', 'cleyre', 'although', 'even', 'early', 'first', 'wave', 'feminist', 'mary', 'wollstonecraft', 'held', 'proto', 'anarchist', 'views', 'and', 'william', 'godwin', 'is', 'often', 'considered', 'a', 'feminist', 'anarchist', 'precursor', 'it', 'should', 'be', 'noted', 'that', 'goldman', 'and', 'de', 'cleyre', 'though', 'they', 'both', 'opposed', 'the', 'state', 'had', 'opposing', 'philosophies', 'as', 'de', 'cleyre', 'explains', 'miss', 'goldman', 'is', 'a', 'communist', 'i', 'am', 'an', 'individualist', 'she', 'wishes', 'to', 'destroy', 'the', 'right', 'of', 'property', 'i', 'wish', 'to', 'assert', 'it', 'i', 'make', 'my', 'war', 'upon', 'privilege', 'and', 'authority', 'whereby', 'the', 'right', 'of', 'property', 'the', 'true', 'right', 'in', 'that', 'which', 'is', 'proper', 'to', 'the', 'individual', 'is', 'annihilated', 'she', 'believes', 'that', 'co', 'operation', 'would', 'entirely', 'supplant', 'competition', 'i', 'hold', 'that', 'competition', 'in', 'one', 'form', 'or', 'another', 'will', 'always', 'exist', 'and', 'that', 'it', 'is', 'highly', 'desirable', 'it', 'should', 'in', 'the', 'spanish', 'civil', 'war', 'an', 'anarcha', 'feminist', 'group', 'free', 'women', 'organized', 'to', 'defend', 'both', 'anarchist', 'and', 'feminist', 'ideas', 'in', 'the', 'modern', 'day', 'anarchist', 'movement', 'many', 'anarchists', 'male', 'or', 'female', 'consider', 'themselves', 'feminists', 'and', 'anarcha', 'feminist', 'ideas', 'are', 'growing', 'the', 'publishing', 'of', 'quiet', 'rumors', 'an', 'anarcha', 'feminist', 'reader', 'has', 'helped', 'to', 'spread', 'various', 'kinds', 'of', 'anti', 'authoritarian', 'and', 'anarchist', 'feminist', 'ideas', 'to', 'the', 'broader', 'movement', 'wendy', 'mcelroy', 'has', 'popularized', 'an', 'individualist', 'anarchism', 'take', 'on', 'feminism', 'in', 'her', 'books', 'articles', 'and', 'individualist', 'feminist', 'website', 'anarcho', 'capitalism', 'murray', 'rothbard', 'one', 'nine', 'two', 'six', 'one', 'nine', 'nine', 'five', 'anarcho', 'capitalism', 'is', 'a', 'predominantly', 'united', 'states', 'based', 'theoretical', 'tradition', 'that', 'desires', 'a', 'stateless', 'society', 'with', 'the', 'economic', 'system', 'of', 'free', 'market', 'capitalism', 'unlike', 'other', 'branches', 'of', 'anarchism', 'it', 'does', 'not', 'oppose', 'profit', 'or', 'capitalism', 'consequently', 'most', 'anarchists', 'do', 'not', 'recognise', 'anarcho', 'capitalism', 'as', 'a', 'form', 'of', 'anarchism', 'murray', 'rothbard', 's', 'synthesis', 'of', 'classical', 'liberalism', 'and', 'austrian', 'economics', 'was', 'germinal', 'for', 'the', 'development', 'of', 'contemporary', 'anarcho', 'capitalist', 'theory', 'he', 'defines', 'anarcho', 'capitalism', 'in', 'terms', 'of', 'the', 'non', 'aggression', 'principle', 'based', 'on', 'the', 'concept', 'of', 'natural', 'law', 'competiting', 'theorists', 'use', 'egoism', 'utilitarianism', 'used', 'by', 'david', 'friedman', 'or', 'contractarianism', 'used', 'by', 'jan', 'narveson', 'some', 'minarchists', 'such', 'as', 'ayn', 'rand', 'robert', 'nozick', 'and', 'robert', 'a', 'heinlein', 'have', 'influenced', 'anarcho', 'capitalism', 'some', 'anarcho', 'capitalists', 'along', 'with', 'some', 'right', 'wing', 'libertarian', 'historians', 'such', 'as', 'david', 'hart', 'and', 'ralph', 'raico', 'considered', 'similar', 'philosophies', 'existing', 'prior', 'to', 'rothbard', 'to', 'be', 'anarcho', 'capitalist', 'such', 'as', 'those', 'of', 'gustave', 'de', 'molinari', 'and', 'auberon', 'herbert', 'opponents', 'of', 'anarcho', 'capitalists', 'dispute', 'these', 'claims', 'the', 'place', 'of', 'anarcho', 'capitalism', 'within', 'anarchism', 'and', 'indeed', 'whether', 'it', 'is', 'a', 'form', 'of', 'anarchism', 'at', 'all', 'is', 'highly', 'controversial', 'for', 'more', 'on', 'this', 'debate', 'see', 'anarchism', 'and', 'anarcho', 'capitalism', 'anarchism', 'and', 'the', 'environment', 'since', 'the', 'late', 'one', 'nine', 'seven', 'zero', 's', 'anarchists', 'in', 'anglophone', 'and', 'european', 'countries', 'have', 'been', 'taking', 'action', 'for', 'the', 'natural', 'environment', 'eco', 'anarchists', 'or', 'green', 'anarchists', 'believe', 'in', 'deep', 'ecology', 'this', 'is', 'a', 'worldview', 'that', 'embraces', 'biodiversity', 'and', 'sustainability', 'eco', 'anarchists', 'often', 'use', 'direct', 'action', 'against', 'what', 'they', 'see', 'as', 'earth', 'destroying', 'institutions', 'of', 'particular', 'importance', 'is', 'the', 'earth', 'first', 'movement', 'that', 'takes', 'action', 'such', 'as', 'tree', 'sitting', 'another', 'important', 'component', 'is', 'ecofeminism', 'which', 'sees', 'the', 'domination', 'of', 'nature', 'as', 'a', 'metaphor', 'for', 'the', 'domination', 'of', 'women', 'green', 'anarchism', 'also', 'involves', 'a', 'critique', 'of', 'industrial', 'capitalism', 'and', 'for', 'some', 'green', 'anarchists', 'civilization', 'itself', 'primitivism', 'is', 'a', 'predominantly', 'western', 'philosophy', 'that', 'advocates', 'a', 'return', 'to', 'a', 'pre', 'industrial', 'and', 'usually', 'pre', 'agricultural', 'society', 'it', 'develops', 'a', 'critique', 'of', 'industrial', 'civilization', 'in', 'this', 'critique', 'technology', 'and', 'development', 'have', 'alienated', 'people', 'from', 'the', 'natural', 'world', 'this', 'philosophy', 'develops', 'themes', 'present', 'in', 'the', 'political', 'action', 'of', 'the', 'luddites', 'and', 'the', 'writings', 'of', 'jean', 'jacques', 'rousseau', 'primitivism', 'developed', 'in', 'the', 'context', 'of', 'the', 'reclaim', 'the', 'streets', 'earth', 'first', 'and', 'the', 'earth', 'liberation', 'front', 'movements', 'john', 'zerzan', 'wrote', 'that', 'civilization', 'not', 'just', 'the', 'state', 'would', 'need', 'to', 'fall', 'for', 'anarchy', 'to', 'be', 'achieved', 'anarcho', 'primitivists', 'point', 'to', 'the', 'anti', 'authoritarian', 'nature', 'of', 'many', 'primitive', 'or', 'hunter', 'gatherer', 'societies', 'throughout', 'the', 'world', 's', 'history', 'as', 'examples', 'of', 'anarchist', 'societies', 'other', 'branches', 'and', 'offshoots', 'anarchism', 'generates', 'many', 'eclectic', 'and', 'syncretic', 'philosophies', 'and', 'movements', 'since', 'the', 'western', 'social', 'formet', 'in', 'the', 'one', 'nine', 'six', 'zero', 's', 'and', 'one', 'nine', 'seven', 'zero', 's', 'a', 'number', 'new', 'of', 'movements', 'and', 'schools', 'have', 'appeared', 'most', 'of', 'these', 'stances', 'are', 'limited', 'to', 'even', 'smaller', 'numbers', 'than', 'the', 'schools', 'and', 'movements', 'listed', 'above', 'hakim', 'bey', 'post', 'left', 'anarchy', 'post', 'left', 'anarchy', 'also', 'called', 'egoist', 'anarchism', 'seeks', 'to', 'distance', 'itself', 'from', 'the', 'traditional', 'left', 'communists', 'liberals', 'social', 'democrats', 'etc', 'and', 'to', 'escape', 'the', 'confines', 'of', 'ideology', 'in', 'general', 'post', 'leftists', 'argue', 'that', 'anarchism', 'has', 'been', 'weakened', 'by', 'its', 'long', 'attachment', 'to', 'contrary', 'leftist', 'movements', 'and', 'single', 'issue', 'causes', 'anti', 'war', 'anti', 'nuclear', 'etc', 'it', 'calls', 'for', 'a', 'synthesis', 'of', 'anarchist', 'thought', 'and', 'a', 'specifically', 'anti', 'authoritarian', 'revolutionary', 'movement', 'outside', 'of', 'the', 'leftist', 'milieu', 'it', 'often', 'focuses', 'on', 'the', 'individual', 'rather', 'than', 'speaking', 'in', 'terms', 'of', 'class', 'or', 'other', 'broad', 'generalizations', 'and', 'shuns', 'organizational', 'tendencies', 'in', 'favor', 'of', 'the', 'complete', 'absence', 'of', 'explicit', 'hierarchy', 'important', 'groups', 'and', 'individuals', 'associated', 'with', 'post', 'left', 'anarchy', 'include', 'crimethinc', 'the', 'magazine', 'anarchy', 'a', 'journal', 'of', 'desire', 'armed', 'and', 'its', 'editor', 'jason', 'mcquinn', 'bob', 'black', 'hakim', 'bey', 'and', 'others', 'for', 'more', 'information', 'see', 'infoshop', 'org', 's', 'anarchy', 'after', 'leftism', 'section', 'and', 'the', 'post', 'left', 'section', 'on', 'anarchism', 'ws', 'see', 'also', 'post', 'left', 'anarchy', 'post', 'structuralism', 'the', 'term', 'postanarchism', 'was', 'originated', 'by', 'saul', 'newman', 'first', 'receiving', 'popular', 'attention', 'in', 'his', 'book', 'from', 'bakunin', 'to', 'lacan', 'to', 'refer', 'to', 'a', 'theoretical', 'move', 'towards', 'a', 'synthesis', 'of', 'classical', 'anarchist', 'theory', 'and', 'poststructuralist', 'thought', 'subsequent', 'to', 'newman', 's', 'use', 'of', 'the', 'term', 'however', 'it', 'has', 'taken', 'on', 'a', 'life', 'of', 'its', 'own', 'and', 'a', 'wide', 'range', 'of', 'ideas', 'including', 'autonomism', 'post', 'left', 'anarchy', 'situationism', 'post', 'colonialism', 'and', 'zapatismo', 'by', 'its', 'very', 'nature', 'post', 'anarchism', 'rejects', 'the', 'idea', 'that', 'it', 'should', 'be', 'a', 'coherent', 'set', 'of', 'doctrines', 'and', 'beliefs', 'as', 'such', 'it', 'is', 'difficult', 'if', 'not', 'impossible', 'to', 'state', 'with', 'any', 'degree', 'of', 'certainty', 'who', 'should', 'or', 'shouldn', 't', 'be', 'grouped', 'under', 'the', 'rubric', 'nonetheless', 'key', 'thinkers', 'associated', 'with', 'post', 'anarchism', 'include', 'saul', 'newman', 'todd', 'may', 'gilles', 'deleuze', 'and', 'f', 'lix', 'guattari', 'external', 'reference', 'postanarchism', 'clearinghouse', 'see', 'also', 'post', 'anarchism', 'insurrectionary', 'anarchism', 'insurrectionary', 'anarchism', 'is', 'a', 'form', 'of', 'revolutionary', 'anarchism', 'critical', 'of', 'formal', 'anarchist', 'labor', 'unions', 'and', 'federations', 'insurrectionary', 'anarchists', 'advocate', 'informal', 'organization', 'including', 'small', 'affinity', 'groups', 'carrying', 'out', 'acts', 'of', 'resistance', 'in', 'various', 'struggles', 'and', 'mass', 'organizations', 'called', 'base', 'structures', 'which', 'can', 'include', 'exploited', 'individuals', 'who', 'are', 'not', 'anarchists', 'proponents', 'include', 'wolfi', 'landstreicher', 'and', 'alfredo', 'm', 'bonanno', 'author', 'of', 'works', 'including', 'armed', 'joy', 'and', 'the', 'anarchist', 'tension', 'this', 'tendency', 'is', 'represented', 'in', 'the', 'us', 'in', 'magazines', 'such', 'as', 'willful', 'disobedience', 'and', 'killing', 'king', 'abacus', 'see', 'also', 'insurrectionary', 'anarchism', 'small', 'a', 'anarchism', 'small', 'a', 'anarchism', 'is', 'a', 'term', 'used', 'in', 'two', 'different', 'but', 'not', 'unconnected', 'contexts', 'dave', 'neal', 'posited', 'the', 'term', 'in', 'opposition', 'to', 'big', 'a', 'anarchism', 'in', 'the', 'article', 'anarchism', 'ideology', 'or', 'methodology', 'while', 'big', 'a', 'anarchism', 'referred', 'to', 'ideological', 'anarchists', 'small', 'a', 'anarchism', 'was', 'applied', 'to', 'their', 'methodological', 'counterparts', 'those', 'who', 'viewed', 'anarchism', 'as', 'a', 'way', 'of', 'acting', 'or', 'a', 'historical', 'tendency', 'against', 'illegitimate', 'authority', 'as', 'an', 'anti', 'ideological', 'position', 'small', 'a', 'anarchism', 'shares', 'some', 'similarities', 'with', 'post', 'left', 'anarchy', 'david', 'graeber', 'and', 'andrej', 'grubacic', 'offer', 'an', 'alternative', 'use', 'of', 'the', 'term', 'applying', 'it', 'to', 'groups', 'and', 'movements', 'organising', 'according', 'to', 'or', 'acting', 'in', 'a', 'manner', 'consistent', 'with', 'anarchist', 'principles', 'of', 'decentralisation', 'voluntary', 'association', 'mutual', 'aid', 'the', 'network', 'model', 'and', 'crucially', 'the', 'rejection', 'of', 'any', 'idea', 'that', 'the', 'end', 'justifies', 'the', 'means', 'let', 'alone', 'that', 'the', 'business', 'of', 'a', 'revolutionary', 'is', 'to', 'seize', 'state', 'power', 'and', 'then', 'begin', 'imposing', 'one', 's', 'vision', 'at', 'the', 'point', 'of', 'a', 'gun', 'other', 'issues', 'conceptions', 'of', 'an', 'anarchist', 'society', 'many', 'political', 'philosophers', 'justify', 'support', 'of', 'the', 'state', 'as', 'a', 'means', 'of', 'regulating', 'violence', 'so', 'that', 'the', 'destruction', 'caused', 'by', 'human', 'conflict', 'is', 'minimized', 'and', 'fair', 'relationships', 'are', 'established', 'anarchists', 'argue', 'that', 'pursuit', 'of', 'these', 'ends', 'does', 'not', 'justify', 'the', 'establishment', 'of', 'a', 'state', 'many', 'argue', 'that', 'the', 'state', 'is', 'incompatible', 'with', 'those', 'goals', 'and', 'the', 'cause', 'of', 'chaos', 'violence', 'and', 'war', 'anarchists', 'argue', 'that', 'the', 'state', 'helps', 'to', 'create', 'a', 'monopoly', 'on', 'violence', 'and', 'uses', 'violence', 'to', 'advance', 'elite', 'interests', 'much', 'effort', 'has', 'been', 'dedicated', 'to', 'explaining', 'how', 'anarchist', 'societies', 'would', 'handle', 'criminality', 'see', 'also', 'anarchism', 'and', 'society', 'civil', 'rights', 'and', 'cultural', 'sovereignty', 'black', 'anarchism', 'opposes', 'the', 'existence', 'of', 'a', 'state', 'capitalism', 'and', 'subjugation', 'and', 'domination', 'of', 'people', 'of', 'color', 'and', 'favors', 'a', 'non', 'hierarchical', 'organization', 'of', 'society', 'theorists', 'include', 'ashanti', 'alston', 'lorenzo', 'komboa', 'ervin', 'and', 'sam', 'mbah', 'anarchist', 'people', 'of', 'color', 'was', 'created', 'as', 'a', 'forum', 'for', 'non', 'caucasian', 'anarchists', 'to', 'express', 'their', 'thoughts', 'about', 'racial', 'issues', 'within', 'the', 'anarchist', 'movement', 'particularly', 'within', 'the', 'united', 'states', 'national', 'anarchism', 'is', 'a', 'political', 'view', 'which', 'seeks', 'to', 'unite', 'cultural', 'or', 'ethnic', 'preservation', 'with', 'anarchist', 'views', 'its', 'adherents', 'propose', 'that', 'those', 'preventing', 'ethnic', 'groups', 'or', 'races', 'from', 'living', 'in', 'separate', 'autonomous', 'groupings', 'should', 'be', 'resisted', 'anti', 'racist', 'action', 'is', 'not', 'an', 'anarchist', 'group', 'but', 'many', 'anarchists', 'are', 'involved', 'it', 'focuses', 'on', 'publicly', 'confronting', 'racist', 'agitators', 'the', 'zapatista', 'movement', 'of', 'chiapas', 'mexico', 'is', 'a', 'cultural', 'sovereignty', 'group', 'with', 'some', 'anarchist', 'proclivities', 'neocolonialism', 'and', 'globalization', 'nearly', 'all', 'anarchists', 'oppose', 'neocolonialism', 'as', 'an', 'attempt', 'to', 'use', 'economic', 'coercion', 'on', 'a', 'global', 'scale', 'carried', 'out', 'through', 'state', 'institutions', 'such', 'as', 'the', 'world', 'bank', 'world', 'trade', 'organization', 'group', 'of', 'eight', 'and', 'the', 'world', 'economic', 'forum', 'globalization', 'is', 'an', 'ambiguous', 'term', 'that', 'has', 'different', 'meanings', 'to', 'different', 'anarchist', 'factions', 'most', 'anarchists', 'use', 'the', 'term', 'to', 'mean', 'neocolonialism', 'and', 'or', 'cultural', 'imperialism', 'which', 'they', 'may', 'see', 'as', 'related', 'many', 'are', 'active', 'in', 'the', 'anti', 'globalization', 'movement', 'others', 'particularly', 'anarcho', 'capitalists', 'use', 'globalization', 'to', 'mean', 'the', 'worldwide', 'expansion', 'of', 'the', 'division', 'of', 'labor', 'and', 'trade', 'which', 'they', 'see', 'as', 'beneficial', 'so', 'long', 'as', 'governments', 'do', 'not', 'intervene', 'parallel', 'structures', 'many', 'anarchists', 'try', 'to', 'set', 'up', 'alternatives', 'to', 'state', 'supported', 'institutions', 'and', 'outposts', 'such', 'as', 'food', 'not', 'bombs', 'infoshops', 'educational', 'systems', 'such', 'as', 'home', 'schooling', 'neighborhood', 'mediation', 'arbitration', 'groups', 'and', 'so', 'on', 'the', 'idea', 'is', 'to', 'create', 'the', 'structures', 'for', 'a', 'new', 'anti', 'authoritarian', 'society', 'in', 'the', 'shell', 'of', 'the', 'old', 'authoritarian', 'one', 'technology', 'recent', 'technological', 'developments', 'have', 'made', 'the', 'anarchist', 'cause', 'both', 'easier', 'to', 'advance', 'and', 'more', 'conceivable', 'to', 'people', 'many', 'people', 'use', 'the', 'internet', 'to', 'form', 'on', 'line', 'communities', 'intellectual', 'property', 'is', 'undermined', 'and', 'a', 'gift', 'culture', 'supported', 'by', 'sharing', 'music', 'files', 'open', 'source', 'programming', 'and', 'the', 'free', 'software', 'movement', 'these', 'cyber', 'communities', 'include', 'the', 'gnu', 'linux', 'indymedia', 'and', 'wiki', 'some', 'anarchists', 'see', 'information', 'technology', 'as', 'the', 'best', 'weapon', 'to', 'defeat', 'authoritarianism', 'some', 'even', 'think', 'the', 'information', 'age', 'makes', 'eventual', 'anarchy', 'inevitable', 'see', 'also', 'crypto', 'anarchism', 'and', 'cypherpunk', 'pacifism', 'some', 'anarchists', 'consider', 'pacifism', 'opposition', 'to', 'war', 'to', 'be', 'inherent', 'in', 'their', 'philosophy', 'anarcho', 'pacifists', 'take', 'it', 'further', 'and', 'follow', 'leo', 'tolstoy', 's', 'belief', 'in', 'non', 'violence', 'anarchists', 'see', 'war', 'as', 'an', 'activity', 'in', 'which', 'the', 'state', 'seeks', 'to', 'gain', 'and', 'consolidate', 'power', 'both', 'domestically', 'and', 'in', 'foreign', 'lands', 'and', 'subscribe', 'to', 'randolph', 'bourne', 's', 'view', 'that', 'war', 'is', 'the', 'health', 'of', 'the', 'state', 'a', 'lot', 'of', 'anarchist', 'activity', 'has', 'been', 'anti', 'war', 'based', 'parliamentarianism', 'in', 'general', 'terms', 'the', 'anarchist', 'ethos', 'opposes', 'voting', 'in', 'elections', 'because', 'voting', 'amounts', 'to', 'condoning', 'the', 'state', 'voluntaryism', 'is', 'an', 'anarchist', 'school', 'of', 'thought', 'which', 'emphasizes', 'tending', 'your', 'own', 'garden', 'and', 'neither', 'ballots', 'nor', 'bullets', 'the', 'anarchist', 'case', 'against', 'voting', 'is', 'explained', 'in', 'the', 'ethics', 'of', 'voting', 'by', 'george', 'h', 'smith', 'also', 'see', 'voting', 'anarchists', 'an', 'oxymoron', 'or', 'what', 'by', 'joe', 'peacott', 'and', 'writings', 'by', 'fred', 'woodworth', 'sectarianism', 'most', 'anarchist', 'schools', 'of', 'thought', 'are', 'to', 'some', 'degree', 'sectarian', 'there', 'is', 'often', 'a', 'difference', 'of', 'opinion', 'within', 'each', 'school', 'about', 'how', 'to', 'react', 'to', 'or', 'interact', 'with', 'other', 'schools', 'some', 'such', 'as', 'panarchists', 'believe', 'that', 'it', 'is', 'possible', 'for', 'a', 'variety', 'of', 'modes', 'of', 'social', 'life', 'to', 'coexist', 'and', 'compete', 'some', 'anarchists', 'view', 'opposing', 'schools', 'as', 'a', 'social', 'impossibility', 'and', 'resist', 'interaction', 'others', 'see', 'opportunities', 'for', 'coalition', 'building', 'or', 'at', 'least', 'temporary', 'alliances', 'for', 'specific', 'purposes', 'see', 'anarchism', 'without', 'adjectives', 'criticisms', 'of', 'anarchism', 'main', 'article', 'criticisms', 'of', 'anarchism', 'violence', 'since', 'anarchism', 'has', 'often', 'been', 'associated', 'with', 'violence', 'and', 'destruction', 'some', 'people', 'have', 'seen', 'it', 'as', 'being', 'too', 'violent', 'on', 'the', 'other', 'hand', 'hand', 'frederick', 'engels', 'criticsed', 'anarchists', 'for', 'not', 'being', 'violent', 'enough', 'a', 'revolution', 'is', 'certainly', 'the', 'most', 'authoritarian', 'thing', 'there', 'is', 'it', 'is', 'the', 'act', 'whereby', 'one', 'part', 'of', 'the', 'population', 'imposes', 'its', 'will', 'upon', 'the', 'other', 'part', 'by', 'means', 'of', 'rifles', 'bayonets', 'and', 'cannon', 'authoritarian', 'means', 'if', 'such', 'there', 'be', 'at', 'all', 'and', 'if', 'the', 'victorious', 'party', 'does', 'not', 'want', 'to', 'have', 'fought', 'in', 'vain', 'it', 'must', 'maintain', 'this', 'rule', 'by', 'means', 'of', 'the', 'terror', 'which', 'its', 'arms', 'inspire', 'in', 'the', 'reactionists', 'would', 'the', 'paris', 'commune', 'have', 'lasted', 'a', 'single', 'day', 'if', 'it', 'had', 'not', 'made', 'use', 'of', 'this', 'authority', 'of', 'the', 'armed', 'people', 'against', 'the', 'bourgeois', 'utopianism', 'anarchism', 'is', 'often', 'criticised', 'as', 'unfeasible', 'or', 'plain', 'utopian', 'even', 'by', 'many', 'who', 'agree', 'that', 'it', 's', 'a', 'nice', 'idea', 'in', 'principle', 'for', 'example', 'carl', 'landauer', 'in', 'his', 'book', 'european', 'socialism', 'criticizes', 'anarchism', 'as', 'being', 'unrealistically', 'utopian', 'and', 'holds', 'that', 'government', 'is', 'a', 'lesser', 'evil', 'than', 'a', 'society', 'without', 'repressive', 'force', 'he', 'holds', 'that', 'the', 'belief', 'that', 'ill', 'intentions', 'will', 'cease', 'if', 'repressive', 'force', 'disappears', 'is', 'an', 'absurdity', 'however', 'it', 'must', 'be', 'noted', 'that', 'not', 'all', 'anarchists', 'have', 'such', 'a', 'utopian', 'view', 'of', 'anarchism', 'for', 'example', 'some', 'such', 'as', 'benjamin', 'tucker', 'advocate', 'privately', 'funded', 'institutions', 'that', 'defend', 'individual', 'liberty', 'and', 'property', 'however', 'other', 'anarchists', 'such', 'as', 'sir', 'herbert', 'read', 'proudly', 'accept', 'the', 'characterization', 'utopian', 'class', 'character', 'marxists', 'have', 'characterised', 'anarchism', 'as', 'an', 'expression', 'of', 'the', 'class', 'interests', 'of', 'the', 'petite', 'bourgeoisie', 'or', 'perhaps', 'the', 'lumpenproletariat', 'see', 'e', 'g', 'plekhanov', 'for', 'a', 'marxist', 'critique', 'of', 'one', 'eight', 'nine', 'five', 'anarchists', 'have', 'also', 'been', 'characterised', 'as', 'spoilt', 'middle', 'class', 'dilettantes', 'most', 'recently', 'in', 'relation', 'to', 'anti', 'capitalist', 'protesters', 'tacit', 'authoritarianism', 'in', 'recent', 'decades', 'anarchism', 'has', 'been', 'criticised', 'by', 'situationists', 'post', 'anarchists', 'and', 'others', 'of', 'preserving', 'tacitly', 'statist', 'authoritarian', 'or', 'bureaucratic', 'tendencies', 'behind', 'a', 'dogmatic', 'facade', 'hypocrisy', 'some', 'critics', 'point', 'to', 'the', 'sexist', 'and', 'racist', 'views', 'of', 'some', 'prominent', 'anarchists', 'notably', 'proudhon', 'and', 'bakunin', 'as', 'examples', 'of', 'hypocrisy', 'inherent', 'within', 'anarchism', 'while', 'many', 'anarchists', 'however', 'dismiss', 'that', 'the', 'personal', 'prejudices', 'of', 'one', 'nine', 'th', 'century', 'theorists', 'influence', 'the', 'beliefs', 'of', 'present', 'day', 'anarchists', 'others', 'criticise', 'modern', 'anarchism', 'for', 'continuing', 'to', 'be', 'eurocentric', 'and', 'reference', 'the', 'impact', 'of', 'anarchist', 'thinkers', 'like', 'proudhon', 'on', 'fascism', 'through', 'groups', 'like', 'cercle', 'proudhon', 'anarcho', 'capitalist', 'bryan', 'caplan', 'argues', 'that', 'the', 'treatment', 'of', 'fascists', 'and', 'suspected', 'fascist', 'sympathizers', 'by', 'spanish', 'anarchists', 'in', 'the', 'spanish', 'civil', 'war', 'was', 'a', 'form', 'of', 'illegitimate', 'coercion', 'making', 'the', 'proffessed', 'anarchists', 'ultimately', 'just', 'a', 'third', 'faction', 'of', 'totalitarians', 'alongside', 'the', 'communists', 'and', 'fascists', 'he', 'also', 'criticizes', 'the', 'willingness', 'of', 'the', 'cnt', 'to', 'join', 'the', 'statist', 'republican', 'government', 'during', 'the', 'civil', 'war', 'and', 'references', 'stanley', 'g', 'payne', 's', 'book', 'on', 'the', 'franco', 'regime', 'which', 'claims', 'that', 'the', 'cnt', 'entered', 'negotiations', 'with', 'the', 'fascist', 'government', 'six', 'years', 'after', 'the', 'war', 'cultural', 'phenomena', 'noam', 'chomsky', 'one', 'nine', 'two', 'eight', 'the', 'kind', 'of', 'anarchism', 'that', 'is', 'most', 'easily', 'encountered', 'in', 'popular', 'culture', 'is', 'represented', 'by', 'celebrities', 'who', 'publicly', 'identify', 'themselves', 'as', 'anarchists', 'although', 'some', 'anarchists', 'reject', 'any', 'focus', 'on', 'such', 'famous', 'living', 'individuals', 'as', 'inherently', 'litist', 'the', 'following', 'figures', 'are', 'examples', 'of', 'prominent', 'publicly', 'self', 'avowed', 'anarchists', 'the', 'mit', 'professor', 'of', 'linguistics', 'noam', 'chomsky', 'the', 'science', 'fiction', 'author', 'ursula', 'k', 'le', 'guin', 'the', 'social', 'historian', 'howard', 'zinn', 'entertainer', 'and', 'author', 'hans', 'alfredsson', 'the', 'avant', 'garde', 'artist', 'nicol', 's', 'rossell', 'in', 'denmark', 'the', 'freetown', 'christiania', 'was', 'created', 'in', 'downtown', 'copenhagen', 'the', 'housing', 'and', 'employment', 'crisis', 'in', 'most', 'of', 'western', 'europe', 'led', 'to', 'the', 'formation', 'of', 'communes', 'and', 'squatter', 'movements', 'like', 'the', 'one', 'still', 'thriving', 'in', 'barcelona', 'in', 'catalonia', 'militant', 'resistance', 'to', 'neo', 'nazi', 'groups', 'in', 'places', 'like', 'germany', 'and', 'the', 'uprisings', 'of', 'autonomous', 'marxism', 'situationist', 'and', 'autonomist', 'groups', 'in', 'france', 'and', 'italy', 'also', 'helped', 'to', 'give', 'popularity', 'to', 'anti', 'authoritarian', 'non', 'capitalist', 'ideas', 'in', 'various', 'musical', 'styles', 'anarchism', 'rose', 'in', 'popularity', 'most', 'famous', 'for', 'the', 'linking', 'of', 'anarchist', 'ideas', 'and', 'music', 'has', 'been', 'punk', 'rock', 'although', 'in', 'the', 'modern', 'age', 'hip', 'hop', 'and', 'folk', 'music', 'are', 'also', 'becoming', 'important', 'mediums', 'for', 'the', 'spreading', 'of', 'the', 'anarchist', 'message', 'in', 'the', 'uk', 'this', 'was', 'associated', 'with', 'the', 'punk', 'rock', 'movement', 'the', 'band', 'crass', 'is', 'celebrated', 'for', 'its', 'anarchist', 'and', 'pacifist', 'ideas', 'the', 'dutch', 'punk', 'band', 'the', 'ex', 'further', 'exemplifies', 'this', 'expression', 'for', 'further', 'details', 'see', 'anarcho', 'punk', 'see', 'also', 'there', 'are', 'many', 'concepts', 'relevant', 'to', 'the', 'topic', 'of', 'anarchism', 'this', 'is', 'a', 'brief', 'summary', 'there', 'is', 'also', 'a', 'more', 'extensive', 'list', 'of', 'anarchist', 'concepts', 'individualist', 'anarchism', 'anarcho', 'communism', 'anarcho', 'syndicalism', 'anarcho', 'capitalism', 'mutualism', 'christian', 'anarchism', 'anarcha', 'feminism', 'green', 'anarchism', 'nihilist', 'anarchism', 'anarcho', 'nationalism', 'black', 'anarchism', 'national', 'anarchism', 'post', 'anarchism', 'post', 'left', 'anarchism', 'libertarian', 'socialism', 'anarchist', 'symbolism', 'list', 'of', 'anarchism', 'links', 'list', 'of', 'anarchists', 'list', 'of', 'anarchist', 'organizations', 'major', 'conflicts', 'within', 'anarchist', 'thought', 'past', 'and', 'present', 'anarchist', 'communities', 'historical', 'events', 'paris', 'commune', 'one', 'eight', 'seven', 'one', 'haymarket', 'riot', 'one', 'eight', 'eight', 'six', 'the', 'makhnovschina', 'one', 'nine', 'one', 'seven', 'one', 'nine', 'two', 'one', 'kronstadt', 'rebellion', 'one', 'nine', 'two', 'one', 'spanish', 'revolution', 'one', 'nine', 'three', 'six', 'see', 'anarchism', 'in', 'spain', 'and', 'spanish', 'revolution', 'may', 'one', 'nine', 'six', 'eight', 'france', 'one', 'nine', 'six', 'eight', 'wto', 'meeting', 'in', 'seattle', 'one', 'nine', 'nine', 'nine', 'books', 'the', 'following', 'is', 'a', 'sample', 'of', 'books', 'that', 'have', 'been', 'referenced', 'in', 'this', 'page', 'a', 'more', 'complete', 'list', 'can', 'be', 'found', 'at', 'the', 'list', 'of', 'anarchist', 'books', 'mikhail', 'bakunin', 'god', 'and', 'the', 'state', 'emma', 'goldman', 'anarchism', 'other', 'essays', 'peter', 'kropotkin', 'mutual', 'aid', 'pierre', 'joseph', 'proudhon', 'what', 'is', 'property', 'rudolf', 'rocker', 'anarcho', 'syndicalism', 'murray', 'rothbard', 'the', 'ethics', 'of', 'liberty', 'max', 'stirner', 'the', 'ego', 'and', 'its', 'own', 'leo', 'tolstoy', 'the', 'kingdom', 'of', 'god', 'is', 'within', 'you', 'anarchism', 'by', 'region', 'culture', 'african', 'anarchism', 'anarchism', 'in', 'spain', 'anarchism', 'in', 'the', 'english', 'tradition', 'chinese', 'anarchism', 'references', 'these', 'notes', 'have', 'no', 'corresponding', 'reference', 'in', 'the', 'article', 'they', 'might', 'be', 're', 'used', 'against', 'politics', 'appleton', 'boston', 'anarchists', 'yarros', 'victor', 'liberty', 'vii', 'january', 'two', 'one', 'eight', 'nine', 'two', 'noam', 'chomsky', 'on', 'anarchism', 'by', 'noam', 'chomsky', 'external', 'links', 'the', 'overwhelming', 'diversity', 'and', 'number', 'of', 'links', 'relating', 'to', 'anarchism', 'is', 'extensively', 'covered', 'on', 'the', 'links', 'subpage', 'anarchoblogs', 'blogs', 'by', 'anarchists', 'anarchy', 'archives', 'extensively', 'archives', 'information', 'relating', 'to', 'famous', 'anarchists', 'this', 'includes', 'many', 'of', 'their', 'books', 'and', 'other', 'publications', 'hundreds', 'of', 'anarchists', 'are', 'listed', 'with', 'short', 'bios', 'links', 'dedicated', 'pages', 'at', 'the', 'daily', 'bleed', 's', 'anarchist', 'encyclopedia', 'infoshop', 'org', 'wikipedia', 'page', 'industrial', 'workers', 'of', 'the', 'world', 'anarchism', 'forms', 'of', 'government', 'political', 'ideology', 'entry', 'points', 'political', 'theories', 'social', 'philosophy', 'autism', 'is', 'classified', 'as', 'a', 'neurodevelopmental', 'disorder', 'that', 'manifests', 'itself', 'in', 'markedly', 'abnormal', 'social', 'interaction', 'communication', 'ability', 'patterns', 'of', 'interests', 'and', 'patterns', 'of', 'behavior', 'although', 'the', 'specific', 'etiology', 'of', 'autism', 'is', 'unknown', 'many', 'researchers', 'suspect', 'that', 'autism', 'results', 'from', 'genetically', 'mediated', 'vulnerabilities', 'to', 'environmental', 'triggers', 'and', 'while', 'there', 'is', 'disagreement', 'about', 'the', 'magnitude', 'nature', 'and', 'mechanisms', 'for', 'such', 'environmental', 'factors', 'researchers', 'have', 'found', 'at', 'least', 'seven', 'major', 'genes', 'prevalent', 'among', 'individuals', 'diagnosed', 'as', 'autistic', 'some', 'estimate', 'that', 'autism', 'occurs', 'in', 'as', 'many', 'as', 'one', 'united', 'states', 'child', 'in', 'one', 'six', 'six', 'however', 'the', 'national', 'institute', 'of', 'mental', 'health', 'gives', 'a', 'more', 'conservative', 'estimate', 'of', 'one', 'in', 'one', 'zero', 'zero', 'zero', 'for', 'families', 'that', 'already', 'have', 'one', 'autistic', 'child', 'the', 'odds', 'of', 'a', 'second', 'autistic', 'child', 'may', 'be', 'as', 'high', 'as', 'one', 'in', 'twenty', 'diagnosis', 'is', 'based', 'on', 'a', 'list', 'of', 'psychiatric', 'criteria', 'and', 'a', 'series', 'of', 'standardized', 'clinical', 'tests', 'may', 'also', 'be', 'used', 'autism', 'may', 'not', 'be', 'physiologically', 'obvious', 'a', 'complete', 'physical', 'and', 'neurological', 'evaluation', 'will', 'typically', 'be', 'part', 'of', 'diagnosing', 'autism', 'some', 'now', 'speculate', 'that', 'autism', 'is', 'not', 'a', 'single', 'condition', 'but', 'a', 'group', 'of', 'several', 'distinct', 'conditions', 'that', 'manifest', 'in', 'similar', 'ways', 'by', 'definition', 'autism', 'must', 'manifest', 'delays', 'in', 'social', 'interaction', 'language', 'as', 'used', 'in', 'social', 'communication', 'or', 'symbolic', 'or', 'imaginative', 'play', 'with', 'onset', 'prior', 'to', 'age', 'three', 'years', 'according', 'to', 'the', 'diagnostic', 'and', 'statistical', 'manual', 'of', 'mental', 'disorders', 'the', 'icd', 'one', 'zero', 'also', 'says', 'that', 'symptoms', 'must', 'manifest', 'before', 'the', 'age', 'of', 'three', 'years', 'there', 'have', 'been', 'large', 'increases', 'in', 'the', 'reported', 'incidence', 'of', 'autism', 'for', 'reasons', 'that', 'are', 'heavily', 'debated', 'by', 'researchers', 'in', 'psychology', 'and', 'related', 'fields', 'within', 'the', 'scientific', 'community', 'some', 'children', 'with', 'autism', 'have', 'improved', 'their', 'social', 'and', 'other', 'skills', 'to', 'the', 'point', 'where', 'they', 'can', 'fully', 'participate', 'in', 'mainstream', 'education', 'and', 'social', 'events', 'but', 'there', 'are', 'lingering', 'concerns', 'that', 'an', 'absolute', 'cure', 'from', 'autism', 'is', 'impossible', 'with', 'current', 'technology', 'however', 'many', 'autistic', 'children', 'and', 'adults', 'who', 'are', 'able', 'to', 'communicate', 'at', 'least', 'in', 'writing', 'are', 'opposed', 'to', 'attempts', 'to', 'cure', 'their', 'conditions', 'and', 'see', 'such', 'conditions', 'as', 'part', 'of', 'who', 'they', 'are', 'history', 'dr', 'hans', 'asperger', 'described', 'a', 'form', 'of', 'autism', 'in', 'the', 'one', 'nine', 'four', 'zero', 's', 'that', 'later', 'became', 'known', 'as', 'asperger', 's', 'syndrome', 'the', 'word', 'autism', 'was', 'first', 'used', 'in', 'the', 'english', 'language', 'by', 'swiss', 'psychiatrist', 'eugene', 'bleuler', 'in', 'a', 'one', 'nine', 'one', 'two', 'number', 'of', 'the', 'american', 'journal', 'of', 'insanity', 'it', 'comes', 'from', 'the', 'greek', 'word', 'for', 'self', 'however', 'the', 'classification', 'of', 'autism', 'did', 'not', 'occur', 'until', 'the', 'middle', 'of', 'the', 'twentieth', 'century', 'when', 'in', 'one', 'nine', 'four', 'three', 'psychiatrist', 'dr', 'leo', 'kanner', 'of', 'the', 'johns', 'hopkins', 'hospital', 'in', 'baltimore', 'reported', 'on', 'one', 'one', 'child', 'patients', 'with', 'striking', 'behavioral', 'similarities', 'and', 'introduced', 'the', 'label', 'early', 'infantile', 'autism', 'he', 'suggested', 'autism', 'from', 'the', 'greek', 'autos', 'meaning', 'self', 'to', 'describe', 'the', 'fact', 'that', 'the', 'children', 'seemed', 'to', 'lack', 'interest', 'in', 'other', 'people', 'although', 'kanner', 's', 'first', 'paper', 'on', 'the', 'subject', 'was', 'published', 'in', 'a', 'now', 'defunct', 'journal', 'the', 'nervous', 'child', 'almost', 'every', 'characteristic', 'he', 'originally', 'described', 'is', 'still', 'regarded', 'as', 'typical', 'of', 'the', 'autistic', 'spectrum', 'of', 'disorders', 'at', 'the', 'same', 'time', 'an', 'austrian', 'scientist', 'dr', 'hans', 'asperger', 'described', 'a', 'different', 'form', 'of', 'autism', 'that', 'became', 'known', 'as', 'asperger', 's', 'syndrome', 'but', 'the', 'widespread', 'recognition', 'of', 'asperger', 's', 'work', 'was', 'delayed', 'by', 'world', 'war', 'ii', 'in', 'germany', 'and', 'by', 'the', 'fact', 'that', 'his', 'seminal', 'paper', 'wasn', 't', 'translated', 'into', 'english', 'for', 'almost', 'five', 'zero', 'years', 'the', 'majority', 'of', 'his', 'work', 'wasn', 't', 'widely', 'read', 'until', 'one', 'nine', 'nine', 'seven', 'thus', 'these', 'two', 'conditions', 'were', 'described', 'and', 'are', 'today', 'listed', 'in', 'the', 'diagnostic', 'and', 'statistical', 'manual', 'of', 'mental', 'disorders', 'dsm', 'iv', 'tr', 'fourth', 'edition', 'text', 'revision', 'one', 'as', 'two', 'of', 'the', 'five', 'pervasive', 'developmental', 'disorders', 'pdd', 'more', 'often', 'referred', 'to', 'today', 'as', 'autism', 'spectrum', 'disorders', 'asd', 'all', 'of', 'these', 'conditions', 'are', 'characterized', 'by', 'varying', 'degrees', 'of', 'difference', 'in', 'communication', 'skills', 'social', 'interactions', 'and', 'restricted', 'repetitive', 'and', 'stereotyped', 'patterns', 'of', 'behavior', 'few', 'clinicians', 'today', 'solely', 'use', 'the', 'dsm', 'iv', 'criteria', 'for', 'determining', 'a', 'diagnosis', 'of', 'autism', 'which', 'are', 'based', 'on', 'the', 'absence', 'or', 'delay', 'of', 'certain', 'developmental', 'milestones', 'many', 'clinicians', 'instead', 'use', 'an', 'alternate', 'means', 'or', 'a', 'combination', 'thereof', 'to', 'more', 'accurately', 'determine', 'a', 'diagnosis', 'terminology', 'when', 'referring', 'to', 'someone', 'diagnosed', 'with', 'autism', 'the', 'term', 'autistic', 'is', 'often', 'used', 'however', 'the', 'term', 'person', 'with', 'autism', 'can', 'be', 'used', 'instead', 'this', 'is', 'referred', 'to', 'as', 'person', 'first', 'terminology', 'the', 'autistic', 'community', 'generally', 'prefers', 'the', 'term', 'autistic', 'for', 'reasons', 'that', 'are', 'fairly', 'controversial', 'this', 'article', 'uses', 'the', 'term', 'autistic', 'see', 'talk', 'page', 'characteristics', 'dr', 'leo', 'kanner', 'introduced', 'the', 'label', 'early', 'infantile', 'autism', 'in', 'one', 'nine', 'four', 'three', 'there', 'is', 'a', 'great', 'diversity', 'in', 'the', 'skills', 'and', 'behaviors', 'of', 'individuals', 'diagnosed', 'as', 'autistic', 'and', 'physicians', 'will', 'often', 'arrive', 'at', 'different', 'conclusions', 'about', 'the', 'appropriate', 'diagnosis', 'much', 'of', 'this', 'is', 'due', 'to', 'the', 'sensory', 'system', 'of', 'an', 'autistic', 'which', 'is', 'quite', 'different', 'from', 'the', 'sensory', 'system', 'of', 'other', 'people', 'since', 'certain', 'stimulations', 'can', 'affect', 'an', 'autistic', 'differently', 'than', 'a', 'non', 'autistic', 'and', 'the', 'degree', 'to', 'which', 'the', 'sensory', 'system', 'is', 'affected', 'varies', 'wildly', 'from', 'one', 'autistic', 'person', 'to', 'another', 'nevertheless', 'professionals', 'within', 'pediatric', 'care', 'and', 'development', 'often', 'look', 'for', 'early', 'indicators', 'of', 'autism', 'in', 'order', 'to', 'initiate', 'treatment', 'as', 'early', 'as', 'possible', 'however', 'some', 'people', 'do', 'not', 'believe', 'in', 'treatment', 'for', 'autism', 'either', 'because', 'they', 'do', 'not', 'believe', 'autism', 'is', 'a', 'disorder', 'or', 'because', 'they', 'believe', 'treatment', 'can', 'do', 'more', 'harm', 'than', 'good', 'social', 'development', 'typically', 'developing', 'infants', 'are', 'social', 'beings', 'early', 'in', 'life', 'they', 'do', 'such', 'things', 'as', 'gaze', 'at', 'people', 'turn', 'toward', 'voices', 'grasp', 'a', 'finger', 'and', 'even', 'smile', 'in', 'contrast', 'most', 'autistic', 'children', 'prefer', 'objects', 'to', 'faces', 'and', 'seem', 'to', 'have', 'tremendous', 'difficulty', 'learning', 'to', 'engage', 'in', 'the', 'give', 'and', 'take', 'of', 'everyday', 'human', 'interaction', 'even', 'in', 'the', 'first', 'few', 'months', 'of', 'life', 'many', 'seem', 'indifferent', 'to', 'other', 'people', 'because', 'they', 'avoid', 'eye', 'contact', 'and', 'do', 'not', 'interact', 'with', 'them', 'as', 'often', 'as', 'non', 'autistic', 'children', 'children', 'with', 'autism', 'often', 'appear', 'to', 'prefer', 'being', 'alone', 'to', 'the', 'company', 'of', 'others', 'and', 'may', 'passively', 'accept', 'such', 'things', 'as', 'hugs', 'and', 'cuddling', 'without', 'reciprocating', 'or', 'resist', 'attention', 'altogether', 'later', 'they', 'seldom', 'seek', 'comfort', 'from', 'others', 'or', 'respond', 'to', 'parents', 'displays', 'of', 'anger', 'or', 'affection', 'in', 'a', 'typical', 'way', 'research', 'has', 'suggested', 'that', 'although', 'autistic', 'children', 'are', 'attached', 'to', 'their', 'parents', 'their', 'expression', 'of', 'this', 'attachment', 'is', 'unusual', 'and', 'difficult', 'to', 'interpret', 'parents', 'who', 'looked', 'forward', 'to', 'the', 'joys', 'of', 'cuddling', 'teaching', 'and', 'playing', 'with', 'their', 'child', 'may', 'feel', 'crushed', 'by', 'this', 'lack', 'of', 'expected', 'attachment', 'behavior', 'children', 'with', 'autism', 'appear', 'to', 'lack', 'theory', 'of', 'mind', 'the', 'ability', 'to', 'see', 'things', 'from', 'another', 'person', 's', 'perspective', 'a', 'behavior', 'cited', 'as', 'exclusive', 'to', 'human', 'beings', 'above', 'the', 'age', 'of', 'five', 'and', 'possibly', 'other', 'higher', 'primates', 'such', 'as', 'adult', 'gorillas', 'chimpanzees', 'and', 'bonobos', 'typical', 'five', 'year', 'olds', 'can', 'develop', 'insights', 'into', 'other', 'people', 's', 'different', 'knowledge', 'feelings', 'and', 'intentions', 'interpretations', 'based', 'upon', 'social', 'cues', 'e', 'g', 'gestures', 'facial', 'expressions', 'an', 'individual', 'with', 'autism', 'seems', 'to', 'lack', 'these', 'interpretation', 'skills', 'an', 'inability', 'that', 'leaves', 'them', 'unable', 'to', 'predict', 'or', 'understand', 'other', 'people', 's', 'actions', 'the', 'social', 'alienation', 'of', 'autistic', 'and', 'asperger', 's', 'people', 'is', 'so', 'intense', 'from', 'childhood', 'that', 'many', 'of', 'them', 'have', 'imaginary', 'friends', 'as', 'companionship', 'however', 'having', 'an', 'imaginary', 'friend', 'is', 'not', 'necessarily', 'a', 'sign', 'of', 'autism', 'and', 'also', 'occurs', 'in', 'non', 'autistic', 'children', 'although', 'not', 'universal', 'it', 'is', 'common', 'for', 'autistic', 'people', 'to', 'not', 'regulate', 'their', 'behavior', 'this', 'can', 'take', 'the', 'form', 'of', 'crying', 'or', 'verbal', 'outbursts', 'that', 'may', 'seem', 'out', 'of', 'proportion', 'to', 'the', 'situation', 'individuals', 'with', 'autism', 'generally', 'prefer', 'consistent', 'routines', 'and', 'environments', 'they', 'may', 'react', 'negatively', 'to', 'changes', 'in', 'them', 'it', 'is', 'not', 'uncommon', 'for', 'these', 'individuals', 'to', 'exhibit', 'aggression', 'increased', 'levels', 'of', 'self', 'stimulatory', 'behavior', 'self', 'injury', 'or', 'extensive', 'withdrawal', 'in', 'overwhelming', 'situations', 'sensory', 'system', 'a', 'key', 'indicator', 'to', 'clinicians', 'making', 'a', 'proper', 'assessment', 'for', 'autism', 'would', 'include', 'looking', 'for', 'symptoms', 'much', 'like', 'those', 'found', 'in', 'sensory', 'integration', 'dysfunction', 'children', 'will', 'exhibit', 'problems', 'coping', 'with', 'the', 'normal', 'sensory', 'input', 'indicators', 'of', 'this', 'disorder', 'include', 'oversensitivity', 'or', 'underreactivity', 'to', 'touch', 'movement', 'sights', 'or', 'sounds', 'physical', 'clumsiness', 'or', 'carelessness', 'poor', 'body', 'awareness', 'a', 'tendency', 'to', 'be', 'easily', 'distracted', 'impulsive', 'physical', 'or', 'verbal', 'behavior', 'an', 'activity', 'level', 'that', 'is', 'unusually', 'high', 'or', 'low', 'not', 'unwinding', 'or', 'calming', 'oneself', 'difficulty', 'learning', 'new', 'movements', 'difficulty', 'in', 'making', 'transitions', 'from', 'one', 'situation', 'to', 'another', 'social', 'and', 'or', 'emotional', 'problems', 'delays', 'in', 'speech', 'language', 'or', 'motor', 'skills', 'specific', 'learning', 'difficulties', 'delays', 'in', 'academic', 'achievement', 'one', 'common', 'example', 'is', 'an', 'individual', 'with', 'autism', 'hearing', 'a', 'person', 'with', 'autism', 'may', 'have', 'trouble', 'hearing', 'certain', 'people', 'while', 'other', 'people', 'are', 'louder', 'than', 'usual', 'or', 'the', 'person', 'with', 'autism', 'may', 'be', 'unable', 'to', 'filter', 'out', 'sounds', 'in', 'certain', 'situations', 'such', 'as', 'in', 'a', 'large', 'crowd', 'of', 'people', 'see', 'cocktail', 'party', 'effect', 'however', 'this', 'is', 'perhaps', 'the', 'part', 'of', 'the', 'autism', 'that', 'tends', 'to', 'vary', 'the', 'most', 'from', 'person', 'to', 'person', 'so', 'these', 'examples', 'may', 'not', 'apply', 'to', 'every', 'autistic', 'it', 'should', 'be', 'noted', 'that', 'sensory', 'difficulties', 'although', 'reportedly', 'common', 'in', 'autistics', 'are', 'not', 'part', 'of', 'the', 'dsm', 'iv', 'diagnostic', 'criteria', 'for', 'autistic', 'disorder', 'communication', 'difficulties', 'by', 'age', 'three', 'typical', 'children', 'have', 'passed', 'predictable', 'language', 'learning', 'milestones', 'one', 'of', 'the', 'earliest', 'is', 'babbling', 'by', 'the', 'first', 'birthday', 'a', 'typical', 'toddler', 'says', 'words', 'turns', 'when', 'he', 'or', 'she', 'hears', 'his', 'or', 'her', 'name', 'points', 'when', 'he', 'or', 'she', 'wants', 'a', 'toy', 'and', 'when', 'offered', 'something', 'distasteful', 'makes', 'it', 'clear', 'that', 'the', 'answer', 'is', 'no', 'speech', 'development', 'in', 'people', 'with', 'autism', 'takes', 'different', 'paths', 'some', 'remain', 'mute', 'throughout', 'their', 'lives', 'while', 'being', 'fully', 'literate', 'and', 'able', 'to', 'communicate', 'in', 'other', 'ways', 'images', 'sign', 'language', 'and', 'typing', 'are', 'far', 'more', 'natural', 'to', 'them', 'some', 'infants', 'who', 'later', 'show', 'signs', 'of', 'autism', 'coo', 'and', 'babble', 'during', 'the', 'first', 'few', 'months', 'of', 'life', 'but', 'stop', 'soon', 'afterwards', 'others', 'may', 'be', 'delayed', 'developing', 'language', 'as', 'late', 'as', 'the', 'teenage', 'years', 'still', 'inability', 'to', 'speak', 'does', 'not', 'mean', 'that', 'people', 'with', 'autism', 'are', 'unintelligent', 'or', 'unaware', 'once', 'given', 'appropriate', 'accommodations', 'many', 'will', 'happily', 'converse', 'for', 'hours', 'and', 'can', 'often', 'be', 'found', 'in', 'online', 'chat', 'rooms', 'discussion', 'boards', 'or', 'websites', 'and', 'even', 'using', 'communication', 'devices', 'at', 'autism', 'community', 'social', 'events', 'such', 'as', 'autreat', 'those', 'who', 'do', 'speak', 'often', 'use', 'language', 'in', 'unusual', 'ways', 'retaining', 'features', 'of', 'earlier', 'stages', 'of', 'language', 'development', 'for', 'long', 'periods', 'or', 'throughout', 'their', 'lives', 'some', 'speak', 'only', 'single', 'words', 'while', 'others', 'repeat', 'the', 'same', 'phrase', 'over', 'and', 'over', 'some', 'repeat', 'what', 'they', 'hear', 'a', 'condition', 'called', 'echolalia', 'sing', 'song', 'repetitions', 'in', 'particular', 'are', 'a', 'calming', 'joyous', 'activity', 'that', 'many', 'autistic', 'adults', 'engage', 'in', 'many', 'people', 'with', 'autism', 'have', 'a', 'strong', 'tonal', 'sense', 'and', 'can', 'often', 'understand', 'spoken', 'language', 'some', 'children', 'may', 'exhibit', 'only', 'slight', 'delays', 'in', 'language', 'or', 'even', 'seem', 'to', 'have', 'precocious', 'language', 'and', 'unusually', 'large', 'vocabularies', 'but', 'have', 'great', 'difficulty', 'in', 'sustaining', 'typical', 'conversations', 'the', 'give', 'and', 'take', 'of', 'non', 'autistic', 'conversation', 'is', 'hard', 'for', 'them', 'although', 'they', 'often', 'carry', 'on', 'a', 'monologue', 'on', 'a', 'favorite', 'subject', 'giving', 'no', 'one', 'else', 'an', 'opportunity', 'to', 'comment', 'when', 'given', 'the', 'chance', 'to', 'converse', 'with', 'other', 'autistics', 'they', 'comfortably', 'do', 'so', 'in', 'parallel', 'monologue', 'taking', 'turns', 'expressing', 'views', 'and', 'information', 'just', 'as', 'neurotypicals', 'people', 'without', 'autism', 'have', 'trouble', 'understanding', 'autistic', 'body', 'languages', 'vocal', 'tones', 'or', 'phraseology', 'people', 'with', 'autism', 'similarly', 'have', 'trouble', 'with', 'such', 'things', 'in', 'people', 'without', 'autism', 'in', 'particular', 'autistic', 'language', 'abilities', 'tend', 'to', 'be', 'highly', 'literal', 'people', 'without', 'autism', 'often', 'inappropriately', 'attribute', 'hidden', 'meaning', 'to', 'what', 'people', 'with', 'autism', 'say', 'or', 'expect', 'the', 'person', 'with', 'autism', 'to', 'sense', 'such', 'unstated', 'meaning', 'in', 'their', 'own', 'words', 'the', 'body', 'language', 'of', 'people', 'with', 'autism', 'can', 'be', 'difficult', 'for', 'other', 'people', 'to', 'understand', 'facial', 'expressions', 'movements', 'and', 'gestures', 'may', 'be', 'easily', 'understood', 'by', 'some', 'other', 'people', 'with', 'autism', 'but', 'do', 'not', 'match', 'those', 'used', 'by', 'other', 'people', 'also', 'their', 'tone', 'of', 'voice', 'has', 'a', 'much', 'more', 'subtle', 'inflection', 'in', 'reflecting', 'their', 'feelings', 'and', 'the', 'auditory', 'system', 'of', 'a', 'person', 'without', 'autism', 'often', 'cannot', 'sense', 'the', 'fluctuations', 'what', 'seems', 'to', 'non', 'autistic', 'people', 'like', 'a', 'high', 'pitched', 'sing', 'song', 'or', 'flat', 'robot', 'like', 'voice', 'is', 'common', 'in', 'autistic', 'children', 'some', 'autistic', 'children', 'with', 'relatively', 'good', 'language', 'skills', 'speak', 'like', 'little', 'adults', 'rather', 'than', 'communicating', 'at', 'their', 'current', 'age', 'level', 'which', 'is', 'one', 'of', 'the', 'things', 'that', 'can', 'lead', 'to', 'problems', 'since', 'non', 'autistic', 'people', 'are', 'often', 'unfamiliar', 'with', 'the', 'autistic', 'body', 'language', 'and', 'since', 'autistic', 'natural', 'language', 'may', 'not', 'tend', 'towards', 'speech', 'autistic', 'people', 'often', 'struggle', 'to', 'let', 'other', 'people', 'know', 'what', 'they', 'need', 'as', 'anybody', 'might', 'do', 'in', 'such', 'a', 'situation', 'they', 'may', 'scream', 'in', 'frustration', 'or', 'resort', 'to', 'grabbing', 'what', 'they', 'want', 'while', 'waiting', 'for', 'non', 'autistic', 'people', 'to', 'learn', 'to', 'communicate', 'with', 'them', 'people', 'with', 'autism', 'do', 'whatever', 'they', 'can', 'to', 'get', 'through', 'to', 'them', 'communication', 'difficulties', 'may', 'contribute', 'to', 'autistic', 'people', 'becoming', 'socially', 'anxious', 'or', 'depressed', 'repetitive', 'behaviors', 'although', 'people', 'with', 'autism', 'usually', 'appear', 'physically', 'normal', 'and', 'have', 'good', 'muscle', 'control', 'unusual', 'repetitive', 'motions', 'known', 'as', 'self', 'stimulation', 'or', 'stimming', 'may', 'set', 'them', 'apart', 'these', 'behaviors', 'might', 'be', 'extreme', 'and', 'highly', 'apparent', 'or', 'more', 'subtle', 'some', 'children', 'and', 'older', 'individuals', 'spend', 'a', 'lot', 'of', 'time', 'repeatedly', 'flapping', 'their', 'arms', 'or', 'wiggling', 'their', 'toes', 'others', 'suddenly', 'freeze', 'in', 'position', 'as', 'children', 'they', 'might', 'spend', 'hours', 'lining', 'up', 'their', 'cars', 'and', 'trains', 'in', 'a', 'certain', 'way', 'not', 'using', 'them', 'for', 'pretend', 'play', 'if', 'someone', 'accidentally', 'moves', 'one', 'of', 'these', 'toys', 'the', 'child', 'may', 'be', 'tremendously', 'upset', 'autistic', 'children', 'often', 'need', 'and', 'demand', 'absolute', 'consistency', 'in', 'their', 'environment', 'a', 'slight', 'change', 'in', 'any', 'routine', 'in', 'mealtimes', 'dressing', 'taking', 'a', 'bath', 'or', 'going', 'to', 'school', 'at', 'a', 'certain', 'time', 'and', 'by', 'the', 'same', 'route', 'can', 'be', 'extremely', 'disturbing', 'people', 'with', 'autism', 'sometimes', 'have', 'a', 'persistent', 'intense', 'preoccupation', 'for', 'example', 'the', 'child', 'might', 'be', 'obsessed', 'with', 'learning', 'all', 'about', 'vacuum', 'cleaners', 'train', 'schedules', 'or', 'lighthouses', 'often', 'they', 'show', 'great', 'interest', 'in', 'different', 'languages', 'numbers', 'symbols', 'or', 'science', 'topics', 'repetitive', 'behaviors', 'can', 'also', 'extend', 'into', 'the', 'spoken', 'word', 'as', 'well', 'perseveration', 'of', 'a', 'single', 'word', 'or', 'phrase', 'even', 'for', 'a', 'specific', 'number', 'of', 'times', 'can', 'also', 'become', 'a', 'part', 'of', 'the', 'child', 's', 'daily', 'routine', 'effects', 'in', 'education', 'children', 'with', 'autism', 'are', 'affected', 'with', 'these', 'symptoms', 'every', 'day', 'these', 'unusual', 'characteristics', 'set', 'them', 'apart', 'from', 'the', 'everyday', 'normal', 'student', 'because', 'they', 'have', 'trouble', 'understanding', 'people', 's', 'thoughts', 'and', 'feelings', 'they', 'have', 'trouble', 'understanding', 'what', 'their', 'teacher', 'may', 'be', 'telling', 'them', 'they', 'do', 'not', 'understand', 'that', 'facial', 'expressions', 'and', 'vocal', 'variations', 'hold', 'meanings', 'and', 'may', 'misinterpret', 'what', 'emotion', 'their', 'instructor', 'is', 'displaying', 'this', 'inability', 'to', 'fully', 'decipher', 'the', 'world', 'around', 'them', 'makes', 'education', 'stressful', 'teachers', 'need', 'to', 'be', 'aware', 'of', 'a', 'student', 's', 'disorder', 'so', 'that', 'they', 'are', 'able', 'to', 'help', 'the', 'student', 'get', 'the', 'best', 'out', 'of', 'the', 'lessons', 'being', 'taught', 'some', 'students', 'learn', 'better', 'with', 'visual', 'aids', 'as', 'they', 'are', 'better', 'able', 'to', 'understand', 'material', 'presented', 'this', 'way', 'because', 'of', 'this', 'many', 'teachers', 'create', 'visual', 'schedules', 'for', 'their', 'autistic', 'students', 'this', 'allows', 'the', 'student', 'to', 'know', 'what', 'is', 'going', 'on', 'throughout', 'the', 'day', 'so', 'they', 'know', 'what', 'to', 'prepare', 'for', 'and', 'what', 'activity', 'they', 'will', 'be', 'doing', 'next', 'some', 'autistic', 'children', 'have', 'trouble', 'going', 'from', 'one', 'activity', 'to', 'the', 'next', 'so', 'this', 'visual', 'schedule', 'can', 'help', 'to', 'reduce', 'stress', 'research', 'has', 'shown', 'that', 'working', 'in', 'pairs', 'may', 'be', 'beneficial', 'to', 'autistic', 'children', 'autistic', 'students', 'have', 'problems', 'in', 'schools', 'not', 'only', 'with', 'language', 'and', 'communication', 'but', 'with', 'socialization', 'as', 'well', 'they', 'feel', 'self', 'conscious', 'about', 'themselves', 'and', 'many', 'feel', 'that', 'they', 'will', 'always', 'be', 'outcasts', 'by', 'allowing', 'them', 'to', 'work', 'with', 'peers', 'they', 'can', 'make', 'friends', 'which', 'in', 'turn', 'can', 'help', 'them', 'cope', 'with', 'the', 'problems', 'that', 'arise', 'by', 'doing', 'so', 'they', 'can', 'become', 'more', 'integrated', 'into', 'the', 'mainstream', 'environment', 'of', 'the', 'classroom', 'a', 'teacher', 's', 'aide', 'can', 'also', 'be', 'useful', 'to', 'the', 'student', 'the', 'aide', 'is', 'able', 'to', 'give', 'more', 'elaborate', 'directions', 'that', 'the', 'teacher', 'may', 'not', 'have', 'time', 'to', 'explain', 'to', 'the', 'autistic', 'child', 'the', 'aide', 'can', 'also', 'facilitate', 'the', 'autistic', 'child', 'in', 'such', 'a', 'way', 'as', 'to', 'allow', 'them', 'to', 'stay', 'at', 'a', 'similar', 'level', 'to', 'the', 'rest', 'of', 'the', 'class', 'this', 'allows', 'a', 'partially', 'one', 'on', 'one', 'lesson', 'structure', 'so', 'that', 'the', 'child', 'is', 'still', 'able', 'to', 'stay', 'in', 'a', 'normal', 'classroom', 'but', 'be', 'given', 'the', 'extra', 'help', 'that', 'they', 'need', 'there', 'are', 'many', 'different', 'techniques', 'that', 'teachers', 'can', 'use', 'to', 'assist', 'their', 'students', 'a', 'teacher', 'needs', 'to', 'become', 'familiar', 'with', 'the', 'child', 's', 'disorder', 'to', 'know', 'what', 'will', 'work', 'best', 'with', 'that', 'particular', 'child', 'every', 'child', 'is', 'going', 'to', 'be', 'different', 'and', 'teachers', 'have', 'to', 'be', 'able', 'to', 'adjust', 'with', 'every', 'one', 'of', 'them', 'students', 'with', 'autism', 'spectrum', 'disorders', 'typically', 'have', 'high', 'levels', 'of', 'anxiety', 'and', 'stress', 'particularly', 'in', 'social', 'environments', 'like', 'school', 'if', 'a', 'student', 'exhibits', 'aggressive', 'or', 'explosive', 'behavior', 'it', 'is', 'important', 'for', 'educational', 'teams', 'to', 'recognize', 'the', 'impact', 'of', 'stress', 'and', 'anxiety', 'preparing', 'students', 'for', 'new', 'situations', 'by', 'writing', 'social', 'stories', 'can', 'lower', 'anxiety', 'teaching', 'social', 'and', 'emotional', 'concepts', 'using', 'systematic', 'teaching', 'approaches', 'such', 'as', 'the', 'incredible', 'five', 'point', 'scale', 'or', 'other', 'cognitive', 'behavioral', 'strategies', 'can', 'increase', 'a', 'student', 's', 'ability', 'to', 'control', 'excessive', 'behavioral', 'reactions', 'dsm', 'definition', 'autism', 'is', 'defined', 'in', 'section', 'two', 'nine', 'nine', 'zero', 'zero', 'of', 'the', 'diagnostic', 'and', 'statistical', 'manual', 'of', 'mental', 'disorders', 'dsm', 'iv', 'as', 'a', 'total', 'of', 'six', 'or', 'more', 'items', 'from', 'one', 'two', 'and', 'three', 'with', 'at', 'least', 'two', 'from', 'one', 'and', 'one', 'each', 'from', 'two', 'and', 'three', 'qualitative', 'impairment', 'in', 'social', 'interaction', 'as', 'manifested', 'by', 'at', 'least', 'two', 'of', 'the', 'following', 'marked', 'impairment', 'in', 'the', 'use', 'of', 'multiple', 'nonverbal', 'behaviors', 'such', 'as', 'eye', 'to', 'eye', 'gaze', 'facial', 'expression', 'body', 'postures', 'and', 'gestures', 'to', 'regulate', 'social', 'interaction', 'failure', 'to', 'develop', 'peer', 'relationships', 'appropriate', 'to', 'developmental', 'level', 'a', 'lack', 'of', 'spontaneous', 'seeking', 'to', 'share', 'enjoyment', 'interests', 'or', 'achievements', 'with', 'other', 'people', 'e', 'g', 'by', 'a', 'lack', 'of', 'showing', 'bringing', 'or', 'pointing', 'out', 'objects', 'of', 'interest', 'lack', 'of', 'social', 'or', 'emotional']\n"
          ],
          "name": "stdout"
        },
        {
          "output_type": "stream",
          "text": [
            "/usr/local/lib/python3.6/dist-packages/smart_open/smart_open_lib.py:398: UserWarning: This function is deprecated, use smart_open.open instead. See the migration notes for details: https://github.com/RaRe-Technologies/smart_open/blob/master/README.rst#migrating-to-the-new-open-function\n",
            "  'See the migration notes for details: %s' % _MIGRATION_NOTES_URL\n"
          ],
          "name": "stderr"
        }
      ]
    },
    {
      "cell_type": "markdown",
      "metadata": {
        "id": "OwL4y77QwSct",
        "colab_type": "text"
      },
      "source": [
        "The required input to the gensim Word2Vec module is an iterator object, which sequentially supplies sentences from which gensim will train the embedding layer. The line above shows the supplied gensim iterator for the text8 corpus, but below shows another generic form that could be used in its place for a different data set (not actually implemented in the code for this tutorial), where the data set also contains multiple files:\n",
        "\n"
      ]
    },
    {
      "cell_type": "code",
      "metadata": {
        "id": "UWpTaFnIwTH0",
        "colab_type": "code",
        "colab": {}
      },
      "source": [
        "class MySentences(object):\n",
        "  def __init__(self, dirname):\n",
        "    self.dirname = dirname\n",
        "\n",
        "  def __iter__(self):\n",
        "    for fname in os.listdir(self.dirname):\n",
        "      for line in open(os.path.join(self.dirname, fname)):\n",
        "        yield line.split()"
      ],
      "execution_count": 0,
      "outputs": []
    },
    {
      "cell_type": "markdown",
      "metadata": {
        "id": "hxWdPQSCwl8q",
        "colab_type": "text"
      },
      "source": [
        "> This capability of gensim is great, as it means you can setup iterators which cycle through the data without having to load the entire data set into memory.  This is vital, as some text data sets are huge  i.e. tens of GB.\n",
        "\n",
        "After we’ve setup the iterator object, it is dead simple to train our word vectors:"
      ]
    },
    {
      "cell_type": "code",
      "metadata": {
        "id": "AyMZZFQz6SON",
        "colab_type": "code",
        "colab": {}
      },
      "source": [
        "logging.basicConfig(format='%(asctime)s : %(levelname)s : %(message)s', level=logging.INFO)\n"
      ],
      "execution_count": 0,
      "outputs": []
    },
    {
      "cell_type": "code",
      "metadata": {
        "id": "WP7Yg9s26SwZ",
        "colab_type": "code",
        "outputId": "36bdb3de-017d-4e5a-e47c-2b54c6143b28",
        "colab": {
          "base_uri": "https://localhost:8080/",
          "height": 72
        }
      },
      "source": [
        "model = word2vec.Word2Vec(sentences=sentences, size=300, min_count=10, iter=10, workers=4)"
      ],
      "execution_count": 0,
      "outputs": [
        {
          "output_type": "stream",
          "text": [
            "/usr/local/lib/python3.6/dist-packages/smart_open/smart_open_lib.py:398: UserWarning: This function is deprecated, use smart_open.open instead. See the migration notes for details: https://github.com/RaRe-Technologies/smart_open/blob/master/README.rst#migrating-to-the-new-open-function\n",
            "  'See the migration notes for details: %s' % _MIGRATION_NOTES_URL\n"
          ],
          "name": "stderr"
        }
      ]
    },
    {
      "cell_type": "markdown",
      "metadata": {
        "id": "OvdJA4Ob7HKk",
        "colab_type": "text"
      },
      "source": [
        "The first line just lets us see the INFO logging that gensim provides as it trains. The second line will execute the training on the provided sentences iterator.  The first optional argument iter specifies how many times the training code will run through the data set to train the neural network (kind of like the number of training epochs). The gensim training code will actually run through all the data iter+1 time, as the first pass involves collecting all the unique words, creating dictionaries etc.  The next argument, min_count, specifies the minimum amount of times that the word has to appear in the corpus before it is included in the vocabulary – this allows us to easily eliminate rare words and reduce our vocabulary size.  The third argument is the size of the resultant word vector – in this case, we set it to 300. In other words, each word in our vocabulary, after training, will be represented by a 300 length word vector. Finally, if we are using Cython, we can specify how many parallel workers we would like to work on the data – this will speed up the training process\n",
        "\n",
        "Let’s examine our results and see what else gensim can do.\n",
        "\n"
      ]
    },
    {
      "cell_type": "code",
      "metadata": {
        "id": "icBC5N1y62CB",
        "colab_type": "code",
        "outputId": "74bc77c0-060c-4e30-f058-7e2181808c84",
        "colab": {
          "base_uri": "https://localhost:8080/",
          "height": 34
        }
      },
      "source": [
        "# get the word vector of \"the\"\n",
        "\n",
        "print (model.wv['the'].shape)"
      ],
      "execution_count": 0,
      "outputs": [
        {
          "output_type": "stream",
          "text": [
            "(300,)\n"
          ],
          "name": "stdout"
        }
      ]
    },
    {
      "cell_type": "markdown",
      "metadata": {
        "id": "Q6BREDC79VMI",
        "colab_type": "text"
      },
      "source": [
        "This returns a 300 length numpy vector – as you can see, each word vector can be retrieved from the model via a dictionary key i.e. a word within our vocabulary.\n",
        "\n"
      ]
    },
    {
      "cell_type": "code",
      "metadata": {
        "id": "gxwZtmQ59fHx",
        "colab_type": "code",
        "outputId": "002d4f53-0949-4890-b3dd-643c0849ffee",
        "colab": {
          "base_uri": "https://localhost:8080/",
          "height": 52
        }
      },
      "source": [
        "# get the most common words\n",
        "print(model.wv.index2word[0], model.wv.index2word[1], model.wv.index2word[2])\n",
        "print (len(model.wv.index2word))"
      ],
      "execution_count": 0,
      "outputs": [
        {
          "output_type": "stream",
          "text": [
            "the of and\n",
            "47134\n"
          ],
          "name": "stdout"
        }
      ]
    },
    {
      "cell_type": "markdown",
      "metadata": {
        "id": "NrxHvDGAe-Qk",
        "colab_type": "text"
      },
      "source": [
        "The word vectors are also arranged within the wv object with indexes – the lowest index (i.e. 0) represents the most common word, the highest (i.e. the length of the vocabulary minus 1) the least common word.  The above code returns: “the of and”, which is unsurprising, as these are very common words.\n",
        "\n"
      ]
    },
    {
      "cell_type": "code",
      "metadata": {
        "id": "eGmi2kMRfDVf",
        "colab_type": "code",
        "outputId": "7c6abdf7-cc6e-4b05-c7ed-e78b7e3f54b6",
        "colab": {
          "base_uri": "https://localhost:8080/",
          "height": 52
        }
      },
      "source": [
        "# get the least common words\n",
        "vocab_size = len(model.wv.vocab)\n",
        "\n",
        "print (\"Vocab size:\", vocab_size)\n",
        "\n",
        "print (model.wv.index2word[vocab_size-1], model.wv.index2word[vocab_size-2], model.wv.index2word[vocab_size-3])"
      ],
      "execution_count": 0,
      "outputs": [
        {
          "output_type": "stream",
          "text": [
            "Vocab size: 47134\n",
            "kirchenmusik villein meherabad\n"
          ],
          "name": "stdout"
        }
      ]
    },
    {
      "cell_type": "markdown",
      "metadata": {
        "id": "Bvg5afEAf8_h",
        "colab_type": "text"
      },
      "source": [
        "The discovered vocabulary is found in model.wv.vocab – by taking the length of this dictionary, we can determine the vocabulary size (in this case, it is 47,134 elements long). The code above returns: “zanetti markschies meherabad – rare words indeed.\n",
        "\n"
      ]
    },
    {
      "cell_type": "code",
      "metadata": {
        "id": "VbobsvSWf5Ux",
        "colab_type": "code",
        "outputId": "b0fc3890-c2fc-42a3-bed3-e89f99f80d0e",
        "colab": {
          "base_uri": "https://localhost:8080/",
          "height": 34
        }
      },
      "source": [
        "# find the index of the 2nd most common word (\"of\")\n",
        "\n",
        "print('Index of \"of\" is: {}'.format(model.wv.vocab['of'].index))\n"
      ],
      "execution_count": 0,
      "outputs": [
        {
          "output_type": "stream",
          "text": [
            "Index of \"of\" is: 1\n"
          ],
          "name": "stdout"
        }
      ]
    },
    {
      "cell_type": "code",
      "metadata": {
        "id": "I9GTI2qXgN6p",
        "colab_type": "code",
        "outputId": "1af86c81-9787-4d95-cf9a-7af6862535eb",
        "colab": {
          "base_uri": "https://localhost:8080/",
          "height": 90
        }
      },
      "source": [
        "# some similarity fun\n",
        "print (model.wv.similarity('woman', 'man'), model.wv.similarity('man', 'elephant'))"
      ],
      "execution_count": 0,
      "outputs": [
        {
          "output_type": "stream",
          "text": [
            "0.6051611 0.20642439\n"
          ],
          "name": "stdout"
        },
        {
          "output_type": "stream",
          "text": [
            "/usr/local/lib/python3.6/dist-packages/gensim/matutils.py:737: FutureWarning: Conversion of the second argument of issubdtype from `int` to `np.signedinteger` is deprecated. In future, it will be treated as `np.int64 == np.dtype(int).type`.\n",
            "  if np.issubdtype(vec.dtype, np.int):\n"
          ],
          "name": "stderr"
        }
      ]
    },
    {
      "cell_type": "markdown",
      "metadata": {
        "id": "DuC5hbeZhd-D",
        "colab_type": "text"
      },
      "source": [
        "We can also easily extract similarity measures between word vectors (gensim uses cosine similarity). The above code returns “0.6599 0.2955”, which again makes sense given the context such words are generally used in.\n",
        "\n"
      ]
    },
    {
      "cell_type": "code",
      "metadata": {
        "id": "iB_LtioOjC9C",
        "colab_type": "code",
        "outputId": "b93379c3-296a-437e-c6ae-2a68471fd963",
        "colab": {
          "base_uri": "https://localhost:8080/",
          "height": 34
        }
      },
      "source": [
        "model.wv['zimbabwe'].shape"
      ],
      "execution_count": 0,
      "outputs": [
        {
          "output_type": "execute_result",
          "data": {
            "text/plain": [
              "(300,)"
            ]
          },
          "metadata": {
            "tags": []
          },
          "execution_count": 15
        }
      ]
    },
    {
      "cell_type": "code",
      "metadata": {
        "id": "DOOZB-JmhVwc",
        "colab_type": "code",
        "outputId": "23ae84b5-2563-4e57-addf-194fa3045499",
        "colab": {
          "base_uri": "https://localhost:8080/",
          "height": 125
        }
      },
      "source": [
        "# The word further away from the mean of all words.  \n",
        "\n",
        "model.wv.doesnt_match([\"england\", \"india\", \"zebra\", \"zimbabwe\"])"
      ],
      "execution_count": 0,
      "outputs": [
        {
          "output_type": "stream",
          "text": [
            "/usr/local/lib/python3.6/dist-packages/gensim/models/keyedvectors.py:895: FutureWarning: arrays to stack must be passed as a \"sequence\" type such as list or tuple. Support for non-sequence iterables such as generators is deprecated as of NumPy 1.16 and will raise an error in the future.\n",
            "  vectors = vstack(self.word_vec(word, use_norm=True) for word in used_words).astype(REAL)\n",
            "/usr/local/lib/python3.6/dist-packages/gensim/matutils.py:737: FutureWarning: Conversion of the second argument of issubdtype from `int` to `np.signedinteger` is deprecated. In future, it will be treated as `np.int64 == np.dtype(int).type`.\n",
            "  if np.issubdtype(vec.dtype, np.int):\n"
          ],
          "name": "stderr"
        },
        {
          "output_type": "execute_result",
          "data": {
            "text/plain": [
              "'zebra'"
            ]
          },
          "metadata": {
            "tags": []
          },
          "execution_count": 16
        }
      ]
    },
    {
      "cell_type": "markdown",
      "metadata": {
        "id": "AjdsfDB3jZgH",
        "colab_type": "text"
      },
      "source": [
        "This fun function determines which word doesn’t match the context of the others – in this case, “zebra” is returned.\n",
        "\n",
        "We also want to able to convert our data set from a list of words to a list of integer indexes, based on the vocabulary developed by gensim.  To do so, we can use the following code:\n"
      ]
    },
    {
      "cell_type": "code",
      "metadata": {
        "id": "XDVd-TiasQEH",
        "colab_type": "code",
        "outputId": "28816377-c995-47f2-f4a4-7d7b76e4f68d",
        "colab": {
          "base_uri": "https://localhost:8080/",
          "height": 167
        }
      },
      "source": [
        "zipfile.ZipFile.read()"
      ],
      "execution_count": 0,
      "outputs": [
        {
          "output_type": "error",
          "ename": "TypeError",
          "evalue": "ignored",
          "traceback": [
            "\u001b[0;31m---------------------------------------------------------------------------\u001b[0m",
            "\u001b[0;31mTypeError\u001b[0m                                 Traceback (most recent call last)",
            "\u001b[0;32m<ipython-input-17-90357670138a>\u001b[0m in \u001b[0;36m<module>\u001b[0;34m()\u001b[0m\n\u001b[0;32m----> 1\u001b[0;31m \u001b[0mzipfile\u001b[0m\u001b[0;34m.\u001b[0m\u001b[0mZipFile\u001b[0m\u001b[0;34m.\u001b[0m\u001b[0mread\u001b[0m\u001b[0;34m(\u001b[0m\u001b[0;34m)\u001b[0m\u001b[0;34m\u001b[0m\u001b[0;34m\u001b[0m\u001b[0m\n\u001b[0m",
            "\u001b[0;31mTypeError\u001b[0m: read() missing 2 required positional arguments: 'self' and 'name'"
          ]
        }
      ]
    },
    {
      "cell_type": "code",
      "metadata": {
        "id": "uEZrDGZLnxio",
        "colab_type": "code",
        "colab": {}
      },
      "source": [
        "# convert the input data into a list of integer indexes aligning with the wv indexes\n",
        "\n",
        "def read_data(filename):\n",
        "  \"\"\"\n",
        "  Extract the first file enclosed in a zip file as a list of words.\n",
        "  \"\"\"\n",
        "  with zipfile.ZipFile(filename) as f:\n",
        "    data = f.read(f.namelist()[0]).split()\n",
        "  return data\n",
        "\n",
        "str_data = read_data(filename)\n",
        "\n",
        "str_data = [data.decode(\"utf-8\") for data in str_data]\n",
        "\n",
        "print (str_data[:10])"
      ],
      "execution_count": 0,
      "outputs": []
    },
    {
      "cell_type": "code",
      "metadata": {
        "id": "nSrP-mmJovLy",
        "colab_type": "code",
        "colab": {}
      },
      "source": [
        "def convert_data_to_index(string_data, wv):\n",
        "  index_data = []\n",
        "\n",
        "  for word in string_data:\n",
        "    if word in wv:\n",
        "      index_data.append(wv.vocab[word].index)\n",
        "  return index_data\n",
        "\n",
        "index_data = convert_data_to_index(str_data, model.wv)\n",
        "\n",
        "print (str_data[:4], index_data[:4])"
      ],
      "execution_count": 0,
      "outputs": []
    },
    {
      "cell_type": "markdown",
      "metadata": {
        "id": "HAIvw1r4s6so",
        "colab_type": "text"
      },
      "source": [
        "The first function, read_data simply extracts the zip file data and returns a list of strings in the same order as our original text data set.  The second function loops through each word in the data set, determines if it is in the vocabulary*, and if so, adds the matching integer index to a list.  The code above returns: “[‘anarchism’, ‘originated’, ‘as’, ‘a’] [5237, 3080, 11, 5]”.\n",
        "\n",
        "* Remember that some words in the data set will be missing from the vocabulary if they are very rare in the corpus.\n",
        "\n",
        "We can also save and reload our trained word vectors/embeddings by the following simple code:\n",
        "\n"
      ]
    },
    {
      "cell_type": "code",
      "metadata": {
        "id": "lYqdAzrdot5C",
        "colab_type": "code",
        "colab": {}
      },
      "source": [
        "model.save(\"mymodel\")\n",
        "\n",
        "model = gensim.models.Word2Vec.load(\"mymodel\")"
      ],
      "execution_count": 0,
      "outputs": []
    },
    {
      "cell_type": "markdown",
      "metadata": {
        "id": "lrY-lRHYu1Br",
        "colab_type": "text"
      },
      "source": [
        "Finally, I’ll show you how we can extract the embedding weights from the gensim Word2Vec embedding layer and store it in a numpy array, ready for use in TensorFlow and Keras.\n",
        "\n",
        "The rows should represent each word and the cols the corresponding embedded vector"
      ]
    },
    {
      "cell_type": "code",
      "metadata": {
        "id": "sxqld3kJvosT",
        "colab_type": "code",
        "colab": {}
      },
      "source": [
        "model.wv.index2word[12]"
      ],
      "execution_count": 0,
      "outputs": []
    },
    {
      "cell_type": "code",
      "metadata": {
        "id": "Iujbsq2OuuRs",
        "colab_type": "code",
        "colab": {}
      },
      "source": [
        "embedding_matrix = np.zeros(shape=(len(model.wv.vocab), 300))\n",
        "\n",
        "# for each word in the vocab\n",
        "\n",
        "for i in range(len(model.wv.vocab)):\n",
        "  embedding_vector = model.wv[model.wv.index2word[i]]\n",
        "  if embedding_vector is not None:\n",
        "    embedding_matrix[i] = embedding_vector\n",
        "\n",
        "    "
      ],
      "execution_count": 0,
      "outputs": []
    },
    {
      "cell_type": "markdown",
      "metadata": {
        "id": "UDXDptrwxM29",
        "colab_type": "text"
      },
      "source": [
        "In this case, we first create an appropriately sized numpy zeros array.  Then we loop through each word in the vocabulary, grabbing the word vector associated with that word by using the wv dictionary.  We then add the word vector into our numpy array.\n",
        "\n",
        "So there we have it – gensim Word2Vec is a great little library that can execute the word embedding process very quickly, and also has a host of other useful functionality.\n",
        "\n",
        "Now I will show how you can use pre-trained gensim embedding layers in our TensorFlow and Keras models."
      ]
    },
    {
      "cell_type": "markdown",
      "metadata": {
        "id": "kd6SNvNwaMwt",
        "colab_type": "text"
      },
      "source": [
        "### Using gensim Word2Vec embeddings in Keras\n",
        "\n",
        "We can perform similar steps with a Keras model. In this case, following the example code previously shown in the Keras Word2Vec tutorial, our model takes two single word samples as input and finds the similarity between them.  The top 8 closest words loop is therefore slightly different than the previous example:\n",
        "\n"
      ]
    },
    {
      "cell_type": "code",
      "metadata": {
        "id": "ec2dkdXtaUBF",
        "colab_type": "code",
        "outputId": "4aa9b0e4-3b6f-4bc5-f50d-d858adc74208",
        "colab": {
          "base_uri": "https://localhost:8080/",
          "height": 34
        }
      },
      "source": [
        "valid_size = 16  # Random set of words to evaluate similarity on.\n",
        "valid_window = 100  # Only pick dev samples in the head of the distribution.\n",
        "\n",
        "valid_examples = np.random.choice(valid_window, valid_size, replace=False)\n",
        "\n",
        "valid_examples"
      ],
      "execution_count": 0,
      "outputs": [
        {
          "output_type": "execute_result",
          "data": {
            "text/plain": [
              "array([20, 95,  6, 85, 19, 82, 15, 29, 56, 90, 25, 12, 46, 13, 86, 36])"
            ]
          },
          "metadata": {
            "tags": []
          },
          "execution_count": 21
        }
      ]
    },
    {
      "cell_type": "code",
      "metadata": {
        "id": "sQuqgLqAbObf",
        "colab_type": "code",
        "outputId": "faaf68dc-d76c-47c6-cec7-2ebe546efa1c",
        "colab": {
          "base_uri": "https://localhost:8080/",
          "height": 125
        }
      },
      "source": [
        "# input words - in this case we do sample by sample evaluations of the similarity\n",
        "valid_word = Input((1,), dtype='int32')\n",
        "other_word = Input((1,), dtype='int32')\n",
        "\n",
        "# setup the embedding layer\n",
        "\n",
        "# input_dim is vocab_size\n",
        "# output dim is 300\n",
        "embeddings = Embedding(input_dim=embedding_matrix.shape[0], output_dim=embedding_matrix.shape[1], weights=[embedding_matrix])"
      ],
      "execution_count": 0,
      "outputs": [
        {
          "output_type": "stream",
          "text": [
            "WARNING: Logging before flag parsing goes to stderr.\n",
            "W0816 12:37:29.133539 140442326112128 deprecation_wrapper.py:119] From /usr/local/lib/python3.6/dist-packages/keras/backend/tensorflow_backend.py:74: The name tf.get_default_graph is deprecated. Please use tf.compat.v1.get_default_graph instead.\n",
            "\n",
            "W0816 12:37:29.182073 140442326112128 deprecation_wrapper.py:119] From /usr/local/lib/python3.6/dist-packages/keras/backend/tensorflow_backend.py:517: The name tf.placeholder is deprecated. Please use tf.compat.v1.placeholder instead.\n",
            "\n"
          ],
          "name": "stderr"
        }
      ]
    },
    {
      "cell_type": "code",
      "metadata": {
        "id": "cSmSXX4bb46y",
        "colab_type": "code",
        "outputId": "ec19e0af-07c6-4cb4-f510-e08e2ca1355b",
        "colab": {
          "base_uri": "https://localhost:8080/",
          "height": 34
        }
      },
      "source": [
        "embedded_a = embeddings(valid_word)\n",
        "embedded_b = embeddings(other_word)\n",
        "\n",
        "# reshape to 300,1\n",
        "embedded_a = Reshape(target_shape=(300, 1))(embedded_a)\n",
        "embedded_b = Reshape(target_shape=(300, 1))(embedded_b)\n",
        "\n",
        "\n",
        "print (embedded_a.shape)"
      ],
      "execution_count": 0,
      "outputs": [
        {
          "output_type": "stream",
          "text": [
            "(?, 300, 1)\n"
          ],
          "name": "stdout"
        }
      ]
    },
    {
      "cell_type": "code",
      "metadata": {
        "id": "Tt_8beLJdvnu",
        "colab_type": "code",
        "outputId": "dd55baa3-68c0-40fb-bd6d-b7a197683576",
        "colab": {
          "base_uri": "https://localhost:8080/",
          "height": 34
        }
      },
      "source": [
        "similarity_layer = Dot(axes=0, normalize=True, name='similarity_layer')\n",
        "similarity = similarity_layer([embedded_a, embedded_b])\n",
        "\n",
        "print (similarity.shape)"
      ],
      "execution_count": 0,
      "outputs": [
        {
          "output_type": "stream",
          "text": [
            "(?, 1, 1)\n"
          ],
          "name": "stdout"
        }
      ]
    },
    {
      "cell_type": "code",
      "metadata": {
        "id": "e8GerjjxeAt8",
        "colab_type": "code",
        "outputId": "e284f321-e82d-4e45-c6bb-96cd816eb787",
        "colab": {
          "base_uri": "https://localhost:8080/",
          "height": 72
        }
      },
      "source": [
        "# create the Keras model\n",
        "k_model = Model(input=[valid_word, other_word], output=similarity)\n"
      ],
      "execution_count": 0,
      "outputs": [
        {
          "output_type": "stream",
          "text": [
            "/usr/local/lib/python3.6/dist-packages/ipykernel_launcher.py:1: UserWarning: Update your `Model` call to the Keras 2 API: `Model(inputs=[<tf.Tenso..., outputs=Tensor(\"si...)`\n",
            "  \"\"\"Entry point for launching an IPython kernel.\n"
          ],
          "name": "stderr"
        }
      ]
    },
    {
      "cell_type": "code",
      "metadata": {
        "id": "6z34-YMMqlFP",
        "colab_type": "code",
        "outputId": "a616d852-82ea-4ef5-adb8-d75a3f368ece",
        "colab": {
          "base_uri": "https://localhost:8080/",
          "height": 34
        }
      },
      "source": [
        "model.wv.index2word[0]"
      ],
      "execution_count": 0,
      "outputs": [
        {
          "output_type": "execute_result",
          "data": {
            "text/plain": [
              "'the'"
            ]
          },
          "metadata": {
            "tags": []
          },
          "execution_count": 34
        }
      ]
    },
    {
      "cell_type": "code",
      "metadata": {
        "id": "fDKqnbosqw3u",
        "colab_type": "code",
        "outputId": "6c533b87-c2ec-4660-a1d8-ca02d9b35f05",
        "colab": {
          "base_uri": "https://localhost:8080/",
          "height": 34
        }
      },
      "source": [
        "print (valid_size, valid_examples)"
      ],
      "execution_count": 0,
      "outputs": [
        {
          "output_type": "stream",
          "text": [
            "16 [20 95  6 85 19 82 15 29 56 90 25 12 46 13 86 36]\n"
          ],
          "name": "stdout"
        }
      ]
    },
    {
      "cell_type": "code",
      "metadata": {
        "id": "kgglD5rceGUP",
        "colab_type": "code",
        "colab": {}
      },
      "source": [
        "def get_sim(valid_word_idx, vocab_size):\n",
        "  \"\"\"\n",
        "  Gets similarity scores of valid_word_idx through the k_model\n",
        "  against all words in the vocab\n",
        "  Returns a list of all the similarity scores\n",
        "  \"\"\"\n",
        "  # array of 0s of size vocab_size\n",
        "  sim = np.zeros((vocab_size,))\n",
        "  # target and context\n",
        "  in_arr1 = np.zeros((1,))\n",
        "  in_arr2 = np.zeros((1,))\n",
        "\n",
        "  in_arr1 = np.zeros((1,))\n",
        "  in_arr2 = np.zeros((1,))\n",
        "  in_arr1[0,] = valid_word_idx\n",
        "\n",
        "  for i in range(vocab_size):\n",
        "    in_arr2[0,] = i\n",
        "    # get similarity score\n",
        "    out = k_model.predict_on_batch([in_arr1, in_arr2])\n",
        "    sim[i] = out\n",
        "  return sim"
      ],
      "execution_count": 0,
      "outputs": []
    },
    {
      "cell_type": "code",
      "metadata": {
        "id": "9kt8C7sFs0Ak",
        "colab_type": "code",
        "outputId": "2444ca04-1292-4933-e56b-16d3ab6aa31c",
        "colab": {
          "base_uri": "https://localhost:8080/",
          "height": 1000
        }
      },
      "source": [
        "# now run the model and get the closest words to the valid examples\n",
        "\n",
        "for i in range(valid_size):\n",
        "  # get corr word from the model\n",
        "  valid_word = model.wv.index2word[valid_examples[i]]\n",
        "  top_k = 8  # number of nearest neighbors\n",
        "  # get all similarity scores\n",
        "  sim = get_sim(valid_examples[i], len(model.wv.vocab))\n",
        "\n",
        "  # sort desc and get the top k except the first one\n",
        "  # first one is the same as the original so ignore that\n",
        "  nearest = (-sim).argsort()[1:top_k+1]\n",
        "\n",
        "  log_str = 'Nearest to %s:' % valid_word\n",
        "\n",
        "  for k in range(top_k):\n",
        "    close_word = model.wv.index2word[nearest[k]]\n",
        "    log_str = '%s %s,' % (log_str, close_word)\n",
        "    print(log_str)\n"
      ],
      "execution_count": 0,
      "outputs": [
        {
          "output_type": "stream",
          "text": [
            "Nearest to four: five,\n",
            "Nearest to four: five, three,\n",
            "Nearest to four: five, three, six,\n",
            "Nearest to four: five, three, six, one,\n",
            "Nearest to four: five, three, six, one, eight,\n",
            "Nearest to four: five, three, six, one, eight, seven,\n",
            "Nearest to four: five, three, six, one, eight, seven, nine,\n",
            "Nearest to four: five, three, six, one, eight, seven, nine, two,\n",
            "Nearest to history: timeline,\n",
            "Nearest to history: timeline, overview,\n",
            "Nearest to history: timeline, overview, prehistory,\n",
            "Nearest to history: timeline, overview, prehistory, annals,\n",
            "Nearest to history: timeline, overview, prehistory, annals, historical,\n",
            "Nearest to history: timeline, overview, prehistory, annals, historical, beginnings,\n",
            "Nearest to history: timeline, overview, prehistory, annals, historical, beginnings, geography,\n",
            "Nearest to history: timeline, overview, prehistory, annals, historical, beginnings, geography, career,\n",
            "Nearest to to: letting,\n",
            "Nearest to to: letting, might,\n",
            "Nearest to to: letting, might, desired,\n",
            "Nearest to to: letting, might, desired, altogether,\n",
            "Nearest to to: letting, might, desired, altogether, automatically,\n",
            "Nearest to to: letting, might, desired, altogether, automatically, will,\n",
            "Nearest to to: letting, might, desired, altogether, automatically, will, must,\n",
            "Nearest to to: letting, might, desired, altogether, automatically, will, must, inspection,\n",
            "Nearest to united: federated,\n",
            "Nearest to united: federated, warring,\n",
            "Nearest to united: federated, warring, micronesia,\n",
            "Nearest to united: federated, warring, micronesia, isambard,\n",
            "Nearest to united: federated, warring, micronesia, isambard, princely,\n",
            "Nearest to united: federated, warring, micronesia, isambard, princely, alderney,\n",
            "Nearest to united: federated, warring, micronesia, isambard, princely, alderney, ecowas,\n",
            "Nearest to united: federated, warring, micronesia, isambard, princely, alderney, ecowas, reorganisation,\n",
            "Nearest to that: therefore,\n",
            "Nearest to that: therefore, which,\n",
            "Nearest to that: therefore, which, if,\n",
            "Nearest to that: therefore, which, if, actually,\n",
            "Nearest to that: therefore, which, if, actually, thus,\n",
            "Nearest to that: therefore, which, if, actually, thus, whatever,\n",
            "Nearest to that: therefore, which, if, actually, thus, whatever, what,\n",
            "Nearest to that: therefore, which, if, actually, thus, whatever, what, clearly,\n",
            "Nearest to people: persons,\n",
            "Nearest to people: persons, blacks,\n",
            "Nearest to people: persons, blacks, residents,\n",
            "Nearest to people: persons, blacks, residents, foreigners,\n",
            "Nearest to people: persons, blacks, residents, foreigners, citizens,\n",
            "Nearest to people: persons, blacks, residents, foreigners, citizens, jews,\n",
            "Nearest to people: persons, blacks, residents, foreigners, citizens, jews, australians,\n",
            "Nearest to people: persons, blacks, residents, foreigners, citizens, jews, australians, tribes,\n",
            "Nearest to five: four,\n",
            "Nearest to five: four, six,\n",
            "Nearest to five: four, six, seven,\n",
            "Nearest to five: four, six, seven, eight,\n",
            "Nearest to five: four, six, seven, eight, three,\n",
            "Nearest to five: four, six, seven, eight, three, one,\n",
            "Nearest to five: four, six, seven, eight, three, one, nine,\n",
            "Nearest to five: four, six, seven, eight, three, one, nine, two,\n",
            "Nearest to his: her,\n",
            "Nearest to his: her, himself,\n",
            "Nearest to his: her, himself, nobita,\n",
            "Nearest to his: her, himself, nobita, taraza,\n",
            "Nearest to his: her, himself, nobita, taraza, him,\n",
            "Nearest to his: her, himself, nobita, taraza, him, faramir,\n",
            "Nearest to his: her, himself, nobita, taraza, him, faramir, claudius,\n",
            "Nearest to his: her, himself, nobita, taraza, him, faramir, claudius, cicero,\n",
            "Nearest to who: whose,\n",
            "Nearest to who: whose, whom,\n",
            "Nearest to who: whose, whom, whoever,\n",
            "Nearest to who: whose, whom, whoever, which,\n",
            "Nearest to who: whose, whom, whoever, which, wishing,\n",
            "Nearest to who: whose, whom, whoever, which, wishing, orton,\n",
            "Nearest to who: whose, whom, whoever, which, wishing, orton, elisha,\n",
            "Nearest to who: whose, whom, whoever, which, wishing, orton, elisha, hypnotist,\n",
            "Nearest to th: fourteenth,\n",
            "Nearest to th: fourteenth, sixteenth,\n",
            "Nearest to th: fourteenth, sixteenth, seventeenth,\n",
            "Nearest to th: fourteenth, sixteenth, seventeenth, fifteenth,\n",
            "Nearest to th: fourteenth, sixteenth, seventeenth, fifteenth, eleventh,\n",
            "Nearest to th: fourteenth, sixteenth, seventeenth, fifteenth, eleventh, ninth,\n",
            "Nearest to th: fourteenth, sixteenth, seventeenth, fifteenth, eleventh, ninth, eighteenth,\n",
            "Nearest to th: fourteenth, sixteenth, seventeenth, fifteenth, eleventh, ninth, eighteenth, nd,\n",
            "Nearest to are: were,\n",
            "Nearest to are: were, is,\n",
            "Nearest to are: were, is, differ,\n",
            "Nearest to are: were, is, differ, contain,\n",
            "Nearest to are: were, is, differ, contain, accentuate,\n",
            "Nearest to are: were, is, differ, contain, accentuate, consist,\n",
            "Nearest to are: were, is, differ, contain, accentuate, consist, sorts,\n",
            "Nearest to are: were, is, differ, contain, accentuate, consist, sorts, aren,\n",
            "Nearest to eight: seven,\n",
            "Nearest to eight: seven, six,\n",
            "Nearest to eight: seven, six, five,\n",
            "Nearest to eight: seven, six, five, four,\n",
            "Nearest to eight: seven, six, five, four, nine,\n",
            "Nearest to eight: seven, six, five, four, nine, one,\n",
            "Nearest to eight: seven, six, five, four, nine, one, three,\n",
            "Nearest to eight: seven, six, five, four, nine, one, three, two,\n",
            "Nearest to they: you,\n",
            "Nearest to they: you, palestinians,\n",
            "Nearest to they: you, palestinians, theirs,\n",
            "Nearest to they: you, palestinians, theirs, cubans,\n",
            "Nearest to they: you, palestinians, theirs, cubans, ethiopians,\n",
            "Nearest to they: you, palestinians, theirs, cubans, ethiopians, horses,\n",
            "Nearest to they: you, palestinians, theirs, cubans, ethiopians, horses, we,\n",
            "Nearest to they: you, palestinians, theirs, cubans, ethiopians, horses, we, humans,\n",
            "Nearest to for: intents,\n",
            "Nearest to for: intents, devoted,\n",
            "Nearest to for: intents, devoted, sustenance,\n",
            "Nearest to for: intents, devoted, sustenance, freight,\n",
            "Nearest to for: intents, devoted, sustenance, freight, complete,\n",
            "Nearest to for: intents, devoted, sustenance, freight, complete, unpaid,\n",
            "Nearest to for: intents, devoted, sustenance, freight, complete, unpaid, alone,\n",
            "Nearest to for: intents, devoted, sustenance, freight, complete, unpaid, alone, scheduling,\n",
            "Nearest to known: remembered,\n",
            "Nearest to known: remembered, referred,\n",
            "Nearest to known: remembered, referred, termed,\n",
            "Nearest to known: remembered, referred, termed, practiced,\n",
            "Nearest to known: remembered, referred, termed, practiced, regarded,\n",
            "Nearest to known: remembered, referred, termed, practiced, regarded, described,\n",
            "Nearest to known: remembered, referred, termed, practiced, regarded, described, recognized,\n",
            "Nearest to known: remembered, referred, termed, practiced, regarded, described, recognized, defined,\n",
            "Nearest to also: additionally,\n",
            "Nearest to also: additionally, metastability,\n",
            "Nearest to also: additionally, metastability, initially,\n",
            "Nearest to also: additionally, metastability, initially, fasttrack,\n",
            "Nearest to also: additionally, metastability, initially, fasttrack, nonetheless,\n",
            "Nearest to also: additionally, metastability, initially, fasttrack, nonetheless, actually,\n",
            "Nearest to also: additionally, metastability, initially, fasttrack, nonetheless, actually, episcopal,\n",
            "Nearest to also: additionally, metastability, initially, fasttrack, nonetheless, actually, episcopal, haskalah,\n"
          ],
          "name": "stdout"
        }
      ]
    },
    {
      "cell_type": "markdown",
      "metadata": {
        "id": "HwK-miBK4IsE",
        "colab_type": "text"
      },
      "source": [
        "## Training word2vec on hyperlinks dataset\n",
        "\n",
        "### Mount Google Drive"
      ]
    },
    {
      "cell_type": "code",
      "metadata": {
        "id": "INLdZzKRYf99",
        "colab_type": "code",
        "outputId": "ca50d052-a315-4b4b-ac45-f27a4d10de0a",
        "colab": {
          "base_uri": "https://localhost:8080/",
          "height": 118
        }
      },
      "source": [
        "from google.colab import drive\n",
        "drive.mount('/content/gdrive/', force_remount=True)"
      ],
      "execution_count": 0,
      "outputs": [
        {
          "output_type": "stream",
          "text": [
            "Go to this URL in a browser: https://accounts.google.com/o/oauth2/auth?client_id=947318989803-6bn6qk8qdgf4n4g3pfee6491hc0brc4i.apps.googleusercontent.com&redirect_uri=urn%3Aietf%3Awg%3Aoauth%3A2.0%3Aoob&scope=email%20https%3A%2F%2Fwww.googleapis.com%2Fauth%2Fdocs.test%20https%3A%2F%2Fwww.googleapis.com%2Fauth%2Fdrive%20https%3A%2F%2Fwww.googleapis.com%2Fauth%2Fdrive.photos.readonly%20https%3A%2F%2Fwww.googleapis.com%2Fauth%2Fpeopleapi.readonly&response_type=code\n",
            "\n",
            "Enter your authorization code:\n",
            "··········\n",
            "Mounted at /content/gdrive/\n"
          ],
          "name": "stdout"
        }
      ]
    },
    {
      "cell_type": "code",
      "metadata": {
        "id": "V_RAdpxVYtVb",
        "colab_type": "code",
        "colab": {}
      },
      "source": [
        "# read the final corpus\n",
        "\n",
        "final_corpus = open('gdrive/My Drive/corpus_final.pickle', 'rb')\n",
        "final_corpus = pickle.load(final_corpus) # contains list of words for each url"
      ],
      "execution_count": 0,
      "outputs": []
    },
    {
      "cell_type": "code",
      "metadata": {
        "id": "mH2ZsxanZAh0",
        "colab_type": "code",
        "outputId": "24c3f067-0fc2-4da7-ada9-c730c5a3b7cf",
        "colab": {
          "base_uri": "https://localhost:8080/",
          "height": 70
        }
      },
      "source": [
        "print (len(final_corpus))\n",
        "\n",
        "print (final_corpus[0])"
      ],
      "execution_count": 0,
      "outputs": [
        {
          "output_type": "stream",
          "text": [
            "21058\n",
            "['hi', 'today', 'want', 'share', 'everyone', 'famous', 'creation', 'walt', 'disney', 'concert', 'hall', 'located', 'los', 'angeles', 'california', 'serves', 'ho', 'Los Angeles Philharmonic', 'orchestra', 'los', 'angeles', 'master', 'chorale', 'creation', 'began', 'lilian', 'disney', 'made', 'gift', 'fifty', 'million', 'dollars', 'order', 'build', 'performance', 'venue', 'gift', 'people', 'los', 'angeles', 'tribute', 'walt', 'disney', 'devotion', 'arts', 'city', 'took', 'sixteen', 'years', 'complete', 'project', 'beginning', 'design', 'launch', 'construction', 'start', 'finally', 'inauguration', 'mass', 'coordination', 'experts', 'laborers', 'architects', 'creation', 'acoustic', 'theatre', 'made', 'possible', 'los', 'angeles', 'philharmonic', 'los', 'angeles', 'philharmonic', 'la', 'phil', 'lap', 'american', 'orchestra', 'based', 'los', 'angeles', 'california', 'regular', 'season', 'concerts', 'october', 'june', 'walt', 'disney', 'concert', 'hall', 'summer', 'season', 'hollywood', 'bowl', 'july', 'september', 'gustavo', 'dudamel', 'music', 'director', 'esapekka', 'salonen', 'conductor', 'laureate', 'zubin', 'mehta', 'conductor', 'emeritus', 'music', 'critics', 'described', 'orchestra', 'contemporary', 'minded', 'forward', 'thinking', 'talked', 'innovative', 'venturesome', 'specialtoken', 'specialtoken', 'specialtoken', 'specialtoken', 'specialtoken', 'specialtoken', 'specialtoken', 'specialtoken', 'specialtoken', 'specialtoken', 'specialtoken', 'specialtoken', 'specialtoken', 'specialtoken', 'specialtoken', 'specialtoken', 'specialtoken', 'specialtoken', 'specialtoken', 'specialtoken']\n"
          ],
          "name": "stdout"
        }
      ]
    },
    {
      "cell_type": "markdown",
      "metadata": {
        "id": "PRhwWHYa4uBA",
        "colab_type": "text"
      },
      "source": [
        "### Train word2vec"
      ]
    },
    {
      "cell_type": "code",
      "metadata": {
        "id": "p9UTUI55bggR",
        "colab_type": "code",
        "colab": {}
      },
      "source": [
        "logging.basicConfig(format='%(asctime)s : %(levelname)s : %(message)s', level=logging.INFO)\n",
        "\n",
        "# window size : 10 as we do not want hyperlink overlapping\n",
        "model = word2vec.Word2Vec(sentences=final_corpus, size=300, window = 10, min_count = 5, iter=10)"
      ],
      "execution_count": 0,
      "outputs": []
    },
    {
      "cell_type": "code",
      "metadata": {
        "id": "GsGvRHdUdI6X",
        "colab_type": "code",
        "outputId": "021440ab-1035-4ea5-a461-47bf76738b73",
        "colab": {
          "base_uri": "https://localhost:8080/",
          "height": 50
        }
      },
      "source": [
        "# get the most common words\n",
        "print(model.wv.index2word[0], model.wv.index2word[1], model.wv.index2word[2])\n",
        "print (len(model.wv.index2word))"
      ],
      "execution_count": 0,
      "outputs": [
        {
          "output_type": "stream",
          "text": [
            "specialtoken first also\n",
            "38435\n"
          ],
          "name": "stdout"
        }
      ]
    },
    {
      "cell_type": "code",
      "metadata": {
        "id": "qgWZo1gDt5aE",
        "colab_type": "code",
        "outputId": "dc847a90-98c1-430f-b871-e70bd9cebd5a",
        "colab": {
          "base_uri": "https://localhost:8080/",
          "height": 33
        }
      },
      "source": [
        "print (model.wv['los'].shape)"
      ],
      "execution_count": 0,
      "outputs": [
        {
          "output_type": "stream",
          "text": [
            "(300,)\n"
          ],
          "name": "stdout"
        }
      ]
    },
    {
      "cell_type": "code",
      "metadata": {
        "id": "6DWcIUfxuCDa",
        "colab_type": "code",
        "outputId": "ac25b4e5-dde8-47f2-ee29-21172e987420",
        "colab": {
          "base_uri": "https://localhost:8080/",
          "height": 50
        }
      },
      "source": [
        "# get the least common words\n",
        "vocab_size = len(model.wv.vocab)\n",
        "\n",
        "print (\"Vocab size:\", vocab_size)\n",
        "\n",
        "print (model.wv.index2word[vocab_size-1], model.wv.index2word[vocab_size-2], model.wv.index2word[vocab_size-3])"
      ],
      "execution_count": 0,
      "outputs": [
        {
          "output_type": "stream",
          "text": [
            "Vocab size: 38435\n",
            "aperitifs trotters periwinkles\n"
          ],
          "name": "stdout"
        }
      ]
    },
    {
      "cell_type": "code",
      "metadata": {
        "id": "F2ZxzQ4KuDWj",
        "colab_type": "code",
        "outputId": "688e9a75-6e5c-411d-e6ea-20b8dc095497",
        "colab": {
          "base_uri": "https://localhost:8080/",
          "height": 86
        }
      },
      "source": [
        "# some similarity fun\n",
        "print (model.wv.similarity('woman', 'man'), model.wv.similarity('man', 'elephant'))"
      ],
      "execution_count": 0,
      "outputs": [
        {
          "output_type": "stream",
          "text": [
            "0.56891394 0.22441162\n"
          ],
          "name": "stdout"
        },
        {
          "output_type": "stream",
          "text": [
            "/usr/local/lib/python3.6/dist-packages/gensim/matutils.py:737: FutureWarning: Conversion of the second argument of issubdtype from `int` to `np.signedinteger` is deprecated. In future, it will be treated as `np.int64 == np.dtype(int).type`.\n",
            "  if np.issubdtype(vec.dtype, np.int):\n"
          ],
          "name": "stderr"
        }
      ]
    },
    {
      "cell_type": "code",
      "metadata": {
        "id": "mKIUX3qCuKxL",
        "colab_type": "code",
        "outputId": "415a5b8f-1d21-46fa-a92d-16ec7a1fe09a",
        "colab": {
          "base_uri": "https://localhost:8080/",
          "height": 118
        }
      },
      "source": [
        "model.wv.doesnt_match([\"england\", \"india\", \"zebra\", \"zimbabwe\"])"
      ],
      "execution_count": 0,
      "outputs": [
        {
          "output_type": "stream",
          "text": [
            "/usr/local/lib/python3.6/dist-packages/gensim/models/keyedvectors.py:895: FutureWarning: arrays to stack must be passed as a \"sequence\" type such as list or tuple. Support for non-sequence iterables such as generators is deprecated as of NumPy 1.16 and will raise an error in the future.\n",
            "  vectors = vstack(self.word_vec(word, use_norm=True) for word in used_words).astype(REAL)\n",
            "/usr/local/lib/python3.6/dist-packages/gensim/matutils.py:737: FutureWarning: Conversion of the second argument of issubdtype from `int` to `np.signedinteger` is deprecated. In future, it will be treated as `np.int64 == np.dtype(int).type`.\n",
            "  if np.issubdtype(vec.dtype, np.int):\n"
          ],
          "name": "stderr"
        },
        {
          "output_type": "execute_result",
          "data": {
            "text/plain": [
              "'zebra'"
            ]
          },
          "metadata": {
            "tags": []
          },
          "execution_count": 25
        }
      ]
    },
    {
      "cell_type": "code",
      "metadata": {
        "id": "nh-Nll9RupAj",
        "colab_type": "code",
        "outputId": "d8b58fa8-8aa7-404b-a84d-30c1689f9627",
        "colab": {
          "base_uri": "https://localhost:8080/",
          "height": 183
        }
      },
      "source": [
        "print (model.wv.most_similar(positive=['happy'], topn=5))\n",
        "print (model.wv.most_similar(positive=['india'], topn=5))\n",
        "print (model.wv.most_similar(positive=['mumbai'], topn=5))\n",
        "print (model.wv.most_similar(positive=['england'], topn=5))\n",
        "print (model.wv.most_similar(positive=['obama'], topn=5))\n",
        "print (model.wv.most_similar(positive=['football'], topn=5))\n",
        "print (model.wv.most_similar(positive=['google'], topn=5))"
      ],
      "execution_count": 0,
      "outputs": [
        {
          "output_type": "stream",
          "text": [
            "[('glad', 0.6442642211914062), ('alive', 0.6190614700317383), ('joy', 0.6157110929489136), ('funny', 0.6091225147247314), ('smile', 0.604058027267456)]\n",
            "[('indian', 0.6682537794113159), ('India', 0.6019155979156494), ('jammu', 0.5636911988258362), ('maharashtra', 0.5604825019836426), ('hindustan', 0.5522967576980591)]\n",
            "[('kolkata', 0.8223788738250732), ('hyderabad', 0.8160845637321472), ('madras', 0.7137566208839417), ('chennai', 0.7048352956771851), ('pune', 0.7032150030136108)]\n",
            "[('wales', 0.6627770066261292), ('essex', 0.6146817803382874), ('scotland', 0.5287102460861206), ('yorkshire', 0.5273866057395935), ('london', 0.5206950902938843)]\n",
            "[('barack', 0.7266415357589722), ('romney', 0.6231708526611328), ('sinclair', 0.6106960773468018), ('President Obama', 0.5970177054405212), ('Barack Obama', 0.5760226249694824)]\n",
            "[('basketball', 0.7027027606964111), ('uefa', 0.6789053678512573), ('coach', 0.674741804599762), ('hockey', 0.6677508354187012), ('soccer', 0.6626197099685669)]\n",
            "[('youtube', 0.6698924899101257), ('blogs', 0.6211618781089783), ('doubleclick', 0.6106237173080444), ('facebook', 0.6105144023895264), ('internet', 0.6089140176773071)]\n"
          ],
          "name": "stdout"
        },
        {
          "output_type": "stream",
          "text": [
            "/usr/local/lib/python3.6/dist-packages/gensim/matutils.py:737: FutureWarning: Conversion of the second argument of issubdtype from `int` to `np.signedinteger` is deprecated. In future, it will be treated as `np.int64 == np.dtype(int).type`.\n",
            "  if np.issubdtype(vec.dtype, np.int):\n"
          ],
          "name": "stderr"
        }
      ]
    },
    {
      "cell_type": "code",
      "metadata": {
        "id": "94GlQn5Ey9UX",
        "colab_type": "code",
        "outputId": "519c018d-ec1d-47b4-fc22-3b42aafdc79b",
        "colab": {
          "base_uri": "https://localhost:8080/",
          "height": 70
        }
      },
      "source": [
        "model.save(\"./gdrive/My Drive/word2vec_own_corpus\")"
      ],
      "execution_count": 0,
      "outputs": [
        {
          "output_type": "stream",
          "text": [
            "/usr/local/lib/python3.6/dist-packages/smart_open/smart_open_lib.py:398: UserWarning: This function is deprecated, use smart_open.open instead. See the migration notes for details: https://github.com/RaRe-Technologies/smart_open/blob/master/README.rst#migrating-to-the-new-open-function\n",
            "  'See the migration notes for details: %s' % _MIGRATION_NOTES_URL\n"
          ],
          "name": "stderr"
        }
      ]
    },
    {
      "cell_type": "code",
      "metadata": {
        "id": "UqlkoRC30rNp",
        "colab_type": "code",
        "colab": {}
      },
      "source": [
        "del model"
      ],
      "execution_count": 0,
      "outputs": []
    },
    {
      "cell_type": "code",
      "metadata": {
        "id": "tR6kjOa80vdo",
        "colab_type": "code",
        "outputId": "d06a814b-214a-4df1-f01c-291baa6f713a",
        "colab": {
          "base_uri": "https://localhost:8080/",
          "height": 70
        }
      },
      "source": [
        "model = word2vec.Word2Vec.load('./gdrive/My Drive/word2vec_own_corpus')"
      ],
      "execution_count": 0,
      "outputs": [
        {
          "output_type": "stream",
          "text": [
            "/usr/local/lib/python3.6/dist-packages/smart_open/smart_open_lib.py:398: UserWarning: This function is deprecated, use smart_open.open instead. See the migration notes for details: https://github.com/RaRe-Technologies/smart_open/blob/master/README.rst#migrating-to-the-new-open-function\n",
            "  'See the migration notes for details: %s' % _MIGRATION_NOTES_URL\n"
          ],
          "name": "stderr"
        }
      ]
    },
    {
      "cell_type": "markdown",
      "metadata": {
        "id": "pgveh2AA5VBT",
        "colab_type": "text"
      },
      "source": [
        "### WMD Distance test"
      ]
    },
    {
      "cell_type": "code",
      "metadata": {
        "id": "EPYR0XaZ3g__",
        "colab_type": "code",
        "colab": {}
      },
      "source": [
        "# read test corpus\n",
        "\n",
        "\n",
        "final_corpus_source = open('gdrive/My Drive/final_corpus_source.pickle', 'rb')\n",
        "final_corpus_source = pickle.load(final_corpus_source) \n",
        "\n",
        "final_corpus_target = open('gdrive/My Drive/final_corpus_target.pickle', 'rb')\n",
        "final_corpus_target = pickle.load(final_corpus_target) \n",
        "\n",
        "final_corpus_link = open('gdrive/My Drive/final_corpus_link.pickle', 'rb')\n",
        "final_corpus_link = pickle.load(final_corpus_link) "
      ],
      "execution_count": 0,
      "outputs": []
    },
    {
      "cell_type": "markdown",
      "metadata": {
        "id": "0HONxoH79yg_",
        "colab_type": "text"
      },
      "source": [
        ""
      ]
    },
    {
      "cell_type": "code",
      "metadata": {
        "id": "Np6Qp77K1Pri",
        "colab_type": "code",
        "outputId": "07a72285-0817-4ca7-f293-3ecfd6b77262",
        "colab": {
          "base_uri": "https://localhost:8080/",
          "height": 33
        }
      },
      "source": [
        "print (len(final_corpus_source), len(final_corpus_link), len(final_corpus_target))"
      ],
      "execution_count": 0,
      "outputs": [
        {
          "output_type": "stream",
          "text": [
            "502 502 502\n"
          ],
          "name": "stdout"
        }
      ]
    },
    {
      "cell_type": "code",
      "metadata": {
        "id": "o7Q7FVdz-SHw",
        "colab_type": "code",
        "outputId": "efd1f078-6f3e-4008-c051-5575b8f481b7",
        "colab": {
          "base_uri": "https://localhost:8080/",
          "height": 86
        }
      },
      "source": [
        "print (final_corpus_source[0])\n",
        "\n",
        "print (final_corpus_link[0])\n",
        "\n",
        "print (final_corpus_target[1])"
      ],
      "execution_count": 0,
      "outputs": [
        {
          "output_type": "stream",
          "text": [
            "['funmi', 'suffering', 'malignant', 'sarcomaaccording', 'findings', 'sarcoma', 'greek', 'sarx', 'σάρκα', 'meaning', 'flesh', 'cancer', 'arises', 'transformed', 'cells', 'mesenchymal', 'origin', 'thus', 'malignant', 'tumors', 'made', 'cancerous', 'bone', 'cartilage', 'fat', 'muscle', 'vascular', 'hematopoietic', 'tissues', 'definition', 'considered', 'sarcomas', 'contrast', 'malignant', 'tumor', 'originating', 'epithelial', 'cells', 'termed', 'carcinoma', 'sarcomas', 'quite', 'rare', 'common', 'malignancies', 'breast', 'colon', 'lung', 'cancer', 'almost', 'always', 'carcinoma']\n",
            "['cancer']\n",
            "['malignancy', 'malignancy', 'latin', 'male', 'meaning', 'badly', 'gnus', 'meaning', 'born', 'tendency', 'medical', 'condition', 'become', 'progressively', 'worse', 'malignancy', 'familiar', 'characterization', 'cancer', 'malignant', 'tumor', 'contrasts', 'noncancerous', 'benign', 'tumor', 'malignancy', 'selflimited', 'growth', 'capable', 'invading', 'adjacent', 'tissues', 'may', 'capable', 'spreading', 'distant', 'tissues', 'benign', 'tumor', 'none', 'properties', 'malignancy', 'cancers', 'characterized', 'anaplasia', 'invasiveness', 'metastasis', 'malignant', 'tumors', 'also', 'characterized']\n"
          ],
          "name": "stdout"
        }
      ]
    },
    {
      "cell_type": "code",
      "metadata": {
        "id": "Q4svTwIy-dL3",
        "colab_type": "code",
        "outputId": "56285a42-7b00-4576-ba98-67d674e53883",
        "colab": {
          "base_uri": "https://localhost:8080/",
          "height": 66
        }
      },
      "source": [
        "# Import and download stopwords from NLTK.\n",
        "from nltk.corpus import stopwords\n",
        "from nltk import download\n",
        "\n",
        "download('stopwords') # Download stopwords list."
      ],
      "execution_count": 0,
      "outputs": [
        {
          "output_type": "stream",
          "text": [
            "[nltk_data] Downloading package stopwords to /root/nltk_data...\n",
            "[nltk_data]   Unzipping corpora/stopwords.zip.\n"
          ],
          "name": "stdout"
        },
        {
          "output_type": "execute_result",
          "data": {
            "text/plain": [
              "True"
            ]
          },
          "metadata": {
            "tags": []
          },
          "execution_count": 12
        }
      ]
    },
    {
      "cell_type": "code",
      "metadata": {
        "id": "gapwbVdf-iyv",
        "colab_type": "code",
        "colab": {}
      },
      "source": [
        "stopwords = stopwords.words('english')\n"
      ],
      "execution_count": 0,
      "outputs": []
    },
    {
      "cell_type": "code",
      "metadata": {
        "id": "Vx0_6Yfb_vRO",
        "colab_type": "code",
        "outputId": "61a7cd06-f96d-4357-efae-76064ba53d49",
        "colab": {
          "base_uri": "https://localhost:8080/",
          "height": 33
        }
      },
      "source": [
        "# Normalizing word2vec vectors.\n",
        "start = time()\n",
        "\n",
        "model.init_sims(replace=True)  # Normalizes the vectors in the word2vec class.\n",
        "print ('Cell took %.2f seconds to run.' %(time() - start))\n"
      ],
      "execution_count": 0,
      "outputs": [
        {
          "output_type": "stream",
          "text": [
            "Cell took 0.30 seconds to run.\n"
          ],
          "name": "stdout"
        }
      ]
    },
    {
      "cell_type": "code",
      "metadata": {
        "id": "CLPb0IlR_QAx",
        "colab_type": "code",
        "outputId": "0bc52af1-45d3-4e67-f256-70cc6ab9749f",
        "colab": {
          "base_uri": "https://localhost:8080/",
          "height": 86
        }
      },
      "source": [
        "distance = model.wmdistance(final_corpus_source[0], final_corpus_target[2])\n",
        "\n",
        "print (distance)"
      ],
      "execution_count": 0,
      "outputs": [
        {
          "output_type": "stream",
          "text": [
            "1.0833837131321475\n"
          ],
          "name": "stdout"
        },
        {
          "output_type": "stream",
          "text": [
            "/usr/local/lib/python3.6/dist-packages/ipykernel_launcher.py:1: DeprecationWarning: Call to deprecated `wmdistance` (Method will be removed in 4.0.0, use self.wv.wmdistance() instead).\n",
            "  \"\"\"Entry point for launching an IPython kernel.\n"
          ],
          "name": "stderr"
        }
      ]
    },
    {
      "cell_type": "code",
      "metadata": {
        "id": "h476eO56En5y",
        "colab_type": "code",
        "outputId": "42719918-2c69-4451-9de6-0b19c982ecb2",
        "colab": {
          "base_uri": "https://localhost:8080/",
          "height": 135
        }
      },
      "source": [
        "model_distances_self = []\n",
        "for x in range(len(final_corpus_source)):\n",
        "  distance = model.wmdistance(final_corpus_source[x], final_corpus_target[x])\n",
        "  if distance > 2:\n",
        "    print (\"skip\")\n",
        "    continue\n",
        "  model_distances_self.append(distance)"
      ],
      "execution_count": 0,
      "outputs": [
        {
          "output_type": "stream",
          "text": [
            "/usr/local/lib/python3.6/dist-packages/ipykernel_launcher.py:3: DeprecationWarning: Call to deprecated `wmdistance` (Method will be removed in 4.0.0, use self.wv.wmdistance() instead).\n",
            "  This is separate from the ipykernel package so we can avoid doing imports until\n"
          ],
          "name": "stderr"
        },
        {
          "output_type": "stream",
          "text": [
            "skip\n",
            "skip\n",
            "skip\n",
            "skip\n"
          ],
          "name": "stdout"
        }
      ]
    },
    {
      "cell_type": "code",
      "metadata": {
        "id": "1d2eLXXLFMkU",
        "colab_type": "code",
        "outputId": "657f1eb8-6e6e-4f11-ca44-d14ceeba7bb0",
        "colab": {
          "base_uri": "https://localhost:8080/",
          "height": 163
        }
      },
      "source": [
        "pprint(' '.join(final_corpus_source[0]))\n",
        "\n",
        "pprint(' '.join(final_corpus_source[87]))"
      ],
      "execution_count": 0,
      "outputs": [
        {
          "output_type": "stream",
          "text": [
            "('funmi suffering malignant sarcomaaccording findings sarcoma greek sarx σάρκα '\n",
            " 'meaning flesh cancer arises transformed cells mesenchymal origin thus '\n",
            " 'malignant tumors made cancerous bone cartilage fat muscle vascular '\n",
            " 'hematopoietic tissues definition considered sarcomas contrast malignant '\n",
            " 'tumor originating epithelial cells termed carcinoma sarcomas quite rare '\n",
            " 'common malignancies breast colon lung cancer almost always carcinoma')\n",
            "('went back watch another science show taught us hydrogen peroxide Potassium '\n",
            " 'Iodide liquid nitrogen completed journey going pathways science learn '\n",
            " 'astronomy simple machines many wonderspark learnt water light air')\n"
          ],
          "name": "stdout"
        }
      ]
    },
    {
      "cell_type": "markdown",
      "metadata": {
        "id": "heRgdeO6CalG",
        "colab_type": "text"
      },
      "source": [
        "## Google news based word2vec\n",
        "\n"
      ]
    },
    {
      "cell_type": "code",
      "metadata": {
        "id": "JDqHXN0lCgnw",
        "colab_type": "code",
        "outputId": "c80bf02d-c1d2-4552-ecef-1d2bb47711cb",
        "colab": {
          "base_uri": "https://localhost:8080/",
          "height": 196
        }
      },
      "source": [
        "!wget -c \"https://s3.amazonaws.com/dl4j-distribution/GoogleNews-vectors-negative300.bin.gz\""
      ],
      "execution_count": 0,
      "outputs": [
        {
          "output_type": "stream",
          "text": [
            "--2019-09-03 16:51:47--  https://s3.amazonaws.com/dl4j-distribution/GoogleNews-vectors-negative300.bin.gz\n",
            "Resolving s3.amazonaws.com (s3.amazonaws.com)... 52.217.36.78\n",
            "Connecting to s3.amazonaws.com (s3.amazonaws.com)|52.217.36.78|:443... connected.\n",
            "HTTP request sent, awaiting response... 200 OK\n",
            "Length: 1647046227 (1.5G) [application/x-gzip]\n",
            "Saving to: ‘GoogleNews-vectors-negative300.bin.gz’\n",
            "\n",
            "GoogleNews-vectors- 100%[===================>]   1.53G  14.1MB/s    in 1m 56s  \n",
            "\n",
            "2019-09-03 16:53:43 (13.6 MB/s) - ‘GoogleNews-vectors-negative300.bin.gz’ saved [1647046227/1647046227]\n",
            "\n"
          ],
          "name": "stdout"
        }
      ]
    },
    {
      "cell_type": "code",
      "metadata": {
        "id": "497BPLZQChJ1",
        "colab_type": "code",
        "outputId": "68bede42-bc13-4d52-de23-3f96b8832c56",
        "colab": {
          "base_uri": "https://localhost:8080/",
          "height": 70
        }
      },
      "source": [
        "google_model = gensim.models.KeyedVectors.load_word2vec_format(fname='./GoogleNews-vectors-negative300.bin.gz', binary=True)\n"
      ],
      "execution_count": 0,
      "outputs": [
        {
          "output_type": "stream",
          "text": [
            "/usr/local/lib/python3.6/dist-packages/smart_open/smart_open_lib.py:398: UserWarning: This function is deprecated, use smart_open.open instead. See the migration notes for details: https://github.com/RaRe-Technologies/smart_open/blob/master/README.rst#migrating-to-the-new-open-function\n",
            "  'See the migration notes for details: %s' % _MIGRATION_NOTES_URL\n"
          ],
          "name": "stderr"
        }
      ]
    },
    {
      "cell_type": "code",
      "metadata": {
        "id": "G9MlYOvgECv3",
        "colab_type": "code",
        "outputId": "fffa0f20-f3fa-4496-e721-a2bab754754c",
        "colab": {
          "base_uri": "https://localhost:8080/",
          "height": 33
        }
      },
      "source": [
        "# Normalizing word2vec vectors.\n",
        "start = time()\n",
        "\n",
        "google_model.init_sims(replace=True)  # Normalizes the vectors in the word2vec class.\n",
        "print ('Cell took %.2f seconds to run.' %(time() - start))\n"
      ],
      "execution_count": 0,
      "outputs": [
        {
          "output_type": "stream",
          "text": [
            "Cell took 21.56 seconds to run.\n"
          ],
          "name": "stdout"
        }
      ]
    },
    {
      "cell_type": "code",
      "metadata": {
        "id": "9FA4Q_ScDAqE",
        "colab_type": "code",
        "outputId": "a69ed3d7-d420-4901-b366-becd7c6271d6",
        "colab": {
          "base_uri": "https://localhost:8080/",
          "height": 33
        }
      },
      "source": [
        "distance = google_model.wmdistance(final_corpus_source[0], final_corpus_target[2])\n",
        "\n",
        "print (distance)"
      ],
      "execution_count": 0,
      "outputs": [
        {
          "output_type": "stream",
          "text": [
            "1.1420516535773533\n"
          ],
          "name": "stdout"
        }
      ]
    },
    {
      "cell_type": "code",
      "metadata": {
        "id": "T4VIOvEQG-UP",
        "colab_type": "code",
        "outputId": "bffb674d-0667-450c-d341-f2db6c1ff130",
        "colab": {
          "base_uri": "https://localhost:8080/",
          "height": 196
        }
      },
      "source": [
        "for x in range(len(final_corpus_source)):\n",
        "  distance = google_model.wmdistance(final_corpus_source[0], final_corpus_target[x])\n",
        "  if (distance < 1.15) and (x!=0) and final_corpus_link[0]!= final_corpus_link[x]:\n",
        "    print (distance, x)"
      ],
      "execution_count": 0,
      "outputs": [
        {
          "output_type": "stream",
          "text": [
            "0.9326307268131726 1\n",
            "1.1420516535773533 2\n",
            "1.0905177417224465 3\n",
            "1.1470603095137142 4\n",
            "1.1149945186210934 5\n",
            "1.0730522040712427 7\n",
            "0.8657670673111251 8\n",
            "1.057428859419308 9\n",
            "1.0467125515155244 10\n",
            "0.8926764956578249 11\n",
            "1.1489824919497431 295\n"
          ],
          "name": "stdout"
        }
      ]
    },
    {
      "cell_type": "code",
      "metadata": {
        "id": "Ia0iAwjaMiXG",
        "colab_type": "code",
        "outputId": "5a7dfdf7-8ffc-481e-bbf2-5bd70b28fe92",
        "colab": {
          "base_uri": "https://localhost:8080/",
          "height": 98
        }
      },
      "source": [
        "google_model_distances_self = []\n",
        "for x in range(len(final_corpus_source)):\n",
        "  distance = google_model.wmdistance(final_corpus_source[x], final_corpus_target[x])\n",
        "  if distance > 2:\n",
        "    print (\"skip\")\n",
        "    continue\n",
        "  google_model_distances_self.append(distance)"
      ],
      "execution_count": 0,
      "outputs": [
        {
          "output_type": "stream",
          "text": [
            "skip\n",
            "skip\n",
            "skip\n",
            "skip\n",
            "skip\n"
          ],
          "name": "stdout"
        }
      ]
    },
    {
      "cell_type": "code",
      "metadata": {
        "id": "sdfzxYJOMobs",
        "colab_type": "code",
        "outputId": "1d587311-329b-483e-82c7-2037704b033d",
        "colab": {
          "base_uri": "https://localhost:8080/",
          "height": 53
        }
      },
      "source": [
        "print (final_corpus_source[18], final_corpus_target[18])"
      ],
      "execution_count": 0,
      "outputs": [
        {
          "output_type": "stream",
          "text": [
            "['The [retired Col.] doth protest too much, methinks'] ['lady', 'doth', 'protest', 'much', 'methinks', 'lady', 'doth', 'protest', 'much', 'methinks', 'line', 'play', 'hamlet', 'william', 'shakespeare', 'spoken', 'queen', 'gertrude', 'response', 'insincere', 'overacting', 'character', 'play', 'within', 'play', 'created', 'prince', 'hamlet', 'prove', 'uncle', 'guilt', 'murder', 'father', 'king', 'denmark', 'phrase', 'used', 'everyday', 'speech', 'indicate', 'doubt', 'concerning', 'someone', 'sincerity', 'common', 'misquotation', 'places', 'methinks', 'first', 'methinks', 'lady', 'doth', 'protest', 'much', 'line']\n"
          ],
          "name": "stdout"
        }
      ]
    },
    {
      "cell_type": "code",
      "metadata": {
        "id": "VdJqXC9oMxlw",
        "colab_type": "code",
        "outputId": "d8b95b45-78a4-4076-9100-c0205db6c0b5",
        "colab": {
          "base_uri": "https://localhost:8080/",
          "height": 33
        }
      },
      "source": [
        "print (np.mean(model_distances_self), np.mean(google_model_distances_self))"
      ],
      "execution_count": 0,
      "outputs": [
        {
          "output_type": "stream",
          "text": [
            "1.0856121041666031 1.1079963889269253\n"
          ],
          "name": "stdout"
        }
      ]
    },
    {
      "cell_type": "code",
      "metadata": {
        "id": "MwMXg_EUTwGR",
        "colab_type": "code",
        "colab": {}
      },
      "source": [
        "random_list = np.random.randint(low=0, high=len(final_corpus_source), size=20)\n"
      ],
      "execution_count": 0,
      "outputs": []
    },
    {
      "cell_type": "code",
      "metadata": {
        "id": "9SnVVyVpPl29",
        "colab_type": "code",
        "colab": {}
      },
      "source": [
        "google_model_distances_others = []\n",
        "\n",
        "for x in random_list:\n",
        "  for y in range(len(final_corpus_source)):\n",
        "    if x==y:\n",
        "      continue\n",
        "    else:\n",
        "      distance = google_model.wmdistance(final_corpus_source[x], final_corpus_target[y])\n",
        "      if distance > 2:\n",
        "        print (\"skip\")\n",
        "        continue\n",
        "      google_model_distances_others.append(distance)"
      ],
      "execution_count": 0,
      "outputs": []
    },
    {
      "cell_type": "code",
      "metadata": {
        "id": "IF9pd405S8CH",
        "colab_type": "code",
        "colab": {}
      },
      "source": [
        "model_distances_others = []\n",
        "\n",
        "for x in random_list:\n",
        "  for y in range(len(final_corpus_source)):\n",
        "    if x==y:\n",
        "      continue\n",
        "    else:\n",
        "      distance = model.wmdistance(final_corpus_source[x], final_corpus_target[y])\n",
        "      if distance > 2:\n",
        "        print (\"skip\")\n",
        "        continue\n",
        "      model_distances_others.append(distance)"
      ],
      "execution_count": 0,
      "outputs": []
    },
    {
      "cell_type": "code",
      "metadata": {
        "id": "XM2oYtFQTAGW",
        "colab_type": "code",
        "outputId": "e56f1ebb-fa68-42d3-d286-b5e033c6c354",
        "colab": {
          "base_uri": "https://localhost:8080/",
          "height": 33
        }
      },
      "source": [
        "print (np.mean(model_distances_others), np.mean(google_model_distances_others))"
      ],
      "execution_count": 0,
      "outputs": [
        {
          "output_type": "stream",
          "text": [
            "1.2295431544303874 1.2267399344363303\n"
          ],
          "name": "stdout"
        }
      ]
    },
    {
      "cell_type": "markdown",
      "metadata": {
        "id": "efrpX558bo2i",
        "colab_type": "text"
      },
      "source": [
        "### Evaluating similarity between the source link text and target text/source text\n",
        "\n"
      ]
    },
    {
      "cell_type": "code",
      "metadata": {
        "id": "GknlHAmicWum",
        "colab_type": "code",
        "outputId": "81e9109f-59c5-432c-9bb0-d09c5269d667",
        "colab": {
          "base_uri": "https://localhost:8080/",
          "height": 82
        }
      },
      "source": [
        "from nltk import ngrams\n",
        "\n",
        "text = final_corpus_link[21][0]\n",
        "\n",
        "print (text)\n",
        "\n",
        "grams = ngrams(sequence=text.split(), n=1)\n",
        "\n",
        "for gram in grams:\n",
        "  print(gram)"
      ],
      "execution_count": 0,
      "outputs": [
        {
          "output_type": "stream",
          "text": [
            "John Maynard Keynes\n",
            "('John',)\n",
            "('Maynard',)\n",
            "('Keynes',)\n"
          ],
          "name": "stdout"
        }
      ]
    },
    {
      "cell_type": "code",
      "metadata": {
        "id": "4i-Y0IJdkyT9",
        "colab_type": "code",
        "outputId": "051950a9-0391-49a3-f135-83c456c3028c",
        "colab": {
          "base_uri": "https://localhost:8080/",
          "height": 33
        }
      },
      "source": [
        "sentence = 'this is a foo bar sentences'\n",
        "\n",
        "n = 7\n",
        "sixgrams = ngrams(sentence.split(), n)\n",
        "\n",
        "for grams in sixgrams:\n",
        "  print (grams)\n",
        "\n",
        "\n",
        "print (sixgrams is None)"
      ],
      "execution_count": 0,
      "outputs": [
        {
          "output_type": "stream",
          "text": [
            "False\n"
          ],
          "name": "stdout"
        }
      ]
    },
    {
      "cell_type": "code",
      "metadata": {
        "id": "JD9Py8KSfpvP",
        "colab_type": "code",
        "outputId": "68acf56c-0b6a-485e-f09b-6feedf57a30d",
        "colab": {
          "base_uri": "https://localhost:8080/",
          "height": 33
        }
      },
      "source": [
        "google_model.wmdistance(['hi', 'there', 'asd', 'adds', 'ssd', 'daffa', 'asd', 'adds', 'ssd', 'daffa', 'asd', 'adds', 'ssd', 'daffa', 'asd', 'adds', 'ssd', 'daffa','asd', 'adds', 'ssd', 'daffa', 'asd', 'adds', 'ssd', 'daffa'], ['hi', 'there'])"
      ],
      "execution_count": 0,
      "outputs": [
        {
          "output_type": "execute_result",
          "data": {
            "text/plain": [
              "1.1845182743819533"
            ]
          },
          "metadata": {
            "tags": []
          },
          "execution_count": 144
        }
      ]
    },
    {
      "cell_type": "code",
      "metadata": {
        "id": "Cbg1VqtFcx_4",
        "colab_type": "code",
        "colab": {}
      },
      "source": [
        "google_model_link_to_source_distances = []\n",
        "\n",
        "for x in range(len(final_corpus_link)):\n",
        "  if len(final_corpus_link[2][0].split())>1:\n",
        "    source_link_words = final_corpus_link[x][0].split()\n",
        "    distance = google_model.wmdistance(source_link_words, final_corpus_source[x])\n",
        "    if distance > 2:\n",
        "      print (\"skip\")\n",
        "      continue\n",
        "    if np.isnan(distance):\n",
        "      continue\n",
        "    google_model_link_to_source_distances.append(distance)\n",
        "    \n"
      ],
      "execution_count": 0,
      "outputs": []
    },
    {
      "cell_type": "code",
      "metadata": {
        "id": "mUHRPzd7iWBH",
        "colab_type": "code",
        "colab": {}
      },
      "source": [
        "model_link_to_source_distances = []\n",
        "\n",
        "for x in range(len(final_corpus_link)):\n",
        "  if len(final_corpus_link[2][0].split())>1:\n",
        "    source_link_words = final_corpus_link[x][0].split()\n",
        "    distance = model.wmdistance(source_link_words, final_corpus_source[x])\n",
        "    if distance > 2:\n",
        "      print (\"skip\")\n",
        "      continue\n",
        "    if np.isnan(distance):\n",
        "      continue\n",
        "    model_link_to_source_distances.append(distance)"
      ],
      "execution_count": 0,
      "outputs": []
    },
    {
      "cell_type": "code",
      "metadata": {
        "id": "AX9kBkKzhJt_",
        "colab_type": "code",
        "outputId": "f49d4f1b-4840-424d-a5d1-cec168973c0b",
        "colab": {
          "base_uri": "https://localhost:8080/",
          "height": 98
        }
      },
      "source": [
        "print (np.mean(google_model_link_to_source_distances), np.mean(model_link_to_source_distances))"
      ],
      "execution_count": 0,
      "outputs": [
        {
          "output_type": "stream",
          "text": [
            "nan nan\n"
          ],
          "name": "stdout"
        },
        {
          "output_type": "stream",
          "text": [
            "/usr/local/lib/python3.6/dist-packages/numpy/core/fromnumeric.py:3118: RuntimeWarning: Mean of empty slice.\n",
            "  out=out, **kwargs)\n",
            "/usr/local/lib/python3.6/dist-packages/numpy/core/_methods.py:85: RuntimeWarning: invalid value encountered in double_scalars\n",
            "  ret = ret.dtype.type(ret / rcount)\n"
          ],
          "name": "stderr"
        }
      ]
    },
    {
      "cell_type": "code",
      "metadata": {
        "id": "w0gsA39DuRCk",
        "colab_type": "code",
        "colab": {}
      },
      "source": [
        "google_model.wv['Serge']"
      ],
      "execution_count": 0,
      "outputs": []
    },
    {
      "cell_type": "code",
      "metadata": {
        "id": "9kr-yksxrv_V",
        "colab_type": "code",
        "outputId": "14f76028-00bc-4d2c-d655-01c32b7aac6f",
        "colab": {
          "base_uri": "https://localhost:8080/",
          "height": 86
        }
      },
      "source": [
        "model.wmdistance(['Serge', 'A.', 'Storms'], ('Serge', 'A.', 'Storms'))"
      ],
      "execution_count": 0,
      "outputs": [
        {
          "output_type": "stream",
          "text": [
            "/usr/local/lib/python3.6/dist-packages/ipykernel_launcher.py:1: DeprecationWarning: Call to deprecated `wmdistance` (Method will be removed in 4.0.0, use self.wv.wmdistance() instead).\n",
            "  \"\"\"Entry point for launching an IPython kernel.\n"
          ],
          "name": "stderr"
        },
        {
          "output_type": "execute_result",
          "data": {
            "text/plain": [
              "inf"
            ]
          },
          "metadata": {
            "tags": []
          },
          "execution_count": 190
        }
      ]
    },
    {
      "cell_type": "code",
      "metadata": {
        "id": "ZRnZ2OUesKV0",
        "colab_type": "code",
        "outputId": "1c77eb16-3a9c-4375-8dbb-461f4a597cdb",
        "colab": {
          "base_uri": "https://localhost:8080/",
          "height": 33
        }
      },
      "source": [
        "def processList (myList):\n",
        "  final = []\n",
        "  for words in myList:\n",
        "    words = words.split()\n",
        "    for word in words:\n",
        "      final.append(word)\n",
        "  return final\n",
        "myList = ('named', 'Serge A. Storms ', 'loose')\n",
        "\n",
        "processList(myList)"
      ],
      "execution_count": 0,
      "outputs": [
        {
          "output_type": "execute_result",
          "data": {
            "text/plain": [
              "['named', 'Serge', 'A.', 'Storms', 'loose']"
            ]
          },
          "metadata": {
            "tags": []
          },
          "execution_count": 186
        }
      ]
    },
    {
      "cell_type": "code",
      "metadata": {
        "id": "Q8hTRRm0jLs0",
        "colab_type": "code",
        "outputId": "d3d319c2-1ed4-45da-db0f-f823a5310a1a",
        "colab": {
          "base_uri": "https://localhost:8080/",
          "height": 53
        }
      },
      "source": [
        "model_link_to_source_distances = []\n",
        "\n",
        "for x in range(len(final_corpus_link)):\n",
        "  # if length of link text > 2\n",
        "  if len(final_corpus_link[x][0].split())>2:\n",
        "    # split the link text into words\n",
        "    source_link_words = final_corpus_link[x][0].split()\n",
        "    source_link_words = processList(source_link_words)\n",
        "    #print (\"Source Link......................\")\n",
        "    #print (source_link_words)\n",
        "    #print (\"Source text......................\")\n",
        "    final_corpus_source[x] = processList(final_corpus_source[x])\n",
        "    #print (final_corpus_source[x])\n",
        "    n = len(source_link_words)\n",
        "    source_text_ngrams = ngrams(final_corpus_source[x], n)\n",
        "    \n",
        "    min_dist = np.inf\n",
        "    #print (\"N grams......................\")\n",
        "\n",
        "    for source_text_gram in source_text_ngrams:\n",
        "      # compute distance\n",
        "      #print (source_text_gram)\n",
        "      distance = model.wmdistance(source_link_words, list(source_text_gram))\n",
        "      #print (distance)\n",
        "      if distance < min_dist:\n",
        "        min_dist = distance\n",
        "    #print (\"Min dist:\", min_dist)\n",
        "    if min_dist > 2:\n",
        "      continue\n",
        "    model_link_to_source_distances.append(min_dist)"
      ],
      "execution_count": 0,
      "outputs": [
        {
          "output_type": "stream",
          "text": [
            "/usr/local/lib/python3.6/dist-packages/ipykernel_launcher.py:23: DeprecationWarning: Call to deprecated `wmdistance` (Method will be removed in 4.0.0, use self.wv.wmdistance() instead).\n"
          ],
          "name": "stderr"
        }
      ]
    },
    {
      "cell_type": "code",
      "metadata": {
        "id": "K6x3VNqTwL4a",
        "colab_type": "code",
        "colab": {}
      },
      "source": [
        "google_model_link_to_source_distances = []\n",
        "\n",
        "for x in range(len(final_corpus_link)):\n",
        "  # if length of link text > 2\n",
        "  if len(final_corpus_link[x][0].split())>2:\n",
        "    # split the link text into words\n",
        "    source_link_words = final_corpus_link[x][0].split()\n",
        "    source_link_words = processList(source_link_words)\n",
        "    #print (\"Source Link......................\")\n",
        "    #print (source_link_words)\n",
        "    #print (\"Source text......................\")\n",
        "    final_corpus_source[x] = processList(final_corpus_source[x])\n",
        "    #print (final_corpus_source[x])\n",
        "    n = len(source_link_words)\n",
        "    source_text_ngrams = ngrams(final_corpus_source[x], n)\n",
        "    \n",
        "    min_dist = np.inf\n",
        "    #print (\"N grams......................\")\n",
        "\n",
        "    for source_text_gram in source_text_ngrams:\n",
        "      # compute distance\n",
        "      #print (source_text_gram)\n",
        "      distance = google_model.wmdistance(source_link_words, list(source_text_gram))\n",
        "      #print (distance)\n",
        "      if distance < min_dist:\n",
        "        min_dist = distance\n",
        "    #print (\"Min dist:\", min_dist)\n",
        "    if min_dist > 2:\n",
        "      min_dist = 2\n",
        "    google_model_link_to_source_distances.append(min_dist)"
      ],
      "execution_count": 0,
      "outputs": []
    },
    {
      "cell_type": "code",
      "metadata": {
        "id": "PrTZEoPxlTNP",
        "colab_type": "code",
        "colab": {}
      },
      "source": [
        "google_model_link_to_source_distances"
      ],
      "execution_count": 0,
      "outputs": []
    },
    {
      "cell_type": "code",
      "metadata": {
        "id": "606kchaGvjrL",
        "colab_type": "code",
        "colab": {}
      },
      "source": [
        "model_link_to_source_distances"
      ],
      "execution_count": 0,
      "outputs": []
    },
    {
      "cell_type": "code",
      "metadata": {
        "id": "8KJ2JbIvxq4I",
        "colab_type": "code",
        "outputId": "afb2eee0-1171-4215-d116-14f5ed372a95",
        "colab": {
          "base_uri": "https://localhost:8080/",
          "height": 50
        }
      },
      "source": [
        "random_list"
      ],
      "execution_count": 0,
      "outputs": [
        {
          "output_type": "execute_result",
          "data": {
            "text/plain": [
              "array([123,  48, 126, 122, 367, 142,  51,  10, 374, 191, 475,  69, 446,\n",
              "       111, 323, 436, 245, 375, 272, 106])"
            ]
          },
          "metadata": {
            "tags": []
          },
          "execution_count": 208
        }
      ]
    },
    {
      "cell_type": "code",
      "metadata": {
        "id": "kcydkrkQxzgC",
        "colab_type": "code",
        "outputId": "2d2e1e02-29c5-4758-c40f-1f3f2beca0c8",
        "colab": {
          "base_uri": "https://localhost:8080/",
          "height": 50
        }
      },
      "source": [
        "random_list2 = np.random.randint(low=0, high=len(final_corpus_link), size=20)\n",
        "\n",
        "random_list2"
      ],
      "execution_count": 0,
      "outputs": [
        {
          "output_type": "execute_result",
          "data": {
            "text/plain": [
              "array([463, 366,  40, 297,  19,   3,  89, 207,   1, 348, 491, 253, 303,\n",
              "        99, 139,  12, 409, 204, 164, 439])"
            ]
          },
          "metadata": {
            "tags": []
          },
          "execution_count": 210
        }
      ]
    },
    {
      "cell_type": "code",
      "metadata": {
        "id": "BbHPehEYyCYE",
        "colab_type": "code",
        "colab": {}
      },
      "source": [
        "google_model_link_to_source_distances_others = []\n",
        "\n",
        "for x in random_list:\n",
        "  for y in random_list2:\n",
        "    if x==y:\n",
        "      continue\n",
        "    # if length of link text > 2\n",
        "    if len(final_corpus_link[x][0].split())>2:\n",
        "      # split the link text into words\n",
        "      source_link_words = final_corpus_link[x][0].split()\n",
        "      source_link_words = processList(source_link_words)\n",
        "      #print (\"Source Link......................\")\n",
        "      #print (source_link_words)\n",
        "      #print (\"Source text......................\")\n",
        "      final_corpus_source[y] = processList(final_corpus_source[y])\n",
        "      #print (final_corpus_source[x])\n",
        "      n = len(source_link_words)\n",
        "      source_text_ngrams = ngrams(final_corpus_source[y], n)\n",
        "      \n",
        "      min_dist = np.inf\n",
        "      #print (\"N grams......................\")\n",
        "\n",
        "      for source_text_gram in source_text_ngrams:\n",
        "        # compute distance\n",
        "        #print (source_text_gram)\n",
        "        distance = google_model.wmdistance(source_link_words, list(source_text_gram))\n",
        "        #print (distance)\n",
        "        if distance < min_dist:\n",
        "          min_dist = distance\n",
        "      #print (\"Min dist:\", min_dist)\n",
        "      if min_dist > 2:\n",
        "        min_dist = 2\n",
        "      google_model_link_to_source_distances_others.append(min_dist)"
      ],
      "execution_count": 0,
      "outputs": []
    },
    {
      "cell_type": "code",
      "metadata": {
        "id": "i4aI9PRgy53H",
        "colab_type": "code",
        "outputId": "bb0fa3f0-6c11-4ad9-9bff-4de7b5bbd5d8",
        "colab": {
          "base_uri": "https://localhost:8080/",
          "height": 53
        }
      },
      "source": [
        "model_link_to_source_distances_others = []\n",
        "\n",
        "for x in random_list:\n",
        "  for y in random_list2:\n",
        "    if x==y:\n",
        "      continue\n",
        "    # if length of link text > 2\n",
        "    if len(final_corpus_link[x][0].split())>2:\n",
        "      # split the link text into words\n",
        "      source_link_words = final_corpus_link[x][0].split()\n",
        "      source_link_words = processList(source_link_words)\n",
        "      #print (\"Source Link......................\")\n",
        "      #print (source_link_words)\n",
        "      #print (\"Source text......................\")\n",
        "      final_corpus_source[y] = processList(final_corpus_source[y])\n",
        "      #print (final_corpus_source[x])\n",
        "      n = len(source_link_words)\n",
        "      source_text_ngrams = ngrams(final_corpus_source[y], n)\n",
        "      \n",
        "      min_dist = np.inf\n",
        "      #print (\"N grams......................\")\n",
        "\n",
        "      for source_text_gram in source_text_ngrams:\n",
        "        # compute distance\n",
        "        #print (source_text_gram)\n",
        "        distance = model.wmdistance(source_link_words, list(source_text_gram))\n",
        "        #print (distance)\n",
        "        if distance < min_dist:\n",
        "          min_dist = distance\n",
        "      #print (\"Min dist:\", min_dist)\n",
        "      if min_dist > 2:\n",
        "        min_dist = 2\n",
        "      model_link_to_source_distances_others.append(min_dist)"
      ],
      "execution_count": 0,
      "outputs": [
        {
          "output_type": "stream",
          "text": [
            "/usr/local/lib/python3.6/dist-packages/ipykernel_launcher.py:26: DeprecationWarning: Call to deprecated `wmdistance` (Method will be removed in 4.0.0, use self.wv.wmdistance() instead).\n"
          ],
          "name": "stderr"
        }
      ]
    },
    {
      "cell_type": "code",
      "metadata": {
        "id": "0yVAFzzgy0ZJ",
        "colab_type": "code",
        "outputId": "a5490799-22f7-4a74-e530-e577e3902a5c",
        "colab": {
          "base_uri": "https://localhost:8080/",
          "height": 33
        }
      },
      "source": [
        "print (np.median(google_model_link_to_source_distances_others), np.median(model_link_to_source_distances_others))"
      ],
      "execution_count": 0,
      "outputs": [
        {
          "output_type": "stream",
          "text": [
            "1.3128739115888088 2.0\n"
          ],
          "name": "stdout"
        }
      ]
    }
  ]
}