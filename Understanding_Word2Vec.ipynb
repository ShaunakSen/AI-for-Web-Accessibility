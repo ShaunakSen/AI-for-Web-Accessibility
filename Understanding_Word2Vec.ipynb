{
  "nbformat": 4,
  "nbformat_minor": 0,
  "metadata": {
    "colab": {
      "name": "Understanding Word2Vec.ipynb",
      "provenance": [],
      "collapsed_sections": [],
      "include_colab_link": true
    },
    "kernelspec": {
      "name": "python3",
      "display_name": "Python 3"
    },
    "accelerator": "GPU"
  },
  "cells": [
    {
      "cell_type": "markdown",
      "metadata": {
        "id": "view-in-github",
        "colab_type": "text"
      },
      "source": [
        "<a href=\"https://colab.research.google.com/github/ShaunakSen/AI-for-Web-Accessibility/blob/master/Understanding_Word2Vec.ipynb\" target=\"_parent\"><img src=\"https://colab.research.google.com/assets/colab-badge.svg\" alt=\"Open In Colab\"/></a>"
      ]
    },
    {
      "cell_type": "markdown",
      "metadata": {
        "id": "wBTzN-5NZIuL",
        "colab_type": "text"
      },
      "source": [
        "## Word2Vec word embedding tutorial\n",
        "\n",
        "[tutorial link](https://adventuresinmachinelearning.com/word2vec-tutorial-tensorflow/)\n",
        "\n",
        "### Why do we need Word2Vec?\n",
        "\n",
        "If we want to feed words into machine learning models, unless we are using tree based methods, we need to convert the words into some set of numeric vectors.  A straight-forward way of doing this would be to use a “one-hot” method of converting the word into a sparse representation with only one element of the vector set to 1, the rest being zero. \n",
        "\n",
        "So, for the sentence “the cat sat on the mat” we would have the following vector representation:\n",
        "\n",
        "\\begin{equation} \n",
        "\\begin{pmatrix} \n",
        "the \\\\ \n",
        "cat \\\\ \n",
        "sat \\\\ \n",
        "on \\\\ \n",
        "the \\\\ \n",
        "mat \\\\ \n",
        "\\end{pmatrix} \n",
        "= \n",
        "\\begin{pmatrix} \n",
        "1 & 0 & 0 & 0 & 0 \\\\ \n",
        "0 & 1 & 0 & 0 & 0 \\\\ \n",
        "0 & 0 & 1 & 0 & 0 \\\\ \n",
        "0 & 0 & 0 & 1 & 0 \\\\ \n",
        "1 & 0 & 0 & 0 & 0 \\\\ \n",
        "0 & 0 & 0 & 0 & 1 \n",
        "\\end{pmatrix} \n",
        "\\end{equation}\n"
      ]
    },
    {
      "cell_type": "markdown",
      "metadata": {
        "id": "VpUmyrCdZfIj",
        "colab_type": "text"
      },
      "source": [
        "Here we have transformed a six word sentence into a 6×5 matrix, with the 5 being the size of the vocabulary (“the” is repeated).  In practical applications, however, we will want machine and deep learning models to learn from gigantic vocabularies i.e. 10,000 words plus.  You can begin to see the efficiency issue of using “one hot” representations of the words – the input layer into any neural network attempting to model such a vocabulary would have to be at least 10,000 nodes.  Not only that, this method strips away any local context of the words – in other words, it strips away information about words which commonly appear close together in sentences (or between sentences).\n",
        "\n",
        "For instance, we might expect to see “United” and “States” to appear close together, or “Soviet” and “Union”.  Or “food” and “eat”, and so on.  This method loses all such information, which, if we are trying to model natural language, is a large omission.  Therefore, we need an efficient representation of the text data which also conserves information about local word context.  This is where the Word2Vec methodology comes in.\n",
        "\n",
        "### The Word2Vec methodology\n",
        "\n",
        "As mentioned previously, there is two components to the Word2Vec methodology.  The first is the mapping of a high dimensional one-hot style representation of words to a lower dimensional vector. **This might involve transforming a 10,000 columned matrix into a 300 columned matrix, for instance. This process is called word embedding.**  The second goal is to do this while still maintaining word context and therefore, to some extent, meaning. **One approach to achieving these two goals in the Word2Vec methodology is by taking an input word and then attempting to estimate the probability of other words appearing close to that word.  This is called the skip-gram approach.**  The alternative method, called Continuous Bag Of Words (CBOW), does the opposite – it takes some context words as input and tries to find the single word that has the highest probability of fitting that context.  In this tutorial, we will concentrate on the skip-gram method.\n",
        "\n",
        "What’s a gram?  A gram is a group of n words, where n is the gram window size.  So for the sentence “The cat sat on the mat”, a 3-gram representation of this sentence would be “The cat sat”, “cat sat on”, “sat on the”, “on the mat”.  The “skip” part refers to the number of times an input word is repeated in the data-set with different context words (more on this later).  These grams are fed into the Word2Vec context prediction system. For instance, assume the input word is “cat” – the Word2Vec tries to predict the context (“the”, “sat”) from this supplied input word.  **The Word2Vec system will move through all the supplied grams and input words and attempt to learn appropriate mapping vectors (embeddings) which produce high probabilities for the right context given the input words.**\n",
        "\n",
        "> What is this Word2Vec prediction system?  Nothing other than a neural network.\n",
        "\n",
        "\n",
        "\n",
        "\n",
        "\n"
      ]
    },
    {
      "cell_type": "markdown",
      "metadata": {
        "id": "vnHaa2vFcV3t",
        "colab_type": "text"
      },
      "source": [
        "### The softmax Word2Vec method\n",
        "\n",
        "Consider the diagram below – in this case we’ll assume the sentence “The cat sat on the mat” is part of a much larger text database, with a very large vocabulary – say 10,000 words in length.  We want to reduce this to a 300 length embedding.\n",
        "\n",
        "![](https://i2.wp.com/adventuresinmachinelearning.com/wp-content/uploads/2017/07/Word2Vec-softmax.jpg?w=676&ssl=1)\n",
        "\n",
        "With respect to the diagram above, if we take the word “cat” it will be one of the words in the 10,000 word vocabulary.  Therefore we can represent it as a 10,000 length one-hot vector.  We then interface this input vector to a 300 node hidden layer. The weights connecting this layer will be our new word vectors – more on this soon.  The activations of the nodes in this hidden layer are simply linear summations of the weighted inputs (i.e. no non-linear activation, like a sigmoid or tanh, is applied).  These nodes are then fed into a softmax output layer. Note that the op layer has dimension equal to the vocab size.  During training, we want to change the weights of this neural network so that words surrounding “cat” have a higher probability in the softmax output layer.  So, for instance, if our text data set has a lot of Dr Seuss books, we would want our network to assign large probabilities to words like “the”, “sat” and “on” (given lots of sentences like “the cat sat on the mat”).\n",
        "\n",
        "By training this network, we would be creating a 10,000 x 300 weight matrix connecting the 10,000 length input with the 300 node hidden layer.  Each row in this matrix corresponds to a word in our 10,000 word vocabulary – so we have effectively reduced 10,000 length one-hot vector representations of our words to 300 length vectors.  The weight matrix essentially becomes a look-up or encoding table of our words.  Not only that, but these weight values contain context information due to the way we’ve trained our network.  Once we’ve trained the network, we abandon the softmax layer and just use the `10,000 x 300` weight matrix as our word embedding lookup table.\n",
        "\n",
        "\n",
        "\\begin{pmatrix} \n",
        "word_1 & wt_{1} & wt_{2} & ... & wt_{300} \\\\ \n",
        "word1 & wt_{1} & wt_{2} & ... & wt_{300} \\\\ \n",
        "...  \\\\ \n",
        "word_{10,000} & wt_{1} & wt_{2} & ... & wt_{300}\n",
        "\\end{pmatrix} \n",
        "\n",
        "As with any machine learning problem, there are two components – the first is getting all the data into a usable format, and the next is actually performing the training, validation and testing.  First I’ll go through how the data can be gathered into a usable format, then we’ll talk about the TensorFlow graph of the model.\n",
        "\n"
      ]
    },
    {
      "cell_type": "markdown",
      "metadata": {
        "id": "yS1IKkMsnj2J",
        "colab_type": "text"
      },
      "source": [
        "### Preparing the text data\n",
        "\n",
        "The previously mentioned TensorFlow tutorial has a few functions that take a text database and transform it so that we can extract input words and their associated grams in mini-batches for training the Word2Vec system / embeddings (if you’re not sure what “mini-batch” means, check out this tutorial).  I’ll briefly talk about each of these functions in turn:\n",
        "\n"
      ]
    },
    {
      "cell_type": "code",
      "metadata": {
        "id": "HX4mEPXJ2Zf9",
        "colab_type": "code",
        "outputId": "cd8d255d-8217-471b-a5c9-c1d67aaaa345",
        "colab": {
          "base_uri": "https://localhost:8080/",
          "height": 147
        }
      },
      "source": [
        "!pip install keras==2.2.4"
      ],
      "execution_count": 0,
      "outputs": [
        {
          "output_type": "stream",
          "text": [
            "Requirement already satisfied: keras==2.2.4 in /usr/local/lib/python3.6/dist-packages (2.2.4)\n",
            "Requirement already satisfied: keras-preprocessing>=1.0.5 in /usr/local/lib/python3.6/dist-packages (from keras==2.2.4) (1.1.0)\n",
            "Requirement already satisfied: six>=1.9.0 in /usr/local/lib/python3.6/dist-packages (from keras==2.2.4) (1.12.0)\n",
            "Requirement already satisfied: keras-applications>=1.0.6 in /usr/local/lib/python3.6/dist-packages (from keras==2.2.4) (1.0.8)\n",
            "Requirement already satisfied: pyyaml in /usr/local/lib/python3.6/dist-packages (from keras==2.2.4) (3.13)\n",
            "Requirement already satisfied: numpy>=1.9.1 in /usr/local/lib/python3.6/dist-packages (from keras==2.2.4) (1.16.4)\n",
            "Requirement already satisfied: h5py in /usr/local/lib/python3.6/dist-packages (from keras==2.2.4) (2.8.0)\n",
            "Requirement already satisfied: scipy>=0.14 in /usr/local/lib/python3.6/dist-packages (from keras==2.2.4) (1.3.1)\n"
          ],
          "name": "stdout"
        }
      ]
    },
    {
      "cell_type": "code",
      "metadata": {
        "id": "ZW7ySd5pnsJF",
        "colab_type": "code",
        "colab": {}
      },
      "source": [
        "import urllib.request\n",
        "import collections\n",
        "import os\n",
        "import zipfile\n",
        "\n",
        "import numpy as np\n",
        "import tensorflow as tf\n"
      ],
      "execution_count": 0,
      "outputs": []
    },
    {
      "cell_type": "code",
      "metadata": {
        "id": "kGZgWqrr2O8X",
        "colab_type": "code",
        "outputId": "0cd91730-3704-47c4-a541-9aedf5585e33",
        "colab": {
          "base_uri": "https://localhost:8080/",
          "height": 33
        }
      },
      "source": [
        "import keras\n",
        "keras.__version__"
      ],
      "execution_count": 0,
      "outputs": [
        {
          "output_type": "execute_result",
          "data": {
            "text/plain": [
              "'2.2.4'"
            ]
          },
          "metadata": {
            "tags": []
          },
          "execution_count": 6
        }
      ]
    },
    {
      "cell_type": "code",
      "metadata": {
        "id": "Un_9pboqZHEl",
        "colab_type": "code",
        "colab": {}
      },
      "source": [
        "def maybe_download(filename, url, expected_bytes):\n",
        "  \"\"\"Download a file if not present, and make sure it's the right size.\"\"\"\n",
        "\n",
        "  # check if file exists\n",
        "  if not os.path.exists(path=filename):\n",
        "    # download: Returns a tuple containing the path to the newly created data file as well as the resulting HTTPMessage object.\n",
        "    filename, _ = urllib.request.urlretrieve(url=url+filename, filename=filename)\n",
        "  statinfo = os.stat(path=filename)\n",
        "  # check file size\n",
        "  if statinfo.st_size == expected_bytes:\n",
        "    print('Found and verified', filename)\n",
        "  else:\n",
        "    print(statinfo.st_size)\n",
        "    raise Exception('Failed to verify ' + filename + '. Can you get to it with a browser?')\n",
        "  return filename"
      ],
      "execution_count": 0,
      "outputs": []
    },
    {
      "cell_type": "markdown",
      "metadata": {
        "id": "r63Ugkw1pqYG",
        "colab_type": "text"
      },
      "source": [
        "This function checks to see if the filename already has been downloaded from the supplied url.  If not, it uses the urllib.request Python module which retrieves a file from the given url argument, and downloads the file into the local code directory.  If the file already exists (i.e. os.path.exists(filename) returns true), then the function does not try to download the file again.  Next, the function checks the size of the file and makes sure it lines up with the expected file size, expected_bytes.  If all is well, it returns the filename object which can be used to extract the data from.  To call the function with the data-set we are using in this example, we execute the following code:\n",
        "\n"
      ]
    },
    {
      "cell_type": "code",
      "metadata": {
        "id": "_l2CPnBMpq_R",
        "colab_type": "code",
        "outputId": "13029eea-440e-489a-a5ef-3bff44127f3d",
        "colab": {
          "base_uri": "https://localhost:8080/",
          "height": 50
        }
      },
      "source": [
        "url = 'http://mattmahoney.net/dc/'\n",
        "filename = maybe_download('text8.zip', url, 31344016)\n",
        "\n",
        "print (filename)"
      ],
      "execution_count": 0,
      "outputs": [
        {
          "output_type": "stream",
          "text": [
            "Found and verified text8.zip\n",
            "text8.zip\n"
          ],
          "name": "stdout"
        }
      ]
    },
    {
      "cell_type": "code",
      "metadata": {
        "id": "jHRCTbLcrezM",
        "colab_type": "code",
        "colab": {}
      },
      "source": [
        "# Read the data into a list of strings.\n",
        "def read_data(filename):\n",
        "  \"\"\"Extract the first file enclosed in a zip file as a list of words.\"\"\"\n",
        "  with zipfile.ZipFile(filename) as f:\n",
        "    data = tf.compat.as_str(f.read(f.namelist()[0])).split()\n",
        "  return data"
      ],
      "execution_count": 0,
      "outputs": []
    },
    {
      "cell_type": "markdown",
      "metadata": {
        "id": "5rvFoxxptGnG",
        "colab_type": "text"
      },
      "source": [
        "Using zipfile.ZipFile() to extract the zipped file, we can then use the reader functionality found in this zipfile module.  First, the namelist() function retrieves all the members of the archive – in this case there is only one member, so we access this using the zero index.  Then we use the read() function which reads all the text in the file and pass this through the TensorFlow function as_str which ensures that the text is created as a string data-type.  Finally, we use split() function to create a list with all the words in the text file, separated by white-space characters.  We can see some of the output here:\n",
        "\n"
      ]
    },
    {
      "cell_type": "code",
      "metadata": {
        "id": "081RLmgRsQj2",
        "colab_type": "code",
        "outputId": "e0e093b0-f865-4c5e-d99e-2d7b6b21e600",
        "colab": {
          "base_uri": "https://localhost:8080/",
          "height": 50
        }
      },
      "source": [
        "vocabulary = read_data(filename)\n",
        "\n",
        "print (vocabulary[:10])\n",
        "\n",
        "print (\"Length of vocab:\", len(vocabulary))"
      ],
      "execution_count": 0,
      "outputs": [
        {
          "output_type": "stream",
          "text": [
            "['anarchism', 'originated', 'as', 'a', 'term', 'of', 'abuse', 'first', 'used', 'against']\n",
            "Length of vocab: 17005207\n"
          ],
          "name": "stdout"
        }
      ]
    },
    {
      "cell_type": "markdown",
      "metadata": {
        "id": "qjceH1l-taQT",
        "colab_type": "text"
      },
      "source": [
        "As you can observe, the returned vocabulary data contains a list of plain English words, ordered as they are in the sentences of the original extracted text file.  Now that we have all the words extracted in a list, we have to do some further processing to enable us to create our skip-gram batch data.  These further steps are:\n",
        "\n",
        "1. Extract the top 10,000 most common words to include in our embedding vector\n",
        "2. Gather together all the unique words and index them with a unique integer value – this is what is required to create an equivalent one-hot type input for the word.  We’ll use a dictionary to do this\n",
        "3. Loop through every word in the dataset (vocabulary variable) and assign it to the unique integer word identified, created in Step 2 above.  This will allow easy lookup / processing of the word data stream"
      ]
    },
    {
      "cell_type": "code",
      "metadata": {
        "id": "9Rxs6Q7nfKEZ",
        "colab_type": "code",
        "outputId": "48a4cce8-9fb1-4789-fadd-2b6e6af78a62",
        "colab": {
          "base_uri": "https://localhost:8080/",
          "height": 33
        }
      },
      "source": [
        "count = [['UNK', -1]]\n",
        "\n",
        "count.extend(collections.Counter([1,1,12,3,2,2,1]).most_common(2))\n",
        "\n",
        "print (len(count))"
      ],
      "execution_count": 0,
      "outputs": [
        {
          "output_type": "stream",
          "text": [
            "3\n"
          ],
          "name": "stdout"
        }
      ]
    },
    {
      "cell_type": "code",
      "metadata": {
        "id": "bgFu75YUsZVL",
        "colab_type": "code",
        "outputId": "225d42bd-a81c-4a3e-eb0d-258156c6c904",
        "colab": {
          "base_uri": "https://localhost:8080/",
          "height": 34
        }
      },
      "source": [
        "count"
      ],
      "execution_count": 0,
      "outputs": [
        {
          "output_type": "execute_result",
          "data": {
            "text/plain": [
              "[['UNK', -1], (1, 3), (2, 2)]"
            ]
          },
          "metadata": {
            "tags": []
          },
          "execution_count": 7
        }
      ]
    },
    {
      "cell_type": "code",
      "metadata": {
        "id": "YqCq2UA1WxCf",
        "colab_type": "code",
        "outputId": "0788f26d-9c01-4ed0-85a4-9081efb98225",
        "colab": {
          "base_uri": "https://localhost:8080/",
          "height": 33
        }
      },
      "source": [
        "vocabulary_size = 10000\n",
        "\n",
        "count = [('UNK', -1)]\n",
        "\n",
        "count.extend(collections.Counter(vocabulary).most_common(vocabulary_size-1))\n",
        "\n",
        "print (count[:10], len(count))"
      ],
      "execution_count": 0,
      "outputs": [
        {
          "output_type": "stream",
          "text": [
            "[('UNK', -1), ('the', 1061396), ('of', 593677), ('and', 416629), ('one', 411764), ('in', 372201), ('a', 325873), ('to', 316376), ('zero', 264975), ('nine', 250430)] 10000\n"
          ],
          "name": "stdout"
        }
      ]
    },
    {
      "cell_type": "code",
      "metadata": {
        "id": "kH7iaIWxXXr0",
        "colab_type": "code",
        "outputId": "4ad7de1e-c19e-4d30-f74f-cef3e084cd47",
        "colab": {
          "base_uri": "https://localhost:8080/",
          "height": 53
        }
      },
      "source": [
        "dictionary = dict()\n",
        "\n",
        "for word,_ in count:\n",
        "  dictionary[word] = len(dictionary)\n",
        "\n",
        "print (dictionary)"
      ],
      "execution_count": 0,
      "outputs": [
        {
          "output_type": "stream",
          "text": [
            "{'UNK': 0, 'the': 1, 'of': 2, 'and': 3, 'one': 4, 'in': 5, 'a': 6, 'to': 7, 'zero': 8, 'nine': 9, 'two': 10, 'is': 11, 'as': 12, 'eight': 13, 'for': 14, 's': 15, 'five': 16, 'three': 17, 'was': 18, 'by': 19, 'that': 20, 'four': 21, 'six': 22, 'seven': 23, 'with': 24, 'on': 25, 'are': 26, 'it': 27, 'from': 28, 'or': 29, 'his': 30, 'an': 31, 'be': 32, 'this': 33, 'which': 34, 'at': 35, 'he': 36, 'also': 37, 'not': 38, 'have': 39, 'were': 40, 'has': 41, 'but': 42, 'other': 43, 'their': 44, 'its': 45, 'first': 46, 'they': 47, 'some': 48, 'had': 49, 'all': 50, 'more': 51, 'most': 52, 'can': 53, 'been': 54, 'such': 55, 'many': 56, 'who': 57, 'new': 58, 'used': 59, 'there': 60, 'after': 61, 'when': 62, 'into': 63, 'american': 64, 'time': 65, 'these': 66, 'only': 67, 'see': 68, 'may': 69, 'than': 70, 'world': 71, 'i': 72, 'b': 73, 'would': 74, 'd': 75, 'no': 76, 'however': 77, 'between': 78, 'about': 79, 'over': 80, 'years': 81, 'states': 82, 'people': 83, 'war': 84, 'during': 85, 'united': 86, 'known': 87, 'if': 88, 'called': 89, 'use': 90, 'th': 91, 'system': 92, 'often': 93, 'state': 94, 'so': 95, 'history': 96, 'will': 97, 'up': 98, 'while': 99, 'where': 100, 'city': 101, 'being': 102, 'english': 103, 'then': 104, 'any': 105, 'both': 106, 'under': 107, 'out': 108, 'made': 109, 'well': 110, 'her': 111, 'e': 112, 'number': 113, 'government': 114, 'them': 115, 'm': 116, 'later': 117, 'since': 118, 'him': 119, 'part': 120, 'name': 121, 'c': 122, 'century': 123, 'through': 124, 'because': 125, 'x': 126, 'university': 127, 'early': 128, 'life': 129, 'british': 130, 'year': 131, 'like': 132, 'same': 133, 'including': 134, 'became': 135, 'example': 136, 'day': 137, 'each': 138, 'even': 139, 'work': 140, 'language': 141, 'although': 142, 'several': 143, 'form': 144, 'john': 145, 'u': 146, 'national': 147, 'very': 148, 'much': 149, 'g': 150, 'french': 151, 'before': 152, 'general': 153, 'what': 154, 't': 155, 'against': 156, 'n': 157, 'high': 158, 'links': 159, 'could': 160, 'based': 161, 'those': 162, 'now': 163, 'second': 164, 'de': 165, 'music': 166, 'another': 167, 'large': 168, 'she': 169, 'f': 170, 'external': 171, 'german': 172, 'different': 173, 'modern': 174, 'great': 175, 'do': 176, 'common': 177, 'set': 178, 'list': 179, 'south': 180, 'series': 181, 'major': 182, 'game': 183, 'power': 184, 'long': 185, 'country': 186, 'king': 187, 'law': 188, 'group': 189, 'film': 190, 'still': 191, 'until': 192, 'north': 193, 'international': 194, 'term': 195, 'we': 196, 'end': 197, 'book': 198, 'found': 199, 'own': 200, 'political': 201, 'party': 202, 'order': 203, 'usually': 204, 'president': 205, 'church': 206, 'you': 207, 'death': 208, 'theory': 209, 'area': 210, 'around': 211, 'include': 212, 'god': 213, 'ii': 214, 'way': 215, 'did': 216, 'military': 217, 'population': 218, 'using': 219, 'though': 220, 'small': 221, 'following': 222, 'within': 223, 'non': 224, 'human': 225, 'left': 226, 'main': 227, 'among': 228, 'point': 229, 'r': 230, 'due': 231, 'p': 232, 'considered': 233, 'public': 234, 'popular': 235, 'computer': 236, 'west': 237, 'family': 238, 'east': 239, 'information': 240, 'important': 241, 'european': 242, 'man': 243, 'sometimes': 244, 'right': 245, 'old': 246, 'free': 247, 'word': 248, 'without': 249, 'last': 250, 'us': 251, 'members': 252, 'given': 253, 'times': 254, 'roman': 255, 'make': 256, 'h': 257, 'age': 258, 'place': 259, 'l': 260, 'thus': 261, 'science': 262, 'case': 263, 'become': 264, 'systems': 265, 'union': 266, 'born': 267, 'york': 268, 'line': 269, 'countries': 270, 'does': 271, 'isbn': 272, 'st': 273, 'control': 274, 'various': 275, 'others': 276, 'house': 277, 'article': 278, 'island': 279, 'should': 280, 'led': 281, 'back': 282, 'period': 283, 'player': 284, 'europe': 285, 'languages': 286, 'central': 287, 'water': 288, 'few': 289, 'western': 290, 'home': 291, 'began': 292, 'generally': 293, 'less': 294, 'k': 295, 'similar': 296, 'written': 297, 'original': 298, 'best': 299, 'must': 300, 'according': 301, 'school': 302, 'france': 303, 'air': 304, 'single': 305, 'force': 306, 'v': 307, 'land': 308, 'groups': 309, 'down': 310, 'how': 311, 'works': 312, 'development': 313, 'official': 314, 'support': 315, 'england': 316, 'j': 317, 'rather': 318, 'data': 319, 'space': 320, 'greek': 321, 'km': 322, 'named': 323, 'germany': 324, 'just': 325, 'games': 326, 'said': 327, 'version': 328, 'late': 329, 'earth': 330, 'company': 331, 'every': 332, 'economic': 333, 'short': 334, 'published': 335, 'black': 336, 'army': 337, 'off': 338, 'london': 339, 'million': 340, 'body': 341, 'field': 342, 'christian': 343, 'either': 344, 'social': 345, 'empire': 346, 'o': 347, 'developed': 348, 'standard': 349, 'court': 350, 'service': 351, 'kingdom': 352, 'along': 353, 'college': 354, 'republic': 355, 'sea': 356, 'america': 357, 'today': 358, 'result': 359, 'held': 360, 'team': 361, 'light': 362, 'means': 363, 'never': 364, 'especially': 365, 'third': 366, 'further': 367, 'character': 368, 'forces': 369, 'take': 370, 'men': 371, 'society': 372, 'show': 373, 'open': 374, 'possible': 375, 'fact': 376, 'battle': 377, 'took': 378, 'former': 379, 'books': 380, 'soviet': 381, 'river': 382, 'children': 383, 'having': 384, 'good': 385, 'local': 386, 'current': 387, 'son': 388, 'process': 389, 'natural': 390, 'present': 391, 'himself': 392, 'islands': 393, 'total': 394, 'near': 395, 'white': 396, 'days': 397, 'person': 398, 'itself': 399, 'seen': 400, 'culture': 401, 'little': 402, 'above': 403, 'software': 404, 'largest': 405, 'words': 406, 'upon': 407, 'level': 408, 'father': 409, 'created': 410, 'side': 411, 'red': 412, 'references': 413, 'press': 414, 'full': 415, 'region': 416, 'almost': 417, 'image': 418, 'al': 419, 'famous': 420, 'play': 421, 'came': 422, 'role': 423, 'once': 424, 'certain': 425, 'league': 426, 'jewish': 427, 'james': 428, 'january': 429, 'site': 430, 'again': 431, 'numbers': 432, 'art': 433, 'member': 434, 'areas': 435, 'movement': 436, 'religious': 437, 'type': 438, 'march': 439, 'community': 440, 'story': 441, 'played': 442, 'production': 443, 'released': 444, 'center': 445, 'rights': 446, 'real': 447, 'related': 448, 'foreign': 449, 'low': 450, 'ancient': 451, 'terms': 452, 'view': 453, 'source': 454, 'act': 455, 'minister': 456, 'change': 457, 'energy': 458, 'produced': 459, 'research': 460, 'actor': 461, 'making': 462, 'civil': 463, 'december': 464, 'women': 465, 'special': 466, 'style': 467, 'william': 468, 'design': 469, 'japanese': 470, 'available': 471, 'chinese': 472, 'forms': 473, 'canada': 474, 'northern': 475, 'died': 476, 'class': 477, 'living': 478, 'next': 479, 'particular': 480, 'program': 481, 'council': 482, 'television': 483, 'head': 484, 'david': 485, 'china': 486, 'middle': 487, 'established': 488, 'hand': 489, 'bc': 490, 'far': 491, 'july': 492, 'function': 493, 'position': 494, 'y': 495, 'built': 496, 'george': 497, 'band': 498, 'together': 499, 'w': 500, 'latin': 501, 'thought': 502, 'eastern': 503, 'charles': 504, 'parts': 505, 'instead': 506, 'study': 507, 'might': 508, 'india': 509, 'code': 510, 'included': 511, 'meaning': 512, 'trade': 513, 'per': 514, 'june': 515, 'least': 516, 'half': 517, 'model': 518, 'economy': 519, 'prime': 520, 'traditional': 521, 'always': 522, 'capital': 523, 'range': 524, 'november': 525, 'emperor': 526, 'young': 527, 'anti': 528, 'final': 529, 'text': 530, 'players': 531, 'uk': 532, 'april': 533, 'run': 534, 'september': 535, 'addition': 536, 'radio': 537, 'live': 538, 'august': 539, 'taken': 540, 'note': 541, 'italian': 542, 'lost': 543, 'nature': 544, 'project': 545, 'technology': 546, 'spanish': 547, 'october': 548, 'recent': 549, 'rate': 550, 'won': 551, 'true': 552, 'value': 553, 'uses': 554, 'russian': 555, 'est': 556, 'wrote': 557, 'effect': 558, 'album': 559, 'southern': 560, 'africa': 561, 'whose': 562, 'top': 563, 'historical': 564, 'australia': 565, 'catholic': 566, 'particularly': 567, 'self': 568, 'structure': 569, 'record': 570, 'evidence': 571, 'rule': 572, 'themselves': 573, 'influence': 574, 'cases': 575, 'subject': 576, 'referred': 577, 'continued': 578, 'nations': 579, 'below': 580, 'rock': 581, 'japan': 582, 'com': 583, 'song': 584, 'throughout': 585, 'names': 586, 'female': 587, 'title': 588, 'therefore': 589, 'our': 590, 'office': 591, 'star': 592, 'paul': 593, 'too': 594, 'cities': 595, 'february': 596, 'independent': 597, 'author': 598, 'problem': 599, 'species': 600, 'education': 601, 'done': 602, 'philosophy': 603, 'come': 604, 'higher': 605, 'originally': 606, 'market': 607, 'town': 608, 'my': 609, 'season': 610, 'love': 611, 'strong': 612, 'israel': 613, 'irish': 614, 'writer': 615, 'films': 616, 'elements': 617, 'robert': 618, 'whether': 619, 'despite': 620, 'eventually': 621, 'here': 622, 'football': 623, 'action': 624, 'internet': 625, 'individual': 626, 'sound': 627, 'network': 628, 'described': 629, 'practice': 630, 'characters': 631, 're': 632, 'royal': 633, 'la': 634, 'events': 635, 'formed': 636, 'commonly': 637, 'base': 638, 'received': 639, 'african': 640, 'problems': 641, 'food': 642, 'jews': 643, 'able': 644, 'male': 645, 'typically': 646, 'mass': 647, 'complex': 648, 'lower': 649, 'includes': 650, 'outside': 651, 'legal': 652, 'complete': 653, 'significant': 654, 'parliament': 655, 'actually': 656, 'business': 657, 'fiction': 658, 'physical': 659, 'followed': 660, 'deaths': 661, 'key': 662, 'leader': 663, 'widely': 664, 'page': 665, 'basic': 666, 'types': 667, 'henry': 668, 'elected': 669, 'beginning': 670, 'fire': 671, 'building': 672, 'independence': 673, 'went': 674, 'movie': 675, 'aircraft': 676, 'ever': 677, 'canadian': 678, 'material': 679, 'births': 680, 'video': 681, 'news': 682, 'future': 683, 'scientific': 684, 'simply': 685, 'go': 686, 'defined': 687, 'laws': 688, 'get': 689, 'close': 690, 'industry': 691, 'specific': 692, 'examples': 693, 'believe': 694, 'services': 695, 'idea': 696, 'method': 697, 'introduced': 698, 'points': 699, 'return': 700, 'cause': 701, 'indian': 702, 'britain': 703, 'features': 704, 'majority': 705, 'size': 706, 'post': 707, 'lead': 708, 'organization': 709, 'cannot': 710, 'designed': 711, 'ireland': 712, 'cross': 713, 'classical': 714, 'personal': 715, 'writing': 716, 'concept': 717, 'associated': 718, 'required': 719, 'soon': 720, 'changes': 721, 'california': 722, 'located': 723, 'sense': 724, 'believed': 725, 'away': 726, 'started': 727, 'co': 728, 'religion': 729, 'mother': 730, 'county': 731, 'rules': 732, 'studies': 733, 'yet': 734, 'find': 735, 'knowledge': 736, 'put': 737, 'founded': 738, 'policy': 739, 'currently': 740, 'provide': 741, 'working': 742, 'media': 743, 'election': 744, 'australian': 745, 'me': 746, 'thomas': 747, 'allowed': 748, 'russia': 749, 'earlier': 750, 'greater': 751, 'limited': 752, 'object': 753, 'brought': 754, 'online': 755, 'association': 756, 'lord': 757, 'mostly': 758, 'blue': 759, 'constitution': 760, 'across': 761, 'added': 762, 'interest': 763, 'things': 764, 'relations': 765, 'speed': 766, 'federal': 767, 'singer': 768, 'effects': 769, 'growth': 770, 'sources': 771, 'your': 772, 'remains': 773, 'z': 774, 'probably': 775, 'gave': 776, 'simple': 777, 'attack': 778, 'longer': 779, 'reference': 780, 'saint': 781, 'success': 782, 'killed': 783, 'past': 784, 'career': 785, 'need': 786, 'park': 787, 'definition': 788, 'say': 789, 'etc': 790, 'give': 791, 'peace': 792, 'chief': 793, 'stories': 794, 'security': 795, 'wide': 796, 'ball': 797, 'saw': 798, 'machine': 799, 'better': 800, 'cell': 801, 'leading': 802, 'becomes': 803, 'spain': 804, 'larger': 805, 'products': 806, 'parties': 807, 'night': 808, 'remained': 809, 'prize': 810, 'months': 811, 'website': 812, 'big': 813, 'cultural': 814, 'money': 815, 'help': 816, 'territory': 817, 'private': 818, 'moved': 819, 'letter': 820, 'wife': 821, 'politics': 822, 'lines': 823, 'largely': 824, 'contains': 825, 'companies': 826, 'lake': 827, 'perhaps': 828, 'green': 829, 'already': 830, 'dead': 831, 'iii': 832, 'library': 833, 'separate': 834, 'refer': 835, 'makes': 836, 'appeared': 837, 'dutch': 838, 'holy': 839, 'era': 840, 'novel': 841, 'successful': 842, 'italy': 843, 'letters': 844, 'results': 845, 'matter': 846, 'produce': 847, 'origin': 848, 'claim': 849, 'whole': 850, 'directly': 851, 'attempt': 852, 'actress': 853, 'surface': 854, 'revolution': 855, 'highly': 856, 'caused': 857, 'status': 858, 'musical': 859, 'richard': 860, 'commercial': 861, 'division': 862, 'color': 863, 'health': 864, 'coast': 865, 'release': 866, 'latter': 867, 'authority': 868, 'treaty': 869, 'turn': 870, 'michael': 871, 'nation': 872, 'direct': 873, 'asia': 874, 'edition': 875, 'programming': 876, 'playing': 877, 'date': 878, 'mary': 879, 'native': 880, 'whom': 881, 'married': 882, 'towards': 883, 'issues': 884, 'double': 885, 'primary': 886, 'basis': 887, 'allow': 888, 'enough': 889, 'memory': 890, 'reason': 891, 'web': 892, 'exist': 893, 'provided': 894, 'oil': 895, 'course': 896, 'functions': 897, 'alexander': 898, 'analysis': 899, 'chemical': 900, 'mid': 901, 'replaced': 902, 'queen': 903, 'claims': 904, 'tv': 905, 'sun': 906, 'literature': 907, 'metal': 908, 'amount': 909, 'divided': 910, 'blood': 911, 'likely': 912, 'access': 913, 'average': 914, 'length': 915, 'smaller': 916, 'medical': 917, 'property': 918, 'students': 919, 'degree': 920, 'elections': 921, 'club': 922, 'claimed': 923, 'performance': 924, 'director': 925, 'digital': 926, 'front': 927, 'museum': 928, 'difficult': 929, 'tradition': 930, 'nearly': 931, 'schools': 932, 'washington': 933, 'gas': 934, 'jesus': 935, 'map': 936, 'louis': 937, 'rome': 938, 'unit': 939, 'baseball': 940, 'mind': 941, 'peter': 942, 'mark': 943, 'collection': 944, 'product': 945, 'congress': 946, 'programs': 947, 'changed': 948, 'ideas': 949, 'moon': 950, 'entire': 951, 'user': 952, 'ground': 953, 'records': 954, 'frequently': 955, 'increase': 956, 'highest': 957, 'sent': 958, 'finally': 959, 'board': 960, 'don': 961, 'notable': 962, 'read': 963, 'methods': 964, 'recently': 965, 'bit': 966, 'involved': 967, 'variety': 968, 'call': 969, 'democratic': 970, 'ten': 971, 'served': 972, 'minor': 973, 'hard': 974, 'birth': 975, 'objects': 976, 'nuclear': 977, 'increased': 978, 'section': 979, 'street': 980, 'windows': 981, 'relatively': 982, 'car': 983, 'move': 984, 'create': 985, 'returned': 986, 'bank': 987, 'conditions': 988, 'operation': 989, 'adopted': 990, 'relationship': 991, 'christ': 992, 'hall': 993, 'appear': 994, 'rest': 995, 'child': 996, 'element': 997, 'appears': 998, 'takes': 999, 'fall': 1000, 'bbc': 1001, 'animals': 1002, 'existence': 1003, 'discovered': 1004, 'units': 1005, 'know': 1006, 'heavy': 1007, 'assembly': 1008, 'universe': 1009, 'file': 1010, 'smith': 1011, 'numerous': 1012, 'woman': 1013, 'award': 1014, 'mean': 1015, 'behind': 1016, 'liberal': 1017, 'except': 1018, 'scale': 1019, 'bill': 1020, 'operating': 1021, 'active': 1022, 'construction': 1023, 'institute': 1024, 'taking': 1025, 'pressure': 1026, 'san': 1027, 'experience': 1028, 'account': 1029, 'engine': 1030, 'brother': 1031, 'primarily': 1032, 'recorded': 1033, 'joseph': 1034, 'issue': 1035, 'professional': 1036, 'troops': 1037, 'notes': 1038, 'pope': 1039, 'centre': 1040, 'ice': 1041, 'orthodox': 1042, 'question': 1043, 'something': 1044, 'defense': 1045, 'accepted': 1046, 'grand': 1047, 'mathematics': 1048, 'event': 1049, 'resources': 1050, 'dr': 1051, 'egypt': 1052, 'derived': 1053, 'applied': 1054, 'paris': 1055, 'powers': 1056, 'running': 1057, 'stage': 1058, 'additional': 1059, 'shows': 1060, 'prince': 1061, 'placed': 1062, 'instance': 1063, 'creation': 1064, 'lived': 1065, 'freedom': 1066, 'alternative': 1067, 'http': 1068, 'hit': 1069, 'magazine': 1070, 'nobel': 1071, 'engineering': 1072, 'square': 1073, 'mainly': 1074, 'rise': 1075, 'hold': 1076, 'gold': 1077, 'pre': 1078, 'versions': 1079, 'road': 1080, 'report': 1081, 'test': 1082, 'operations': 1083, 'frac': 1084, 'older': 1085, 'arts': 1086, 'quite': 1087, 'applications': 1088, 'marriage': 1089, 'proposed': 1090, 'channel': 1091, 'shown': 1092, 'consists': 1093, 'bible': 1094, 'governor': 1095, 'police': 1096, 'articles': 1097, 'ocean': 1098, 'cost': 1099, 'writers': 1100, 'volume': 1101, 'previous': 1102, 'race': 1103, 'cells': 1104, 'scotland': 1105, 'levels': 1106, 'regions': 1107, 'quickly': 1108, 'properties': 1109, 'duke': 1110, 'normal': 1111, 'techniques': 1112, 'start': 1113, 'songs': 1114, 'ways': 1115, 'introduction': 1116, 'ability': 1117, 'communist': 1118, 'passed': 1119, 'navy': 1120, 'purpose': 1121, 'approximately': 1122, 'composer': 1123, 'equal': 1124, 'appointed': 1125, 'committee': 1126, 'ed': 1127, 'centuries': 1128, 'table': 1129, 'forced': 1130, 'lack': 1131, 'individuals': 1132, 'places': 1133, 'chicago': 1134, 'belief': 1135, 'consider': 1136, 'hebrew': 1137, 'refers': 1138, 'clear': 1139, 'values': 1140, 'dance': 1141, 'agreement': 1142, 'response': 1143, 'temperature': 1144, 'sexual': 1145, 'comes': 1146, 'faith': 1147, 'environment': 1148, 'paper': 1149, 'climate': 1150, 'carbon': 1151, 'daughter': 1152, 'electric': 1153, 'www': 1154, 'station': 1155, 'ad': 1156, 'speech': 1157, 'sex': 1158, 'ship': 1159, 'evolution': 1160, 'martin': 1161, 'microsoft': 1162, 'noted': 1163, 'usa': 1164, 'supported': 1165, 'via': 1166, 'industrial': 1167, 'border': 1168, 'feature': 1169, 'christianity': 1170, 'treatment': 1171, 'motion': 1172, 'management': 1173, 'computers': 1174, 'performed': 1175, 'summer': 1176, 'necessary': 1177, 'intended': 1178, 'miles': 1179, 'calendar': 1180, 'animal': 1181, 'remain': 1182, 'internal': 1183, 'disease': 1184, 'convention': 1185, 'wars': 1186, 'worked': 1187, 'flight': 1188, 'round': 1189, 'acts': 1190, 'kind': 1191, 'multiple': 1192, 'reading': 1193, 'labour': 1194, 'physics': 1195, 'speaking': 1196, 'users': 1197, 'signed': 1198, 'brown': 1199, 'critical': 1200, 'sir': 1201, 'bridge': 1202, 'mathematical': 1203, 'billion': 1204, 'sets': 1205, 'translation': 1206, 'regarded': 1207, 'branch': 1208, 'beyond': 1209, 'von': 1210, 'medicine': 1211, 'ethnic': 1212, 'polish': 1213, 'write': 1214, 'reached': 1215, 'location': 1216, 'conflict': 1217, 'province': 1218, 'sold': 1219, 'remaining': 1220, 'apple': 1221, 'financial': 1222, 'provides': 1223, 'approach': 1224, 'notably': 1225, 'am': 1226, 'administration': 1227, 'heart': 1228, 'stars': 1229, 'campaign': 1230, 'figure': 1231, 'joined': 1232, 'distribution': 1233, 'theories': 1234, 'port': 1235, 'cut': 1236, 'command': 1237, 'tree': 1238, 'models': 1239, 'influenced': 1240, 'distance': 1241, 'conservative': 1242, 'direction': 1243, 'kings': 1244, 'district': 1245, 'why': 1246, 'intelligence': 1247, 'greece': 1248, 'face': 1249, 'q': 1250, 'leaders': 1251, 'cold': 1252, 'guide': 1253, 'activity': 1254, 'humans': 1255, 'opposition': 1256, 'previously': 1257, 'executive': 1258, 'labor': 1259, 'poor': 1260, 'quality': 1261, 'needed': 1262, 'symbol': 1263, 'logic': 1264, 'extremely': 1265, 'completely': 1266, 'jean': 1267, 'loss': 1268, 'plan': 1269, 'regular': 1270, 'pacific': 1271, 'vote': 1272, 'contemporary': 1273, 'allows': 1274, 'department': 1275, 'advanced': 1276, 'edward': 1277, 'occur': 1278, 'powerful': 1279, 'secret': 1280, 'acid': 1281, 'actual': 1282, 'reported': 1283, 'content': 1284, 'unique': 1285, 'gives': 1286, 'poet': 1287, 'context': 1288, 'iron': 1289, 'stated': 1290, 'cover': 1291, 'becoming': 1292, 'poland': 1293, 'justice': 1294, 'prior': 1295, 'fourth': 1296, 'critics': 1297, 'turned': 1298, 'difference': 1299, 'met': 1300, 'weapons': 1301, 'dark': 1302, 'foundation': 1303, 'na': 1304, 'standards': 1305, 'episode': 1306, 'electronic': 1307, 'address': 1308, 'greatest': 1309, 'musician': 1310, 'usage': 1311, 'fields': 1312, 'featured': 1313, 'training': 1314, 'net': 1315, 'scholars': 1316, 'regional': 1317, 'hours': 1318, 'application': 1319, 'inside': 1320, 'unlike': 1321, 'formal': 1322, 'nd': 1323, 'win': 1324, 'describe': 1325, 'ships': 1326, 'sports': 1327, 'churches': 1328, 'resulting': 1329, 'moving': 1330, 'arabic': 1331, 'et': 1332, 'netherlands': 1333, 'carried': 1334, 'exchange': 1335, 'failed': 1336, 'reasons': 1337, 'brain': 1338, 'month': 1339, 'shot': 1340, 'continue': 1341, 'responsible': 1342, 'nor': 1343, 'going': 1344, 'format': 1345, 'spread': 1346, 'opposed': 1347, 'org': 1348, 'universal': 1349, 'supreme': 1350, 'scottish': 1351, 'mexico': 1352, 'architecture': 1353, 'starting': 1354, 'somewhat': 1355, 'decision': 1356, 'islamic': 1357, 'argument': 1358, 'oxford': 1359, 'berlin': 1360, 'activities': 1361, 'keep': 1362, 'views': 1363, 'materials': 1364, 'spoken': 1365, 'biography': 1366, 'potential': 1367, 'technical': 1368, 'pass': 1369, 'kong': 1370, 'follows': 1371, 'declared': 1372, 'attempts': 1373, 'voice': 1374, 'hands': 1375, 'transport': 1376, 'spirit': 1377, 'indeed': 1378, 'artist': 1379, 'deal': 1380, 'generation': 1381, 'contain': 1382, 'constant': 1383, 'heat': 1384, 'charge': 1385, 'composed': 1386, 'growing': 1387, 'ended': 1388, 'appearance': 1389, 'cambridge': 1390, 'geography': 1391, 'represented': 1392, 'le': 1393, 'flag': 1394, 'encyclopedia': 1395, 'increasing': 1396, 'possibly': 1397, 'families': 1398, 'seems': 1399, 'el': 1400, 'friends': 1401, 'mission': 1402, 'los': 1403, 'dna': 1404, 'upper': 1405, 'look': 1406, 'stations': 1407, 'easily': 1408, 'card': 1409, 'principle': 1410, 'academy': 1411, 'identity': 1412, 'equipment': 1413, 'armed': 1414, 'giving': 1415, 'arab': 1416, 'die': 1417, 'global': 1418, 'master': 1419, 'christians': 1420, 'extended': 1421, 'announced': 1422, 'reform': 1423, 'positive': 1424, 'comic': 1425, 'muslim': 1426, 'causes': 1427, 'compared': 1428, 'income': 1429, 'choice': 1430, 'arthur': 1431, 'technique': 1432, 'golden': 1433, 'string': 1434, 'cup': 1435, 'protection': 1436, 'attacks': 1437, 'decided': 1438, 'plant': 1439, 'serious': 1440, 'sign': 1441, 'prevent': 1442, 'immediately': 1443, 'winter': 1444, 'feet': 1445, 'medieval': 1446, 'fully': 1447, 'efforts': 1448, 'initially': 1449, 'directed': 1450, 'organizations': 1451, 'exists': 1452, 'extensive': 1453, 'traditionally': 1454, 'airport': 1455, 'presence': 1456, 'equivalent': 1457, 'plants': 1458, 'negative': 1459, 'search': 1460, 'argued': 1461, 'deep': 1462, 'fans': 1463, 'austria': 1464, 'link': 1465, 'follow': 1466, 'controlled': 1467, 'alone': 1468, 'valley': 1469, 'combined': 1470, 'signal': 1471, 'occurs': 1472, 'proved': 1473, 'drive': 1474, 'understanding': 1475, 'imperial': 1476, 'linear': 1477, 'bay': 1478, 'differences': 1479, 'student': 1480, 'van': 1481, 'stone': 1482, 'useful': 1483, 'situation': 1484, 'share': 1485, 'serve': 1486, 'distinct': 1487, 'classic': 1488, 'iv': 1489, 'allowing': 1490, 'effective': 1491, 'mentioned': 1492, 'solution': 1493, 'drug': 1494, 'require': 1495, 'measure': 1496, 'expected': 1497, 'boy': 1498, 'urban': 1499, 'device': 1500, 'citizens': 1501, 'initial': 1502, 'classes': 1503, 'debate': 1504, 'guitar': 1505, 'secretary': 1506, 'communities': 1507, 'victory': 1508, 'portuguese': 1509, 'gained': 1510, 'let': 1511, 'nothing': 1512, 'artists': 1513, 'commission': 1514, 'recognized': 1515, 'horse': 1516, 'relative': 1517, 'judaism': 1518, 'ford': 1519, 'bass': 1520, 'entirely': 1521, 'teams': 1522, 'actions': 1523, 'conference': 1524, 'weight': 1525, 'fish': 1526, 'hill': 1527, 'represent': 1528, 'politician': 1529, 'begins': 1530, 'completed': 1531, 'writings': 1532, 'gdp': 1533, 'wing': 1534, 'otherwise': 1535, 'unknown': 1536, 'aid': 1537, 'ruled': 1538, 'sites': 1539, 'journal': 1540, 'audio': 1541, 'finland': 1542, 'cards': 1543, 'domestic': 1544, 'behavior': 1545, 'connected': 1546, 'arms': 1547, 'reaction': 1548, 'earliest': 1549, 'controversy': 1550, 'mountain': 1551, 'suggested': 1552, 'trial': 1553, 'attention': 1554, 'containing': 1555, 'workers': 1556, 'principles': 1557, 'sequence': 1558, 'un': 1559, 'host': 1560, 'jerusalem': 1561, 'literary': 1562, 'cycle': 1563, 'fuel': 1564, 'officially': 1565, 'reduced': 1566, 'scientists': 1567, 'travel': 1568, 'figures': 1569, 'americans': 1570, 'prominent': 1571, 'popularity': 1572, 'fighting': 1573, 'lincoln': 1574, 'scene': 1575, 'instruments': 1576, 'structures': 1577, 'ones': 1578, 'increasingly': 1579, 'frank': 1580, 'iraq': 1581, 'requires': 1582, 'tend': 1583, 'entry': 1584, 'typical': 1585, 'temple': 1586, 'israeli': 1587, 'statement': 1588, 'track': 1589, 'discussion': 1590, 'says': 1591, 'jack': 1592, 'lives': 1593, 'daily': 1594, 'contrast': 1595, 'goal': 1596, 'frequency': 1597, 'specifically': 1598, 'rd': 1599, 'impact': 1600, 'winning': 1601, 'fast': 1602, 'review': 1603, 'atlantic': 1604, 'images': 1605, 'texas': 1606, 'description': 1607, 'depending': 1608, 'senate': 1609, 'dynasty': 1610, 'rich': 1611, 'domain': 1612, 'criticism': 1613, 'islam': 1614, 'importance': 1615, 'inspired': 1616, 'begin': 1617, 'destroyed': 1618, 'price': 1619, 'friend': 1620, 'jones': 1621, 'contact': 1622, 'mm': 1623, 'entered': 1624, 'devices': 1625, 'closely': 1626, 'invasion': 1627, 'texts': 1628, 'background': 1629, 'mountains': 1630, 'toward': 1631, 'closed': 1632, 'corporation': 1633, 'wall': 1634, 'removed': 1635, 'afghanistan': 1636, 'mythology': 1637, 'zealand': 1638, 'killing': 1639, 'rare': 1640, 'apollo': 1641, 'jazz': 1642, 'helped': 1643, 'hong': 1644, 'slightly': 1645, 'quantum': 1646, 'runs': 1647, 'hot': 1648, 'presidential': 1649, 'attempted': 1650, 'boston': 1651, 'asked': 1652, 'kept': 1653, 'fixed': 1654, 'dictionary': 1655, 'agreed': 1656, 'plays': 1657, 'bishop': 1658, 'alphabet': 1659, 'determined': 1660, 'sweden': 1661, 'buildings': 1662, 'traditions': 1663, 'reign': 1664, 'existing': 1665, 'communications': 1666, 'violence': 1667, 'ages': 1668, 'phase': 1669, 'hydrogen': 1670, 'controversial': 1671, 'meant': 1672, 'formation': 1673, 'twenty': 1674, 'thousands': 1675, 'agriculture': 1676, 'resulted': 1677, 'movies': 1678, 'occurred': 1679, 'focus': 1680, 'offered': 1681, 'estimated': 1682, 'heavily': 1683, 'discovery': 1684, 'mi': 1685, 'tour': 1686, 'comics': 1687, 'zone': 1688, 'ring': 1689, 'connection': 1690, 'develop': 1691, 'governments': 1692, 'aspects': 1693, 'argue': 1694, 'damage': 1695, 'austrian': 1696, 'albert': 1697, 'ibm': 1698, 'factors': 1699, 'avoid': 1700, 'combination': 1701, 'combat': 1702, 'pro': 1703, 'affairs': 1704, 'novels': 1705, 'sum': 1706, 'expansion': 1707, 'doctrine': 1708, 'competition': 1709, 'hungary': 1710, 'leadership': 1711, 'category': 1712, 'flow': 1713, 'week': 1714, 'genetic': 1715, 'soldiers': 1716, 'leaving': 1717, 'opened': 1718, 'os': 1719, 'reports': 1720, 'holds': 1721, 'mac': 1722, 'territories': 1723, 'jackson': 1724, 'step': 1725, 'algorithm': 1726, 'stop': 1727, 'truth': 1728, 'reality': 1729, 'theorem': 1730, 'fell': 1731, 'room': 1732, 'origins': 1733, 'bob': 1734, 'effort': 1735, 'care': 1736, 'instrument': 1737, 'crown': 1738, 'defeated': 1739, 'democracy': 1740, 'concepts': 1741, 'hence': 1742, 'picture': 1743, 'permanent': 1744, 'nazi': 1745, 'protocol': 1746, 'gun': 1747, 'wikipedia': 1748, 'tried': 1749, 'fundamental': 1750, 'professor': 1751, 'planet': 1752, 'christmas': 1753, 'communication': 1754, 'told': 1755, 'topics': 1756, 'presented': 1757, 'identified': 1758, 'beliefs': 1759, 'statistics': 1760, 'normally': 1761, 'opening': 1762, 'spent': 1763, 'constitutional': 1764, 'columbia': 1765, 'annual': 1766, 'subsequent': 1767, 'evil': 1768, 'extreme': 1769, 'testament': 1770, 'continues': 1771, 'details': 1772, 'gods': 1773, 'supply': 1774, 'institutions': 1775, 'formula': 1776, 'moral': 1777, 'grew': 1778, 'learning': 1779, 'currency': 1780, 'disk': 1781, 'actors': 1782, 'wanted': 1783, 'fight': 1784, 'defeat': 1785, 'pronounced': 1786, 'creating': 1787, 'subsequently': 1788, 'break': 1789, 'output': 1790, 'marked': 1791, 'goods': 1792, 'leave': 1793, 'hardware': 1794, 'cd': 1795, 'broadcast': 1796, 'bond': 1797, 'thing': 1798, 'environmental': 1799, 'goes': 1800, 'none': 1801, 'decades': 1802, 'forward': 1803, 'expressed': 1804, 'risk': 1805, 'reach': 1806, 'machines': 1807, 'processes': 1808, 'bodies': 1809, 'census': 1810, 'think': 1811, 'lists': 1812, 'glass': 1813, 'organized': 1814, 'pages': 1815, 'murder': 1816, 'vice': 1817, 'angeles': 1818, 'movements': 1819, 'bush': 1820, 'cultures': 1821, 'respect': 1822, 'meeting': 1823, 'roughly': 1824, 'stand': 1825, 'fictional': 1826, 'condition': 1827, 'interpretation': 1828, 'fantasy': 1829, 'historians': 1830, 'policies': 1831, 'questions': 1832, 'display': 1833, 'copyright': 1834, 'founder': 1835, 'maintain': 1836, 'lee': 1837, 'mode': 1838, 'positions': 1839, 'fame': 1840, 'import': 1841, 'carry': 1842, 'chosen': 1843, 'linux': 1844, 'swedish': 1845, 'advantage': 1846, 'raised': 1847, 'observed': 1848, 'receive': 1849, 'formerly': 1850, 'philosopher': 1851, 'atoms': 1852, 'server': 1853, 'jpg': 1854, 'sides': 1855, 'brothers': 1856, 'shortly': 1857, 'resistance': 1858, 'translated': 1859, 'database': 1860, 'super': 1861, 'ch': 1862, 'administrative': 1863, 'message': 1864, 'parents': 1865, 'considerable': 1866, 'shape': 1867, 'target': 1868, 'bad': 1869, 'build': 1870, 'extent': 1871, 'plane': 1872, 'understand': 1873, 'tribes': 1874, 'regarding': 1875, 'mobile': 1876, 'tower': 1877, 'spring': 1878, 'greatly': 1879, 'studied': 1880, 'brazil': 1881, 'tax': 1882, 'transportation': 1883, 'characteristics': 1884, 'wood': 1885, 'railway': 1886, 'screen': 1887, 'needs': 1888, 'equation': 1889, 'piece': 1890, 'chapter': 1891, 'failure': 1892, 'persian': 1893, 'revolutionary': 1894, 'respectively': 1895, 'stock': 1896, 'ordered': 1897, 'pay': 1898, 'chemistry': 1899, 'proper': 1900, 'split': 1901, 'dog': 1902, 'economics': 1903, 'owned': 1904, 'wave': 1905, 'rates': 1906, 'johnson': 1907, 'doctor': 1908, 'projects': 1909, 'iran': 1910, 'pp': 1911, 'peoples': 1912, 'philosophical': 1913, 'match': 1914, 'captain': 1915, 'asian': 1916, 'bring': 1917, 'minutes': 1918, 'symbols': 1919, 'settlement': 1920, 'bar': 1921, 'relation': 1922, 'covered': 1923, 'seats': 1924, 'awarded': 1925, 'launched': 1926, 'representation': 1927, 'neither': 1928, 'crime': 1929, 'percent': 1930, 'refused': 1931, 'naval': 1932, 'sister': 1933, 'gain': 1934, 'describes': 1935, 'whereas': 1936, 'ends': 1937, 'perform': 1938, 'satellite': 1939, 'semi': 1940, 'korea': 1941, 'staff': 1942, 'expression': 1943, 'wild': 1944, 'processing': 1945, 'coming': 1946, 'wales': 1947, 'academic': 1948, 'pieces': 1949, 'comedy': 1950, 'drugs': 1951, 'chain': 1952, 'occasionally': 1953, 'manner': 1954, 'purposes': 1955, 'meet': 1956, 'producer': 1957, 'protestant': 1958, 'mixed': 1959, 'strength': 1960, 'counter': 1961, 'ray': 1962, 'storage': 1963, 'anything': 1964, 'felt': 1965, 'parallel': 1966, 'mental': 1967, 'spiritual': 1968, 'occupied': 1969, 'mr': 1970, 'foot': 1971, 'practical': 1972, 'count': 1973, 'towns': 1974, 'saying': 1975, 'easy': 1976, 'electrical': 1977, 'enemy': 1978, 'speak': 1979, 'inhabitants': 1980, 'plans': 1981, 'medium': 1982, 'courts': 1983, 'quarter': 1984, 'village': 1985, 'persons': 1986, 'layer': 1987, 'factor': 1988, 'degrees': 1989, 'granted': 1990, 'fifth': 1991, 'seat': 1992, 'dialects': 1993, 'sport': 1994, 'pattern': 1995, 'binary': 1996, 'weeks': 1997, 'composition': 1998, 'got': 1999, 'michigan': 2000, 'selected': 2001, 'pop': 2002, 'widespread': 2003, 'algebra': 2004, 'magnetic': 2005, 'blues': 2006, 'alliance': 2007, 'festival': 2008, 'ft': 2009, 'speakers': 2010, 'authors': 2011, 'crew': 2012, 'core': 2013, 'folk': 2014, 'commonwealth': 2015, 'legislative': 2016, 'accept': 2017, 'similarly': 2018, 'divine': 2019, 'achieved': 2020, 'determine': 2021, 'someone': 2022, 'particles': 2023, 'sector': 2024, 'density': 2025, 'influential': 2026, 'dispute': 2027, 'criminal': 2028, 'newspaper': 2029, 'supporters': 2030, 'solar': 2031, 'elizabeth': 2032, 'contract': 2033, 'offer': 2034, 'traffic': 2035, 'orders': 2036, 'houses': 2037, 'rivers': 2038, 'awards': 2039, 'principal': 2040, 'der': 2041, 'worldwide': 2042, 'hitler': 2043, 'files': 2044, 'teaching': 2045, 'apparently': 2046, 'des': 2047, 'gospel': 2048, 'titles': 2049, 'clearly': 2050, 'providing': 2051, 'universities': 2052, 'hungarian': 2053, 'publication': 2054, 'suffered': 2055, 'electricity': 2056, 'camp': 2057, 'cars': 2058, 'doing': 2059, 'crisis': 2060, 'false': 2061, 'issued': 2062, 'perfect': 2063, 'circle': 2064, 'interface': 2065, 'denmark': 2066, 'legend': 2067, 'nfl': 2068, 'nevertheless': 2069, 'ultimately': 2070, 'solid': 2071, 'contained': 2072, 'extra': 2073, 'surrounding': 2074, 'throne': 2075, 'setting': 2076, 'sort': 2077, 'standing': 2078, 'oldest': 2079, 'safety': 2080, 'jordan': 2081, 'measures': 2082, 'plus': 2083, 'danish': 2084, 'agricultural': 2085, 'pictures': 2086, 'practices': 2087, 'showing': 2088, 'commander': 2089, 'strip': 2090, 'block': 2091, 'maps': 2092, 'fan': 2093, 'recording': 2094, 'maximum': 2095, 'gulf': 2096, 'celtic': 2097, 'add': 2098, 'distinction': 2099, 'correct': 2100, 'atomic': 2101, 'reduce': 2102, 'secondary': 2103, 'everything': 2104, 'lies': 2105, 'root': 2106, 'linked': 2107, 'virginia': 2108, 'genre': 2109, 'jr': 2110, 'lands': 2111, 'sons': 2112, 'marine': 2113, 'limit': 2114, 'taught': 2115, 'producing': 2116, 'pure': 2117, 'bwv': 2118, 'huge': 2119, 'engines': 2120, 'sought': 2121, 'shared': 2122, 'agency': 2123, 'steel': 2124, 'cable': 2125, 'mechanics': 2126, 'strongly': 2127, 'accounts': 2128, 'eye': 2129, 'capable': 2130, 'classification': 2131, 'palace': 2132, 'constructed': 2133, 'egyptian': 2134, 'document': 2135, 'religions': 2136, 'resolution': 2137, 'hundred': 2138, 'box': 2139, 'unable': 2140, 'showed': 2141, 'francis': 2142, 'components': 2143, 'muslims': 2144, 'molecules': 2145, 'sciences': 2146, 'radiation': 2147, 'massive': 2148, 'hour': 2149, 'pc': 2150, 'want': 2151, 'ending': 2152, 'mount': 2153, 'judge': 2154, 'opposite': 2155, 'historically': 2156, 'input': 2157, 'continuous': 2158, 'detailed': 2159, 'cast': 2160, 'ministers': 2161, 'shall': 2162, 'vast': 2163, 'alcohol': 2164, 'bus': 2165, 'involves': 2166, 'biology': 2167, 'invented': 2168, 'represents': 2169, 'republican': 2170, 'computing': 2171, 'proof': 2172, 'multi': 2173, 'rejected': 2174, 'succeeded': 2175, 'rarely': 2176, 'expanded': 2177, 'flat': 2178, 'civilization': 2179, 'capacity': 2180, 'documents': 2181, 'impossible': 2182, 'alpha': 2183, 'illinois': 2184, 'lewis': 2185, 'dates': 2186, 'destruction': 2187, 'slow': 2188, 'planned': 2189, 'biological': 2190, 'bottom': 2191, 'championship': 2192, 'theatre': 2193, 'networks': 2194, 'phrase': 2195, 'provinces': 2196, 'francisco': 2197, 'indicate': 2198, 'ratio': 2199, 'molecular': 2200, 'paid': 2201, 'tools': 2202, 'license': 2203, 'route': 2204, 'honor': 2205, 'sub': 2206, 'hollywood': 2207, 'progress': 2208, 'brief': 2209, 'vol': 2210, 'trees': 2211, 'theme': 2212, 'societies': 2213, 'mail': 2214, 'managed': 2215, 'continental': 2216, 'essential': 2217, 'essentially': 2218, 'manager': 2219, 'rail': 2220, 'settled': 2221, 'poetry': 2222, 'turkey': 2223, 'pakistan': 2224, 'viewed': 2225, 'harvard': 2226, 'merely': 2227, 'investment': 2228, 'castle': 2229, 'job': 2230, 'fine': 2231, 'authorities': 2232, 'visit': 2233, 'turkish': 2234, 'understood': 2235, 'ca': 2236, 'eu': 2237, 'captured': 2238, 'fought': 2239, 'severe': 2240, 'transfer': 2241, 'developing': 2242, 'del': 2243, 'colonies': 2244, 'lady': 2245, 'studio': 2246, 'html': 2247, 'depression': 2248, 'kill': 2249, 'gay': 2250, 'wind': 2251, 'caesar': 2252, 'candidate': 2253, 'magic': 2254, 'exports': 2255, 'seem': 2256, 'interests': 2257, 'store': 2258, 'portion': 2259, 'visible': 2260, 'assumed': 2261, 'publishing': 2262, 'editor': 2263, 'exactly': 2264, 'newton': 2265, 'edge': 2266, 'lebanon': 2267, 'weapon': 2268, 'really': 2269, 'directory': 2270, 'fair': 2271, 'dedicated': 2272, 'intellectual': 2273, 'daniel': 2274, 'twelve': 2275, 'significantly': 2276, 'absolute': 2277, 'demand': 2278, 'strategy': 2279, 'obtained': 2280, 'clinton': 2281, 'liquid': 2282, 'florida': 2283, 'plot': 2284, 'java': 2285, 'equations': 2286, 'stadium': 2287, 'desert': 2288, 'artificial': 2289, 'variations': 2290, 'drawn': 2291, 'vector': 2292, 'designs': 2293, 'rose': 2294, 'ran': 2295, 'regard': 2296, 'feel': 2297, 'train': 2298, 'forest': 2299, 'overall': 2300, 'representatives': 2301, 'maintained': 2302, 'bear': 2303, 'arrived': 2304, 'mechanical': 2305, 'jim': 2306, 'philosophers': 2307, 'items': 2308, 'fear': 2309, 'logical': 2310, 'hop': 2311, 'darwin': 2312, 'vary': 2313, 'portugal': 2314, 'guinea': 2315, 'featuring': 2316, 'acting': 2317, 'improved': 2318, 'dominant': 2319, 'causing': 2320, 'modified': 2321, 'bell': 2322, 'dry': 2323, 'enter': 2324, 'cia': 2325, 'officer': 2326, 'path': 2327, 'iso': 2328, 'korean': 2329, 'andrew': 2330, 'tom': 2331, 'minority': 2332, 'occupation': 2333, 'apart': 2334, 'thousand': 2335, 'infinite': 2336, 'oxygen': 2337, 'mathbf': 2338, 'straight': 2339, 'rapidly': 2340, 'revealed': 2341, 'vietnam': 2342, 'heaven': 2343, 'saints': 2344, 'gene': 2345, 'colonial': 2346, 'define': 2347, 'fleet': 2348, 'socialist': 2349, 'kansas': 2350, 'protect': 2351, 'exception': 2352, 'psychology': 2353, 'twice': 2354, 'circuit': 2355, 'cancer': 2356, 'membership': 2357, 'stephen': 2358, 'holding': 2359, 'musicians': 2360, 'soul': 2361, 'index': 2362, 'flying': 2363, 'protein': 2364, 'fashion': 2365, 'exact': 2366, 'indo': 2367, 'recognition': 2368, 'physicist': 2369, 'distributed': 2370, 'listed': 2371, 'apply': 2372, 'ago': 2373, 'virtual': 2374, 'inc': 2375, 'massachusetts': 2376, 'mars': 2377, 'adam': 2378, 'colony': 2379, 'agent': 2380, 'electron': 2381, 'cabinet': 2382, 'extension': 2383, 'separated': 2384, 'coach': 2385, 'forum': 2386, 'coalition': 2387, 'visual': 2388, 'scott': 2389, 'adult': 2390, 'periods': 2391, 'suggests': 2392, 'davis': 2393, 'dominated': 2394, 'employed': 2395, 'hero': 2396, 'reputation': 2397, 'looking': 2398, 'literally': 2399, 'existed': 2400, 'entitled': 2401, 'selection': 2402, 'males': 2403, 'changing': 2404, 'defence': 2405, 'subjects': 2406, 'alfred': 2407, 'grammar': 2408, 'younger': 2409, 'interview': 2410, 'experiment': 2411, 'opinion': 2412, 'howard': 2413, 'jersey': 2414, 'stable': 2415, 'tourism': 2416, 'expensive': 2417, 'publications': 2418, 'finite': 2419, 'radical': 2420, 'audience': 2421, 'pair': 2422, 'decline': 2423, 'mainstream': 2424, 'sky': 2425, 'bits': 2426, 'franklin': 2427, 'bands': 2428, 'necessarily': 2429, 'contributed': 2430, 'effectively': 2431, 'cuba': 2432, 'vi': 2433, 'express': 2434, 'concerning': 2435, 'opera': 2436, 'adams': 2437, 'sounds': 2438, 'choose': 2439, 'broad': 2440, 'historian': 2441, 'signs': 2442, 'mathematician': 2443, 'allied': 2444, 'vehicle': 2445, 'executed': 2446, 'joint': 2447, 'calls': 2448, 'romans': 2449, 'moore': 2450, 'guard': 2451, 'try': 2452, 'affected': 2453, 'eyes': 2454, 'germanic': 2455, 'samuel': 2456, 'atmosphere': 2457, 'yellow': 2458, 'formally': 2459, 'error': 2460, 'vehicles': 2461, 'painter': 2462, 'kennedy': 2463, 'hockey': 2464, 'belgium': 2465, 'albums': 2466, 'hundreds': 2467, 'evolved': 2468, 'philip': 2469, 'trying': 2470, 'husband': 2471, 'compounds': 2472, 'committed': 2473, 'ministry': 2474, 'federation': 2475, 'roots': 2476, 'heard': 2477, 'concerned': 2478, 'coup': 2479, 'temperatures': 2480, 'stands': 2481, 'matters': 2482, 'historic': 2483, 'cape': 2484, 'dvd': 2485, 'underground': 2486, 'attributed': 2487, 'apparent': 2488, 'clock': 2489, 'georgia': 2490, 'officials': 2491, 'instruction': 2492, 'rapid': 2493, 'youth': 2494, 'broken': 2495, 'graphics': 2496, 'carl': 2497, 'broke': 2498, 'prices': 2499, 'treated': 2500, 'residents': 2501, 'nearby': 2502, 'score': 2503, 'kg': 2504, 'else': 2505, 'consciousness': 2506, 'patterns': 2507, 'identical': 2508, 'faster': 2509, 'supporting': 2510, 'gender': 2511, 'relationships': 2512, 'establishment': 2513, 'leads': 2514, 'wealth': 2515, 'learn': 2516, 'chance': 2517, 'grant': 2518, 'join': 2519, 'amounts': 2520, 'renamed': 2521, 'earl': 2522, 'incorporated': 2523, 'fox': 2524, 'serving': 2525, 'silver': 2526, 'warfare': 2527, 'styles': 2528, 'involving': 2529, 'strike': 2530, 'successor': 2531, 'officers': 2532, 'ottoman': 2533, 'beer': 2534, 'russell': 2535, 'banks': 2536, 'lakes': 2537, 'mediterranean': 2538, 'favor': 2539, 'dc': 2540, 'lunar': 2541, 'conventional': 2542, 'height': 2543, 'budget': 2544, 'sales': 2545, 'appeal': 2546, 'regime': 2547, 'decade': 2548, 'poem': 2549, 'disc': 2550, 'leaves': 2551, 'donald': 2552, 'judicial': 2553, 'inner': 2554, 'variable': 2555, 'ordinary': 2556, 'indiana': 2557, 'norway': 2558, 'logo': 2559, 'unusual': 2560, 'costs': 2561, 'biblical': 2562, 'partly': 2563, 'chamber': 2564, 'unless': 2565, 'lie': 2566, 'talk': 2567, 'achieve': 2568, 'episodes': 2569, 'particle': 2570, 'da': 2571, 'trading': 2572, 'declaration': 2573, 'gradually': 2574, 'frame': 2575, 'parliamentary': 2576, 'concentration': 2577, 'fort': 2578, 'legislation': 2579, 'finished': 2580, 'stalin': 2581, 'notion': 2582, 'meters': 2583, 'cult': 2584, 'random': 2585, 'acquired': 2586, 'script': 2587, 'prison': 2588, 'girl': 2589, 'suggest': 2590, 'educational': 2591, 'dialect': 2592, 'comparison': 2593, 'consumption': 2594, 'mike': 2595, 'opponents': 2596, 'distinguished': 2597, 'czech': 2598, 'roll': 2599, 'advance': 2600, 'cat': 2601, 'racing': 2602, 'dangerous': 2603, 'component': 2604, 'joe': 2605, 'byzantine': 2606, 'peninsula': 2607, 'categories': 2608, 'draw': 2609, 'reforms': 2610, 'rural': 2611, 'consisting': 2612, 'anglo': 2613, 'answer': 2614, 'anyone': 2615, 'suicide': 2616, 'substance': 2617, 'finnish': 2618, 'succession': 2619, 'balance': 2620, 'manufacturing': 2621, 'rulers': 2622, 'intelligent': 2623, 'sections': 2624, 'characteristic': 2625, 'successfully': 2626, 'newly': 2627, 'hair': 2628, 'dimensional': 2629, 'mayor': 2630, 'demographics': 2631, 'walls': 2632, 'converted': 2633, 'harry': 2634, 'abandoned': 2635, 'rank': 2636, 'adding': 2637, 'vowel': 2638, 'collected': 2639, 'champion': 2640, 'concerns': 2641, 'fit': 2642, 'branches': 2643, 'codes': 2644, 'selling': 2645, 'theology': 2646, 'birds': 2647, 'prayer': 2648, 'interesting': 2649, 'vs': 2650, 'telephone': 2651, 'drawing': 2652, 'markets': 2653, 'conversion': 2654, 'vision': 2655, 'alternate': 2656, 'notation': 2657, 'knights': 2658, 'phenomenon': 2659, 'williams': 2660, 'learned': 2661, 'stored': 2662, 'indigenous': 2663, 'edited': 2664, 'patients': 2665, 'possibility': 2666, 'heads': 2667, 'onto': 2668, 'steve': 2669, 'threat': 2670, 'escape': 2671, 'boys': 2672, 'accurate': 2673, 'simon': 2674, 'task': 2675, 'swiss': 2676, 'worship': 2677, 'lowest': 2678, 'substantial': 2679, 'bce': 2680, 'superior': 2681, 'hell': 2682, 'einstein': 2683, 'classified': 2684, 'ethics': 2685, 'orbit': 2686, 'divisions': 2687, 'establish': 2688, 'measured': 2689, 'caribbean': 2690, 'olympic': 2691, 'atari': 2692, 'sufficient': 2693, 'intel': 2694, 'allies': 2695, 'conducted': 2696, 'limits': 2697, 'attended': 2698, 'weak': 2699, 'guns': 2700, 'verb': 2701, 'probability': 2702, 'teacher': 2703, 'weather': 2704, 'axis': 2705, 'capture': 2706, 'experienced': 2707, 'struggle': 2708, 'save': 2709, 'passing': 2710, 'hope': 2711, 'offensive': 2712, 'cinema': 2713, 'organisms': 2714, 'operated': 2715, 'emperors': 2716, 'appropriate': 2717, 'di': 2718, 'concert': 2719, 'spectrum': 2720, 'tell': 2721, 'oriented': 2722, 'berkeley': 2723, 'moment': 2724, 'complexity': 2725, 'alan': 2726, 'implementation': 2727, 'lords': 2728, 'holiday': 2729, 'arguments': 2730, 'dollar': 2731, 'violent': 2732, 'copy': 2733, 'genus': 2734, 'interior': 2735, 'compression': 2736, 'geometry': 2737, 'experiments': 2738, 'indonesia': 2739, 'explained': 2740, 'accused': 2741, 'ruth': 2742, 'bomb': 2743, 'corresponding': 2744, 'sin': 2745, 'dependent': 2746, 'painting': 2747, 'mechanism': 2748, 'campus': 2749, 'max': 2750, 'capitalism': 2751, 'minimum': 2752, 'furthermore': 2753, 'giant': 2754, 'calling': 2755, 'walter': 2756, 'functional': 2757, 'label': 2758, 'aids': 2759, 'abraham': 2760, 'industries': 2761, 'inflation': 2762, 'themes': 2763, 'explain': 2764, 'switzerland': 2765, 'strings': 2766, 'charged': 2767, 'lot': 2768, 'alleged': 2769, 'lyrics': 2770, 'karl': 2771, 'infantry': 2772, 'muhammad': 2773, 'priest': 2774, 'perceived': 2775, 'corporate': 2776, 'pennsylvania': 2777, 'instructions': 2778, 'martial': 2779, 'buried': 2780, 'circumstances': 2781, 'brian': 2782, 'proteins': 2783, 'falls': 2784, 'myth': 2785, 'fellow': 2786, 'frequent': 2787, 'cuisine': 2788, 'preferred': 2789, 'scientist': 2790, 'tone': 2791, 'integrated': 2792, 'begun': 2793, 'replace': 2794, 'visited': 2795, 'il': 2796, 'generated': 2797, 'facts': 2798, 'organic': 2799, 'mouse': 2800, 'platform': 2801, 'fairly': 2802, 'approved': 2803, 'assigned': 2804, 'carrier': 2805, 'finding': 2806, 'dropped': 2807, 'wilson': 2808, 'leap': 2809, 'ben': 2810, 'batman': 2811, 'manchester': 2812, 'laureate': 2813, 'desire': 2814, 'launch': 2815, 'amongst': 2816, 'coastal': 2817, 'colleges': 2818, 'bruce': 2819, 'colors': 2820, 'baltic': 2821, 'argentina': 2822, 'douglas': 2823, 'wrong': 2824, 'garden': 2825, 'skills': 2826, 'moves': 2827, 'mississippi': 2828, 'mouth': 2829, 'alexandria': 2830, 'pdf': 2831, 'roles': 2832, 'gnu': 2833, 'forming': 2834, 'greeks': 2835, 'ohio': 2836, 'heritage': 2837, 'diseases': 2838, 'transmission': 2839, 'abstract': 2840, 'chairman': 2841, 'norwegian': 2842, 'statements': 2843, 'retired': 2844, 'request': 2845, 'voting': 2846, 'increases': 2847, 'arm': 2848, 'velocity': 2849, 'illegal': 2850, 'syria': 2851, 'beings': 2852, 'narrow': 2853, 'thinking': 2854, 'influences': 2855, 'moscow': 2856, 'roosevelt': 2857, 'mexican': 2858, 'votes': 2859, 'characterized': 2860, 'missile': 2861, 'founding': 2862, 'spaces': 2863, 'aspect': 2864, 'missouri': 2865, 'memorial': 2866, 'virtually': 2867, 'pilot': 2868, 'profile': 2869, 'du': 2870, 'experimental': 2871, 'soil': 2872, 'bonds': 2873, 'charges': 2874, 'explanation': 2875, 'poems': 2876, 'tracks': 2877, 'ruler': 2878, 'institution': 2879, 'goddess': 2880, 'agents': 2881, 'airlines': 2882, 'assistance': 2883, 'bacteria': 2884, 'chess': 2885, 'researchers': 2886, 'documentary': 2887, 'testing': 2888, 'ip': 2889, 'theoretical': 2890, 'en': 2891, 'll': 2892, 'aim': 2893, 'hole': 2894, 'gary': 2895, 'supposed': 2896, 'bound': 2897, 'constantine': 2898, 'monster': 2899, 'columbus': 2900, 'delta': 2901, 'definitions': 2902, 'depth': 2903, 'piano': 2904, 'closer': 2905, 'requirements': 2906, 'legacy': 2907, 'hindu': 2908, 'elsewhere': 2909, 'maria': 2910, 'clubs': 2911, 'meat': 2912, 'steps': 2913, 'ensure': 2914, 'depends': 2915, 'preserved': 2916, 'boundaries': 2917, 'spelling': 2918, 'facilities': 2919, 'prove': 2920, 'algorithms': 2921, 'perspective': 2922, 'rising': 2923, 'tropical': 2924, 'northwest': 2925, 'borders': 2926, 'transition': 2927, 'waves': 2928, 'efficient': 2929, 'engineer': 2930, 'door': 2931, 'tool': 2932, 'luther': 2933, 'keyboard': 2934, 'orange': 2935, 'pierre': 2936, 'attached': 2937, 'canal': 2938, 'soft': 2939, 'produces': 2940, 'reserve': 2941, 'coal': 2942, 'signals': 2943, 'electrons': 2944, 'driven': 2945, 'downtown': 2946, 'symptoms': 2947, 'passage': 2948, 'improve': 2949, 'partial': 2950, 'hits': 2951, 'variant': 2952, 'resource': 2953, 'hip': 2954, 'fruit': 2955, 'attacked': 2956, 'imports': 2957, 'metropolitan': 2958, 'node': 2959, 'technologies': 2960, 'entertainment': 2961, 'usual': 2962, 'winner': 2963, 'emerged': 2964, 'additionally': 2965, 'profit': 2966, 'hospital': 2967, 'ideal': 2968, 'salt': 2969, 'shift': 2970, 'sword': 2971, 'laboratory': 2972, 'populations': 2973, 'bird': 2974, 'rice': 2975, 'tests': 2976, 'gravity': 2977, 'consumer': 2978, 'germans': 2979, 'bowl': 2980, 'marx': 2981, 'mainland': 2982, 'opponent': 2983, 'evolutionary': 2984, 'bears': 2985, 'followers': 2986, 'printed': 2987, 'tales': 2988, 'agree': 2989, 'continent': 2990, 'calculus': 2991, 'cpu': 2992, 'emphasis': 2993, 'planning': 2994, 'diamond': 2995, 'frederick': 2996, 'ex': 2997, 'shaped': 2998, 'print': 2999, 'starring': 3000, 'scheme': 3001, 'constantinople': 3002, 'descent': 3003, 'execution': 3004, 'lithuania': 3005, 'boundary': 3006, 'grown': 3007, 'detroit': 3008, 'milk': 3009, 'morning': 3010, 'forth': 3011, 'essay': 3012, 'sugar': 3013, 'peak': 3014, 'basketball': 3015, 'palestinian': 3016, 'napoleon': 3017, 'jurisdiction': 3018, 'laid': 3019, 'hypothesis': 3020, 'dating': 3021, 'chile': 3022, 'certainly': 3023, 'identify': 3024, 'beautiful': 3025, 'keeping': 3026, 'mp': 3027, 'judges': 3028, 'survived': 3029, 'headquarters': 3030, 'concern': 3031, 'channels': 3032, 'skin': 3033, 'bah': 3034, 'snow': 3035, 'decisions': 3036, 'lisp': 3037, 'conquest': 3038, 'kinds': 3039, 'disorder': 3040, 'referring': 3041, 'stay': 3042, 'lay': 3043, 'kilometers': 3044, 'macintosh': 3045, 'longest': 3046, 'residence': 3047, 'integral': 3048, 'acids': 3049, 'driver': 3050, 'motor': 3051, 'prepared': 3052, 'representing': 3053, 'solutions': 3054, 'solo': 3055, 'organisation': 3056, 'responsibility': 3057, 'exile': 3058, 'partially': 3059, 'owner': 3060, 'hiv': 3061, 'bishops': 3062, 'crimes': 3063, 'pronunciation': 3064, 'poverty': 3065, 'athens': 3066, 'districts': 3067, 'filled': 3068, 'variants': 3069, 'diplomatic': 3070, 'patent': 3071, 'benefit': 3072, 'angels': 3073, 'monarchy': 3074, 'meanings': 3075, 'copies': 3076, 'locations': 3077, 'minute': 3078, 'procedure': 3079, 'cited': 3080, 'originated': 3081, 'didn': 3082, 'inducted': 3083, 'matrix': 3084, 'headed': 3085, 'celebrated': 3086, 'naturally': 3087, 'battles': 3088, 'representative': 3089, 'operate': 3090, 'covers': 3091, 'grounds': 3092, 'variation': 3093, 'soldier': 3094, 'knew': 3095, 'protected': 3096, 'medal': 3097, 'relativity': 3098, 'easier': 3099, 'seemed': 3100, 'percentage': 3101, 'cm': 3102, 'wine': 3103, 'roads': 3104, 'unix': 3105, 'rebellion': 3106, 'carrying': 3107, 'incident': 3108, 'roger': 3109, 'sunday': 3110, 'animated': 3111, 'hills': 3112, 'gone': 3113, 'familiar': 3114, 'confused': 3115, 'plain': 3116, 'dylan': 3117, 'ultimate': 3118, 'partner': 3119, 'listing': 3120, 'thirty': 3121, 'directors': 3122, 'composers': 3123, 'getting': 3124, 'angle': 3125, 'briefly': 3126, 'comprehensive': 3127, 'descendants': 3128, 'commentary': 3129, 'varies': 3130, 'seek': 3131, 'knight': 3132, 'holidays': 3133, 'abuse': 3134, 'presidency': 3135, 'extinct': 3136, 'recipient': 3137, 'liberty': 3138, 'armies': 3139, 'victoria': 3140, 'distinguish': 3141, 'dublin': 3142, 'grow': 3143, 'marshall': 3144, 'assassination': 3145, 'landing': 3146, 'papers': 3147, 'overview': 3148, 'ontario': 3149, 'goals': 3150, 'opportunity': 3151, 'defensive': 3152, 'automatic': 3153, 'offers': 3154, 'confirmed': 3155, 'absence': 3156, 'performing': 3157, 'ma': 3158, 'fluid': 3159, 'dos': 3160, 'nasa': 3161, 'sentence': 3162, 'finalist': 3163, 'ports': 3164, 'interpreted': 3165, 'collapse': 3166, 'processor': 3167, 'encouraged': 3168, 'contributions': 3169, 'emergency': 3170, 'fly': 3171, 'remove': 3172, 'bulgaria': 3173, 'register': 3174, 'enemies': 3175, 'vowels': 3176, 'victims': 3177, 'macedonia': 3178, 'png': 3179, 'afterwards': 3180, 'serves': 3181, 'ranked': 3182, 'indicates': 3183, 'difficulty': 3184, 'personality': 3185, 'southeast': 3186, 'floor': 3187, 'credited': 3188, 'renaissance': 3189, 'noun': 3190, 'atom': 3191, 'cathedral': 3192, 'interaction': 3193, 'walk': 3194, 'nato': 3195, 'stages': 3196, 'promote': 3197, 'hamilton': 3198, 'agave': 3199, 'basque': 3200, 'faced': 3201, 'pitch': 3202, 'sacred': 3203, 'unity': 3204, 'tape': 3205, 'eric': 3206, 'bibliography': 3207, 'household': 3208, 'cash': 3209, 'survive': 3210, 'phenomena': 3211, 'colour': 3212, 'forests': 3213, 'drop': 3214, 'obtain': 3215, 'losing': 3216, 'reactions': 3217, 'carter': 3218, 'presidents': 3219, 'boat': 3220, 'vienna': 3221, 'possession': 3222, 'focused': 3223, 'shell': 3224, 'continuing': 3225, 'safe': 3226, 'debt': 3227, 'brand': 3228, 'compact': 3229, 'southwest': 3230, 'substances': 3231, 'titled': 3232, 'passenger': 3233, 'reaching': 3234, 'charter': 3235, 'diverse': 3236, 'discussed': 3237, 'friedrich': 3238, 'funds': 3239, 'highway': 3240, 'tony': 3241, 'credit': 3242, 'transferred': 3243, 'communism': 3244, 'benjamin': 3245, 'happened': 3246, 'monarch': 3247, 'baptism': 3248, 'lesser': 3249, 'challenge': 3250, 'beat': 3251, 'seasons': 3252, 'linguistic': 3253, 'chose': 3254, 'plate': 3255, 'slave': 3256, 'breaking': 3257, 'artistic': 3258, 'engineers': 3259, 'gregorian': 3260, 'beach': 3261, 'crystal': 3262, 'electoral': 3263, 'citizen': 3264, 'carolina': 3265, 'dream': 3266, 'regardless': 3267, 'territorial': 3268, 'clark': 3269, 'mit': 3270, 'journey': 3271, 'dual': 3272, 'everyone': 3273, 'ill': 3274, 'repeated': 3275, 'humanity': 3276, 'twentieth': 3277, 'candidates': 3278, 'christopher': 3279, 'santa': 3280, 'camps': 3281, 'consistent': 3282, 'archive': 3283, 'welsh': 3284, 'copper': 3285, 'bases': 3286, 'gibraltar': 3287, 'jan': 3288, 'survey': 3289, 'ownership': 3290, 'progressive': 3291, 'advertising': 3292, 'worth': 3293, 'immediate': 3294, 'statistical': 3295, 'trained': 3296, 'gallery': 3297, 'commodore': 3298, 'restricted': 3299, 'integer': 3300, 'senior': 3301, 'slaves': 3302, 'operator': 3303, 'horror': 3304, 'client': 3305, 'hotel': 3306, 'corps': 3307, 'disputed': 3308, 'translations': 3309, 'empty': 3310, 'relief': 3311, 'fm': 3312, 'stress': 3313, 'anthony': 3314, 'farm': 3315, 'implemented': 3316, 'involve': 3317, 'keys': 3318, 'sox': 3319, 'esperanto': 3320, 'psychological': 3321, 'canon': 3322, 'restrictions': 3323, 'variables': 3324, 'bureau': 3325, 'criticized': 3326, 'detail': 3327, 'column': 3328, 'uniform': 3329, 'moses': 3330, 'firm': 3331, 'cleveland': 3332, 'virus': 3333, 'specialized': 3334, 'libraries': 3335, 'describing': 3336, 'adapted': 3337, 'drink': 3338, 'outer': 3339, 'ruling': 3340, 'females': 3341, 'offices': 3342, 'send': 3343, 'senator': 3344, 'disney': 3345, 'couple': 3346, 'seconds': 3347, 'reverse': 3348, 'slavery': 3349, 'biggest': 3350, 'verse': 3351, 'inch': 3352, 'depicted': 3353, 'colorado': 3354, 'civilian': 3355, 'conquered': 3356, 'duty': 3357, 'lose': 3358, 'rocks': 3359, 'calvin': 3360, 'contrary': 3361, 'syndrome': 3362, 'situations': 3363, 'ce': 3364, 'array': 3365, 'obvious': 3366, 'compound': 3367, 'architect': 3368, 'streets': 3369, 'rain': 3370, 'engaged': 3371, 'leo': 3372, 'races': 3373, 'varying': 3374, 'ethical': 3375, 'pain': 3376, 'retained': 3377, 'distinctive': 3378, 'isolated': 3379, 'beta': 3380, 'khan': 3381, 'herbert': 3382, 'confusion': 3383, 'fighter': 3384, 'speaker': 3385, 'skill': 3386, 'compatible': 3387, 'herself': 3388, 'morocco': 3389, 'turning': 3390, 'electronics': 3391, 'declined': 3392, 'investigation': 3393, 'precise': 3394, 'dragon': 3395, 'manufacturers': 3396, 'arithmetic': 3397, 'liberation': 3398, 'turns': 3399, 'starts': 3400, 'buddhism': 3401, 'spin': 3402, 'campbell': 3403, 'demonstrated': 3404, 'messages': 3405, 'planets': 3406, 'spacecraft': 3407, 'prophet': 3408, 'reducing': 3409, 'observations': 3410, 'reduction': 3411, 'airports': 3412, 'sovereignty': 3413, 'interested': 3414, 'patient': 3415, 'petroleum': 3416, 'creator': 3417, 'custom': 3418, 'exclusively': 3419, 'neutral': 3420, 'princess': 3421, 'bronze': 3422, 'cyprus': 3423, 'replacement': 3424, 'mining': 3425, 'educated': 3426, 'insurance': 3427, 'differ': 3428, 'animation': 3429, 'camera': 3430, 'scenes': 3431, 'strategic': 3432, 'watch': 3433, 'migration': 3434, 'baby': 3435, 'gate': 3436, 'claiming': 3437, 'tribe': 3438, 'waters': 3439, 'invention': 3440, 'molecule': 3441, 'estate': 3442, 'disaster': 3443, 'te': 3444, 'galaxy': 3445, 'phi': 3446, 'democrats': 3447, 'publicly': 3448, 'arrangement': 3449, 'dramatic': 3450, 'banned': 3451, 'cave': 3452, 'receiving': 3453, 'exclusive': 3454, 'integration': 3455, 'accompanied': 3456, 'lawrence': 3457, 'specified': 3458, 'drew': 3459, 'designated': 3460, 'fund': 3461, 'matthew': 3462, 'regularly': 3463, 'congo': 3464, 'holocaust': 3465, 'owners': 3466, 'behaviour': 3467, 'wear': 3468, 'valid': 3469, 've': 3470, 'mile': 3471, 'conspiracy': 3472, 'penalty': 3473, 'sample': 3474, 'genes': 3475, 'geographic': 3476, 'infrastructure': 3477, 'houston': 3478, 'commerce': 3479, 'les': 3480, 'draft': 3481, 'surviving': 3482, 'sam': 3483, 'diet': 3484, 'disambiguation': 3485, 'fled': 3486, 'atlanta': 3487, 'separation': 3488, 'connections': 3489, 'structural': 3490, 'boeing': 3491, 'sixth': 3492, 'gates': 3493, 'missions': 3494, 'strictly': 3495, 'varieties': 3496, 'minnesota': 3497, 'cricket': 3498, 'pollution': 3499, 'isaac': 3500, 'earned': 3501, 'experiences': 3502, 'statue': 3503, 'cooperation': 3504, 'millions': 3505, 'slowly': 3506, 'supports': 3507, 'newspapers': 3508, 'cardinal': 3509, 'benefits': 3510, 'powered': 3511, 'switch': 3512, 'indians': 3513, 'passes': 3514, 'commons': 3515, 'doesn': 3516, 'jet': 3517, 'falling': 3518, 'overseas': 3519, 'montreal': 3520, 'arrested': 3521, 'essays': 3522, 'alaska': 3523, 'plural': 3524, 'purchase': 3525, 'ibn': 3526, 'rational': 3527, 'blind': 3528, 'coffee': 3529, 'dioxide': 3530, 'permitted': 3531, 'estimates': 3532, 'monetary': 3533, 'excellent': 3534, 'bulgarian': 3535, 'prisoners': 3536, 'whatever': 3537, 'doubt': 3538, 'siege': 3539, 'moreover': 3540, 'mixture': 3541, 'personnel': 3542, 'contest': 3543, 'tank': 3544, 'laser': 3545, 'latvia': 3546, 'explorer': 3547, 'gothic': 3548, 'archbishop': 3549, 'tells': 3550, 'jacob': 3551, 'cavalry': 3552, 'anne': 3553, 'considerably': 3554, 'monopoly': 3555, 'confederate': 3556, 'delivered': 3557, 'involvement': 3558, 'marks': 3559, 'taiwan': 3560, 'quantity': 3561, 'teachings': 3562, 'horses': 3563, 'measurement': 3564, 'inventor': 3565, 'cook': 3566, 'torah': 3567, 'lifetime': 3568, 'johann': 3569, 'differential': 3570, 'tale': 3571, 'conclusion': 3572, 'framework': 3573, 'broadcasting': 3574, 'admiral': 3575, 'optical': 3576, 'affect': 3577, 'export': 3578, 'arranged': 3579, 'discipline': 3580, 'whilst': 3581, 'miller': 3582, 'catholics': 3583, 'quebec': 3584, 'yes': 3585, 'consequently': 3586, 'mention': 3587, 'secure': 3588, 'winners': 3589, 'duties': 3590, 'fat': 3591, 'wish': 3592, 'secular': 3593, 'developments': 3594, 'theater': 3595, 'eat': 3596, 'journalist': 3597, 'stability': 3598, 'ethiopia': 3599, 'punishment': 3600, 'sell': 3601, 'row': 3602, 'taylor': 3603, 'allen': 3604, 'disputes': 3605, 'ban': 3606, 'synthesis': 3607, 'racial': 3608, 'temporary': 3609, 'controls': 3610, 'voted': 3611, 'enjoyed': 3612, 'properly': 3613, 'anime': 3614, 'recordings': 3615, 'explicitly': 3616, 'returning': 3617, 'aristotle': 3618, 'isle': 3619, 'footballer': 3620, 'buddhist': 3621, 'pairs': 3622, 'ranges': 3623, 'mystery': 3624, 'blade': 3625, 'curve': 3626, 'seeking': 3627, 'bringing': 3628, 'si': 3629, 'sale': 3630, 'participation': 3631, 'metric': 3632, 'appearances': 3633, 'linguistics': 3634, 'devil': 3635, 'shorter': 3636, 'robinson': 3637, 'politicians': 3638, 'citizenship': 3639, 'volumes': 3640, 'revised': 3641, 'negotiations': 3642, 'dollars': 3643, 'immigration': 3644, 'devoted': 3645, 'immigrants': 3646, 'centers': 3647, 'routes': 3648, 'rival': 3649, 'leg': 3650, 'indicated': 3651, 'approval': 3652, 'suitable': 3653, 'singular': 3654, 'suit': 3655, 'chip': 3656, 'childhood': 3657, 'observation': 3658, 'conduct': 3659, 'purchased': 3660, 'comedian': 3661, 'terminal': 3662, 'iranian': 3663, 'efficiency': 3664, 'missiles': 3665, 'fresh': 3666, 'legendary': 3667, 'abc': 3668, 'establishing': 3669, 'agreements': 3670, 'singing': 3671, 'partners': 3672, 'destroy': 3673, 'implies': 3674, 'fishing': 3675, 'grey': 3676, 'sharp': 3677, 'creative': 3678, 'romania': 3679, 'worst': 3680, 'finance': 3681, 'plastic': 3682, 'restored': 3683, 'orchestra': 3684, 'warm': 3685, 'arizona': 3686, 'covering': 3687, 'wins': 3688, 'termed': 3689, 'tube': 3690, 'consequences': 3691, 'northeast': 3692, 'gets': 3693, 'finds': 3694, 'perception': 3695, 'genesis': 3696, 'hidden': 3697, 'exposed': 3698, 'proposal': 3699, 'metals': 3700, 'drives': 3701, 'guitarist': 3702, 'seeing': 3703, 'vertical': 3704, 'favour': 3705, 'promoted': 3706, 'equally': 3707, 'expedition': 3708, 'photo': 3709, 'superman': 3710, 'concluded': 3711, 'beauty': 3712, 'situated': 3713, 'twin': 3714, 'mounted': 3715, 'theological': 3716, 'caught': 3717, 'scholar': 3718, 'assume': 3719, 'wiki': 3720, 'terminology': 3721, 'gordon': 3722, 'returns': 3723, 'mormon': 3724, 'loop': 3725, 'algebraic': 3726, 'valuable': 3727, 'concentrated': 3728, 'handed': 3729, 'franchise': 3730, 'collective': 3731, 'dave': 3732, 'stopped': 3733, 'ready': 3734, 'concrete': 3735, 'removal': 3736, 'releases': 3737, 'portrait': 3738, 'burning': 3739, 'kuwait': 3740, 'prussia': 3741, 'turing': 3742, 'counties': 3743, 'oral': 3744, 'physician': 3745, 'grain': 3746, 'aware': 3747, 'affair': 3748, 'fusion': 3749, 'fired': 3750, 'maritime': 3751, 'google': 3752, 'nova': 3753, 'gamma': 3754, 'jacques': 3755, 'vii': 3756, 'varied': 3757, 'millennium': 3758, 'width': 3759, 'adjacent': 3760, 'dynamic': 3761, 'margaret': 3762, 'wayne': 3763, 'adventure': 3764, 'singles': 3765, 'difficulties': 3766, 'consequence': 3767, 'funding': 3768, 'jobs': 3769, 'philadelphia': 3770, 'rom': 3771, 'iowa': 3772, 'johnny': 3773, 'voltage': 3774, 'portrayed': 3775, 'recognize': 3776, 'driving': 3777, 'ask': 3778, 'julian': 3779, 'obsolete': 3780, 'flash': 3781, 'circuits': 3782, 'rocket': 3783, 'therapy': 3784, 'astronomy': 3785, 'louisiana': 3786, 'ceremony': 3787, 'trans': 3788, 'collections': 3789, 'housing': 3790, 'recovery': 3791, 'buy': 3792, 'harrison': 3793, 'transformation': 3794, 'revelation': 3795, 'fewer': 3796, 'amateur': 3797, 'fran': 3798, 'virgin': 3799, 'interactive': 3800, 'mix': 3801, 'bach': 3802, 'servers': 3803, 'magnitude': 3804, 'admitted': 3805, 'chancellor': 3806, 'thin': 3807, 'proclaimed': 3808, 'ghost': 3809, 'ne': 3810, 'complicated': 3811, 'rotation': 3812, 'arrival': 3813, 'belong': 3814, 'tourist': 3815, 'gauge': 3816, 'fbi': 3817, 'analog': 3818, 'cognitive': 3819, 'reflected': 3820, 'trust': 3821, 'bernard': 3822, 'capita': 3823, 'editions': 3824, 'bought': 3825, 'phone': 3826, 'tends': 3827, 'storm': 3828, 'crash': 3829, 'thompson': 3830, 'dealing': 3831, 'wings': 3832, 'intervention': 3833, 'employment': 3834, 'mercury': 3835, 'settlements': 3836, 'governing': 3837, 'merged': 3838, 'seventh': 3839, 'muscle': 3840, 'meanwhile': 3841, 'dated': 3842, 'align': 3843, 'ram': 3844, 'kent': 3845, 'handle': 3846, 'topic': 3847, 'railroad': 3848, 'customs': 3849, 'suffering': 3850, 'baroque': 3851, 'median': 3852, 'window': 3853, 'designer': 3854, 'neo': 3855, 'thereby': 3856, 'transform': 3857, 'denied': 3858, 'exceptions': 3859, 'dan': 3860, 'nelson': 3861, 'info': 3862, 'attempting': 3863, 'raise': 3864, 'cellular': 3865, 'romantic': 3866, 'coins': 3867, 'norman': 3868, 'chart': 3869, 'photos': 3870, 'extend': 3871, 'gregory': 3872, 'surrounded': 3873, 'mathematicians': 3874, 'int': 3875, 'entropy': 3876, 'please': 3877, 'murray': 3878, 'augustus': 3879, 'significance': 3880, 'ties': 3881, 'beijing': 3882, 'relevant': 3883, 'summary': 3884, 'advice': 3885, 'tribute': 3886, 'quantities': 3887, 'printing': 3888, 'marketing': 3889, 'buffalo': 3890, 'factory': 3891, 'threatened': 3892, 'belgian': 3893, 'tim': 3894, 'manufactured': 3895, 'accident': 3896, 'reflect': 3897, 'grace': 3898, 'proven': 3899, 'maintains': 3900, 'quick': 3901, 'dimension': 3902, 'alien': 3903, 'pointed': 3904, 'independently': 3905, 'moderate': 3906, 'corruption': 3907, 'option': 3908, 'lenin': 3909, 'hunting': 3910, 'ongoing': 3911, 'refugees': 3912, 'guy': 3913, 'poets': 3914, 'simultaneously': 3915, 'hawaii': 3916, 'jupiter': 3917, 'drum': 3918, 'disorders': 3919, 'participate': 3920, 'accuracy': 3921, 'spot': 3922, 'quoted': 3923, 'operators': 3924, 'anglican': 3925, 'taxes': 3926, 'palestine': 3927, 'liverpool': 3928, 'mood': 3929, 'reader': 3930, 'symbolic': 3931, 'attracted': 3932, 'illness': 3933, 'inches': 3934, 'compare': 3935, 'oscar': 3936, 'performances': 3937, 'noble': 3938, 'eating': 3939, 'malaysia': 3940, 'stores': 3941, 'consonant': 3942, 'adventures': 3943, 'romance': 3944, 'aimed': 3945, 'exercise': 3946, 'strict': 3947, 'wider': 3948, 'alive': 3949, 'minerals': 3950, 'sensitive': 3951, 'stream': 3952, 'tunnel': 3953, 'terrorist': 3954, 'kosovo': 3955, 'stanley': 3956, 'phoenix': 3957, 'log': 3958, 'acceptance': 3959, 'studios': 3960, 'reviews': 3961, 'consist': 3962, 'subset': 3963, 'remainder': 3964, 'gandhi': 3965, 'croatia': 3966, 'extensively': 3967, 'legislature': 3968, 'drama': 3969, 'dick': 3970, 'employees': 3971, 'chemist': 3972, 'euro': 3973, 'session': 3974, 'anderson': 3975, 'assault': 3976, 'baltimore': 3977, 'entity': 3978, 'genres': 3979, 'steam': 3980, 'readers': 3981, 'trivia': 3982, 'happy': 3983, 'struck': 3984, 'luke': 3985, 'blocks': 3986, 'parent': 3987, 'vacuum': 3988, 'agencies': 3989, 'duck': 3990, 'nickname': 3991, 'unions': 3992, 'prefer': 3993, 'se': 3994, 'sphere': 3995, 'unemployment': 3996, 'europeans': 3997, 'versus': 3998, 'resigned': 3999, 'shah': 4000, 'viii': 4001, 'graduate': 4002, 'coined': 4003, 'timeline': 4004, 'wheel': 4005, 'ieee': 4006, 'singapore': 4007, 'hans': 4008, 'approaches': 4009, 'chris': 4010, 'enormous': 4011, 'girls': 4012, 'looks': 4013, 'fallen': 4014, 'clothing': 4015, 'settlers': 4016, 'bone': 4017, 'worlds': 4018, 'narrative': 4019, 'expert': 4020, 'offering': 4021, 'serbia': 4022, 'broadway': 4023, 'monroe': 4024, 'uss': 4025, 'rear': 4026, 'cuban': 4027, 'drinking': 4028, 'sharing': 4029, 'cattle': 4030, 'friendly': 4031, 'toronto': 4032, 'ann': 4033, 'addresses': 4034, 'cartoon': 4035, 'studying': 4036, 'requiring': 4037, 'sovereign': 4038, 'rings': 4039, 'coverage': 4040, 'nationalist': 4041, 'holes': 4042, 'automatically': 4043, 'premier': 4044, 'priests': 4045, 'communists': 4046, 'manual': 4047, 'ph': 4048, 'raw': 4049, 'shock': 4050, 'adoption': 4051, 'marie': 4052, 'geneva': 4053, 'objective': 4054, 'entering': 4055, 'id': 4056, 'trip': 4057, 'conservation': 4058, 'membrane': 4059, 'binding': 4060, 'aka': 4061, 'consensus': 4062, 'injury': 4063, 'rolling': 4064, 'errors': 4065, 'besides': 4066, 'defining': 4067, 'paintings': 4068, 'afc': 4069, 'lasted': 4070, 'arguably': 4071, 'desired': 4072, 'weekly': 4073, 'teach': 4074, 'neck': 4075, 'conventions': 4076, 'angel': 4077, 'faces': 4078, 'brazilian': 4079, 'receives': 4080, 'stones': 4081, 'remote': 4082, 'strange': 4083, 'voters': 4084, 'wire': 4085, 'victor': 4086, 'shares': 4087, 'trains': 4088, 'generations': 4089, 'rfc': 4090, 'larry': 4091, 'observer': 4092, 'aaron': 4093, 'administered': 4094, 'programme': 4095, 'guest': 4096, 'easter': 4097, 'liberalism': 4098, 'sequences': 4099, 'natives': 4100, 'sole': 4101, 'painted': 4102, 'hunt': 4103, 'pan': 4104, 'exposure': 4105, 'autonomous': 4106, 'defend': 4107, 'metres': 4108, 'bull': 4109, 'taste': 4110, 'kingdoms': 4111, 'voyage': 4112, 'championships': 4113, 'exploration': 4114, 'shooting': 4115, 'rifle': 4116, 'diego': 4117, 'colombia': 4118, 'tendency': 4119, 'proportion': 4120, 'elevation': 4121, 'baptist': 4122, 'comments': 4123, 'procedures': 4124, 'momentum': 4125, 'lithuanian': 4126, 'compiler': 4127, 'alongside': 4128, 'argues': 4129, 'cutting': 4130, 'funeral': 4131, 'marvel': 4132, 'generate': 4133, 'schedule': 4134, 'mirror': 4135, 'eve': 4136, 'albania': 4137, 'dogs': 4138, 'underlying': 4139, 'slavic': 4140, 'stronger': 4141, 'semitic': 4142, 'heroes': 4143, 'dimensions': 4144, 'mammals': 4145, 'corner': 4146, 'coat': 4147, 'abolished': 4148, 'truly': 4149, 'revenue': 4150, 'decimal': 4151, 'maryland': 4152, 'eternal': 4153, 'competitive': 4154, 'wilhelm': 4155, 'governed': 4156, 'latest': 4157, 'austin': 4158, 'costa': 4159, 'nationality': 4160, 'bulk': 4161, 'clinical': 4162, 'looked': 4163, 'arc': 4164, 'ascii': 4165, 'grade': 4166, 'jimmy': 4167, 'governors': 4168, 'businesses': 4169, 'lieutenant': 4170, 'shore': 4171, 'formats': 4172, 'dot': 4173, 'trinity': 4174, 'crops': 4175, 'epic': 4176, 'activist': 4177, 'assistant': 4178, 'adaptation': 4179, 'geographical': 4180, 'terrain': 4181, 'saxon': 4182, 'tasks': 4183, 'considering': 4184, 'inspiration': 4185, 'helium': 4186, 'interpretations': 4187, 'hunter': 4188, 'wearing': 4189, 'stood': 4190, 'instrumental': 4191, 'slang': 4192, 'publisher': 4193, 'manga': 4194, 'python': 4195, 'occasions': 4196, 'ac': 4197, 'infection': 4198, 'mickey': 4199, 'franco': 4200, 'electromagnetic': 4201, 'plains': 4202, 'edinburgh': 4203, 'uncle': 4204, 'unfortunately': 4205, 'requirement': 4206, 'libya': 4207, 'supplies': 4208, 'amiga': 4209, 'arose': 4210, 'honour': 4211, 'patrick': 4212, 'ai': 4213, 'installed': 4214, 'replacing': 4215, 'regulations': 4216, 'milan': 4217, 'florence': 4218, 'repeatedly': 4219, 'opposing': 4220, 'mechanisms': 4221, 'sand': 4222, 'politically': 4223, 'bills': 4224, 'trials': 4225, 'tail': 4226, 'scots': 4227, 'hoover': 4228, 'nominated': 4229, 'naming': 4230, 'creates': 4231, 'consonants': 4232, 'unlikely': 4233, 'revival': 4234, 'bombing': 4235, 'applies': 4236, 'ms': 4237, 'intense': 4238, 'battery': 4239, 'protest': 4240, 'seriously': 4241, 'kentucky': 4242, 'purely': 4243, 'jonathan': 4244, 'wright': 4245, 'matches': 4246, 'pioneer': 4247, 'tactics': 4248, 'mineral': 4249, 'manuscript': 4250, 'merchant': 4251, 'hierarchy': 4252, 'liberals': 4253, 'appearing': 4254, 'recommended': 4255, 'entities': 4256, 'centered': 4257, 'babylon': 4258, 'visitors': 4259, 'tables': 4260, 'happen': 4261, 'atlas': 4262, 'ussr': 4263, 'economies': 4264, 'hosts': 4265, 'diamonds': 4266, 'tea': 4267, 'missing': 4268, 'ranging': 4269, 'saudi': 4270, 'deck': 4271, 'serial': 4272, 'belt': 4273, 'jane': 4274, 'silent': 4275, 'creatures': 4276, 'aramaic': 4277, 'philippines': 4278, 'developers': 4279, 'demands': 4280, 'aluminium': 4281, 'consisted': 4282, 'retain': 4283, 'kevin': 4284, 'sydney': 4285, 'cocaine': 4286, 'triple': 4287, 'feast': 4288, 'mao': 4289, 'sees': 4290, 'criteria': 4291, 'identification': 4292, 'arabia': 4293, 'homosexuality': 4294, 'homosexual': 4295, 'invaded': 4296, 'tied': 4297, 'li': 4298, 'cargo': 4299, 'spending': 4300, 'fossil': 4301, 'homer': 4302, 'aside': 4303, 'etymology': 4304, 'derives': 4305, 'reaches': 4306, 'damaged': 4307, 'integers': 4308, 'writes': 4309, 'reject': 4310, 'teachers': 4311, 'amendment': 4312, 'reasoning': 4313, 'feeling': 4314, 'check': 4315, 'abortion': 4316, 'unofficial': 4317, 'transmitted': 4318, 'trotsky': 4319, 'freely': 4320, 'decide': 4321, 'elite': 4322, 'conflicts': 4323, 'vocal': 4324, 'bright': 4325, 'farming': 4326, 'tall': 4327, 'spoke': 4328, 'solve': 4329, 'gravitational': 4330, 'norse': 4331, 'mutual': 4332, 'advocates': 4333, 'proto': 4334, 'explosion': 4335, 'sultan': 4336, 'abroad': 4337, 'evening': 4338, 'coin': 4339, 'warner': 4340, 'juan': 4341, 'jury': 4342, 'bosnia': 4343, 'godzilla': 4344, 'touch': 4345, 'sure': 4346, 'abu': 4347, 'fifty': 4348, 'statesman': 4349, 'pagan': 4350, 'novelist': 4351, 'provincial': 4352, 'massacre': 4353, 'carries': 4354, 'anthropology': 4355, 'physiology': 4356, 'nouns': 4357, 'glucose': 4358, 'hearing': 4359, 'cats': 4360, 'danger': 4361, 'newer': 4362, 'realm': 4363, 'organism': 4364, 'scope': 4365, 'treat': 4366, 'graphic': 4367, 'hash': 4368, 'socialism': 4369, 'defines': 4370, 'genetics': 4371, 'comet': 4372, 'plague': 4373, 'galileo': 4374, 'arbitrary': 4375, 'occasion': 4376, 'ian': 4377, 'aviation': 4378, 'doors': 4379, 'gray': 4380, 'communion': 4381, 'estonia': 4382, 'leibniz': 4383, 'propaganda': 4384, 'reportedly': 4385, 'franz': 4386, 'tennis': 4387, 'tissue': 4388, 'module': 4389, 'item': 4390, 'derivative': 4391, 'diameter': 4392, 'illustrated': 4393, 'losses': 4394, 'facing': 4395, 'speeds': 4396, 'targets': 4397, 'astronomical': 4398, 'judah': 4399, 'sanskrit': 4400, 'manufacturer': 4401, 'graph': 4402, 'wisconsin': 4403, 'unsuccessful': 4404, 'infant': 4405, 'doctors': 4406, 'submarine': 4407, 'quotes': 4408, 'guardian': 4409, 'operates': 4410, 'kernel': 4411, 'warming': 4412, 'survival': 4413, 'thanks': 4414, 'arabs': 4415, 'distant': 4416, 'basin': 4417, 'stanford': 4418, 'trek': 4419, 'consent': 4420, 'sweet': 4421, 'julius': 4422, 'conan': 4423, 'proponents': 4424, 'withdrawal': 4425, 'sight': 4426, 'notice': 4427, 'periodic': 4428, 'likewise': 4429, 'pool': 4430, 'foods': 4431, 'ion': 4432, 'maintaining': 4433, 'yugoslavia': 4434, 'occurring': 4435, 'barry': 4436, 'meetings': 4437, 'chad': 4438, 'vocabulary': 4439, 'alice': 4440, 'artillery': 4441, 'predominantly': 4442, 'modes': 4443, 'estimate': 4444, 'filter': 4445, 'eleven': 4446, 'tennessee': 4447, 'villages': 4448, 'oh': 4449, 'crossing': 4450, 'legs': 4451, 'rabbi': 4452, 'songwriter': 4453, 'nietzsche': 4454, 'chapters': 4455, 'iceland': 4456, 'chemicals': 4457, 'anniversary': 4458, 'wisdom': 4459, 'confidence': 4460, 'serbian': 4461, 'retrieved': 4462, 'hindi': 4463, 'amino': 4464, 'explains': 4465, 'punk': 4466, 'assumption': 4467, 'closest': 4468, 'revolt': 4469, 'unified': 4470, 'stewart': 4471, 'guilty': 4472, 'saved': 4473, 'ritual': 4474, 'archaeological': 4475, 'vessels': 4476, 'runner': 4477, 'permission': 4478, 'trend': 4479, 'practiced': 4480, 'solomon': 4481, 'catholicism': 4482, 'graham': 4483, 'belarus': 4484, 'solely': 4485, 'potentially': 4486, 'noise': 4487, 'sleep': 4488, 'sacrifice': 4489, 'displayed': 4490, 'inhabited': 4491, 'debut': 4492, 'otto': 4493, 'recognised': 4494, 'divide': 4495, 'clean': 4496, 'circles': 4497, 'diagram': 4498, 'jerry': 4499, 'hughes': 4500, 'discrete': 4501, 'enjoy': 4502, 'reliable': 4503, 'deals': 4504, 'masters': 4505, 'ferdinand': 4506, 'tournament': 4507, 'signature': 4508, 'doom': 4509, 'ukraine': 4510, 'hear': 4511, 'imposed': 4512, 'technically': 4513, 'connecticut': 4514, 'regulation': 4515, 'comparative': 4516, 'maintenance': 4517, 'inter': 4518, 'cincinnati': 4519, 'jump': 4520, 'councils': 4521, 'adults': 4522, 'emotional': 4523, 'birthday': 4524, 'automobile': 4525, 'syntax': 4526, 'scored': 4527, 'remarkable': 4528, 'dialogue': 4529, 'updated': 4530, 'canterbury': 4531, 'equipped': 4532, 'constellation': 4533, 'cdot': 4534, 'macau': 4535, 'nonetheless': 4536, 'presents': 4537, 'frontier': 4538, 'pole': 4539, 'shadow': 4540, 'flows': 4541, 'billy': 4542, 'terry': 4543, 'conception': 4544, 'gore': 4545, 'radar': 4546, 'forty': 4547, 'bearing': 4548, 'opens': 4549, 'orientation': 4550, 'junior': 4551, 'morris': 4552, 'examination': 4553, 'civilizations': 4554, 'balls': 4555, 'smooth': 4556, 'explosive': 4557, 'cool': 4558, 'invited': 4559, 'foundations': 4560, 'associate': 4561, 'reed': 4562, 'extends': 4563, 'judgment': 4564, 'watson': 4565, 'desktop': 4566, 'baker': 4567, 'grave': 4568, 'experts': 4569, 'elder': 4570, 'floating': 4571, 'baron': 4572, 'wealthy': 4573, 'salvation': 4574, 'attributes': 4575, 'municipal': 4576, 'creature': 4577, 'catch': 4578, 'insubstantial': 4579, 'mere': 4580, 'primitive': 4581, 'favorite': 4582, 'depend': 4583, 'portions': 4584, 'producers': 4585, 'implement': 4586, 'phrases': 4587, 'corporations': 4588, 'immune': 4589, 'blow': 4590, 'deputy': 4591, 'mbox': 4592, 'claudius': 4593, 'genome': 4594, 'fred': 4595, 'kills': 4596, 'ahead': 4597, 'harbor': 4598, 'elementary': 4599, 'stuart': 4600, 'mhz': 4601, 'horn': 4602, 'vocals': 4603, 'relating': 4604, 'ss': 4605, 'intermediate': 4606, 'ranks': 4607, 'opinions': 4608, 'nucleus': 4609, 'munich': 4610, 'pick': 4611, 'critic': 4612, 'joke': 4613, 'confederation': 4614, 'retirement': 4615, 'namely': 4616, 'scores': 4617, 'allegedly': 4618, 'recovered': 4619, 'capabilities': 4620, 'commands': 4621, 'haiti': 4622, 'organisations': 4623, 'publishers': 4624, 'restoration': 4625, 'nineteenth': 4626, 'correspondence': 4627, 'circular': 4628, 'deeply': 4629, 'courses': 4630, 'homes': 4631, 'smallest': 4632, 'accessed': 4633, 'earthquake': 4634, 'fighters': 4635, 'autonomy': 4636, 'circumcision': 4637, 'landscape': 4638, 'legends': 4639, 'companion': 4640, 'corresponds': 4641, 'masses': 4642, 'bavaria': 4643, 'americas': 4644, 'striking': 4645, 'abilities': 4646, 'directions': 4647, 'stroke': 4648, 'farmers': 4649, 'compiled': 4650, 'generic': 4651, 'facility': 4652, 'diesel': 4653, 'layers': 4654, 'reformation': 4655, 'coding': 4656, 'precisely': 4657, 'specification': 4658, 'believes': 4659, 'antonio': 4660, 'lion': 4661, 'oregon': 4662, 'heir': 4663, 'atheism': 4664, 'milton': 4665, 'elvis': 4666, 'tongue': 4667, 'ross': 4668, 'configuration': 4669, 'sri': 4670, 'salvador': 4671, 'afghan': 4672, 'albanian': 4673, 'qur': 4674, 'console': 4675, 'insulin': 4676, 'decay': 4677, 'hat': 4678, 'surgery': 4679, 'metro': 4680, 'maxwell': 4681, 'respective': 4682, 'bread': 4683, 'expressions': 4684, 'covenant': 4685, 'enlightenment': 4686, 'counts': 4687, 'lebanese': 4688, 'hilbert': 4689, 'buddha': 4690, 'banking': 4691, 'westminster': 4692, 'thereafter': 4693, 'shield': 4694, 'alumni': 4695, 'mine': 4696, 'denominations': 4697, 'tiny': 4698, 'lb': 4699, 'cheese': 4700, 'mtv': 4701, 'railways': 4702, 'monarchs': 4703, 'jamaica': 4704, 'lasting': 4705, 'reconstruction': 4706, 'roy': 4707, 'contribution': 4708, 'frequencies': 4709, 'extinction': 4710, 'cluster': 4711, 'dallas': 4712, 'compete': 4713, 'anthem': 4714, 'realized': 4715, 'fun': 4716, 'avenue': 4717, 'convert': 4718, 'operational': 4719, 'yards': 4720, 'alabama': 4721, 'shakespeare': 4722, 'improvements': 4723, 'campaigns': 4724, 'descriptions': 4725, 'princeton': 4726, 'load': 4727, 'literacy': 4728, 'lights': 4729, 'dancing': 4730, 'legally': 4731, 'madrid': 4732, 'ted': 4733, 'parks': 4734, 'malcolm': 4735, 'everyday': 4736, 'clay': 4737, 'scheduled': 4738, 'hosted': 4739, 'reserves': 4740, 'factbook': 4741, 'victim': 4742, 'duncan': 4743, 'stack': 4744, 'fascist': 4745, 'cotton': 4746, 'bones': 4747, 'arrest': 4748, 'speculation': 4749, 'beam': 4750, 'carriers': 4751, 'astronomer': 4752, 'prose': 4753, 'argentine': 4754, 'luxembourg': 4755, 'forcing': 4756, 'ab': 4757, 'registered': 4758, 'dies': 4759, 'minimal': 4760, 'orbital': 4761, 'tested': 4762, 'autobiography': 4763, 'kazakhstan': 4764, 'uprising': 4765, 'elaborate': 4766, 'convinced': 4767, 'tomb': 4768, 'adopt': 4769, 'symphony': 4770, 'actively': 4771, 'peru': 4772, 'photographs': 4773, 'geometric': 4774, 'plateau': 4775, 'romanian': 4776, 'proportional': 4777, 'pi': 4778, 'anarchist': 4779, 'ideology': 4780, 'rainfall': 4781, 'amazon': 4782, 'preserve': 4783, 'excess': 4784, 'demanded': 4785, 'circa': 4786, 'wooden': 4787, 'volcanic': 4788, 'ali': 4789, 'charts': 4790, 'ira': 4791, 'moldova': 4792, 'poles': 4793, 'tension': 4794, 'diversity': 4795, 'displays': 4796, 'advances': 4797, 'competing': 4798, 'scales': 4799, 'measurements': 4800, 'inuit': 4801, 'collins': 4802, 'stayed': 4803, 'browser': 4804, 'nodes': 4805, 'catherine': 4806, 'finish': 4807, 'harold': 4808, 'rely': 4809, 'editing': 4810, 'interval': 4811, 'completion': 4812, 'humor': 4813, 'accomplished': 4814, 'consecutive': 4815, 'honey': 4816, 'whale': 4817, 'gift': 4818, 'relatives': 4819, 'worn': 4820, 'zeus': 4821, 'stating': 4822, 'thrown': 4823, 'nicholas': 4824, 'entrance': 4825, 'eighth': 4826, 'flowers': 4827, 'backed': 4828, 'nazis': 4829, 'kick': 4830, 'technological': 4831, 'fate': 4832, 'conservatives': 4833, 'supposedly': 4834, 'enterprise': 4835, 'samples': 4836, 'croatian': 4837, 'enabled': 4838, 'lane': 4839, 'organ': 4840, 'computational': 4841, 'golf': 4842, 'egg': 4843, 'oswald': 4844, 'dec': 4845, 'paved': 4846, 'warrior': 4847, 'cousin': 4848, 'signing': 4849, 'ludwig': 4850, 'contents': 4851, 'attitude': 4852, 'cow': 4853, 'package': 4854, 'select': 4855, 'fifteen': 4856, 'expenditures': 4857, 'lambda': 4858, 'kb': 4859, 'omega': 4860, 'advocate': 4861, 'chaos': 4862, 'eugene': 4863, 'globe': 4864, 'bow': 4865, 'cemetery': 4866, 'remembered': 4867, 'intent': 4868, 'morgan': 4869, 'gases': 4870, 'bridges': 4871, 'ipa': 4872, 'persia': 4873, 'dj': 4874, 'capitalist': 4875, 'voices': 4876, 'engage': 4877, 'attorney': 4878, 'burned': 4879, 'precision': 4880, 'productions': 4881, 'waste': 4882, 'encoding': 4883, 'miami': 4884, 'mu': 4885, 'catalan': 4886, 'availability': 4887, 'inherited': 4888, 'transit': 4889, 'crusade': 4890, 'forbidden': 4891, 'brass': 4892, 'dominican': 4893, 'unicode': 4894, 'annually': 4895, 'vital': 4896, 'advent': 4897, 'equilibrium': 4898, 'calculated': 4899, 'surfaces': 4900, 'calculations': 4901, 'adolf': 4902, 'amsterdam': 4903, 'prussian': 4904, 'dune': 4905, 'predicted': 4906, 'horizontal': 4907, 'attend': 4908, 'winds': 4909, 'hinduism': 4910, 'dust': 4911, 'preparation': 4912, 'rough': 4913, 'jurisdictions': 4914, 'tokyo': 4915, 'bed': 4916, 'ronald': 4917, 'jay': 4918, 'homepage': 4919, 'clergy': 4920, 'rendered': 4921, 'embedded': 4922, 'ha': 4923, 'microwave': 4924, 'physically': 4925, 'ken': 4926, 'populated': 4927, 'murdered': 4928, 'differs': 4929, 'feed': 4930, 'nintendo': 4931, 'und': 4932, 'iraqi': 4933, 'altered': 4934, 'till': 4935, 'syrian': 4936, 'scoring': 4937, 'irc': 4938, 'totally': 4939, 'fathers': 4940, 'pascal': 4941, 'archives': 4942, 'environments': 4943, 'crowd': 4944, 'connecting': 4945, 'dubbed': 4946, 'floppy': 4947, 'deemed': 4948, 'manuscripts': 4949, 'instances': 4950, 'locally': 4951, 'telecommunications': 4952, 'olympics': 4953, 'protocols': 4954, 'cameroon': 4955, 'expelled': 4956, 'transformed': 4957, 'comment': 4958, 'spend': 4959, 'peer': 4960, 'wallace': 4961, 'acceptable': 4962, 'remember': 4963, 'suspended': 4964, 'reagan': 4965, 'dealt': 4966, 'discussions': 4967, 'mccarthy': 4968, 'fiscal': 4969, 'observers': 4970, 'documentation': 4971, 'pilots': 4972, 'passengers': 4973, 'tanks': 4974, 'deposits': 4975, 'sheet': 4976, 'weber': 4977, 'honduras': 4978, 'alberta': 4979, 'enforcement': 4980, 'yale': 4981, 'vessel': 4982, 'poe': 4983, 'marxist': 4984, 'explicit': 4985, 'critique': 4986, 'similarities': 4987, 'dramatically': 4988, 'initiated': 4989, 'promised': 4990, 'tense': 4991, 'statute': 4992, 'ions': 4993, 'ba': 4994, 'barrel': 4995, 'galaxies': 4996, 'edgar': 4997, 'tribal': 4998, 'trace': 4999, 'corn': 5000, 'dying': 5001, 'assassinated': 5002, 'wolf': 5003, 'robin': 5004, 'joan': 5005, 'rhythm': 5006, 'lutheran': 5007, 'willing': 5008, 'intention': 5009, 'firing': 5010, 'pleasure': 5011, 'carefully': 5012, 'famously': 5013, 'faculty': 5014, 'paradox': 5015, 'criticisms': 5016, 'nationalism': 5017, 'designation': 5018, 'pushed': 5019, 'myths': 5020, 'thesis': 5021, 'modification': 5022, 'craft': 5023, 'es': 5024, 'hemisphere': 5025, 'boxing': 5026, 'delivery': 5027, 'resident': 5028, 'extending': 5029, 'feminist': 5030, 'verbs': 5031, 'daughters': 5032, 'orleans': 5033, 'lawyer': 5034, 'arkansas': 5035, 'jefferson': 5036, 'legitimate': 5037, 'celebration': 5038, 'brooks': 5039, 'monk': 5040, 'pact': 5041, 'improvement': 5042, 'multiplication': 5043, 'occasional': 5044, 'nobility': 5045, 'prophets': 5046, 'systematic': 5047, 'vegetables': 5048, 'breed': 5049, 'claude': 5050, 'starred': 5051, 'combustion': 5052, 'distances': 5053, 'hubbard': 5054, 'coca': 5055, 'interactions': 5056, 'mild': 5057, 'treaties': 5058, 'killer': 5059, 'hugo': 5060, 'imf': 5061, 'arctic': 5062, 'limitations': 5063, 'bangladesh': 5064, 'coordinates': 5065, 'harmonic': 5066, 'latitude': 5067, 'monastery': 5068, 'monty': 5069, 'removing': 5070, 'descended': 5071, 'push': 5072, 'canonical': 5073, 'manhattan': 5074, 'machinery': 5075, 'processors': 5076, 'semitism': 5077, 'receiver': 5078, 'contribute': 5079, 'ark': 5080, 'babylonian': 5081, 'sending': 5082, 'dawn': 5083, 'cooking': 5084, 'segment': 5085, 'monks': 5086, 'encountered': 5087, 'enhanced': 5088, 'mines': 5089, 'antiquity': 5090, 'presentation': 5091, 'addressed': 5092, 'capability': 5093, 'constantly': 5094, 'rugby': 5095, 'elephant': 5096, 'cornell': 5097, 'continuity': 5098, 'harmony': 5099, 'terrorism': 5100, 'construct': 5101, 'informal': 5102, 'marry': 5103, 'forever': 5104, 'economist': 5105, 'neil': 5106, 'connect': 5107, 'planes': 5108, 'champions': 5109, 'dismissed': 5110, 'restaurants': 5111, 'provisions': 5112, 'liver': 5113, 'midi': 5114, 'participants': 5115, 'steven': 5116, 'charlie': 5117, 'singers': 5118, 'wounded': 5119, 'saturday': 5120, 'edmund': 5121, 'comparable': 5122, 'sectors': 5123, 'landed': 5124, 'municipality': 5125, 'calgary': 5126, 'dice': 5127, 'voiced': 5128, 'equality': 5129, 'indicating': 5130, 'ward': 5131, 'gaining': 5132, 'equatorial': 5133, 'heights': 5134, 'mitchell': 5135, 'traits': 5136, 'happens': 5137, 'uncertain': 5138, 'combinations': 5139, 'bias': 5140, 'jargon': 5141, 'shots': 5142, 'afl': 5143, 'drivers': 5144, 'internationally': 5145, 'arguing': 5146, 'responded': 5147, 'miss': 5148, 'harm': 5149, 'walker': 5150, 'surprise': 5151, 'passages': 5152, 'inverse': 5153, 'denver': 5154, 'gathering': 5155, 'harbour': 5156, 'correctly': 5157, 'proceedings': 5158, 'acted': 5159, 'advantages': 5160, 'cantor': 5161, 'knife': 5162, 'expand': 5163, 'hired': 5164, 'governmental': 5165, 'putting': 5166, 'geology': 5167, 'sophisticated': 5168, 'talks': 5169, 'trademark': 5170, 'documented': 5171, 'substantially': 5172, 'persecution': 5173, 'phases': 5174, 'navigation': 5175, 'mario': 5176, 'licensed': 5177, 'er': 5178, 'adjective': 5179, 'axioms': 5180, 'crucial': 5181, 'kim': 5182, 'convicted': 5183, 'tiger': 5184, 'lighting': 5185, 'organs': 5186, 'chocolate': 5187, 'abbey': 5188, 'cannon': 5189, 'terror': 5190, 'tended': 5191, 'dissolved': 5192, 'virtue': 5193, 'isles': 5194, 'implementations': 5195, 'separately': 5196, 'leaf': 5197, 'au': 5198, 'clusters': 5199, 'exhibit': 5200, 'readily': 5201, 'pocket': 5202, 'surrender': 5203, 'macedonian': 5204, 'essence': 5205, 'sheep': 5206, 'auto': 5207, 'gap': 5208, 'apostles': 5209, 'meter': 5210, 'trigger': 5211, 'eds': 5212, 'ancestors': 5213, 'advocated': 5214, 'magazines': 5215, 'plates': 5216, 'knowing': 5217, 'plato': 5218, 'loyal': 5219, 'witness': 5220, 'ny': 5221, 'constitute': 5222, 'thirteen': 5223, 'ceased': 5224, 'kant': 5225, 'algeria': 5226, 'rays': 5227, 'portal': 5228, 'highways': 5229, 'fires': 5230, 'soccer': 5231, 'travels': 5232, 'fr': 5233, 'anarchism': 5234, 'guided': 5235, 'sitting': 5236, 'sizes': 5237, 'anywhere': 5238, 'numbered': 5239, 'belonging': 5240, 'cycles': 5241, 'default': 5242, 'mortality': 5243, 'fa': 5244, 'trouble': 5245, 'conscious': 5246, 'severely': 5247, 'injured': 5248, 'eggs': 5249, 'ancestry': 5250, 'civilians': 5251, 'chains': 5252, 'genius': 5253, 'helping': 5254, 'bmw': 5255, 'divorce': 5256, 'accounting': 5257, 'raising': 5258, 'extensions': 5259, 'witnesses': 5260, 'parameters': 5261, 'nm': 5262, 'syllable': 5263, 'db': 5264, 'brussels': 5265, 'warning': 5266, 'boats': 5267, 'ride': 5268, 'altitude': 5269, 'prevented': 5270, 'lens': 5271, 'seal': 5272, 'inland': 5273, 'fragments': 5274, 'referendum': 5275, 'condemned': 5276, 'manufacture': 5277, 'powder': 5278, 'genocide': 5279, 'graphical': 5280, 'cambodia': 5281, 'initiative': 5282, 'eliminated': 5283, 'norm': 5284, 'alcoholic': 5285, 'thoughts': 5286, 'welfare': 5287, 'handling': 5288, 'gen': 5289, 'resolved': 5290, 'considers': 5291, 'promoting': 5292, 'hugh': 5293, 'joining': 5294, 'ltd': 5295, 'interference': 5296, 'findings': 5297, 'nitrogen': 5298, 'monitor': 5299, 'controlling': 5300, 'ratified': 5301, 'darkness': 5302, 'soviets': 5303, 'thermal': 5304, 'reasonable': 5305, 'expanding': 5306, 'pound': 5307, 'violin': 5308, 'suspected': 5309, 'determining': 5310, 'assist': 5311, 'coastline': 5312, 'placing': 5313, 'worse': 5314, 'malta': 5315, 'customer': 5316, 'stick': 5317, 'atmospheric': 5318, 'shipping': 5319, 'mice': 5320, 'ada': 5321, 'plasma': 5322, 'greenland': 5323, 'throw': 5324, 'icon': 5325, 'amd': 5326, 'pearl': 5327, 'websites': 5328, 'supplied': 5329, 'trilogy': 5330, 'whenever': 5331, 'monument': 5332, 'insects': 5333, 'meets': 5334, 'wise': 5335, 'rounds': 5336, 'cola': 5337, 'bowie': 5338, 'panel': 5339, 'personally': 5340, 'gps': 5341, 'colonel': 5342, 'folklore': 5343, 'arnold': 5344, 'sessions': 5345, 'coordinate': 5346, 'leagues': 5347, 'rhine': 5348, 'thick': 5349, 'utility': 5350, 'settings': 5351, 'polar': 5352, 'unclear': 5353, 'wake': 5354, 'venice': 5355, 'emerging': 5356, 'aged': 5357, 'universally': 5358, 'pride': 5359, 'spirits': 5360, 'rica': 5361, 'commanded': 5362, 'outcome': 5363, 'puerto': 5364, 'strikes': 5365, 'theologian': 5366, 'guatemala': 5367, 'decrease': 5368, 'suburbs': 5369, 'friendship': 5370, 'wedding': 5371, 'miscellaneous': 5372, 'rio': 5373, 'accessible': 5374, 'georg': 5375, 'rendering': 5376, 'sung': 5377, 'flights': 5378, 'pounds': 5379, 'cosmic': 5380, 'customers': 5381, 'swing': 5382, 'programmers': 5383, 'epistle': 5384, 'ecuador': 5385, 'wasn': 5386, 'bitter': 5387, 'zones': 5388, 'colored': 5389, 'xi': 5390, 'commitment': 5391, 'collaboration': 5392, 'reflects': 5393, 'cf': 5394, 'sized': 5395, 'commissioned': 5396, 'burns': 5397, 'triangle': 5398, 'shop': 5399, 'ois': 5400, 'cornwall': 5401, 'psi': 5402, 'hannibal': 5403, 'robot': 5404, 'burn': 5405, 'successive': 5406, 'nomination': 5407, 'harris': 5408, 'morality': 5409, 'tons': 5410, 'disappeared': 5411, 'chair': 5412, 'mapping': 5413, 'heinrich': 5414, 'lions': 5415, 'ammunition': 5416, 'bicycle': 5417, 'lovecraft': 5418, 'tolkien': 5419, 'ecology': 5420, 'interviews': 5421, 'neighboring': 5422, 'ancestor': 5423, 'crossed': 5424, 'reserved': 5425, 'revenues': 5426, 'portable': 5427, 'rescue': 5428, 'rap': 5429, 'charlemagne': 5430, 'scandal': 5431, 'churchill': 5432, 'behalf': 5433, 'klan': 5434, 'dishes': 5435, 'participated': 5436, 'fascism': 5437, 'rand': 5438, 'awareness': 5439, 'promise': 5440, 'fruits': 5441, 'autumn': 5442, 'archipelago': 5443, 'sa': 5444, 'ninth': 5445, 'entries': 5446, 'bat': 5447, 'viruses': 5448, 'induced': 5449, 'suite': 5450, 'derivatives': 5451, 'joy': 5452, 'absorbed': 5453, 'lighter': 5454, 'denote': 5455, 'economists': 5456, 'summit': 5457, 'volunteers': 5458, 'commercially': 5459, 'synthetic': 5460, 'euclidean': 5461, 'sketch': 5462, 'acceleration': 5463, 'answers': 5464, 'belongs': 5465, 'talking': 5466, 'lectures': 5467, 'dreams': 5468, 'deliberately': 5469, 'wesley': 5470, 'vladimir': 5471, 'options': 5472, 'numerical': 5473, 'departure': 5474, 'gilbert': 5475, 'button': 5476, 'worker': 5477, 'denoted': 5478, 'evident': 5479, 'qualities': 5480, 'delaware': 5481, 'mrs': 5482, 'op': 5483, 'beethoven': 5484, 'communicate': 5485, 'quote': 5486, 'shoot': 5487, 'empirical': 5488, 'utc': 5489, 'melbourne': 5490, 'bytes': 5491, 'monsters': 5492, 'reformed': 5493, 'drums': 5494, 'quest': 5495, 'sicily': 5496, 'lynch': 5497, 'athletic': 5498, 'burial': 5499, 'mentions': 5500, 'encourage': 5501, 'escaped': 5502, 'ignored': 5503, 'scholarship': 5504, 'sk': 5505, 'sodium': 5506, 'papal': 5507, 'dress': 5508, 'suggesting': 5509, 'cap': 5510, 'presumably': 5511, 'ron': 5512, 'breeding': 5513, 'seed': 5514, 'chronicles': 5515, 'fail': 5516, 'respond': 5517, 'uncommon': 5518, 'sing': 5519, 'challenged': 5520, 'bloody': 5521, 'anatomy': 5522, 'discrimination': 5523, 'flower': 5524, 'picked': 5525, 'fill': 5526, 'cryptography': 5527, 'leon': 5528, 'tip': 5529, 'nile': 5530, 'topology': 5531, 'walking': 5532, 'slower': 5533, 'poorly': 5534, 'famine': 5535, 'facto': 5536, 'angles': 5537, 'measuring': 5538, 'cylinder': 5539, 'wage': 5540, 'assets': 5541, 'cache': 5542, 'anarcho': 5543, 'dynamics': 5544, 'preventing': 5545, 'discoveries': 5546, 'hate': 5547, 'assisted': 5548, 'senators': 5549, 'static': 5550, 'detect': 5551, 'hampshire': 5552, 'keith': 5553, 'raymond': 5554, 'discuss': 5555, 'abbreviation': 5556, 'teeth': 5557, 'imported': 5558, 'protests': 5559, 'carlos': 5560, 'suppose': 5561, 'sequel': 5562, 'holland': 5563, 'andr': 5564, 'tie': 5565, 'friction': 5566, 'scripture': 5567, 'knows': 5568, 'waiting': 5569, 'loved': 5570, 'purchasing': 5571, 'hostile': 5572, 'kurt': 5573, 'pen': 5574, 'ghana': 5575, 'episcopal': 5576, 'dean': 5577, 'oliver': 5578, 'evangelical': 5579, 'creed': 5580, 'achievement': 5581, 'borrowed': 5582, 'visiting': 5583, 'compromise': 5584, 'asking': 5585, 'pin': 5586, 'kelly': 5587, 'infrared': 5588, 'wildlife': 5589, 'temples': 5590, 'definite': 5591, 'boom': 5592, 'toxic': 5593, 'buses': 5594, 'parker': 5595, 'demons': 5596, 'opportunities': 5597, 'introducing': 5598, 'publish': 5599, 'contracts': 5600, 'jos': 5601, 'madison': 5602, 'cologne': 5603, 'contexts': 5604, 'finger': 5605, 'giovanni': 5606, 'grandson': 5607, 'seized': 5608, 'mill': 5609, 'conceived': 5610, 'grammatical': 5611, 'las': 5612, 'demon': 5613, 'asimov': 5614, 'patriarch': 5615, 'wireless': 5616, 'ambassador': 5617, 'jokes': 5618, 'armour': 5619, 'jihad': 5620, 'peaceful': 5621, 'dominance': 5622, 'bombs': 5623, 'aa': 5624, 'gross': 5625, 'compositions': 5626, 'barbara': 5627, 'faq': 5628, 'jeff': 5629, 'arch': 5630, 'discover': 5631, 'editors': 5632, 'breaks': 5633, 'gear': 5634, 'thailand': 5635, 'instant': 5636, 'ethanol': 5637, 'computation': 5638, 'cartridge': 5639, 'sh': 5640, 'yahweh': 5641, 'disks': 5642, 'pursued': 5643, 'scholarly': 5644, 'hume': 5645, 'fertility': 5646, 'inheritance': 5647, 'ranking': 5648, 'dam': 5649, 'maine': 5650, 'sp': 5651, 'rocky': 5652, 'topological': 5653, 'crick': 5654, 'doctrines': 5655, 'accurately': 5656, 'feedback': 5657, 'asteroid': 5658, 'odd': 5659, 'drummer': 5660, 'gardens': 5661, 'speaks': 5662, 'municipalities': 5663, 'gathered': 5664, 'strips': 5665, 'sit': 5666, 'cream': 5667, 'fed': 5668, 'axiom': 5669, 'jason': 5670, 'arise': 5671, 'helen': 5672, 'audiences': 5673, 'treatise': 5674, 'assuming': 5675, 'lacking': 5676, 'annexed': 5677, 'possess': 5678, 'ernst': 5679, 'competitions': 5680, 'commodities': 5681, 'destination': 5682, 'armenian': 5683, 'aftermath': 5684, 'geological': 5685, 'radioactive': 5686, 'meditation': 5687, 'mar': 5688, 'victorian': 5689, 'dracula': 5690, 'voluntary': 5691, 'focuses': 5692, 'revision': 5693, 'suddenly': 5694, 'julia': 5695, 'passive': 5696, 'riding': 5697, 'seeds': 5698, 'renowned': 5699, 'traced': 5700, 'simplest': 5701, 'wait': 5702, 'angola': 5703, 'arena': 5704, 'households': 5705, 'predecessor': 5706, 'clarke': 5707, 'saxony': 5708, 'observances': 5709, 'yankees': 5710, 'playoffs': 5711, 'evaluation': 5712, 'digits': 5713, 'armor': 5714, 'guerrilla': 5715, 'ernest': 5716, 'festivals': 5717, 'kenneth': 5718, 'censorship': 5719, 'fiber': 5720, 'beatles': 5721, 'hegel': 5722, 'resurrection': 5723, 'turks': 5724, 'accordingly': 5725, 'duration': 5726, 'hoped': 5727, 'vincent': 5728, 'bang': 5729, 'commissioner': 5730, 'talent': 5731, 'incomplete': 5732, 'withdrew': 5733, 'encounter': 5734, 'danube': 5735, 'informed': 5736, 'gains': 5737, 'hearts': 5738, 'acknowledged': 5739, 'embassy': 5740, 'filmed': 5741, 'restaurant': 5742, 'dennis': 5743, 'flags': 5744, 'giants': 5745, 'fugue': 5746, 'expense': 5747, 'barcelona': 5748, 'applying': 5749, 'funded': 5750, 'consistently': 5751, 'digit': 5752, 'youngest': 5753, 'favored': 5754, 'mankind': 5755, 'demonstrate': 5756, 'prohibited': 5757, 'adelaide': 5758, 'necessity': 5759, 'fuller': 5760, 'travelling': 5761, 'respected': 5762, 'copenhagen': 5763, 'resembles': 5764, 'prefix': 5765, 'sided': 5766, 'barrier': 5767, 'lying': 5768, 'loose': 5769, 'lecture': 5770, 'testimony': 5771, 'yield': 5772, 'princes': 5773, 'counting': 5774, 'lessons': 5775, 'excessive': 5776, 'ace': 5777, 'columns': 5778, 'acute': 5779, 'lock': 5780, 'aberdeen': 5781, 'purple': 5782, 'flood': 5783, 'hms': 5784, 'nowadays': 5785, 'enzymes': 5786, 'parody': 5787, 'brandenburg': 5788, 'fraction': 5789, 'creek': 5790, 'mad': 5791, 'extraordinary': 5792, 'proprietary': 5793, 'suffer': 5794, 'hamburg': 5795, 'calcium': 5796, 'amber': 5797, 'traveled': 5798, 'reproduction': 5799, 'borough': 5800, 'restore': 5801, 'gr': 5802, 'eclipse': 5803, 'bobby': 5804, 'cornish': 5805, 'accordance': 5806, 'activists': 5807, 'factions': 5808, 'cooling': 5809, 'implied': 5810, 'prisoner': 5811, 'retreat': 5812, 'henri': 5813, 'chips': 5814, 'deity': 5815, 'thirds': 5816, 'rogers': 5817, 'feared': 5818, 'credits': 5819, 'simpler': 5820, 'detected': 5821, 'calculation': 5822, 'paint': 5823, 'hamlet': 5824, 'ix': 5825, 'associations': 5826, 'helps': 5827, 'requests': 5828, 'telephones': 5829, 'maurice': 5830, 'excluded': 5831, 'accent': 5832, 'crowned': 5833, 'anna': 5834, 'gm': 5835, 'scattered': 5836, 'indonesian': 5837, 'patents': 5838, 'clown': 5839, 'consumers': 5840, 'organised': 5841, 'imprisoned': 5842, 'boards': 5843, 'garfield': 5844, 'militia': 5845, 'marble': 5846, 'prototype': 5847, 'strongest': 5848, 'gaelic': 5849, 'frames': 5850, 'nfc': 5851, 'pm': 5852, 'infinity': 5853, 'russians': 5854, 'bars': 5855, 'ipv': 5856, 'warren': 5857, 'rooms': 5858, 'managers': 5859, 'compilation': 5860, 'damascus': 5861, 'timber': 5862, 'preceding': 5863, 'sufficiently': 5864, 'layout': 5865, 'kenya': 5866, 'eritrea': 5867, 'wimbledon': 5868, 'ar': 5869, 'harp': 5870, 'diagnosis': 5871, 'sudden': 5872, 'deities': 5873, 'permanently': 5874, 'cooper': 5875, 'practically': 5876, 'mussolini': 5877, 'disciplines': 5878, 'stem': 5879, 'airline': 5880, 'antarctic': 5881, 'chiefs': 5882, 'architectural': 5883, 'rod': 5884, 'transactions': 5885, 'travelled': 5886, 'gpl': 5887, 'mpeg': 5888, 'preservation': 5889, 'professionals': 5890, 'abbreviated': 5891, 'hereditary': 5892, 'arrow': 5893, 'armstrong': 5894, 'improving': 5895, 'chiefly': 5896, 'revived': 5897, 'fortune': 5898, 'shifted': 5899, 'merchants': 5900, 'boxer': 5901, 'outstanding': 5902, 'correspond': 5903, 'springs': 5904, 'cubic': 5905, 'britannica': 5906, 'legion': 5907, 'introduce': 5908, 'bohemia': 5909, 'feelings': 5910, 'arrangements': 5911, 'implications': 5912, 'trail': 5913, 'reduces': 5914, 'wheat': 5915, 'augustine': 5916, 'consideration': 5917, 'comprised': 5918, 'utah': 5919, 'loaded': 5920, 'ease': 5921, 'shopping': 5922, 'sentences': 5923, 'switching': 5924, 'sisters': 5925, 'clause': 5926, 'chromosomes': 5927, 'dancer': 5928, 'peirce': 5929, 'eventual': 5930, 'neighborhood': 5931, 'matt': 5932, 'practitioners': 5933, 'presley': 5934, 'emergence': 5935, 'injuries': 5936, 'missionary': 5937, 'fatal': 5938, 'submitted': 5939, 'icons': 5940, 'merger': 5941, 'frankfurt': 5942, 'packet': 5943, 'eta': 5944, 'lesbian': 5945, 'saga': 5946, 'chromosome': 5947, 'bipolar': 5948, 'imply': 5949, 'differently': 5950, 'pointing': 5951, 'collecting': 5952, 'brunswick': 5953, 'wells': 5954, 'leather': 5955, 'healthy': 5956, 'walt': 5957, 'defendant': 5958, 'lift': 5959, 'determination': 5960, 'drake': 5961, 'carnegie': 5962, 'pitcher': 5963, 'grid': 5964, 'bengal': 5965, 'delay': 5966, 'sponsored': 5967, 'methodist': 5968, 'sudan': 5969, 'attacking': 5970, 'ironically': 5971, 'marcus': 5972, 'bacon': 5973, 'obviously': 5974, 'ni': 5975, 'micro': 5976, 'squadron': 5977, 'byte': 5978, 'settle': 5979, 'centres': 5980, 'indies': 5981, 'solving': 5982, 'jedi': 5983, 'hendrix': 5984, 'dancers': 5985, 'rejection': 5986, 'enters': 5987, 'joshua': 5988, 'glory': 5989, 'wet': 5990, 'classics': 5991, 'designers': 5992, 'foster': 5993, 'departments': 5994, 'beneath': 5995, 'aims': 5996, 'hurricane': 5997, 'liberia': 5998, 'highlands': 5999, 'lit': 6000, 'eagle': 6001, 'flew': 6002, 'interstate': 6003, 'scotia': 6004, 'occurrence': 6005, 'isn': 6006, 'videos': 6007, 'chapel': 6008, 'spelled': 6009, 'brooklyn': 6010, 'platforms': 6011, 'butler': 6012, 'ralph': 6013, 'definitive': 6014, 'grandfather': 6015, 'grass': 6016, 'attendance': 6017, 'clement': 6018, 'paradise': 6019, 'rubber': 6020, 'innovation': 6021, 'intensity': 6022, 'bin': 6023, 'denotes': 6024, 'offense': 6025, 'competitors': 6026, 'powell': 6027, 'chronicle': 6028, 'concentrations': 6029, 'combining': 6030, 'jerome': 6031, 'nixon': 6032, 'flame': 6033, 'ge': 6034, 'conductor': 6035, 'pursuit': 6036, 'iq': 6037, 'cancelled': 6038, 'democrat': 6039, 'incorrect': 6040, 'profound': 6041, 'tobacco': 6042, 'ra': 6043, 'htm': 6044, 'appeals': 6045, 'collect': 6046, 'lithium': 6047, 'conjunction': 6048, 'kashmir': 6049, 'tuning': 6050, 'ethernet': 6051, 'monaco': 6052, 'alfonso': 6053, 'clients': 6054, 'libertarian': 6055, 'rifles': 6056, 'senses': 6057, 'dense': 6058, 'kilometres': 6059, 'rebel': 6060, 'ear': 6061, 'sexuality': 6062, 'colours': 6063, 'lloyd': 6064, 'tries': 6065, 'oxide': 6066, 'shapes': 6067, 'funk': 6068, 'onwards': 6069, 'loosely': 6070, 'equivalence': 6071, 'switched': 6072, 'firearms': 6073, 'talmud': 6074, 'regulated': 6075, 'profits': 6076, 'whereby': 6077, 'attraction': 6078, 'saturn': 6079, 'temporarily': 6080, 'filed': 6081, 'renewed': 6082, 'mozambique': 6083, 'forgotten': 6084, 'traveling': 6085, 'eisenhower': 6086, 'lsd': 6087, 'simplified': 6088, 'mongol': 6089, 'soundtrack': 6090, 'specifications': 6091, 'thatcher': 6092, 'nervous': 6093, 'resort': 6094, 'telling': 6095, 'forums': 6096, 'provisional': 6097, 'revenge': 6098, 'avoided': 6099, 'counted': 6100, 'combine': 6101, 'pink': 6102, 'approached': 6103, 'allah': 6104, 'addiction': 6105, 'registers': 6106, 'feminism': 6107, 'altogether': 6108, 'coupled': 6109, 'skilled': 6110, 'hopes': 6111, 'attractive': 6112, 'museums': 6113, 'concerto': 6114, 'neighbouring': 6115, 'tours': 6116, 'chi': 6117, 'poll': 6118, 'alex': 6119, 'tune': 6120, 'download': 6121, 'orbits': 6122, 'cs': 6123, 'appointment': 6124, 'pack': 6125, 'dinosaurs': 6126, 'chronic': 6127, 'semiconductor': 6128, 'flemish': 6129, 'duchy': 6130, 'believing': 6131, 'inherent': 6132, 'expect': 6133, 'strategies': 6134, 'choosing': 6135, 'rating': 6136, 'preference': 6137, 'wwii': 6138, 'harvey': 6139, 'frankenstein': 6140, 'permit': 6141, 'ng': 6142, 'partnership': 6143, 'programmer': 6144, 'sharon': 6145, 'harsh': 6146, 'mandate': 6147, 'mt': 6148, 'rebels': 6149, 'defended': 6150, 'possessed': 6151, 'gutenberg': 6152, 'pull': 6153, 'boas': 6154, 'franc': 6155, 'graduated': 6156, 'guards': 6157, 'battalion': 6158, 'collectively': 6159, 'streams': 6160, 'honorary': 6161, 'estonian': 6162, 'mali': 6163, 'protestants': 6164, 'malay': 6165, 'andy': 6166, 'telescope': 6167, 'celestial': 6168, 'broadly': 6169, 'hp': 6170, 'mb': 6171, 'mandarin': 6172, 'peasants': 6173, 'seeks': 6174, 'seattle': 6175, 'aggressive': 6176, 'speeches': 6177, 'requested': 6178, 'dartmouth': 6179, 'rush': 6180, 'ally': 6181, 'endangered': 6182, 'pittsburgh': 6183, 'emissions': 6184, 'solved': 6185, 'herzegovina': 6186, 'hemingway': 6187, 'assert': 6188, 'diving': 6189, 'photography': 6190, 'achilles': 6191, 'refuge': 6192, 'vatican': 6193, 'explored': 6194, 'sculpture': 6195, 'valued': 6196, 'owing': 6197, 'employ': 6198, 'contributing': 6199, 'ore': 6200, 'tensions': 6201, 'climbing': 6202, 'hybrid': 6203, 'deployed': 6204, 'successes': 6205, 'fleming': 6206, 'tourists': 6207, 'expectancy': 6208, 'impressive': 6209, 'bore': 6210, 'guitars': 6211, 'fiji': 6212, 'achievements': 6213, 'derive': 6214, 'verses': 6215, 'elect': 6216, 'investigations': 6217, 'magical': 6218, 'merit': 6219, 'prague': 6220, 'continuously': 6221, 'kabul': 6222, 'shi': 6223, 'silicon': 6224, 'ceo': 6225, 'nobles': 6226, 'dances': 6227, 'eliminate': 6228, 'cease': 6229, 'conversation': 6230, 'infected': 6231, 'odyssey': 6232, 'assembled': 6233, 'bullet': 6234, 'passion': 6235, 'payment': 6236, 'isotopes': 6237, 'suited': 6238, 'heating': 6239, 'icelandic': 6240, 'chicken': 6241, 'breton': 6242, 'debated': 6243, 'stops': 6244, 'idaho': 6245, 'dictator': 6246, 'minds': 6247, 'prevention': 6248, 'orthodoxy': 6249, 'gif': 6250, 'prophecy': 6251, 'patron': 6252, 'attractions': 6253, 'czechoslovakia': 6254, 'promotion': 6255, 'penguin': 6256, 'montenegro': 6257, 'openly': 6258, 'ruins': 6259, 'detective': 6260, 'heresy': 6261, 'bnp': 6262, 'wishes': 6263, 'imaginary': 6264, 'attribute': 6265, 'vulnerable': 6266, 'apartment': 6267, 'loyalty': 6268, 'alter': 6269, 'realism': 6270, 'cole': 6271, 'alps': 6272, 'marshal': 6273, 'parity': 6274, 'resemble': 6275, 'leto': 6276, 'woods': 6277, 'threats': 6278, 'ecclesiastical': 6279, 'motorola': 6280, 'euler': 6281, 'satan': 6282, 'acoustic': 6283, 'isaiah': 6284, 'theorists': 6285, 'wants': 6286, 'lifestyle': 6287, 'validity': 6288, 'steady': 6289, 'hub': 6290, 'analogous': 6291, 'humorous': 6292, 'malawi': 6293, 'fur': 6294, 'dolphins': 6295, 'lightning': 6296, 'declares': 6297, 'horizon': 6298, 'hawaiian': 6299, 'trends': 6300, 'heroin': 6301, 'guam': 6302, 'enigma': 6303, 'venus': 6304, 'destroying': 6305, 'metaphor': 6306, 'hopkins': 6307, 'warriors': 6308, 'generals': 6309, 'everywhere': 6310, 'charity': 6311, 'ridge': 6312, 'inquiry': 6313, 'asks': 6314, 'paperback': 6315, 'fossils': 6316, 'discourse': 6317, 'heated': 6318, 'johannes': 6319, 'republics': 6320, 'aided': 6321, 'vietnamese': 6322, 'mathrm': 6323, 'allegations': 6324, 'violation': 6325, 'abundant': 6326, 'enzyme': 6327, 'br': 6328, 'ash': 6329, 'controller': 6330, 'hammer': 6331, 'touring': 6332, 'mongolia': 6333, 'praise': 6334, 'flexible': 6335, 'celebrate': 6336, 'hitchcock': 6337, 'messiah': 6338, 'gram': 6339, 'challenges': 6340, 'seas': 6341, 'corpus': 6342, 'ski': 6343, 'intervals': 6344, 'hudson': 6345, 'sinatra': 6346, 'harder': 6347, 'flesh': 6348, 'fantastic': 6349, 'mandatory': 6350, 'usd': 6351, 'posts': 6352, 'throwing': 6353, 'pace': 6354, 'monday': 6355, 'perfectly': 6356, 'overcome': 6357, 'pa': 6358, 'disciples': 6359, 'domination': 6360, 'prepare': 6361, 'antarctica': 6362, 'arsenal': 6363, 'suffix': 6364, 'outbreak': 6365, 'celebrity': 6366, 'provision': 6367, 'astrology': 6368, 'habsburg': 6369, 'arabian': 6370, 'networking': 6371, 'bubble': 6372, 'manpower': 6373, 'hollow': 6374, 'emission': 6375, 'approximate': 6376, 'bj': 6377, 'smoke': 6378, 'victories': 6379, 'dependence': 6380, 'bachelor': 6381, 'nick': 6382, 'makers': 6383, 'comprises': 6384, 'memories': 6385, 'linguists': 6386, 'qaeda': 6387, 'gaming': 6388, 'numerals': 6389, 'fingers': 6390, 'monthly': 6391, 'equator': 6392, 'exodus': 6393, 'modulation': 6394, 'undergraduate': 6395, 'mg': 6396, 'assessment': 6397, 'motivated': 6398, 'morse': 6399, 'composite': 6400, 'tight': 6401, 'ka': 6402, 'addressing': 6403, 'adds': 6404, 'fastest': 6405, 'albeit': 6406, 'attract': 6407, 'surname': 6408, 'jew': 6409, 'decisive': 6410, 'queens': 6411, 'anonymous': 6412, 'performers': 6413, 'encryption': 6414, 'phonetic': 6415, 'neighbors': 6416, 'oak': 6417, 'draws': 6418, 'justification': 6419, 'effectiveness': 6420, 'enterprises': 6421, 'fails': 6422, 'archaeology': 6423, 'morrison': 6424, 'prix': 6425, 'economically': 6426, 'pr': 6427, 'inclusion': 6428, 'silence': 6429, 'absorption': 6430, 'dish': 6431, 'clan': 6432, 'minorities': 6433, 'ashes': 6434, 'tamil': 6435, 'hello': 6436, 'lennon': 6437, 'differing': 6438, 'alternatively': 6439, 'oklahoma': 6440, 'ingredients': 6441, 'inserted': 6442, 'occupy': 6443, 'recurring': 6444, 'detection': 6445, 'similarity': 6446, 'athlete': 6447, 'nose': 6448, 'fi': 6449, 'hamas': 6450, 'xp': 6451, 'providers': 6452, 'ivan': 6453, 'cloud': 6454, 'indirect': 6455, 'emphasized': 6456, 'saving': 6457, 'lawyers': 6458, 'pursue': 6459, 'friday': 6460, 'acquisition': 6461, 'mysterious': 6462, 'limestone': 6463, 'runways': 6464, 'erosion': 6465, 'byron': 6466, 'exiled': 6467, 'believers': 6468, 'focusing': 6469, 'cipher': 6470, 'arrive': 6471, 'tactical': 6472, 'erected': 6473, 'span': 6474, 'impression': 6475, 'debates': 6476, 'spite': 6477, 'prompted': 6478, 'ammonia': 6479, 'prey': 6480, 'sects': 6481, 'wore': 6482, 'pet': 6483, 'hermann': 6484, 'gambling': 6485, 'symmetry': 6486, 'metallica': 6487, 'faction': 6488, 'prevalent': 6489, 'predict': 6490, 'np': 6491, 'leonard': 6492, 'nicknamed': 6493, 'failing': 6494, 'naked': 6495, 'mosque': 6496, 'susan': 6497, 'reich': 6498, 'nigeria': 6499, 'kid': 6500, 'bet': 6501, 'nominal': 6502, 'irregular': 6503, 'feudal': 6504, 'twins': 6505, 'quad': 6506, 'minneapolis': 6507, 'friedman': 6508, 'anchor': 6509, 'priority': 6510, 'determines': 6511, 'rises': 6512, 'motors': 6513, 'reporting': 6514, 'wittgenstein': 6515, 'flute': 6516, 'prosecution': 6517, 'reversed': 6518, 'demonstration': 6519, 'cookies': 6520, 'peaks': 6521, 'fever': 6522, 'fees': 6523, 'oriental': 6524, 'manuel': 6525, 'caves': 6526, 'xiv': 6527, 'literal': 6528, 'marking': 6529, 'heracles': 6530, 'asserted': 6531, 'widow': 6532, 'exercised': 6533, 'careful': 6534, 'eddie': 6535, 'veterans': 6536, 'reveal': 6537, 'crop': 6538, 'continuation': 6539, 'finals': 6540, 'convenient': 6541, 'parish': 6542, 'sentenced': 6543, 'casualties': 6544, 'mature': 6545, 'pressures': 6546, 'manage': 6547, 'precipitation': 6548, 'radius': 6549, 'supernatural': 6550, 'montgomery': 6551, 'warsaw': 6552, 'hardly': 6553, 'grouped': 6554, 'odds': 6555, 'traces': 6556, 'healing': 6557, 'michel': 6558, 'stance': 6559, 'histories': 6560, 'gnostic': 6561, 'segments': 6562, 'firms': 6563, 'elevated': 6564, 'tsar': 6565, 'gaza': 6566, 'excluding': 6567, 'shuttle': 6568, 'angular': 6569, 'brunei': 6570, 'regiment': 6571, 'chord': 6572, 'ta': 6573, 'prohibition': 6574, 'circus': 6575, 'antony': 6576, 'auxiliary': 6577, 'daleks': 6578, 'handled': 6579, 'establishments': 6580, 'fortress': 6581, 'contemporaries': 6582, 'winters': 6583, 'succeed': 6584, 'relay': 6585, 'decreased': 6586, 'declare': 6587, 'itu': 6588, 'exhibition': 6589, 'notorious': 6590, 'paying': 6591, 'sends': 6592, 'trick': 6593, 'vectors': 6594, 'metre': 6595, 'poetic': 6596, 'discography': 6597, 'playwright': 6598, 'attitudes': 6599, 'oppose': 6600, 'induction': 6601, 'venture': 6602, 'innovations': 6603, 'obscure': 6604, 'chambers': 6605, 'haydn': 6606, 'comprising': 6607, 'traded': 6608, 'keyboards': 6609, 'defending': 6610, 'uranium': 6611, 'specially': 6612, 'licensing': 6613, 'feminine': 6614, 'bolivia': 6615, 'timing': 6616, 'oath': 6617, 'duplicate': 6618, 'kryptonite': 6619, 'nt': 6620, 'shut': 6621, 'imprisonment': 6622, 'innocent': 6623, 'dominate': 6624, 'versa': 6625, 'vikings': 6626, 'kinetic': 6627, 'angry': 6628, 'proposals': 6629, 'temperate': 6630, 'schemes': 6631, 'mauritius': 6632, 'playoff': 6633, 'prosperity': 6634, 'boiling': 6635, 'acronym': 6636, 'somewhere': 6637, 'luthor': 6638, 'eleanor': 6639, 'sins': 6640, 'calculate': 6641, 'coronation': 6642, 'saul': 6643, 'comprise': 6644, 'palm': 6645, 'acres': 6646, 'insisted': 6647, 'artifacts': 6648, 'tenth': 6649, 'justified': 6650, 'realistic': 6651, 'dominion': 6652, 'rotating': 6653, 'painters': 6654, 'confined': 6655, 'cheap': 6656, 'luck': 6657, 'searching': 6658, 'snake': 6659, 'chilean': 6660, 'theatrical': 6661, 'suspension': 6662, 'rna': 6663, 'dukes': 6664, 'rebuilt': 6665, 'cardinals': 6666, 'kde': 6667, 'slight': 6668, 'adequate': 6669, 'functioning': 6670, 'troy': 6671, 'phil': 6672, 'telegraph': 6673, 'eldest': 6674, 'metaphysics': 6675, 'explanations': 6676, 'acclaimed': 6677, 'carthage': 6678, 'closing': 6679, 'mini': 6680, 'isolation': 6681, 'kit': 6682, 'eg': 6683, 'venezuela': 6684, 'consumed': 6685, 'armenia': 6686, 'balkan': 6687, 'allegiance': 6688, 'modifications': 6689, 'ff': 6690, 'motorcycle': 6691, 'rangle': 6692, 'genuine': 6693, 'anxiety': 6694, 'labeled': 6695, 'reprinted': 6696, 'mask': 6697, 'prone': 6698, 'resolve': 6699, 'domains': 6700, 'macdonald': 6701, 'questioned': 6702, 'toll': 6703, 'physicists': 6704, 'cartoons': 6705, 'freight': 6706, 'ferry': 6707, 'unrelated': 6708, 'tribunal': 6709, 'gorbachev': 6710, 'cypriot': 6711, 'scriptures': 6712, 'viking': 6713, 'ithaca': 6714, 'sabbath': 6715, 'compatibility': 6716, 'profession': 6717, 'attending': 6718, 'masculine': 6719, 'associates': 6720, 'nerve': 6721, 'beads': 6722, 'optional': 6723, 'cuts': 6724, 'gibson': 6725, 'conrad': 6726, 'approximation': 6727, 'polynomial': 6728, 'wavelength': 6729, 'armoured': 6730, 'nice': 6731, 'marxism': 6732, 'couples': 6733, 'motto': 6734, 'probe': 6735, 'devised': 6736, 'fertile': 6737, 'deliver': 6738, 'zappa': 6739, 'structured': 6740, 'ecological': 6741, 'fu': 6742, 'carved': 6743, 'architects': 6744, 'strait': 6745, 'dozen': 6746, 'brigade': 6747, 'scandinavian': 6748, 'gospels': 6749, 'lanka': 6750, 'bankruptcy': 6751, 'rite': 6752, 'schwarzenegger': 6753, 'elimination': 6754, 'capitol': 6755, 'colonization': 6756, 'circulation': 6757, 'aligned': 6758, 'empires': 6759, 'astronomers': 6760, 'sierra': 6761, 'arrows': 6762, 'kyoto': 6763, 'resignation': 6764, 'tolerance': 6765, 'wives': 6766, 'aegean': 6767, 'drove': 6768, 'eaten': 6769, 'yard': 6770, 'responses': 6771, 'towers': 6772, 'cairo': 6773, 'manifold': 6774, 'intercourse': 6775, 'dodgers': 6776, 'distributions': 6777, 'mikhail': 6778, 'currents': 6779, 'brick': 6780, 'das': 6781, 'rivals': 6782, 'secured': 6783, 'farms': 6784, 'cosmology': 6785, 'discusses': 6786, 'journals': 6787, 'sexually': 6788, 'lab': 6789, 'acquire': 6790, 'ink': 6791, 'possessions': 6792, 'khmer': 6793, 'handbook': 6794, 'eden': 6795, 'welcome': 6796, 'wheels': 6797, 'hacker': 6798, 'mk': 6799, 'manifesto': 6800, 'taxation': 6801, 'formulation': 6802, 'quiet': 6803, 'reflecting': 6804, 'diary': 6805, 'drag': 6806, 'dante': 6807, 'booth': 6808, 'congressional': 6809, 'seemingly': 6810, 'accession': 6811, 'sahara': 6812, 'loan': 6813, 'conversely': 6814, 'agenda': 6815, 'constitutes': 6816, 'intensive': 6817, 'geoffrey': 6818, 'incorporate': 6819, 'brings': 6820, 'puts': 6821, 'viewers': 6822, 'cruise': 6823, 'malaria': 6824, 'bowling': 6825, 'quarterback': 6826, 'planetary': 6827, 'dickens': 6828, 'chiang': 6829, 'criticised': 6830, 'broader': 6831, 'hart': 6832, 'republicans': 6833, 'illustration': 6834, 'sick': 6835, 'dictionaries': 6836, 'boxes': 6837, 'esoteric': 6838, 'theologians': 6839, 'guidance': 6840, 'algae': 6841, 'pete': 6842, 'browns': 6843, 'fraud': 6844, 'deposed': 6845, 'valve': 6846, 'fitzgerald': 6847, 'unesco': 6848, 'marilyn': 6849, 'conscription': 6850, 'wages': 6851, 'bomber': 6852, 'empress': 6853, 'tin': 6854, 'gnome': 6855, 'suppressed': 6856, 'alternatives': 6857, 'linking': 6858, 'peers': 6859, 'freed': 6860, 'substitute': 6861, 'nephew': 6862, 'successors': 6863, 'reflection': 6864, 'vegetation': 6865, 'timor': 6866, 'prominence': 6867, 'buffer': 6868, 'innovative': 6869, 'xavier': 6870, 'ukrainian': 6871, 'sixteen': 6872, 'tubes': 6873, 'spiral': 6874, 'crystals': 6875, 'octave': 6876, 'explosives': 6877, 'microprocessor': 6878, 'theft': 6879, 'paths': 6880, 'repeat': 6881, 'din': 6882, 'basically': 6883, 'evans': 6884, 'commentators': 6885, 'unstable': 6886, 'potter': 6887, 'franks': 6888, 'jon': 6889, 'eiffel': 6890, 'ticket': 6891, 'drinks': 6892, 'thai': 6893, 'parade': 6894, 'hitting': 6895, 'sony': 6896, 'possibilities': 6897, 'lucas': 6898, 'crete': 6899, 'bombers': 6900, 'fitted': 6901, 'retail': 6902, 'macbeth': 6903, 'bluetooth': 6904, 'congregation': 6905, 'fourier': 6906, 'mumbai': 6907, 'coercion': 6908, 'clouds': 6909, 'cp': 6910, 'protective': 6911, 'pulled': 6912, 'sarah': 6913, 'bind': 6914, 'releasing': 6915, 'stamp': 6916, 'dictatorship': 6917, 'spy': 6918, 'dee': 6919, 'gabriel': 6920, 'calculator': 6921, 'hi': 6922, 'israelites': 6923, 'incidents': 6924, 'inferior': 6925, 'registration': 6926, 'bsd': 6927, 'castile': 6928, 'harmonica': 6929, 'licenses': 6930, 'blackadder': 6931, 'reads': 6932, 'delayed': 6933, 'greenhouse': 6934, 'allan': 6935, 'diffusion': 6936, 'coptic': 6937, 'observe': 6938, 'slovenia': 6939, 'flowing': 6940, 'faithful': 6941, 'scripts': 6942, 'arises': 6943, 'honored': 6944, 'han': 6945, 'regent': 6946, 'carey': 6947, 'resist': 6948, 'thinkers': 6949, 'sometime': 6950, 'mud': 6951, 'treasury': 6952, 'grants': 6953, 'sat': 6954, 'qualified': 6955, 'enforce': 6956, 'compulsory': 6957, 'adaptations': 6958, 'developer': 6959, 'correction': 6960, 'decree': 6961, 'enable': 6962, 'leipzig': 6963, 'gerald': 6964, 'shops': 6965, 'summers': 6966, 'azerbaijan': 6967, 'carroll': 6968, 'invisible': 6969, 'elevator': 6970, 'sail': 6971, 'fee': 6972, 'dissolution': 6973, 'elephants': 6974, 'latvian': 6975, 'cricketer': 6976, 'riots': 6977, 'choices': 6978, 'anger': 6979, 'montana': 6980, 'authorized': 6981, 'analytic': 6982, 'aesthetic': 6983, 'mixing': 6984, 'dwarf': 6985, 'torture': 6986, 'crude': 6987, 'inquisition': 6988, 'judgement': 6989, 'sporting': 6990, 'shells': 6991, 'processed': 6992, 'luis': 6993, 'soap': 6994, 'souls': 6995, 'unification': 6996, 'drawings': 6997, 'tommy': 6998, 'valleys': 6999, 'relates': 7000, 'constituent': 7001, 'undergo': 7002, 'spider': 7003, 'cube': 7004, 'heavier': 7005, 'footage': 7006, 'esa': 7007, 'moments': 7008, 'lung': 7009, 'bug': 7010, 'maker': 7011, 'scandinavia': 7012, 'slot': 7013, 'meme': 7014, 'weakened': 7015, 'imperialism': 7016, 'pipe': 7017, 'chronology': 7018, 'mason': 7019, 'projection': 7020, 'sur': 7021, 'resistant': 7022, 'ren': 7023, 'converts': 7024, 'iec': 7025, 'retains': 7026, 'exploitation': 7027, 'preceded': 7028, 'flip': 7029, 'formulated': 7030, 'quarters': 7031, 'founders': 7032, 'kepler': 7033, 'customary': 7034, 'roof': 7035, 'unpaved': 7036, 'container': 7037, 'transcription': 7038, 'cr': 7039, 'nba': 7040, 'interact': 7041, 'subjective': 7042, 'publicity': 7043, 'mountainous': 7044, 'fragment': 7045, 'cbs': 7046, 'vancouver': 7047, 'brilliant': 7048, 'weakness': 7049, 'syllables': 7050, 'prehistoric': 7051, 'earthquakes': 7052, 'township': 7053, 'fourteen': 7054, 'ears': 7055, 'reporter': 7056, 'nights': 7057, 'copied': 7058, 'targeted': 7059, 'conditional': 7060, 'antioch': 7061, 'gehrig': 7062, 'bandwidth': 7063, 'grail': 7064, 'airways': 7065, 'dns': 7066, 'popularized': 7067, 'counterparts': 7068, 'battlefield': 7069, 'proclamation': 7070, 'accepting': 7071, 'petersburg': 7072, 'crater': 7073, 'popularly': 7074, 'melody': 7075, 'ambitious': 7076, 'judiciary': 7077, 'aboard': 7078, 'squares': 7079, 'muscles': 7080, 'bigger': 7081, 'partition': 7082, 'gifts': 7083, 'thrust': 7084, 'lou': 7085, 'pianist': 7086, 'curves': 7087, 'tigers': 7088, 'anarchists': 7089, 'finest': 7090, 'conclusions': 7091, 'tag': 7092, 'badly': 7093, 'chase': 7094, 'enacted': 7095, 'herman': 7096, 'haven': 7097, 'motivation': 7098, 'obligations': 7099, 'collapsed': 7100, 'descendant': 7101, 'servant': 7102, 'merge': 7103, 'connects': 7104, 'cdots': 7105, 'formations': 7106, 'protecting': 7107, 'viewing': 7108, 'exit': 7109, 'southwestern': 7110, 'boot': 7111, 'alike': 7112, 'gang': 7113, 'yahoo': 7114, 'interim': 7115, 'lateral': 7116, 'aol': 7117, 'swords': 7118, 'clarinet': 7119, 'armored': 7120, 'deny': 7121, 'cent': 7122, 'costume': 7123, 'performs': 7124, 'affiliated': 7125, 'pat': 7126, 'infamous': 7127, 'wholly': 7128, 'palestinians': 7129, 'junction': 7130, 'wa': 7131, 'apostolic': 7132, 'dianetics': 7133, 'sqrt': 7134, 'amplifier': 7135, 'beans': 7136, 'hypnosis': 7137, 'enforced': 7138, 'triumph': 7139, 'assumes': 7140, 'aired': 7141, 'tragedy': 7142, 'coral': 7143, 'suffrage': 7144, 'roberts': 7145, 'aerial': 7146, 'displaced': 7147, 'atoll': 7148, 'printer': 7149, 'airplane': 7150, 'madagascar': 7151, 'admission': 7152, 'affects': 7153, 'soup': 7154, 'pierce': 7155, 'dewey': 7156, 'defeats': 7157, 'oz': 7158, 'diplomat': 7159, 'beverages': 7160, 'inability': 7161, 'md': 7162, 'commit': 7163, 'hood': 7164, 'principally': 7165, 'visits': 7166, 'analogy': 7167, 'bid': 7168, 'punch': 7169, 'pyramid': 7170, 'recreational': 7171, 'generalized': 7172, 'numbering': 7173, 'click': 7174, 'pg': 7175, 'meal': 7176, 'pregnancy': 7177, 'skating': 7178, 'baghdad': 7179, 'joyce': 7180, 'shortened': 7181, 'charlotte': 7182, 'cobain': 7183, 'holder': 7184, 'controversies': 7185, 'backing': 7186, 'sustained': 7187, 'postal': 7188, 'archaic': 7189, 'blacks': 7190, 'terrestrial': 7191, 'volunteer': 7192, 'productive': 7193, 'dose': 7194, 'neumann': 7195, 'reveals': 7196, 'speculated': 7197, 'pot': 7198, 'swimming': 7199, 'jungle': 7200, 'subgroup': 7201, 'ceremonial': 7202, 'privileges': 7203, 'dressed': 7204, 'oxidation': 7205, 'nbc': 7206, 'kurdish': 7207, 'landmark': 7208, 'hobbes': 7209, 'sanctions': 7210, 'theodore': 7211, 'cartoonist': 7212, 'survivors': 7213, 'rick': 7214, 'precursor': 7215, 'ideological': 7216, 'rudolf': 7217, 'subtle': 7218, 'discussing': 7219, 'bold': 7220, 'edwin': 7221, 'sake': 7222, 'zinc': 7223, 'representations': 7224, 'cloth': 7225, 'cheaper': 7226, 'metabolism': 7227, 'manned': 7228, 'gateway': 7229, 'sect': 7230, 'platinum': 7231, 'leonardo': 7232, 'lex': 7233, 'cue': 7234, 'bb': 7235, 'birmingham': 7236, 'phones': 7237, 'afterlife': 7238, 'guinness': 7239, 'lacked': 7240, 'standardized': 7241, 'continuum': 7242, 'photograph': 7243, 'rev': 7244, 'suggestion': 7245, 'bounded': 7246, 'deficit': 7247, 'concerts': 7248, 'programmes': 7249, 'extract': 7250, 'chaucer': 7251, 'journalism': 7252, 'fda': 7253, 'shannon': 7254, 'expectations': 7255, 'peel': 7256, 'prayers': 7257, 'repair': 7258, 'bogart': 7259, 'lodge': 7260, 'labels': 7261, 'lover': 7262, 'probable': 7263, 'skull': 7264, 'chest': 7265, 'relied': 7266, 'absent': 7267, 'dozens': 7268, 'hank': 7269, 'cultivation': 7270, 'relies': 7271, 'analytical': 7272, 'dairy': 7273, 'collision': 7274, 'rivalry': 7275, 'remarks': 7276, 'strain': 7277, 'inscription': 7278, 'fallacy': 7279, 'whales': 7280, 'milwaukee': 7281, 'assumptions': 7282, 'cameo': 7283, 'hausdorff': 7284, 'pirates': 7285, 'eminem': 7286, 'update': 7287, 'residential': 7288, 'ruby': 7289, 'hal': 7290, 'cervantes': 7291, 'masturbation': 7292, 'creationism': 7293, 'spencer': 7294, 'ambiguous': 7295, 'interpret': 7296, 'guidelines': 7297, 'newfoundland': 7298, 'alchemy': 7299, 'continents': 7300, 'mystical': 7301, 'mozart': 7302, 'ivory': 7303, 'balanced': 7304, 'southeastern': 7305, 'poison': 7306, 'slope': 7307, 'tech': 7308, 'sunni': 7309, 'guyana': 7310, 'squad': 7311, 'citing': 7312, 'albanians': 7313, 'comets': 7314, 'nov': 7315, 'absolutely': 7316, 'murders': 7317, 'mercedes': 7318, 'interfaces': 7319, 'coloured': 7320, 'rachel': 7321, 'apostle': 7322, 'eusebius': 7323, 'mips': 7324, 'overthrow': 7325, 'adherents': 7326, 'bahrain': 7327, 'rites': 7328, 'businessman': 7329, 'burton': 7330, 'midnight': 7331, 'beast': 7332, 'counterpart': 7333, 'dinosaur': 7334, 'originating': 7335, 'prevents': 7336, 'meta': 7337, 'botswana': 7338, 'treatments': 7339, 'ie': 7340, 'lawsuit': 7341, 'metallic': 7342, 'avoiding': 7343, 'diaspora': 7344, 'dots': 7345, 'benz': 7346, 'disco': 7347, 'cpus': 7348, 'abbot': 7349, 'privately': 7350, 'socially': 7351, 'proposition': 7352, 'nebraska': 7353, 'beating': 7354, 'committees': 7355, 'homo': 7356, 'grip': 7357, 'limiting': 7358, 'pressed': 7359, 'noting': 7360, 'imaging': 7361, 'insight': 7362, 'clone': 7363, 'stolen': 7364, 'shipped': 7365, 'habitat': 7366, 'anchorage': 7367, 'jumping': 7368, 'breakdown': 7369, 'northwestern': 7370, 'feeding': 7371, 'fencing': 7372, 'risks': 7373, 'cauchy': 7374, 'highland': 7375, 'colleagues': 7376, 'closure': 7377, 'canadians': 7378, 'rows': 7379, 'favourite': 7380, 'gaul': 7381, 'denomination': 7382, 'cleese': 7383, 'rituals': 7384, 'theoretically': 7385, 'wonder': 7386, 'grains': 7387, 'bruno': 7388, 'negotiated': 7389, 'keeps': 7390, 'obligation': 7391, 'accusations': 7392, 'proceeds': 7393, 'sr': 7394, 'shaw': 7395, 'pregnant': 7396, 'homeland': 7397, 'yields': 7398, 'lengthy': 7399, 'beef': 7400, 'indirectly': 7401, 'sullivan': 7402, 'jesuit': 7403, 'shoes': 7404, 'ratings': 7405, 'tuned': 7406, 'owen': 7407, 'execute': 7408, 'apparatus': 7409, 'blog': 7410, 'deeper': 7411, 'administrator': 7412, 'doubles': 7413, 'livestock': 7414, 'rolls': 7415, 'complaints': 7416, 'methane': 7417, 'lang': 7418, 'devon': 7419, 'taliban': 7420, 'delhi': 7421, 'eugenics': 7422, 'memoirs': 7423, 'mutations': 7424, 'boss': 7425, 'cowboys': 7426, 'burroughs': 7427, 'barbados': 7428, 'nehru': 7429, 'proceeded': 7430, 'explaining': 7431, 'integrity': 7432, 'harmful': 7433, 'ideals': 7434, 'defenders': 7435, 'dividing': 7436, 'benedict': 7437, 'seasonal': 7438, 'unlimited': 7439, 'unpopular': 7440, 'breast': 7441, 'reply': 7442, 'min': 7443, 'binomial': 7444, 'regards': 7445, 'freedoms': 7446, 'gem': 7447, 'marketed': 7448, 'habits': 7449, 'codex': 7450, 'belize': 7451, 'hezbollah': 7452, 'expressing': 7453, 'affecting': 7454, 'xml': 7455, 'ordering': 7456, 'obtaining': 7457, 'sorts': 7458, 'temporal': 7459, 'extant': 7460, 'completing': 7461, 'fernando': 7462, 'grows': 7463, 'investors': 7464, 'explore': 7465, 'swept': 7466, 'thumb': 7467, 'infections': 7468, 'colspan': 7469, 'ptolemy': 7470, 'lisbon': 7471, 'ioc': 7472, 'furniture': 7473, 'eligible': 7474, 'gradual': 7475, 'solids': 7476, 'hazards': 7477, 'mafia': 7478, 'rouge': 7479, 'edges': 7480, 'rope': 7481, 'braves': 7482, 'nicaragua': 7483, 'cello': 7484, 'beneficial': 7485, 'clothes': 7486, 'rainbow': 7487, 'nationalists': 7488, 'wished': 7489, 'bottle': 7490, 'harper': 7491, 'cicero': 7492, 'hurt': 7493, 'identifying': 7494, 'arrays': 7495, 'null': 7496, 'violations': 7497, 'generating': 7498, 'terrorists': 7499, 'lp': 7500, 'crescent': 7501, 'constraints': 7502, 'lengths': 7503, 'eva': 7504, 'bare': 7505, 'prc': 7506, 'microscope': 7507, 'helsinki': 7508, 'inca': 7509, 'karate': 7510, 'mod': 7511, 'abd': 7512, 'cubs': 7513, 'blamed': 7514, 'northeastern': 7515, 'verbal': 7516, 'dome': 7517, 'importantly': 7518, 'dakota': 7519, 'contested': 7520, 'locke': 7521, 'proximity': 7522, 'frozen': 7523, 'barely': 7524, 'prolific': 7525, 'messenger': 7526, 'lowlands': 7527, 'recover': 7528, 'exotic': 7529, 'worms': 7530, 'marriages': 7531, 'filming': 7532, 'offspring': 7533, 'theta': 7534, 'ko': 7535, 'witch': 7536, 'frankish': 7537, 'hull': 7538, 'ferrari': 7539, 'interrupt': 7540, 'receptor': 7541, 'overwhelming': 7542, 'fuels': 7543, 'inscriptions': 7544, 'xii': 7545, 'belonged': 7546, 'farmer': 7547, 'irving': 7548, 'comparing': 7549, 'predominant': 7550, 'nautical': 7551, 'slovakia': 7552, 'tertiary': 7553, 'ethiopian': 7554, 'djibouti': 7555, 'mate': 7556, 'announces': 7557, 'bristol': 7558, 'modify': 7559, 'braille': 7560, 'cone': 7561, 'shoulder': 7562, 'mesopotamia': 7563, 'asylum': 7564, 'packages': 7565, 'meaningful': 7566, 'hide': 7567, 'chapman': 7568, 'ep': 7569, 'annexation': 7570, 'leeds': 7571, 'dharma': 7572, 'beck': 7573, 'authoritarian': 7574, 'justify': 7575, 'spreading': 7576, 'emotion': 7577, 'satellites': 7578, 'indication': 7579, 'depicting': 7580, 'confederacy': 7581, 'destructive': 7582, 'laos': 7583, 'blessed': 7584, 'raid': 7585, 'tallest': 7586, 'breathing': 7587, 'payments': 7588, 'atheists': 7589, 'undertaken': 7590, 'berber': 7591, 'proceed': 7592, 'burden': 7593, 'den': 7594, 'treating': 7595, 'dame': 7596, 'africans': 7597, 'complementary': 7598, 'smoking': 7599, 'imdb': 7600, 'spatial': 7601, 'bonding': 7602, 'judged': 7603, 'exponential': 7604, 'treason': 7605, 'bride': 7606, 'carol': 7607, 'lucy': 7608, 'seldom': 7609, 'sociology': 7610, 'hera': 7611, 'considerations': 7612, 'garrison': 7613, 'surrendered': 7614, 'ought': 7615, 'shelter': 7616, 'tens': 7617, 'amnesty': 7618, 'guarantee': 7619, 'functionality': 7620, 'gustav': 7621, 'header': 7622, 'combines': 7623, 'truck': 7624, 'backwards': 7625, 'panama': 7626, 'georges': 7627, 'deputies': 7628, 'silk': 7629, 'flavor': 7630, 'pump': 7631, 'arcade': 7632, 'satisfy': 7633, 'compilers': 7634, 'infty': 7635, 'spears': 7636, 'cure': 7637, 'preparing': 7638, 'marginal': 7639, 'margin': 7640, 'compensation': 7641, 'participating': 7642, 'habit': 7643, 'rider': 7644, 'perceive': 7645, 'atheist': 7646, 'fierce': 7647, 'hadrian': 7648, 'nomenclature': 7649, 'butt': 7650, 'reception': 7651, 'deliberate': 7652, 'arable': 7653, 'crashes': 7654, 'fatty': 7655, 'listen': 7656, 'dover': 7657, 'selective': 7658, 'vampire': 7659, 'wellington': 7660, 'responsibilities': 7661, 'compressed': 7662, 'generator': 7663, 'tiles': 7664, 'honda': 7665, 'usenet': 7666, 'authentic': 7667, 'priesthood': 7668, 'amos': 7669, 'loch': 7670, 'autism': 7671, 'pitched': 7672, 'refined': 7673, 'steadily': 7674, 'replied': 7675, 'happiness': 7676, 'advised': 7677, 'imagery': 7678, 'mistake': 7679, 'recall': 7680, 'kabbalah': 7681, 'egyptians': 7682, 'managing': 7683, 'traders': 7684, 'gasoline': 7685, 'inertial': 7686, 'diffraction': 7687, 'venues': 7688, 'fe': 7689, 'demonstrations': 7690, 'chuck': 7691, 'locomotives': 7692, 'flanders': 7693, 'criminals': 7694, 'graffiti': 7695, 'estates': 7696, 'stake': 7697, 'battleships': 7698, 'bengals': 7699, 'bertrand': 7700, 'referenced': 7701, 'facilitate': 7702, 'spontaneous': 7703, 'iliad': 7704, 'sympathetic': 7705, 'trapped': 7706, 'connor': 7707, 'specialist': 7708, 'immense': 7709, 'nationwide': 7710, 'edu': 7711, 'examined': 7712, 'descriptive': 7713, 'mythological': 7714, 'ads': 7715, 'gabon': 7716, 'amazing': 7717, 'glacier': 7718, 'longitude': 7719, 'maize': 7720, 'slide': 7721, 'modest': 7722, 'objectives': 7723, 'eighteen': 7724, 'symmetric': 7725, 'divorced': 7726, 'aryan': 7727, 'automated': 7728, 'specify': 7729, 'knock': 7730, 'audi': 7731, 'rally': 7732, 'mph': 7733, 'tcp': 7734, 'merlin': 7735, 'math': 7736, 'cos': 7737, 'assyrian': 7738, 'rover': 7739, 'kerala': 7740, 'biochemistry': 7741, 'derivation': 7742, 'wound': 7743, 'oracle': 7744, 'lovers': 7745, 'deceased': 7746, 'watching': 7747, 'banner': 7748, 'imagination': 7749, 'dried': 7750, 'ellis': 7751, 'falkland': 7752, 'outdoor': 7753, 'transparent': 7754, 'pbs': 7755, 'trophy': 7756, 'equals': 7757, 'indoor': 7758, 'ordained': 7759, 'accelerated': 7760, 'sailing': 7761, 'crosses': 7762, 'pit': 7763, 'receptors': 7764, 'spectral': 7765, 'im': 7766, 'temperament': 7767, 'boolean': 7768, 'sigma': 7769, 'congregations': 7770, 'mazda': 7771, 'casino': 7772, 'abolition': 7773, 'emphasize': 7774, 'beloved': 7775, 'aphrodite': 7776, 'secretly': 7777, 'pedro': 7778, 'remnants': 7779, 'mutually': 7780, 'notions': 7781, 'supplement': 7782, 'permits': 7783, 'privy': 7784, 'zimbabwe': 7785, 'vegas': 7786, 'conferences': 7787, 'rounded': 7788, 'winston': 7789, 'blades': 7790, 'proving': 7791, 'granting': 7792, 'calculating': 7793, 'multimedia': 7794, 'morphology': 7795, 'commanders': 7796, 'bacterial': 7797, 'planck': 7798, 'balkans': 7799, 'sixty': 7800, 'thames': 7801, 'rightarrow': 7802, 'erie': 7803, 'earnhardt': 7804, 'krak': 7805, 'cantonese': 7806, 'replication': 7807, 'dalek': 7808, 'crushed': 7809, 'persistent': 7810, 'supporter': 7811, 'defeating': 7812, 'continually': 7813, 'accepts': 7814, 'pioneers': 7815, 'baldwin': 7816, 'conviction': 7817, 'exercises': 7818, 'staged': 7819, 'bantu': 7820, 'col': 7821, 'colin': 7822, 'kids': 7823, 'myanmar': 7824, 'tenure': 7825, 'zoo': 7826, 'missed': 7827, 'hellenistic': 7828, 'playstation': 7829, 'holmes': 7830, 'goths': 7831, 'ratios': 7832, 'castro': 7833, 'orchestral': 7834, 'formulas': 7835, 'mps': 7836, 'spherical': 7837, 'clapton': 7838, 'piercing': 7839, 'fortran': 7840, 'fifa': 7841, 'aggression': 7842, 'granite': 7843, 'emotions': 7844, 'bloc': 7845, 'lineage': 7846, 'surveillance': 7847, 'enabling': 7848, 'transported': 7849, 'divides': 7850, 'manitoba': 7851, 'handful': 7852, 'lots': 7853, 'subjected': 7854, 'simplicity': 7855, 'georgian': 7856, 'curtis': 7857, 'trio': 7858, 'marc': 7859, 'danny': 7860, 'sterling': 7861, 'kart': 7862, 'norton': 7863, 'lds': 7864, 'elves': 7865, 'biafra': 7866, 'factories': 7867, 'withdraw': 7868, 'promising': 7869, 'reviewed': 7870, 'wherein': 7871, 'employee': 7872, 'viewpoint': 7873, 'observatory': 7874, 'queensland': 7875, 'greg': 7876, 'fermentation': 7877, 'stems': 7878, 'sculptor': 7879, 'performer': 7880, 'yourself': 7881, 'render': 7882, 'rigid': 7883, 'isotope': 7884, 'inference': 7885, 'yeltsin': 7886, 'elijah': 7887, 'beowulf': 7888, 'lindy': 7889, 'riel': 7890, 'desirable': 7891, 'transitional': 7892, 'praised': 7893, 'witnessed': 7894, 'birthplace': 7895, 'rhetoric': 7896, 'contradiction': 7897, 'omitted': 7898, 'depicts': 7899, 'humanitarian': 7900, 'ceremonies': 7901, 'emerge': 7902, 'ahmed': 7903, 'extraction': 7904, 'organize': 7905, 'anton': 7906, 'monuments': 7907, 'prestige': 7908, 'aliens': 7909, 'encoded': 7910, 'elector': 7911, 'databases': 7912, 'tissues': 7913, 'catalyst': 7914, 'injection': 7915, 'genera': 7916, 'glasgow': 7917, 'regimes': 7918, 'basil': 7919, 'burnt': 7920, 'coefficient': 7921, 'berry': 7922, 'naples': 7923, 'ham': 7924, 'baptized': 7925, 'elf': 7926, 'grenada': 7927, 'predictions': 7928, 'genetically': 7929, 'chat': 7930, 'refuse': 7931, 'truman': 7932, 'translates': 7933, 'relate': 7934, 'resumed': 7935, 'exploring': 7936, 'buying': 7937, 'depiction': 7938, 'sheets': 7939, 'spectacular': 7940, 'yugoslav': 7941, 'garbage': 7942, 'guaranteed': 7943, 'intersection': 7944, 'socialists': 7945, 'warhol': 7946, 'incest': 7947, 'browsers': 7948, 'dealer': 7949, 'wonderful': 7950, 'smart': 7951, 'patch': 7952, 'associative': 7953, 'hindus': 7954, 'bo': 7955, 'ecumenical': 7956, 'interpreter': 7957, 'consoles': 7958, 'tr': 7959, 'bath': 7960, 'altar': 7961, 'nevada': 7962, 'urged': 7963, 'ambrose': 7964, 'surprisingly': 7965, 'intentionally': 7966, 'ir': 7967, 'loses': 7968, 'reluctant': 7969, 'brands': 7970, 'employs': 7971, 'immigrant': 7972, 'investigate': 7973, 'cloning': 7974, 'mach': 7975, 'sailed': 7976, 'realize': 7977, 'humanist': 7978, 'shallow': 7979, 'salts': 7980, 'astronaut': 7981, 'maybe': 7982, 'aw': 7983, 'pearson': 7984, 'patrol': 7985, 'reliability': 7986, 'kiss': 7987, 'jets': 7988, 'rabbis': 7989, 'caffeine': 7990, 'lois': 7991, 'javascript': 7992, 'pinochet': 7993, 'daredevil': 7994, 'suppression': 7995, 'developmental': 7996, 'overlap': 7997, 'offset': 7998, 'cameras': 7999, 'paramount': 8000, 'discharge': 8001, 'manipulation': 8002, 'laden': 8003, 'lacks': 8004, 'collector': 8005, 'mills': 8006, 'somehow': 8007, 'achieving': 8008, 'farther': 8009, 'civic': 8010, 'melting': 8011, 'liechtenstein': 8012, 'sq': 8013, 'nationals': 8014, 'instituted': 8015, 'hanging': 8016, 'atp': 8017, 'perry': 8018, 'unrest': 8019, 'blocked': 8020, 'joel': 8021, 'volcano': 8022, 'boroughs': 8023, 'hispanic': 8024, 'mann': 8025, 'bi': 8026, 'bent': 8027, 'invaders': 8028, 'rk': 8029, 'arbor': 8030, 'crusades': 8031, 'latex': 8032, 'abba': 8033, 'noir': 8034, 'bassist': 8035, 'likelihood': 8036, 'infinitive': 8037, 'discs': 8038, 'karaoke': 8039, 'lego': 8040, 'predecessors': 8041, 'develops': 8042, 'toy': 8043, 'asteroids': 8044, 'makeup': 8045, 'athena': 8046, 'noticed': 8047, 'ballot': 8048, 'accord': 8049, 'lt': 8050, 'fix': 8051, 'mercy': 8052, 'dorothy': 8053, 'kai': 8054, 'outline': 8055, 'nearest': 8056, 'gnosticism': 8057, 'explorers': 8058, 'reef': 8059, 'glaciers': 8060, 'fungi': 8061, 'lesotho': 8062, 'hatred': 8063, 'insect': 8064, 'fraser': 8065, 'cl': 8066, 'bag': 8067, 'filters': 8068, 'orthography': 8069, 'hotels': 8070, 'extremes': 8071, 'cartridges': 8072, 'authorship': 8073, 'ahmad': 8074, 'threatening': 8075, 'mysteries': 8076, 'gauss': 8077, 'recalled': 8078, 'craig': 8079, 'betting': 8080, 'yeast': 8081, 'battleship': 8082, 'shaft': 8083, 'oct': 8084, 'aclu': 8085, 'bt': 8086, 'faroese': 8087, 'methodology': 8088, 'demanding': 8089, 'ajax': 8090, 'richmond': 8091, 'answered': 8092, 'guests': 8093, 'evolve': 8094, 'diminished': 8095, 'countryside': 8096, 'receivers': 8097, 'recipients': 8098, 'paradigm': 8099, 'tracking': 8100, 'hayek': 8101, 'marines': 8102, 'fao': 8103, 'damages': 8104, 'neighborhoods': 8105, 'sandy': 8106, 'maldives': 8107, 'discontinued': 8108, 'commented': 8109, 'cathode': 8110, 'font': 8111, 'batteries': 8112, 'slogan': 8113, 'isomorphism': 8114, 'intake': 8115, 'crowley': 8116, 'carson': 8117, 'governance': 8118, 'anthropologists': 8119, 'aerospace': 8120, 'wartime': 8121, 'observing': 8122, 'engagement': 8123, 'triggered': 8124, 'progression': 8125, 'applicable': 8126, 'turner': 8127, 'underwent': 8128, 'locomotive': 8129, 'pub': 8130, 'gunpowder': 8131, 'potassium': 8132, 'reinforced': 8133, 'erasmus': 8134, 'tough': 8135, 'sits': 8136, 'ozone': 8137, 'lisa': 8138, 'potatoes': 8139, 'extracted': 8140, 'cowboy': 8141, 'worm': 8142, 'pl': 8143, 'buttons': 8144, 'neutron': 8145, 'teutonic': 8146, 'gwh': 8147, 'bats': 8148, 'pirate': 8149, 'editorial': 8150, 'uncertainty': 8151, 'broadcasts': 8152, 'culturally': 8153, 'organizing': 8154, 'popper': 8155, 'boost': 8156, 'parameter': 8157, 'divinity': 8158, 'stressed': 8159, 'disastrous': 8160, 'timothy': 8161, 'anticipated': 8162, 'gda': 8163, 'ultra': 8164, 'dolphin': 8165, 'attained': 8166, 'flee': 8167, 'beats': 8168, 'rapper': 8169, 'kane': 8170, 'celts': 8171, 'napoleonic': 8172, 'sailors': 8173, 'chaplin': 8174, 'visions': 8175, 'exploited': 8176, 'physicians': 8177, 'synonymous': 8178, 'suburban': 8179, 'oakland': 8180, 'heroic': 8181, 'threw': 8182, 'loans': 8183, 'mongols': 8184, 'bilateral': 8185, 'backward': 8186, 'astronauts': 8187, 'goat': 8188, 'beaches': 8189, 'helmet': 8190, 'rico': 8191, 'goddesses': 8192, 'missionaries': 8193, 'cc': 8194, 'accompanying': 8195, 'purity': 8196, 'debian': 8197, 'basel': 8198, 'dominica': 8199, 'emma': 8200, 'peasant': 8201, 'biodiversity': 8202, 'todd': 8203, 'tremendous': 8204, 'blair': 8205, 'capitals': 8206, 'pushing': 8207, 'presenting': 8208, 'vegetable': 8209, 'consul': 8210, 'ballet': 8211, 'verde': 8212, 'couldn': 8213, 'rape': 8214, 'reconciliation': 8215, 'neolithic': 8216, 'bees': 8217, 'phantom': 8218, 'journalists': 8219, 'swift': 8220, 'ants': 8221, 'encounters': 8222, 'indus': 8223, 'dia': 8224, 'subsidiary': 8225, 'complement': 8226, 'aging': 8227, 'nuclei': 8228, 'ye': 8229, 'sue': 8230, 'babe': 8231, 'serbs': 8232, 'manx': 8233, 'denounced': 8234, 'wrestler': 8235, 'phillips': 8236, 'wilderness': 8237, 'biographies': 8238, 'clocks': 8239, 'nashville': 8240, 'kirby': 8241, 'oceans': 8242, 'herald': 8243, 'fried': 8244, 'veteran': 8245, 'cohen': 8246, 'fears': 8247, 'constants': 8248, 'constellations': 8249, 'borges': 8250, 'felix': 8251, 'raids': 8252, 'dirty': 8253, 'declining': 8254, 'caligula': 8255, 'safely': 8256, 'weekend': 8257, 'percussion': 8258, 'em': 8259, 'impose': 8260, 'trap': 8261, 'freeman': 8262, 'stomach': 8263, 'pioneered': 8264, 'mythical': 8265, 'prominently': 8266, 'tract': 8267, 'resemblance': 8268, 'jo': 8269, 'ibid': 8270, 'persians': 8271, 'singh': 8272, 'euclid': 8273, 'sean': 8274, 'ladies': 8275, 'bronx': 8276, 'simpson': 8277, 'spots': 8278, 'theorems': 8279, 'posted': 8280, 'fritz': 8281, 'hanover': 8282, 'chrysler': 8283, 'hormones': 8284, 'dx': 8285, 'favoured': 8286, 'beginnings': 8287, 'catalonia': 8288, 'routine': 8289, 'mutation': 8290, 'terrible': 8291, 'laura': 8292, 'gather': 8293, 'transmit': 8294, 'fault': 8295, 'illusion': 8296, 'assignment': 8297, 'atta': 8298, 'burst': 8299, 'corrupt': 8300, 'eighty': 8301, 'storms': 8302, 'frost': 8303, 'jointly': 8304, 'robots': 8305, 'monkey': 8306, 'abdul': 8307, 'vendors': 8308, 'arrives': 8309, 'adrian': 8310, 'hd': 8311, 'void': 8312, 'chopin': 8313, 'monastic': 8314, 'metadata': 8315, 'ezra': 8316, 'surnames': 8317, 'dayton': 8318, 'batter': 8319, 'jumps': 8320, 'cayman': 8321, 'militant': 8322, 'illegitimate': 8323, 'incompatible': 8324, 'preserving': 8325, 'cyrillic': 8326, 'desk': 8327, 'materialism': 8328, 'francesco': 8329, 'parallels': 8330, 'surplus': 8331, 'resign': 8332, 'storyline': 8333, 'automobiles': 8334, 'creators': 8335, 'glenn': 8336, 'variously': 8337, 'converting': 8338, 'jose': 8339, 'delphi': 8340, 'proton': 8341, 'nickel': 8342, 'billboard': 8343, 'intelsat': 8344, 'spell': 8345, 'memorable': 8346, 'juice': 8347, 'delegates': 8348, 'impressed': 8349, 'lamp': 8350, 'feb': 8351, 'translate': 8352, 'tanakh': 8353, 'disasters': 8354, 'ryan': 8355, 'ml': 8356, 'gui': 8357, 'duo': 8358, 'nuremberg': 8359, 'coke': 8360, 'inventory': 8361, 'petition': 8362, 'knives': 8363, 'eucharist': 8364, 'pseudonym': 8365, 'cruiser': 8366, 'currencies': 8367, 'mahjong': 8368, 'conclude': 8369, 'arbitration': 8370, 'accidentally': 8371, 'secrets': 8372, 'thou': 8373, 'fundamentally': 8374, 'algebras': 8375, 'foreigners': 8376, 'contacts': 8377, 'extraterrestrial': 8378, 'regulatory': 8379, 'wrestling': 8380, 'ivoire': 8381, 'curse': 8382, 'satire': 8383, 'precious': 8384, 'dental': 8385, 'exceptional': 8386, 'lotus': 8387, 'alternating': 8388, 'breeds': 8389, 'servants': 8390, 'routledge': 8391, 'culminating': 8392, 'frisian': 8393, 'cartesian': 8394, 'universidad': 8395, 'sacrament': 8396, 'perl': 8397, 'cookie': 8398, 'gin': 8399, 'disagreement': 8400, 'embraced': 8401, 'pseudo': 8402, 'outright': 8403, 'sharply': 8404, 'coordination': 8405, 'casting': 8406, 'drafted': 8407, 'appoint': 8408, 'exchanged': 8409, 'exposition': 8410, 'weights': 8411, 'problematic': 8412, 'decides': 8413, 'ti': 8414, 'freud': 8415, 'treasure': 8416, 'wolfgang': 8417, 'photographer': 8418, 'sinai': 8419, 'quit': 8420, 'devastating': 8421, 'nordic': 8422, 'lm': 8423, 'propulsion': 8424, 'distinctions': 8425, 'hypothetical': 8426, 'cyberpunk': 8427, 'dom': 8428, 'ak': 8429, 'hale': 8430, 'libyan': 8431, 'hercules': 8432, 'additions': 8433, 'coil': 8434, 'damaging': 8435, 'fellowship': 8436, 'hipparchus': 8437, 'barnabas': 8438, 'accords': 8439, 'sauce': 8440, 'fc': 8441, 'bolshevik': 8442, 'defunct': 8443, 'nomadic': 8444, 'calendars': 8445, 'identifies': 8446, 'destroyer': 8447, 'prediction': 8448, 'blank': 8449, 'imagine': 8450, 'reproduce': 8451, 'promises': 8452, 'moroccan': 8453, 'personalities': 8454, 'simulation': 8455, 'peculiar': 8456, 'wagner': 8457, 'recipes': 8458, 'hospitals': 8459, 'instability': 8460, 'stretch': 8461, 'bonaparte': 8462, 'restrict': 8463, 'reproductive': 8464, 'trivial': 8465, 'lifted': 8466, 'listening': 8467, 'interestingly': 8468, 'lynx': 8469, 'flies': 8470, 'sketches': 8471, 'mayo': 8472, 'gb': 8473, 'drunk': 8474, 'magnesium': 8475, 'elliptic': 8476, 'ensemble': 8477, 'protestantism': 8478, 'presumed': 8479, 'pixel': 8480, 'texture': 8481, 'cyril': 8482, 'react': 8483, 'celebrities': 8484, 'retaining': 8485, 'offshore': 8486, 'sentiment': 8487, 'commentaries': 8488, 'mighty': 8489, 'fisher': 8490, 'irrational': 8491, 'certified': 8492, 'unto': 8493, 'reward': 8494, 'exploit': 8495, 'superiority': 8496, 'protagonist': 8497, 'trips': 8498, 'alt': 8499, 'approaching': 8500, 'artemis': 8501, 'mothers': 8502, 'ribbentrop': 8503, 'favorable': 8504, 'ant': 8505, 'accidents': 8506, 'rob': 8507, 'artwork': 8508, 'josephus': 8509, 'lim': 8510, 'memphis': 8511, 'afford': 8512, 'biographical': 8513, 'sensitivity': 8514, 'mythos': 8515, 'della': 8516, 'kasparov': 8517, 'cliff': 8518, 'cryptanalysis': 8519, 'mozilla': 8520, 'roma': 8521, 'burke': 8522, 'enron': 8523, 'rousseau': 8524, 'symbolism': 8525, 'bios': 8526, 'psychiatric': 8527, 'palmer': 8528, 'xiii': 8529, 'holders': 8530, 'asserts': 8531, 'afternoon': 8532, 'reliance': 8533, 'encouraging': 8534, 'humanism': 8535, 'subordinate': 8536, 'hymn': 8537, 'boris': 8538, 'accommodate': 8539, 'diabetes': 8540, 'weaker': 8541, 'spectroscopy': 8542, 'flooding': 8543, 'constituted': 8544, 'barrels': 8545, 'klein': 8546, 'mughal': 8547, 'catalogue': 8548, 'privacy': 8549, 'apocalypse': 8550, 'helicopter': 8551, 'subsets': 8552, 'incarnation': 8553, 'engaging': 8554, 'finishing': 8555, 'yoga': 8556, 'saxons': 8557, 'innings': 8558, 'batting': 8559, 'epoch': 8560, 'terminals': 8561, 'hormone': 8562, 'bene': 8563, 'struggles': 8564, 'announcement': 8565, 'zeppelin': 8566, 'declaring': 8567, 'sealed': 8568, 'porter': 8569, 'firearm': 8570, 'nominee': 8571, 'spike': 8572, 'mauritania': 8573, 'prestigious': 8574, 'activated': 8575, 'presently': 8576, 'translator': 8577, 'strauss': 8578, 'authoritative': 8579, 'graves': 8580, 'fl': 8581, 'afrikaans': 8582, 'readings': 8583, 'miracle': 8584, 'letterman': 8585, 'email': 8586, 'opium': 8587, 'installation': 8588, 'sleeping': 8589, 'inadequate': 8590, 'ceded': 8591, 'celebrations': 8592, 'coaches': 8593, 'shirt': 8594, 'nobody': 8595, 'sc': 8596, 'concorde': 8597, 'transaction': 8598, 'midway': 8599, 'abundance': 8600, 'philosophies': 8601, 'rumors': 8602, 'inherently': 8603, 'sensory': 8604, 'unusually': 8605, 'underworld': 8606, 'brutal': 8607, 'exeter': 8608, 'poisoning': 8609, 'athenian': 8610, 'tat': 8611, 'portrayal': 8612, 'switches': 8613, 'investments': 8614, 'monitoring': 8615, 'printers': 8616, 'burkina': 8617, 'bee': 8618, 'jeffrey': 8619, 'conceptual': 8620, 'consolidated': 8621, 'lenses': 8622, 'filmography': 8623, 'pale': 8624, 'caucasus': 8625, 'informally': 8626, 'jaguar': 8627, 'troll': 8628, 'mcgill': 8629, 'marched': 8630, 'gameplay': 8631, 'sworn': 8632, 'monasteries': 8633, 'sagan': 8634, 'ulrich': 8635, 'mirrors': 8636, 'reds': 8637, 'deployment': 8638, 'canton': 8639, 'costello': 8640, 'blast': 8641, 'gsm': 8642, 'pdp': 8643, 'rejects': 8644, 'investigated': 8645, 'numeral': 8646, 'conducting': 8647, 'walks': 8648, 'firmly': 8649, 'guilt': 8650, 'dropping': 8651, 'casual': 8652, 'raiders': 8653, 'transformations': 8654, 'ansi': 8655, 'spheres': 8656, 'curling': 8657, 'loving': 8658, 'pretty': 8659, 'tomorrow': 8660, 'stockholm': 8661, 'counsel': 8662, 'anthology': 8663, 'harvest': 8664, 'luxury': 8665, 'sensation': 8666, 'hamster': 8667, 'prescribed': 8668, 'gardner': 8669, 'druze': 8670, 'jackie': 8671, 'raf': 8672, 'arising': 8673, 'contra': 8674, 'maimonides': 8675, 'rabbinic': 8676, 'auckland': 8677, 'bigfoot': 8678, 'resisted': 8679, 'mediation': 8680, 'upset': 8681, 'occupying': 8682, 'trojan': 8683, 'gettysburg': 8684, 'justin': 8685, 'barriers': 8686, 'fabric': 8687, 'arid': 8688, 'confirm': 8689, 'prolonged': 8690, 'villain': 8691, 'constituencies': 8692, 'enhance': 8693, 'conditioning': 8694, 'arriving': 8695, 'akin': 8696, 'ionic': 8697, 'bike': 8698, 'internally': 8699, 'indianapolis': 8700, 'uniforms': 8701, 'ku': 8702, 'edit': 8703, 'rs': 8704, 'kitchen': 8705, 'liturgy': 8706, 'nicene': 8707, 'denis': 8708, 'fy': 8709, 'freeway': 8710, 'modules': 8711, 'freemasonry': 8712, 'rhythmic': 8713, 'rookie': 8714, 'emacs': 8715, 'deconstruction': 8716, 'labelled': 8717, 'whites': 8718, 'etruscan': 8719, 'mortal': 8720, 'po': 8721, 'spare': 8722, 'appreciation': 8723, 'qualify': 8724, 'perspectives': 8725, 'individually': 8726, 'racism': 8727, 'sebastian': 8728, 'surprising': 8729, 'fauna': 8730, 'samoa': 8731, 'illicit': 8732, 'chloride': 8733, 'bavarian': 8734, 'schr': 8735, 'persuaded': 8736, 'afro': 8737, 'pigs': 8738, 'inaugurated': 8739, 'unprecedented': 8740, 'reactive': 8741, 'incorrectly': 8742, 'sunset': 8743, 'herodotus': 8744, 'deforestation': 8745, 'exhibited': 8746, 'recreation': 8747, 'guild': 8748, 'conquer': 8749, 'doses': 8750, 'expresses': 8751, 'plots': 8752, 'willie': 8753, 'deng': 8754, 'coefficients': 8755, 'resembling': 8756, 'seminary': 8757, 'icc': 8758, 'centauri': 8759, 'esther': 8760, 'benzene': 8761, 'premise': 8762, 'tones': 8763, 'rests': 8764, 'immortal': 8765, 'hades': 8766, 'reprint': 8767, 'assertion': 8768, 'comparisons': 8769, 'radios': 8770, 'abandon': 8771, 'inventors': 8772, 'sampling': 8773, 'collectors': 8774, 'wizard': 8775, 'migrated': 8776, 'saddam': 8777, 'embrace': 8778, 'antoine': 8779, 'viable': 8780, 'captivity': 8781, 'aloe': 8782, 'turkic': 8783, 'unfinished': 8784, 'possesses': 8785, 'enables': 8786, 'flexibility': 8787, 'unexpected': 8788, 'decorated': 8789, 'displacement': 8790, 'superhero': 8791, 'steep': 8792, 'cider': 8793, 'prelude': 8794, 'reactor': 8795, 'auschwitz': 8796, 'jail': 8797, 'strand': 8798, 'hebrews': 8799, 'dragons': 8800, 'loading': 8801, 'afonso': 8802, 'characterised': 8803, 'victorious': 8804, 'inevitable': 8805, 'suspect': 8806, 'behaviors': 8807, 'mentally': 8808, 'speculative': 8809, 'mathbb': 8810, 'dale': 8811, 'liberties': 8812, 'punished': 8813, 'hastings': 8814, 'decreasing': 8815, 'sartre': 8816, 'laying': 8817, 'suburb': 8818, 'advancing': 8819, 'diocese': 8820, 'matching': 8821, 'teaches': 8822, 'commandments': 8823, 'curriculum': 8824, 'owns': 8825, 'designing': 8826, 'freezing': 8827, 'substitution': 8828, 'clerk': 8829, 'reynolds': 8830, 'placement': 8831, 'suits': 8832, 'hbo': 8833, 'encyclop': 8834, 'semantics': 8835, 'synonym': 8836, 'grande': 8837, 'jam': 8838, 'banach': 8839, 'competitor': 8840, 'distortion': 8841, 'ulster': 8842, 'cgi': 8843, 'gel': 8844, 'dipole': 8845, 'rahman': 8846, 'hypoglycemia': 8847, 'scrooge': 8848, 'mandelbrot': 8849, 'bolsheviks': 8850, 'intentions': 8851, 'withdrawn': 8852, 'destiny': 8853, 'refusal': 8854, 'richardson': 8855, 'skeptical': 8856, 'academics': 8857, 'biologists': 8858, 'wool': 8859, 'flora': 8860, 'inequality': 8861, 'halt': 8862, 'optics': 8863, 'coded': 8864, 'embryo': 8865, 'neutrality': 8866, 'remarkably': 8867, 'separating': 8868, 'deadly': 8869, 'wouldn': 8870, 'mint': 8871, 'advisor': 8872, 'insufficient': 8873, 'simultaneous': 8874, 'pointer': 8875, 'penalties': 8876, 'upcoming': 8877, 'hadith': 8878, 'webster': 8879, 'poster': 8880, 'espionage': 8881, 'carlo': 8882, 'bismarck': 8883, 'critically': 8884, 'tu': 8885, 'lasers': 8886, 'josef': 8887, 'usaf': 8888, 'quixote': 8889, 'onset': 8890, 'unchanged': 8891, 'interrupted': 8892, 'statues': 8893, 'preliminary': 8894, 'uniquely': 8895, 'submit': 8896, 'overhead': 8897, 'psychologists': 8898, 'exceed': 8899, 'niger': 8900, 'populous': 8901, 'saharan': 8902, 'mohammed': 8903, 'reconstructed': 8904, 'con': 8905, 'respects': 8906, 'checking': 8907, 'coasts': 8908, 'comoros': 8909, 'blake': 8910, 'hussein': 8911, 'distinguishing': 8912, 'prefixes': 8913, 'tightly': 8914, 'designations': 8915, 'kyrgyzstan': 8916, 'prevailing': 8917, 'spawned': 8918, 'fundamentalist': 8919, 'greenwich': 8920, 'su': 8921, 'synod': 8922, 'voiceless': 8923, 'dangers': 8924, 'canals': 8925, 'bicycles': 8926, 'risc': 8927, 'quotations': 8928, 'eliminating': 8929, 'atm': 8930, 'puzzle': 8931, 'maya': 8932, 'algol': 8933, 'essex': 8934, 'tel': 8935, 'descartes': 8936, 'hook': 8937, 'beavis': 8938, 'mcduck': 8939, 'fredericton': 8940, 'objections': 8941, 'supervision': 8942, 'negotiate': 8943, 'polk': 8944, 'fights': 8945, 'departed': 8946, 'abstraction': 8947, 'horns': 8948, 'stretched': 8949, 'seventeen': 8950, 'confusing': 8951, 'dependency': 8952, 'reasonably': 8953, 'noticeable': 8954, 'colts': 8955, 'bradley': 8956, 'orwell': 8957, 'expulsion': 8958, 'kidney': 8959, 'viewer': 8960, 'px': 8961, 'chances': 8962, 'bremen': 8963, 'portland': 8964, 'mistaken': 8965, 'levy': 8966, 'intellectuals': 8967, 'invasions': 8968, 'ki': 8969, 'insert': 8970, 'enthusiasts': 8971, 'postwar': 8972, 'bisexual': 8973, 'enclosed': 8974, 'alloys': 8975, 'aragon': 8976, 'apache': 8977, 'ivy': 8978, 'capacitor': 8979, 'spam': 8980, 'shooter': 8981, 'kissinger': 8982, 'capoeira': 8983, 'unnecessary': 8984, 'legitimacy': 8985, 'privilege': 8986, 'pine': 8987, 'busy': 8988, 'acre': 8989, 'johnston': 8990, 'contrasted': 8991, 'behave': 8992, 'huxley': 8993, 'encompasses': 8994, 'imperfect': 8995, 'allocated': 8996, 'peacekeeping': 8997, 'thread': 8998, 'earn': 8999, 'surprised': 9000, 'projected': 9001, 'crosby': 9002, 'researcher': 9003, 'counterpoint': 9004, 'disabled': 9005, 'immunity': 9006, 'clockwise': 9007, 'modernism': 9008, 'ida': 9009, 'semantic': 9010, 'confirmation': 9011, 'hesse': 9012, 'cdu': 9013, 'doubled': 9014, 'somerset': 9015, 'reigned': 9016, 'nl': 9017, 'piston': 9018, 'funny': 9019, 'jules': 9020, 'rn': 9021, 'routing': 9022, 'ching': 9023, 'crimson': 9024, 'inning': 9025, 'conservatism': 9026, 'grammy': 9027, 'watt': 9028, 'copyleft': 9029, 'textiles': 9030, 'baba': 9031, 'sonata': 9032, 'fractal': 9033, 'myself': 9034, 'conscience': 9035, 'behavioral': 9036, 'indicator': 9037, 'enjoys': 9038, 'emancipation': 9039, 'vermont': 9040, 'metaphysical': 9041, 'illustrations': 9042, 'novelists': 9043, 'ensuing': 9044, 'pursuing': 9045, 'worthy': 9046, 'brave': 9047, 'disagree': 9048, 'genealogy': 9049, 'diagrams': 9050, 'tricks': 9051, 'landlocked': 9052, 'berg': 9053, 'bulletin': 9054, 'pressing': 9055, 'faso': 9056, 'helena': 9057, 'simpsons': 9058, 'tibetan': 9059, 'misleading': 9060, 'allocation': 9061, 'stretching': 9062, 'protons': 9063, 'slopes': 9064, 'hz': 9065, 'peripheral': 9066, 'echo': 9067, 'glacial': 9068, 'martha': 9069, 'questionable': 9070, 'troubles': 9071, 'buddy': 9072, 'companions': 9073, 'confession': 9074, 'murphy': 9075, 'tunes': 9076, 'coleman': 9077, 'ido': 9078, 'excel': 9079, 'ddt': 9080, 'confucius': 9081, 'comfort': 9082, 'professors': 9083, 'wired': 9084, 'advocacy': 9085, 'drainage': 9086, 'incorporating': 9087, 'intact': 9088, 'savage': 9089, 'drift': 9090, 'concludes': 9091, 'inventions': 9092, 'liked': 9093, 'truths': 9094, 'satirical': 9095, 'implementing': 9096, 'emblem': 9097, 'substrate': 9098, 'stationed': 9099, 'pig': 9100, 'santiago': 9101, 'sued': 9102, 'bermuda': 9103, 'gt': 9104, 'mos': 9105, 'pakistani': 9106, 'glossary': 9107, 'preferences': 9108, 'comparatively': 9109, 'centralized': 9110, 'complications': 9111, 'rectangular': 9112, 'recursive': 9113, 'cds': 9114, 'isomorphic': 9115, 'eurovision': 9116, 'normandy': 9117, 'commodity': 9118, 'chelsea': 9119, 'tuberculosis': 9120, 'villa': 9121, 'manson': 9122, 'beers': 9123, 'disadvantages': 9124, 'dyson': 9125, 'harpsichord': 9126, 'consistency': 9127, 'proud': 9128, 'darker': 9129, 'ipcc': 9130, 'humid': 9131, 'flourished': 9132, 'tactic': 9133, 'tide': 9134, 'borne': 9135, 'idle': 9136, 'pistol': 9137, 'griffith': 9138, 'vols': 9139, 'deeds': 9140, 'convince': 9141, 'advancement': 9142, 'colonists': 9143, 'dynasties': 9144, 'nominally': 9145, 'contracted': 9146, 'hellenic': 9147, 'acupuncture': 9148, 'tournaments': 9149, 'famed': 9150, 'recommendation': 9151, 'geographically': 9152, 'abuses': 9153, 'cults': 9154, 'kgb': 9155, 'crazy': 9156, 'blindness': 9157, 'resonance': 9158, 'perpendicular': 9159, 'ah': 9160, 'constitutions': 9161, 'khazar': 9162, 'belfast': 9163, 'denial': 9164, 'televisions': 9165, 'roland': 9166, 'foul': 9167, 'screens': 9168, 'babbage': 9169, 'barbarian': 9170, 'ballad': 9171, 'api': 9172, 'cocoa': 9173, 'talents': 9174, 'synthesized': 9175, 'charlton': 9176, 'fibonacci': 9177, 'ori': 9178, 'miguel': 9179, 'pitching': 9180, 'organizational': 9181, 'reminiscent': 9182, 'sunlight': 9183, 'energies': 9184, 'defects': 9185, 'curious': 9186, 'helpful': 9187, 'par': 9188, 'feels': 9189, 'thoroughly': 9190, 'aboriginal': 9191, 'deciding': 9192, 'modeling': 9193, 'rex': 9194, 'tis': 9195, 'subdivisions': 9196, 'macro': 9197, 'anal': 9198, 'melodic': 9199, 'vedic': 9200, 'adobe': 9201, 'rainy': 9202, 'failures': 9203, 'equinox': 9204, 'impulse': 9205, 'catalog': 9206, 'beirut': 9207, 'tunnels': 9208, 'reservoir': 9209, 'styled': 9210, 'conjecture': 9211, 'parsons': 9212, 'apartheid': 9213, 'ds': 9214, 'chords': 9215, 'brahms': 9216, 'ghosts': 9217, 'andrews': 9218, 'hierarchical': 9219, 'breath': 9220, 'trumpet': 9221, 'hoping': 9222, 'cox': 9223, 'directing': 9224, 'periodically': 9225, 'inn': 9226, 'norms': 9227, 'cyclic': 9228, 'exported': 9229, 'neighbours': 9230, 'originate': 9231, 'bodily': 9232, 'heading': 9233, 'phillip': 9234, 'criterion': 9235, 'ambiguity': 9236, 'cruz': 9237, 'principality': 9238, 'orbitals': 9239, 'proportions': 9240, 'mel': 9241, 'mobility': 9242, 'cosmological': 9243, 'subspecies': 9244, 'occupies': 9245, 'privatization': 9246, 'aug': 9247, 'mc': 9248, 'incorporates': 9249, 'efficiently': 9250, 'curved': 9251, 'drops': 9252, 'lowered': 9253, 'dynamical': 9254, 'motorcycles': 9255, 'utilized': 9256, 'posthumously': 9257, 'spells': 9258, 'venue': 9259, 'zen': 9260, 'rho': 9261, 'aurangzeb': 9262, 'qquad': 9263, 'gotham': 9264, 'attachment': 9265, 'licence': 9266, 'invitation': 9267, 'pork': 9268, 'classify': 9269, 'statutes': 9270, 'fulfilled': 9271, 'diablo': 9272, 'govern': 9273, 'amendments': 9274, 'invading': 9275, 'upright': 9276, 'emigrated': 9277, 'thermodynamics': 9278, 'launching': 9279, 'concentrate': 9280, 'lib': 9281, 'qu': 9282, 'tributaries': 9283, 'amplitude': 9284, 'impacts': 9285, 'aires': 9286, 'focal': 9287, 'invade': 9288, 'exploits': 9289, 'epilepsy': 9290, 'helix': 9291, 'clash': 9292, 'cruel': 9293, 'upgraded': 9294, 'inexpensive': 9295, 'ftp': 9296, 'feudalism': 9297, 'brewers': 9298, 'luftwaffe': 9299, 'quartet': 9300, 'compliance': 9301, 'mishnah': 9302, 'mainz': 9303, 'medication': 9304, 'obey': 9305, 'coherent': 9306, 'accounted': 9307, 'deaf': 9308, 'tips': 9309, 'absorb': 9310, 'nutrition': 9311, 'assassin': 9312, 'publishes': 9313, 'pays': 9314, 'schism': 9315, 'cement': 9316, 'demographic': 9317, 'ambient': 9318, 'nero': 9319, 'hermes': 9320, 'deserts': 9321, 'slam': 9322, 'sorting': 9323, 'practicing': 9324, 'lungs': 9325, 'expertise': 9326, 'skiing': 9327, 'useless': 9328, 'cavity': 9329, 'outward': 9330, 'muscular': 9331, 'guiana': 9332, 'mo': 9333, 'prevalence': 9334, 'prefecture': 9335, 'centred': 9336, 'mercenaries': 9337, 'recommendations': 9338, 'lattice': 9339, 'predicate': 9340, 'nash': 9341, 'jamal': 9342, 'convex': 9343, 'wikisource': 9344, 'chrono': 9345, 'tendencies': 9346, 'generates': 9347, 'propose': 9348, 'edwards': 9349, 'diplomacy': 9350, 'refusing': 9351, 'expenses': 9352, 'salmon': 9353, 'jeremiah': 9354, 'regained': 9355, 'stuck': 9356, 'breach': 9357, 'optimal': 9358, 'pioneering': 9359, 'productivity': 9360, 'profitable': 9361, 'tunisia': 9362, 'caste': 9363, 'allegory': 9364, 'adverse': 9365, 'nanotechnology': 9366, 'dunes': 9367, 'registry': 9368, 'suez': 9369, 'diana': 9370, 'shanghai': 9371, 'bart': 9372, 'dinner': 9373, 'waterways': 9374, 'schumacher': 9375, 'recognizes': 9376, 'straits': 9377, 'weimar': 9378, 'hoc': 9379, 'hydraulic': 9380, 'tyler': 9381, 'deposition': 9382, 'syriac': 9383, 'contend': 9384, 'adjustment': 9385, 'scrimmage': 9386, 'twelfth': 9387, 'mainframe': 9388, 'upgrade': 9389, 'introductory': 9390, 'langle': 9391, 'honolulu': 9392, 'joey': 9393, 'logos': 9394, 'dundee': 9395, 'livingstone': 9396, 'microprocessors': 9397, 'countless': 9398, 'remarked': 9399, 'pinyin': 9400, 'drought': 9401, 'pottery': 9402, 'elderly': 9403, 'illustrate': 9404, 'earning': 9405, 'rooted': 9406, 'examine': 9407, 'resolutions': 9408, 'subdivided': 9409, 'burundi': 9410, 'establishes': 9411, 'compelled': 9412, 'blame': 9413, 'homage': 9414, 'mart': 9415, 'macmillan': 9416, 'babylonia': 9417, 'cam': 9418, 'codified': 9419, 'taxonomy': 9420, 'manganese': 9421, 'navigable': 9422, 'stationary': 9423, 'survives': 9424, 'az': 9425, 'buenos': 9426, 'subway': 9427, 'rosa': 9428, 'seventy': 9429, 'sang': 9430, 'laurent': 9431, 'powerpc': 9432, 'mob': 9433, 'samurai': 9434, 'restriction': 9435, 'bros': 9436, 'recruited': 9437, 'ness': 9438, 'guernsey': 9439, 'cruisers': 9440, 'absinthe': 9441, 'cryonics': 9442, 'exhibits': 9443, 'affinity': 9444, 'wto': 9445, 'mistakes': 9446, 'negro': 9447, 'psychologist': 9448, 'justinian': 9449, 'admit': 9450, 'hostility': 9451, 'helicopters': 9452, 'textbook': 9453, 'packed': 9454, 'ancestral': 9455, 'eighteenth': 9456, 'ignorance': 9457, 'magnus': 9458, 'noteworthy': 9459, 'elemental': 9460, 'influx': 9461, 'whitlam': 9462, 'bean': 9463, 'anyway': 9464, 'bend': 9465, 'emitted': 9466, 'ber': 9467, 'pepper': 9468, 'attain': 9469, 'photographic': 9470, 'mare': 9471, 'var': 9472, 'convergence': 9473, 'harbors': 9474, 'tanker': 9475, 'andes': 9476, 'junta': 9477, 'linda': 9478, 'maternal': 9479, 'viral': 9480, 'loud': 9481, 'clones': 9482, 'grouping': 9483, 'ether': 9484, 'ec': 9485, 'careers': 9486, 'obedience': 9487, 'menu': 9488, 'implicit': 9489, 'crust': 9490, 'interstellar': 9491, 'disneyland': 9492, 'pius': 9493, 'windsor': 9494, 'specimen': 9495, 'abelian': 9496, 'heterosexual': 9497, 'jehovah': 9498, 'septuagint': 9499, 'latino': 9500, 'chandler': 9501, 'leet': 9502, 'strands': 9503, 'oneself': 9504, 'gov': 9505, 'footnotes': 9506, 'bounds': 9507, 'intimate': 9508, 'admired': 9509, 'pupil': 9510, 'neighbor': 9511, 'entrepreneur': 9512, 'bureaucracy': 9513, 'bordered': 9514, 'ethnicity': 9515, 'introduces': 9516, 'wavelengths': 9517, 'tao': 9518, 'holdings': 9519, 'metropolis': 9520, 'tito': 9521, 'infectious': 9522, 'scenario': 9523, 'annotated': 9524, 'emigration': 9525, 'subcontinent': 9526, 'modeled': 9527, 'bolt': 9528, 'guides': 9529, 'walked': 9530, 'monica': 9531, 'crack': 9532, 'triangular': 9533, 'shortwave': 9534, 'grt': 9535, 'springer': 9536, 'painful': 9537, 'therapeutic': 9538, 'giuseppe': 9539, 'neural': 9540, 'gundam': 9541, 'candy': 9542, 'lineup': 9543, 'sci': 9544, 'alcoholism': 9545, 'cromwell': 9546, 'chromatic': 9547, 'addison': 9548, 'grammars': 9549, 'pradesh': 9550, 'mrna': 9551, 'racist': 9552, 'adjectives': 9553, 'stamps': 9554, 'balloon': 9555, 'nancy': 9556, 'buchanan': 9557, 'theaters': 9558, 'prizes': 9559, 'aesthetics': 9560, 'memes': 9561, 'staying': 9562, 'camouflage': 9563, 'leslie': 9564, 'examining': 9565, 'derby': 9566, 'nicolas': 9567, 'utilize': 9568, 'leopold': 9569, 'desertification': 9570, 'cows': 9571, 'guru': 9572, 'costly': 9573, 'brigades': 9574, 'adopting': 9575, 'biologist': 9576, 'wax': 9577, 'cables': 9578, 'flown': 9579, 'rated': 9580, 'italians': 9581, 'caspian': 9582, 'geologic': 9583, 'cooled': 9584, 'stretches': 9585, 'lethal': 9586, 'rat': 9587, 'refugee': 9588, 'mosques': 9589, 'potato': 9590, 'maltese': 9591, 'landmarks': 9592, 'celebrating': 9593, 'strengthened': 9594, 'pmid': 9595, 'buckingham': 9596, 'broadcaster': 9597, 'riemann': 9598, 'ezekiel': 9599, 'valves': 9600, 'gradient': 9601, 'mecca': 9602, 'aztec': 9603, 'crashed': 9604, 'cpc': 9605, 'invariant': 9606, 'tucker': 9607, 'regulate': 9608, 'athletics': 9609, 'exaggerated': 9610, 'crowds': 9611, 'shortest': 9612, 'minded': 9613, 'laboratories': 9614, 'rabbit': 9615, 'rebuilding': 9616, 'covert': 9617, 'stan': 9618, 'sulfur': 9619, 'monarchies': 9620, 'colombian': 9621, 'sacrifices': 9622, 'enlarged': 9623, 'garcia': 9624, 'attested': 9625, 'conjugation': 9626, 'adaptive': 9627, 'vastly': 9628, 'dietary': 9629, 'chlorine': 9630, 'sink': 9631, 'recognizable': 9632, 'crews': 9633, 'orbiting': 9634, 'lucid': 9635, 'filmmakers': 9636, 'patented': 9637, 'debts': 9638, 'submarines': 9639, 'unconscious': 9640, 'werner': 9641, 'leisure': 9642, 'imperative': 9643, 'operas': 9644, 'ur': 9645, 'satie': 9646, 'mus': 9647, 'archer': 9648, 'spellings': 9649, 'involuntary': 9650, 'kiribati': 9651, 'eichmann': 9652, 'quasi': 9653, 'homomorphism': 9654, 'doubtful': 9655, 'karachi': 9656, 'asbestos': 9657, 'divisional': 9658, 'revolutions': 9659, 'outlined': 9660, 'feminists': 9661, 'bullets': 9662, 'diagnostic': 9663, 'differentiate': 9664, 'earnings': 9665, 'warned': 9666, 'sunk': 9667, 'wounds': 9668, 'kirk': 9669, 'hunters': 9670, 'screenplay': 9671, 'inconsistent': 9672, 'rigorous': 9673, 'planted': 9674, 'indicative': 9675, 'austro': 9676, 'prophetic': 9677, 'blown': 9678, 'hung': 9679, 'breakthrough': 9680, 'baptists': 9681, 'propelled': 9682, 'membranes': 9683, 'trinidad': 9684, 'majesty': 9685, 'foremost': 9686, 'consortium': 9687, 'migrant': 9688, 'moisture': 9689, 'shelf': 9690, 'contributors': 9691, 'chaotic': 9692, 'superseded': 9693, 'consult': 9694, 'demonstrating': 9695, 'cleaning': 9696, 'authored': 9697, 'jeremy': 9698, 'flux': 9699, 'proofs': 9700, 'idealism': 9701, 'housed': 9702, 'cyanide': 9703, 'programmable': 9704, 'boron': 9705, 'presided': 9706, 'advisory': 9707, 'nirvana': 9708, 'cameron': 9709, 'logarithm': 9710, 'invoked': 9711, 'unite': 9712, 'culminated': 9713, 'desires': 9714, 'literate': 9715, 'lowercase': 9716, 'worshipped': 9717, 'martyr': 9718, 'mall': 9719, 'bust': 9720, 'cite': 9721, 'pulitzer': 9722, 'narrowly': 9723, 'burma': 9724, 'alloy': 9725, 'encourages': 9726, 'enduring': 9727, 'alphabetical': 9728, 'inputs': 9729, 'distillation': 9730, 'flowering': 9731, 'markup': 9732, 'somalia': 9733, 'ensuring': 9734, 'banning': 9735, 'anatolia': 9736, 'alkanes': 9737, 'penis': 9738, 'yearly': 9739, 'memoir': 9740, 'seals': 9741, 'crystalline': 9742, 'stopping': 9743, 'glorious': 9744, 'observable': 9745, 'pulling': 9746, 'disadvantage': 9747, 'bahamas': 9748, 'peters': 9749, 'bennett': 9750, 'accents': 9751, 'monte': 9752, 'distribute': 9753, 'condoms': 9754, 'handheld': 9755, 'tablets': 9756, 'kate': 9757, 'dolly': 9758, 'rent': 9759, 'val': 9760, 'papacy': 9761, 'diatonic': 9762, 'abbreviations': 9763, 'gis': 9764, 'relational': 9765, 'downward': 9766, 'moby': 9767, 'graphite': 9768, 'homogeneous': 9769, 'bud': 9770, 'eastenders': 9771, 'siberia': 9772, 'pleasant': 9773, 'defender': 9774, 'sparked': 9775, 'shifting': 9776, 'panic': 9777, 'quarterly': 9778, 'prosperous': 9779, 'cry': 9780, 'compute': 9781, 'struggled': 9782, 'lucky': 9783, 'discarded': 9784, 'reside': 9785, 'wherever': 9786, 'blend': 9787, 'invariably': 9788, 'ottawa': 9789, 'invested': 9790, 'wu': 9791, 'troubled': 9792, 'beside': 9793, 'doug': 9794, 'shepherd': 9795, 'cord': 9796, 'jonah': 9797, 'carbonate': 9798, 'metabolic': 9799, 'ic': 9800, 'knee': 9801, 'maiden': 9802, 'correlation': 9803, 'ncaa': 9804, 'desperate': 9805, 'offence': 9806, 'liturgical': 9807, 'insane': 9808, 'grandmother': 9809, 'janet': 9810, 'supremacy': 9811, 'goth': 9812, 'financing': 9813, 'cites': 9814, 'djs': 9815, 'spice': 9816, 'cholesterol': 9817, 'ciphers': 9818, 'checks': 9819, 'fluids': 9820, 'dive': 9821, 'marlowe': 9822, 'dodo': 9823, 'jain': 9824, 'epsilon': 9825, 'overthrown': 9826, 'chomsky': 9827, 'riot': 9828, 'trucks': 9829, 'presbyterian': 9830, 'sanctuary': 9831, 'colleague': 9832, 'lifelong': 9833, 'keen': 9834, 'accidental': 9835, 'vita': 9836, 'irrelevant': 9837, 'discovering': 9838, 'irrigation': 9839, 'occult': 9840, 'shelley': 9841, 'vernacular': 9842, 'canary': 9843, 'ascension': 9844, 'catcher': 9845, 'amended': 9846, 'jesse': 9847, 'manages': 9848, 'sums': 9849, 'smell': 9850, 'genitive': 9851, 'preparations': 9852, 'griffin': 9853, 'yorkshire': 9854, 'interpol': 9855, 'doctorate': 9856, 'synagogue': 9857, 'honors': 9858, 'strengthen': 9859, 'regain': 9860, 'hobby': 9861, 'backs': 9862, 'fairy': 9863, 'unitary': 9864, 'additive': 9865, 'chorus': 9866, 'panels': 9867, 'mailing': 9868, 'diodes': 9869, 'pilgrimage': 9870, 'fide': 9871, 'amplifiers': 9872, 'caliph': 9873, 'jakarta': 9874, 'pronouns': 9875, 'ddr': 9876, 'finns': 9877, 'emphasizes': 9878, 'seminal': 9879, 'weird': 9880, 'stripped': 9881, 'inform': 9882, 'horace': 9883, 'interfere': 9884, 'endless': 9885, 'steal': 9886, 'exclusion': 9887, 'marker': 9888, 'institutional': 9889, 'visitor': 9890, 'obliged': 9891, 'physiological': 9892, 'australians': 9893, 'leone': 9894, 'assign': 9895, 'bissau': 9896, 'stepped': 9897, 'blocking': 9898, 'complaint': 9899, 'cleared': 9900, 'dial': 9901, 'spinal': 9902, 'yang': 9903, 'creole': 9904, 'rift': 9905, 'surroundings': 9906, 'faiths': 9907, 'aromatic': 9908, 'climb': 9909, 'electorate': 9910, 'judo': 9911, 'liability': 9912, 'salary': 9913, 'octavian': 9914, 'emulation': 9915, 'marco': 9916, 'ignatius': 9917, 'honours': 9918, 'percy': 9919, 'kubrick': 9920, 'neurons': 9921, 'connotations': 9922, 'hiding': 9923, 'soprano': 9924, 'vested': 9925, 'cannibalism': 9926, 'cheers': 9927, 'fricative': 9928, 'dada': 9929, 'inclined': 9930, 'diagnosed': 9931, 'dressing': 9932, 'inaugural': 9933, 'instantly': 9934, 'precedent': 9935, 'tribune': 9936, 'seizures': 9937, 'barnes': 9938, 'seated': 9939, 'ballistic': 9940, 'heretics': 9941, 'prejudice': 9942, 'dogma': 9943, 'heirs': 9944, 'creations': 9945, 'decoration': 9946, 'appendix': 9947, 'flaws': 9948, 'posthumous': 9949, 'obstacles': 9950, 'locks': 9951, 'marvin': 9952, 'labyrinth': 9953, 'susceptible': 9954, 'navigator': 9955, 'robust': 9956, 'acknowledge': 9957, 'mascot': 9958, 'cnn': 9959, 'electors': 9960, 'hosting': 9961, 'donated': 9962, 'violated': 9963, 'adapt': 9964, 'convenience': 9965, 'sticks': 9966, 'mega': 9967, 'modular': 9968, 'reconnaissance': 9969, 'mcluhan': 9970, 'nest': 9971, 'shores': 9972, 'contrasts': 9973, 'inaccurate': 9974, 'seventeenth': 9975, 'locked': 9976, 'christine': 9977, 'aikido': 9978, 'throws': 9979, 'checked': 9980, 'beaten': 9981, 'shrine': 9982, 'pharaoh': 9983, 'hazardous': 9984, 'snyder': 9985, 'scientology': 9986, 'proliferation': 9987, 'tudor': 9988, 'identities': 9989, 'tutorial': 9990, 'karma': 9991, 'acclaim': 9992, 'knots': 9993, 'bugs': 9994, 'blizzard': 9995, 'tile': 9996, 'chiropractic': 9997, 'beckham': 9998, 'recognise': 9999}\n"
          ],
          "name": "stdout"
        }
      ]
    },
    {
      "cell_type": "code",
      "metadata": {
        "id": "8BNDkE5XYrNf",
        "colab_type": "code",
        "outputId": "4b1fb4fd-95eb-4d82-edd0-70fb8f953760",
        "colab": {
          "base_uri": "https://localhost:8080/",
          "height": 50
        }
      },
      "source": [
        "data = list()\n",
        "\n",
        "unk_count=0\n",
        "\n",
        "for word in vocabulary:\n",
        "  if word in dictionary:\n",
        "    index = dictionary[word]\n",
        "  else:\n",
        "    index = 0 # unknown word so the index corr to 'UNK'\n",
        "    unk_count += 1\n",
        "  data.append(index)\n",
        "\n",
        "print (len(data) == len(vocabulary))\n",
        "\n",
        "print (data[:10])"
      ],
      "execution_count": 0,
      "outputs": [
        {
          "output_type": "stream",
          "text": [
            "True\n",
            "[5234, 3081, 12, 6, 195, 2, 3134, 46, 59, 156]\n"
          ],
          "name": "stdout"
        }
      ]
    },
    {
      "cell_type": "code",
      "metadata": {
        "id": "NCmQ6QuXGwrL",
        "colab_type": "code",
        "colab": {}
      },
      "source": [
        "def build_dataset(words, n_words):\n",
        "  \"\"\"Process raw inputs into a dataset.\n",
        "  words: vocab corpus\n",
        "  n_words: top most freq words we want to consider\n",
        "  \"\"\"\n",
        "  count = [['UNK', -1]]\n",
        "  # create list of most freq occurring words and the freq (in DESC order of freq)\n",
        "  count.extend(collections.Counter(words).most_common(n_words-1))\n",
        "  # sample: [('UNK', -1), ('the', 1061396), ('of', 593677), ('and', 416629), ...]\n",
        "  dictionary = dict()\n",
        "\n",
        "  # create mapping st most freq word -> 1 next most freq -> 2 and so on..\n",
        "  # UNK will get mapped to 0\n",
        "  for word, freq in count:\n",
        "    dictionary[word] = len(dictionary)\n",
        "\n",
        "  # sample: {'UNK': 0, 'the': 1, 'of': 2, 'and': 3, 'one': 4, ...}\n",
        "  # now we create a list of the corr int mapping of the words in the original corpus\n",
        "  data = list()\n",
        "  unk_count = 0\n",
        "  for word in words:\n",
        "    if word in dictionary:\n",
        "      # get corr index\n",
        "      index = dictionary[word]\n",
        "    else:\n",
        "      # unknown\n",
        "      index = dictionary['UNK'] # map to 0\n",
        "      # increment unk count\n",
        "      unk_count+=1\n",
        "\n",
        "    data.append(index)\n",
        "  \n",
        "  # data is a list of indices in order of the original words in the vocab\n",
        "\n",
        "  # now that we have no of unk, update it in the count list\n",
        "  # for this assignment we had made the 1st elem of count a list and not a tuple\n",
        "  # as tuples are immutable\n",
        "  count[0][1] = unk_count\n",
        "\n",
        "  # now we have word->int mapping. We want to create the reverse\n",
        "  reversed_dictionary = dict(zip(dictionary.values(), dictionary.keys()))\n",
        "\n",
        "  # check if len of data == len of words in the corpus\n",
        "  if len(data) == len(words):\n",
        "    return data, count, dictionary, reversed_dictionary\n",
        "\n",
        "\n",
        "data, count, dictionary, reversed_dictionary = build_dataset(vocabulary, 10000)"
      ],
      "execution_count": 0,
      "outputs": []
    },
    {
      "cell_type": "code",
      "metadata": {
        "id": "BvqUUamxLOJm",
        "colab_type": "code",
        "outputId": "6332f57f-fb23-4bc3-9358-a584e931223c",
        "colab": {
          "base_uri": "https://localhost:8080/",
          "height": 33
        }
      },
      "source": [
        "print (data[:5], count[:5])"
      ],
      "execution_count": 0,
      "outputs": [
        {
          "output_type": "stream",
          "text": [
            "[5234, 3081, 12, 6, 195] [['UNK', 1737307], ('the', 1061396), ('of', 593677), ('and', 416629), ('one', 411764)]\n"
          ],
          "name": "stdout"
        }
      ]
    },
    {
      "cell_type": "markdown",
      "metadata": {
        "id": "FX2pRZLCy1cZ",
        "colab_type": "text"
      },
      "source": [
        "### The softmax issue and negative sampling\n",
        "\n",
        "The problem with using a full softmax output layer is that it is very computationally expensive.  Consider the definition of the softmax function:\n",
        "\n",
        "$$\n",
        "P(y = j \\mid x) = \\frac{e^{x^T w_j}}{\\sum_{k=1}^K e^{x^T w_k}}$$\n",
        "\n",
        "Here the probability of the output being class j is calculated by multiplying the output of the hidden layer and the weights connecting to the class j output on the numerator and dividing it by the same product but over all the remaining weights.  When the output is a 10,000-word one-hot vector, we are talking millions of weights that need to be updated in any gradient based training of the output layer.  This gets seriously time-consuming and inefficient\n",
        "\n",
        "\n",
        "To train the embedding layer using negative samples in Keras, we can re-imagine the way we train our network.  Instead of constructing our network so that the output layer is a multi-class softmax layer, we can change it into a simple binary classifier.  For words that are in the context of the target word, we want our network to output a 1, and for our negative samples, we want our network to output a 0. Therefore, the output layer of our Word2Vec Keras network is simply a single node with a sigmoid activation function.\n",
        "\n",
        "\n",
        "We also need a way of ensuring that, as the network trains, words which are similar end up having similar embedding vectors.  Therefore, we want to ensure that the trained network will always output a 1 when it is supplied words which are in the same context, but 0 when it is supplied words which are never in the same context. Therefore, we need a vector similarity score supplied to the output sigmoid layer – with similar vectors outputting a high score and un-similar vectors outputting a low score.  The most typical similarity measure used between two vectors is the cosine similarity score:\n",
        "\n",
        "$$\n",
        "similarity = cos(\\theta) = \\frac{\\textbf{A}\\cdot\\textbf{B}}{\\parallel\\textbf{A}\\parallel_2 \\parallel \\textbf{B} \\parallel_2}\n",
        "$$\n",
        "\n",
        "The denominator of this measure acts to normalize the result – the real similarity operation is on the numerator: the dot product between vectors A and B.  In other words, to get a simple, non-normalized measure of similarity between two vectors, you simply apply a dot product operation between them.\n",
        "\n",
        "So with all that in mind, our new negative sampling network for the planned Word2Vec Keras implementation features:\n",
        "\n",
        "- An (integer) input of a target word and a real or negative context word\n",
        "- An embedding layer lookup (i.e. looking up the integer index of the word in the embedding matrix to get the word vector)\n",
        "- The application of a dot product operation\n",
        "- The output sigmoid layer\n",
        "\n",
        "This architecture of this implementation looks like:\n",
        "\n",
        "\n",
        "\n"
      ]
    },
    {
      "cell_type": "markdown",
      "metadata": {
        "id": "LA9beutkzs_H",
        "colab_type": "text"
      },
      "source": [
        "### The final architecture\n",
        "\n",
        "![](https://i0.wp.com/adventuresinmachinelearning.com/wp-content/uploads/2017/08/Negative-sampling-architecture-1.jpg?w=931&ssl=1)\n",
        "\n",
        "Let’s go through this architecture more carefully.  First, each of the words in our vocabulary is assigned an integer index between 0 and the size of our vocabulary (in this case, 10,000).  We pass two words into the network, one the target word and the other either a word from the surrounding context or a negative sample.  We “look up” these indexes as the rows of our embedding layer (10,000 x 300 weight tensor) to retrieve our 300 length word vectors.  We then perform a dot product operation between these vectors to get the similarity.  Finally, we output the similarity to a sigmoid layer to give us a 1 or 0 indicator which we can match with the label given to the Context word (1 for a true context word, 0 for a negative sample).\n",
        "\n",
        "The back-propagation of our errors will work to update the embedding layer to ensure that words which are truly similar to each other (i.e. share contexts) have vectors such that they return high similarity scores. Let’s now implement this architecture in Keras and we can test whether this turns out to be the case."
      ]
    },
    {
      "cell_type": "code",
      "metadata": {
        "id": "PYTU8Ejb0nFu",
        "colab_type": "code",
        "outputId": "91fea78e-daa8-4006-f803-ce0f484bce2f",
        "colab": {
          "base_uri": "https://localhost:8080/",
          "height": 50
        }
      },
      "source": [
        "print (\"data:\",data[:5])\n",
        "\n",
        "print (\"count\", count[:5])"
      ],
      "execution_count": 0,
      "outputs": [
        {
          "output_type": "stream",
          "text": [
            "data: [5234, 3081, 12, 6, 195]\n",
            "count [['UNK', 1737307], ('the', 1061396), ('of', 593677), ('and', 416629), ('one', 411764)]\n"
          ],
          "name": "stdout"
        }
      ]
    },
    {
      "cell_type": "markdown",
      "metadata": {
        "id": "SH_Re3tV1h46",
        "colab_type": "text"
      },
      "source": [
        "Next, we need to define some constants for the training and also create a validation set of words so we can check the learning progress of our word vectors.\n",
        "\n",
        "### Constants and the validation set\n",
        "\n",
        "The first constant, window_size, is the window of words around the target word that will be used to draw the context words from. \n",
        "\n",
        "The second constant, vector_dim, is the size of each of our word embedding vectors – in this case, our embedding layer will be of size 10,000 x 300.\n",
        "\n",
        "Finally, we have a large epochs variable – this designates the number of training iterations we are going to run.  Word embedding, even with negative sampling, can be a time-consuming process.\n",
        "\n",
        "The next set of commands relate to the words we are going to check to see what other words grow in similarity to this validation set. During training, we will check which words begin to be deemed similar by the word embedding vectors and make sure these line up with our understanding of the meaning of these words.\n",
        "\n",
        "In this case, we will select 16 words to check, and pick these words randomly from the top 100 most common words in the data-set (collect_data has assigned the most common words in the data set integers in ascending order i.e. the most common word is assigned 1, the next most common 2, etc.)."
      ]
    },
    {
      "cell_type": "code",
      "metadata": {
        "id": "xdAg28dU3LHX",
        "colab_type": "code",
        "outputId": "682a2116-d47f-4b33-8e5c-c795024d0591",
        "colab": {
          "base_uri": "https://localhost:8080/",
          "height": 33
        }
      },
      "source": [
        "np.random.choice(100, 16).shape"
      ],
      "execution_count": 0,
      "outputs": [
        {
          "output_type": "execute_result",
          "data": {
            "text/plain": [
              "(16,)"
            ]
          },
          "metadata": {
            "tags": []
          },
          "execution_count": 12
        }
      ]
    },
    {
      "cell_type": "code",
      "metadata": {
        "id": "SqVeEdKU2xv7",
        "colab_type": "code",
        "outputId": "c1652b6e-3c75-434f-9d7d-c7def76d8b64",
        "colab": {
          "base_uri": "https://localhost:8080/",
          "height": 33
        }
      },
      "source": [
        "window_size = 3\n",
        "vector_dim = 300\n",
        "epochs = 10,00,000\n",
        "\n",
        "valid_size = 16 # Random set of words to evaluate similarity on.\n",
        "valid_window = 100 # Only pick dev samples in the head of the distribution.\n",
        "# pick 16 elems randomly from a set of 100 elems without replacement\n",
        "valid_examples = np.random.choice(a=valid_window, size=valid_size, replace=False)\n",
        "\n",
        "print (valid_examples)"
      ],
      "execution_count": 0,
      "outputs": [
        {
          "output_type": "stream",
          "text": [
            "[17 22 82 41 56 29 68 19 46  7 81  5  1 78 60 44]\n"
          ],
          "name": "stdout"
        }
      ]
    },
    {
      "cell_type": "markdown",
      "metadata": {
        "id": "PgVM8hoj3uAz",
        "colab_type": "text"
      },
      "source": [
        "Next, we are going to look at a handy function in Keras which does all the skip-gram / context processing for us.\n",
        "\n",
        "### The skip-gram function in Keras\n",
        "\n",
        "According to the official documentation:\n",
        "\n",
        "```\n",
        "Generates skipgram word pairs.\n",
        "\n",
        "This function transforms a sequence of word indexes (list of integers) into tuples of words of the form:\n",
        "\n",
        "- (word, word in the same window), with label 1 (positive samples).\n",
        "- (word, random word from the vocabulary), with label 0 (negative samples).\n",
        "```\n",
        "\n"
      ]
    },
    {
      "cell_type": "code",
      "metadata": {
        "id": "By2mX2Ye8PZt",
        "colab_type": "code",
        "colab": {}
      },
      "source": [
        "from keras.preprocessing import sequence"
      ],
      "execution_count": 0,
      "outputs": []
    },
    {
      "cell_type": "code",
      "metadata": {
        "id": "cA445Oqs8olG",
        "colab_type": "code",
        "outputId": "185b2034-840a-4c21-ae19-37c3013c1d4c",
        "colab": {
          "base_uri": "https://localhost:8080/",
          "height": 82
        }
      },
      "source": [
        "sampling_table = sequence.make_sampling_table(size=vocabulary_size)\n",
        "\n",
        "print (sampling_table[:20])\n",
        "\n",
        "couples, labels = sequence.skipgrams(sequence=data, vocabulary_size=vocabulary_size, window_size=window_size, sampling_table=sampling_table)\n"
      ],
      "execution_count": 0,
      "outputs": [
        {
          "output_type": "stream",
          "text": [
            "[0.00315225 0.00315225 0.00547597 0.00741556 0.00912817 0.01068435\n",
            " 0.01212381 0.01347162 0.01474487 0.0159558  0.0171136  0.01822533\n",
            " 0.01929662 0.02033198 0.02133515 0.02230924 0.02325687 0.02418031\n",
            " 0.02508148 0.02596208]\n"
          ],
          "name": "stdout"
        }
      ]
    },
    {
      "cell_type": "markdown",
      "metadata": {
        "id": "G1Erjn31FaeO",
        "colab_type": "text"
      },
      "source": [
        "Ignoring the first line for the moment (make_sampling_table), the Keras skipgrams function does exactly what we want of it – it returns the word couples in the form of (target, context) and also gives a matching label of 1 or 0 depending on whether context is a true context word or a negative sample. By default, it returns randomly shuffled couples and labels.  In the code above, we then split the couples tuple into separate word_target and word_context variables and make sure they are the right type.  The print function produces the following instructive output:\n",
        "\n"
      ]
    },
    {
      "cell_type": "code",
      "metadata": {
        "id": "K0SXDOBX-7Ak",
        "colab_type": "code",
        "outputId": "752e5cad-8e96-40ae-9983-649aa944d72e",
        "colab": {
          "base_uri": "https://localhost:8080/",
          "height": 82
        }
      },
      "source": [
        "print (couples[:10]) \n",
        "print (labels[:10])\n",
        "\n",
        "print (len(couples), len(labels))\n",
        "\n",
        "print (sum(labels))"
      ],
      "execution_count": 0,
      "outputs": [
        {
          "output_type": "stream",
          "text": [
            "[[470, 4], [5298, 2], [1004, 37], [3818, 8796], [5595, 7923], [185, 9592], [9335, 909], [1306, 1236], [5291, 6194], [1984, 5651]]\n",
            "[1, 1, 1, 0, 0, 0, 0, 0, 0, 0]\n",
            "30042736 30042736\n",
            "15021368\n"
          ],
          "name": "stdout"
        }
      ]
    },
    {
      "cell_type": "markdown",
      "metadata": {
        "id": "nAyVL31_Fd4c",
        "colab_type": "text"
      },
      "source": [
        "The make_sampling_table() operation creates a table that skipgrams uses to ensure it produces negative samples in a balanced manner and not just the most common words.  The skipgrams operation by default selects the same amount of negative samples as it does true context words.\n",
        "\n"
      ]
    },
    {
      "cell_type": "code",
      "metadata": {
        "id": "VINPxLwd_Tp6",
        "colab_type": "code",
        "outputId": "5637ac93-8a54-43ff-a06c-46c1ad32c15a",
        "colab": {
          "base_uri": "https://localhost:8080/",
          "height": 33
        }
      },
      "source": [
        "# precentage of context words\n",
        "print (sum(labels)/len(labels))"
      ],
      "execution_count": 0,
      "outputs": [
        {
          "output_type": "stream",
          "text": [
            "0.5\n"
          ],
          "name": "stdout"
        }
      ]
    },
    {
      "cell_type": "markdown",
      "metadata": {
        "id": "DJL7syvQFqwU",
        "colab_type": "text"
      },
      "source": [
        "We’ll feed the produced arrays (word_target, word_context) into our Keras model later – now onto the Word2Vec Keras model itself.\n",
        "\n",
        "### The Keras functional API and the embedding layers\n",
        "\n",
        "In this Word2Vec Keras implementation, we’ll be using the Keras functional API.  In my previous Keras tutorial, I used the Keras sequential layer framework. This sequential layer framework allows the developer to easily bolt together layers, with the tensor outputs from each layer flowing easily and implicitly into the next layer.  In this case, we are going to do some things which are a little tricky – the sharing of a single embedding layer between two tensors, and an auxiliary output to measure similarity – and therefore we can’t use a straightforward sequential implementation.\n",
        "\n",
        "Thankfully, the functional API is also pretty easy to use.  I’ll introduce it as we move through the code. The first thing we need to do is specify the structure of our model, as per the architecture diagram which I have shown above. As an initial step, we’ll create our input variables and embedding layer:\n",
        "\n",
        "![](https://i0.wp.com/adventuresinmachinelearning.com/wp-content/uploads/2017/08/Negative-sampling-architecture-1.jpg?w=931&ssl=1)"
      ]
    },
    {
      "cell_type": "code",
      "metadata": {
        "id": "vIHJp-rpGxMR",
        "colab_type": "code",
        "colab": {}
      },
      "source": [
        "from keras.models import Model\n",
        "from keras.layers import Input, Dense, Reshape, merge, Dot\n",
        "from keras.layers.embeddings import Embedding"
      ],
      "execution_count": 0,
      "outputs": []
    },
    {
      "cell_type": "code",
      "metadata": {
        "id": "wJpkIaD8TI1j",
        "colab_type": "code",
        "outputId": "a91df511-534d-4b3f-fc41-e66e6291c25e",
        "colab": {
          "base_uri": "https://localhost:8080/",
          "height": 86
        }
      },
      "source": [
        "# create some input variables\n",
        "\n",
        "input_target = Input(shape=(1,))\n",
        "input_context = Input(shape=(1,))\n",
        "\n",
        "print (input_target.shape, input_context.shape)\n",
        "\n",
        "embedding = Embedding(input_dim=vocabulary_size, output_dim=vector_dim, input_length=1, name='embedding')\n"
      ],
      "execution_count": 0,
      "outputs": [
        {
          "output_type": "stream",
          "text": [
            "W0902 12:07:12.048299 139953276630912 deprecation_wrapper.py:119] From /usr/local/lib/python3.6/dist-packages/keras/backend/tensorflow_backend.py:517: The name tf.placeholder is deprecated. Please use tf.compat.v1.placeholder instead.\n",
            "\n"
          ],
          "name": "stderr"
        },
        {
          "output_type": "stream",
          "text": [
            "(?, 1) (?, 1)\n"
          ],
          "name": "stdout"
        }
      ]
    },
    {
      "cell_type": "markdown",
      "metadata": {
        "id": "WvGo8614UJwy",
        "colab_type": "text"
      },
      "source": [
        "First off, we need to specify what tensors are going to be input to our model, along with their size. In this case, we are just going to supply individual target and context words, so the input size for each input variable is simply (1,).  Next, we create an embedding layer, which Keras already has specified as a layer for us – Embedding().  The first argument to this layer definition is the number of rows of our embedding layer – which is the size of our vocabulary (10,000).  The second is the size of each word’s embedding vector (the columns) – in this case, 300. We also specify the input length to the layer – in this case, it matches our input variables i.e. 1.  \n",
        "\n",
        "**Finally, we give it a name, as we will want to access the weights of this layer after we’ve trained it, and we can easily access the layer weights using the name.**\n",
        "\n",
        "The weights for this layer are initialized automatically, but you can also specify an optional embeddings_initializer argument whereby you supply a Keras initializer object.  Next, as per our architecture, we need to look up an embedding vector (length = 300) for our target and context words, by supplying the embedding layer with the word’s unique integer value:\n",
        "\n",
        "\n"
      ]
    },
    {
      "cell_type": "code",
      "metadata": {
        "id": "9_MDEDqoVv1T",
        "colab_type": "code",
        "outputId": "ac9b8a52-153a-47f0-d77a-6ede31e76a01",
        "colab": {
          "base_uri": "https://localhost:8080/",
          "height": 86
        }
      },
      "source": [
        "# embed the target to dense vector of size 300\n",
        "target = embedding(input_target)\n",
        "# reshape the target to 300,1\n",
        "target = Reshape(target_shape=(vector_dim, 1))(target)\n",
        "\n",
        "# embed the context to dense vector of size 300\n",
        "context = embedding(input_context)\n",
        "# reshape the context to 300,1\n",
        "context = Reshape(target_shape=(vector_dim,1))(context)\n",
        "\n",
        "print (target.shape, context.shape)"
      ],
      "execution_count": 0,
      "outputs": [
        {
          "output_type": "stream",
          "text": [
            "W0902 12:07:14.360013 139953276630912 deprecation_wrapper.py:119] From /usr/local/lib/python3.6/dist-packages/keras/backend/tensorflow_backend.py:4138: The name tf.random_uniform is deprecated. Please use tf.random.uniform instead.\n",
            "\n"
          ],
          "name": "stderr"
        },
        {
          "output_type": "stream",
          "text": [
            "(?, 300, 1) (?, 300, 1)\n"
          ],
          "name": "stdout"
        }
      ]
    },
    {
      "cell_type": "markdown",
      "metadata": {
        "id": "tbf7HfqdXMkI",
        "colab_type": "text"
      },
      "source": [
        "As can be observed in the code above, the embedding vector is easily retrieved by supplying the word integer (i.e. input_target and input_context) in brackets to the previously created embedding operation/layer. For each word vector, we then use a Keras Reshape layer to reshape it ready for our upcoming dot product and similarity operation, as per our architecture.\n",
        "\n",
        "The next layer involves calculating our cosine similarity between the supplied word vectors:"
      ]
    },
    {
      "cell_type": "markdown",
      "metadata": {
        "id": "fZ5oSqRISR3E",
        "colab_type": "text"
      },
      "source": [
        "`merge()` as described in the tutorial is depriciated\n",
        "\n",
        "So we use `Dot`\n",
        "\n",
        "```\n",
        "Layer that computes a dot product between samples in two tensors.\n",
        "```"
      ]
    },
    {
      "cell_type": "code",
      "metadata": {
        "id": "vWVqRKRkc3sV",
        "colab_type": "code",
        "outputId": "0c0912ba-06ef-4f4c-c93c-826dcc4bf4b2",
        "colab": {
          "base_uri": "https://localhost:8080/",
          "height": 261
        }
      },
      "source": [
        "test1 = tf.constant([\n",
        "                     [[1.], [2.], [3.]], \n",
        "                     [[8.], [6.], [0.]]\n",
        "                     ])\n",
        "test2 = tf.constant([\n",
        "                     [[0.], [2.], [-3.]], \n",
        "                     [[3.], [2.], [-5.]]\n",
        "                     ])\n",
        "\n",
        "print (test1.shape)\n",
        "\n",
        "exp_dot1 = Dot(axes=0, normalize=False)\n",
        "exp_dot2 = Dot(axes=1, normalize=False)\n",
        "exp_dot3 = Dot(axes=2, normalize=False)\n",
        "\n",
        "dot_prod1 = exp_dot1([test1, test2])\n",
        "dot_prod2 = exp_dot2([test1, test2])\n",
        "dot_prod3 = exp_dot3([test1, test2])\n",
        "\n",
        "# Construct a `Session` to execute the graph.\n",
        "sess = tf.compat.v1.Session()\n",
        "\n",
        "# Execute the graph and store the value that `e` represents in `result`.\n",
        "result1 = sess.run(dot_prod1)\n",
        "result2 = sess.run(dot_prod2)\n",
        "result3 = sess.run(dot_prod3)\n",
        "\n",
        "print (result1)\n",
        "print (result2)\n",
        "print (result3)\n",
        "\n",
        "print (result1.shape, result2.shape, result3.shape)"
      ],
      "execution_count": 0,
      "outputs": [
        {
          "output_type": "stream",
          "text": [
            "(2, 3, 1)\n",
            "[[[-5.]]\n",
            "\n",
            " [[36.]]]\n",
            "[[[-5.]]\n",
            "\n",
            " [[36.]]]\n",
            "[[[  0.   2.  -3.]\n",
            "  [  0.   4.  -6.]\n",
            "  [  0.   6.  -9.]]\n",
            "\n",
            " [[ 24.  16. -40.]\n",
            "  [ 18.  12. -30.]\n",
            "  [  0.   0.  -0.]]]\n",
            "(2, 1, 1) (2, 1, 1) (2, 3, 3)\n"
          ],
          "name": "stdout"
        }
      ]
    },
    {
      "cell_type": "code",
      "metadata": {
        "id": "0VkhaN4SX-_Y",
        "colab_type": "code",
        "outputId": "efe8579a-21bb-407f-d7fb-c2d7d713b35c",
        "colab": {
          "base_uri": "https://localhost:8080/",
          "height": 33
        }
      },
      "source": [
        "# create a Dot prduct layer. normalize is set to True to compute cosine similarity\n",
        "# setup a cosine similarity operation which will be output in a secondary model\n",
        "similarity_layer = Dot(axes=0, normalize=True, name='similarity_layer')\n",
        "\n",
        "similarity = similarity_layer([target, context])\n",
        "\n",
        "print (similarity.shape)"
      ],
      "execution_count": 0,
      "outputs": [
        {
          "output_type": "stream",
          "text": [
            "(?, 1, 1)\n"
          ],
          "name": "stdout"
        }
      ]
    },
    {
      "cell_type": "code",
      "metadata": {
        "id": "BTksnpsZNVYq",
        "colab_type": "code",
        "outputId": "c1d4ed19-3d04-4730-c057-0a221cc416b6",
        "colab": {
          "base_uri": "https://localhost:8080/",
          "height": 50
        }
      },
      "source": [
        "# now perform the dot product operation to get a similarity measure\n",
        "dot = Dot(axes=1, normalize=False, name='dot')\n",
        "dot_product = dot([target, context])\n",
        "\n",
        "dot_product = Reshape((1,))(dot_product)\n",
        "\n",
        "print (dot_product.shape)\n",
        "\n",
        "# add the sigmoid output layer\n",
        "output = Dense(units=1, activation='sigmoid')(dot_product)\n",
        "\n",
        "print (output.shape)"
      ],
      "execution_count": 0,
      "outputs": [
        {
          "output_type": "stream",
          "text": [
            "(?, 1)\n",
            "(?, 1)\n"
          ],
          "name": "stdout"
        }
      ]
    },
    {
      "cell_type": "markdown",
      "metadata": {
        "id": "jEjMxXlwYyQg",
        "colab_type": "text"
      },
      "source": [
        "We then do another Reshape layer, and take the reshaped dot product value (a single data point/scalar) and apply it to a Keras Dense layer, with the activation function of the layer set to ‘sigmoid’.  This is the output of our Word2Vec Keras architecture.\n",
        "\n",
        "Next, we need to gather everything into a Keras model and compile it, ready for training:"
      ]
    },
    {
      "cell_type": "code",
      "metadata": {
        "id": "rKoJ8ezFYqXZ",
        "colab_type": "code",
        "outputId": "39bd21ef-4e96-4d59-a7c0-d1b757d71cb8",
        "colab": {
          "base_uri": "https://localhost:8080/",
          "height": 183
        }
      },
      "source": [
        "# create the primary training model\n",
        "model = Model(input = [input_target, input_context], output=output)\n",
        "model.compile(loss='binary_crossentropy', optimizer='rmsprop')\n",
        "\n"
      ],
      "execution_count": 0,
      "outputs": [
        {
          "output_type": "stream",
          "text": [
            "/usr/local/lib/python3.6/dist-packages/ipykernel_launcher.py:1: UserWarning: Update your `Model` call to the Keras 2 API: `Model(inputs=[<tf.Tenso..., outputs=Tensor(\"de...)`\n",
            "  \"\"\"Entry point for launching an IPython kernel.\n",
            "W0902 12:26:26.896552 139953276630912 deprecation_wrapper.py:119] From /usr/local/lib/python3.6/dist-packages/keras/optimizers.py:790: The name tf.train.Optimizer is deprecated. Please use tf.compat.v1.train.Optimizer instead.\n",
            "\n",
            "W0902 12:26:26.924488 139953276630912 deprecation_wrapper.py:119] From /usr/local/lib/python3.6/dist-packages/keras/backend/tensorflow_backend.py:3376: The name tf.log is deprecated. Please use tf.math.log instead.\n",
            "\n",
            "W0902 12:26:26.930299 139953276630912 deprecation.py:323] From /usr/local/lib/python3.6/dist-packages/tensorflow/python/ops/nn_impl.py:180: add_dispatch_support.<locals>.wrapper (from tensorflow.python.ops.array_ops) is deprecated and will be removed in a future version.\n",
            "Instructions for updating:\n",
            "Use tf.where in 2.0, which has the same broadcast rule as np.where\n"
          ],
          "name": "stderr"
        }
      ]
    },
    {
      "cell_type": "markdown",
      "metadata": {
        "id": "vSLnHdOkZOip",
        "colab_type": "text"
      },
      "source": [
        "Here, we create the functional API based model for our Word2Vec Keras architecture.  What the model definition requires is a specification of the input arrays to the model (these need to be numpy arrays) and an output tensor – these are supplied as per the previously explained architecture.  We then compile the model, by supplying a loss function that we are going to use (in this case, binary cross entropy i.e. cross entropy when the labels are either 0 or 1) and an optimizer (in this case, rmsprop).  The loss function is applied to the output variable.\n",
        "\n",
        "The question now is, if we want to use the similarity operation which we defined in the architecture to allow us to check on how things are progressing during training, how do we access it? We could output it via the model definition (i.e. output=[similarity, output]) but then Keras would be trying to apply the loss function and the optimizer to this value during training and this isn’t what we created the operation for.\n",
        "\n",
        "There is another way, which is quite handy – we create another model:"
      ]
    },
    {
      "cell_type": "code",
      "metadata": {
        "id": "ICi2u4cQkRJy",
        "colab_type": "code",
        "outputId": "08fe8322-6312-45d7-8b08-d811cebb1bc2",
        "colab": {
          "base_uri": "https://localhost:8080/",
          "height": 50
        }
      },
      "source": [
        "# create a secondary validation model to run our similarity checks during training\n",
        "\n",
        "validation_model = Model(input=[input_target, input_context], output=similarity)"
      ],
      "execution_count": 0,
      "outputs": [
        {
          "output_type": "stream",
          "text": [
            "/usr/local/lib/python3.6/dist-packages/ipykernel_launcher.py:2: UserWarning: Update your `Model` call to the Keras 2 API: `Model(inputs=[<tf.Tenso..., outputs=Tensor(\"si...)`\n",
            "  \n"
          ],
          "name": "stderr"
        }
      ]
    },
    {
      "cell_type": "markdown",
      "metadata": {
        "id": "RBHEBOyYklKK",
        "colab_type": "text"
      },
      "source": [
        "We can now use this validation_model to access the similarity operation, and this model will actually share the embedding layer with the primary model.  Note, because this model won’t be involved in training, we don’t have to run a Keras compile operation on it.\n",
        "\n",
        "Now we are ready to train the model – but first, let’s setup a function to print out the words with the closest similarity to our validation examples (valid_examples).\n",
        "\n",
        "### The similarity callback\n",
        "\n",
        "We want to create a “callback” which we can use to figure out which words are closest in similarity to our validation examples, so we can monitor the training progress of our embedding layer.\n",
        "\n"
      ]
    },
    {
      "cell_type": "code",
      "metadata": {
        "id": "Rk-pStCaqSth",
        "colab_type": "code",
        "outputId": "ace72482-8ad4-45cb-d6e9-611725315437",
        "colab": {
          "base_uri": "https://localhost:8080/",
          "height": 33
        }
      },
      "source": [
        "print (valid_size, valid_examples)"
      ],
      "execution_count": 0,
      "outputs": [
        {
          "output_type": "stream",
          "text": [
            "16 [17 22 82 41 56 29 68 19 46  7 81  5  1 78 60 44]\n"
          ],
          "name": "stdout"
        }
      ]
    },
    {
      "cell_type": "code",
      "metadata": {
        "id": "Ewng5IsU1X7D",
        "colab_type": "code",
        "outputId": "373f8909-9afb-4c92-d571-dfc538fc1047",
        "colab": {
          "base_uri": "https://localhost:8080/",
          "height": 34
        }
      },
      "source": [
        "test = np.array([1,2,3,4,5])\n",
        "\n",
        "(-test).argsort()"
      ],
      "execution_count": 0,
      "outputs": [
        {
          "output_type": "execute_result",
          "data": {
            "text/plain": [
              "array([4, 3, 2, 1, 0])"
            ]
          },
          "metadata": {
            "tags": []
          },
          "execution_count": 29
        }
      ]
    },
    {
      "cell_type": "code",
      "metadata": {
        "id": "UcgJeKO7kZs6",
        "colab_type": "code",
        "colab": {}
      },
      "source": [
        "class SimilarityCallback:\n",
        "  def run_sim(self):\n",
        "    # for each of the valid_examples compute similarity with every word and print out the top k\n",
        "    for i in range(valid_size):\n",
        "      # get the word\n",
        "      valid_word = reversed_dictionary[valid_examples[i]]\n",
        "\n",
        "      top_k = 8  # number of nearest neighbors\n",
        "\n",
        "      # get all similarity scores\n",
        "      sim = self._get_sim(valid_examples[i])\n",
        "\n",
        "      # sort desc and get the top k except the first one\n",
        "      # first one is the same as the original so ignore that\n",
        "      nearest = (-sim).argsort()[1:top_k+1]\n",
        "      log_str = 'Nearest to %s:' % valid_word\n",
        "      # loop through and print out the top k words\n",
        "      for k in range(top_k):\n",
        "        close_word = reversed_dictionary[nearest[k]]\n",
        "        log_str = '%s %s,' % (log_str, close_word)\n",
        "      print(log_str)\n",
        "\n",
        "\n",
        "\n",
        "  @staticmethod\n",
        "  def _get_sim(valid_word_idx):\n",
        "    # array of 0s of size vocab_size\n",
        "    sim = np.zeros((vocabulary_size,))\n",
        "    # target and context\n",
        "    in_arr1 = np.zeros((1,))\n",
        "    in_arr2 = np.zeros((1,))\n",
        "    # for each word\n",
        "    for i in range(vocabulary_size):\n",
        "      # set target word as valid word\n",
        "      # set context word as current word in the loop\n",
        "      in_arr1[0,] = valid_word_idx\n",
        "      in_arr2[0,] = i\n",
        "      # predict_on_batch: Returns predictions for a single batch of samples.\n",
        "      # note here we are accessing our secondary model\n",
        "      out = validation_model.predict_on_batch([in_arr1, in_arr2])\n",
        "      # store output\n",
        "      sim[i] = out\n",
        "    return sim\n",
        "\n",
        "# init the obj\n",
        "sim_cb = SimilarityCallback()\n",
        "\n"
      ],
      "execution_count": 0,
      "outputs": []
    },
    {
      "cell_type": "markdown",
      "metadata": {
        "id": "WBa9fH8p91fH",
        "colab_type": "text"
      },
      "source": [
        "This class runs through all the valid_examples and gets the similarity score between the given validation word and all the other words in the vocabulary.  It gets the similarity score by running _get_sim(), which features a loop which runs through each word in the vocabulary, and runs a predict_on_batch() operation on the validation model – this basically looks up the embedding vectors for the two supplied words (the valid_example and the looped vocabulary example) and returns the similarity operation result.  The main loop then sorts the similarity in descending order and creates a string to print out the top 8 words with the closest similarity to the validation example.\n",
        "\n",
        "The output of this callback will be seen during our training loop, which is presented below.\n",
        "\n",
        "### The training loop\n",
        "\n",
        "The main training loop of the model is:\n",
        "\n"
      ]
    },
    {
      "cell_type": "code",
      "metadata": {
        "id": "ZFvTrCve-uKX",
        "colab_type": "code",
        "outputId": "083e9792-42c4-4f36-d72f-cc3cc761de44",
        "colab": {
          "base_uri": "https://localhost:8080/",
          "height": 33
        }
      },
      "source": [
        "print (couples[:5], labels[:5])"
      ],
      "execution_count": 0,
      "outputs": [
        {
          "output_type": "stream",
          "text": [
            "[[470, 4], [5298, 2], [1004, 37], [3818, 8796], [5595, 7923]] [1, 1, 1, 0, 0]\n"
          ],
          "name": "stdout"
        }
      ]
    },
    {
      "cell_type": "markdown",
      "metadata": {
        "id": "FbdeD3C4ATpl",
        "colab_type": "text"
      },
      "source": [
        "We need to input the target and context words separately\n"
      ]
    },
    {
      "cell_type": "code",
      "metadata": {
        "id": "0yy3kEMP-H-4",
        "colab_type": "code",
        "outputId": "c050d50c-0545-47da-fd0f-598d76806240",
        "colab": {
          "base_uri": "https://localhost:8080/",
          "height": 33
        }
      },
      "source": [
        "word_target, word_context = zip(*couples)\n",
        "\n",
        "print (word_target[:5])"
      ],
      "execution_count": 0,
      "outputs": [
        {
          "output_type": "stream",
          "text": [
            "(470, 5298, 1004, 3818, 5595)\n"
          ],
          "name": "stdout"
        }
      ]
    },
    {
      "cell_type": "code",
      "metadata": {
        "id": "sWloL1LzALe2",
        "colab_type": "code",
        "outputId": "47c9ee07-ae5f-457e-8927-10eb8ac9dc6a",
        "colab": {
          "base_uri": "https://localhost:8080/",
          "height": 34
        }
      },
      "source": [
        "print (word_context[:5])"
      ],
      "execution_count": 0,
      "outputs": [
        {
          "output_type": "stream",
          "text": [
            "(1705, 4584, 433, 2572, 2)\n"
          ],
          "name": "stdout"
        }
      ]
    },
    {
      "cell_type": "code",
      "metadata": {
        "id": "CTUaBbldAfp0",
        "colab_type": "code",
        "outputId": "e4108104-f10d-4302-c72a-3368ee185913",
        "colab": {
          "base_uri": "https://localhost:8080/",
          "height": 33
        }
      },
      "source": [
        "# convert the lists to np arrays\n",
        "word_target = np.array(word_target, dtype=\"int32\")\n",
        "word_context = np.array(word_context, dtype=\"int32\")\n",
        "\n",
        "print (word_target.shape, word_context.shape, len(labels))"
      ],
      "execution_count": 0,
      "outputs": [
        {
          "output_type": "stream",
          "text": [
            "(30042736,) (30042736,) 30042736\n"
          ],
          "name": "stdout"
        }
      ]
    },
    {
      "cell_type": "code",
      "metadata": {
        "id": "P84DLsxiA1C_",
        "colab_type": "code",
        "outputId": "295ebcfb-3885-4317-f738-6c94a9c7e826",
        "colab": {
          "base_uri": "https://localhost:8080/",
          "height": 66
        }
      },
      "source": [
        "epochs = 1000000\n",
        "\n",
        "\n",
        "arr_1 = np.zeros((1,))\n",
        "arr_2 = np.zeros((1,))\n",
        "arr_3 = np.zeros((1,))\n",
        "\n",
        "for cnt in range(epochs):\n",
        "  # pick a random int from the entire range of training data\n",
        "  idx = np.random.randint(0, len(labels)-1)\n",
        "  # set the target, context and label\n",
        "  arr_1[0,] = word_target[idx]\n",
        "  arr_2[0,] = word_context[idx]\n",
        "  arr_3[0,] = labels[idx]\n",
        "  # note here we are accessing our primary model\n",
        "  loss = model.train_on_batch(x=[arr_1, arr_2], y=arr_3)\n",
        "  if cnt % 100 == 0:\n",
        "    print(\"Iteration {}, loss={}\".format(cnt, loss))\n",
        "  if cnt % 10000 == 0:\n",
        "    sim_cb.run_sim()"
      ],
      "execution_count": 0,
      "outputs": [
        {
          "output_type": "stream",
          "text": [
            "Iteration 0, loss=0.6197246313095093\n",
            "Nearest to three: greatest, experienced, ways, camouflage, shares, lifelong, telecommunications, guam,\n",
            "Nearest to six: contexts, madrid, producer, early, accepts, wto, handle, farmer,\n"
          ],
          "name": "stdout"
        }
      ]
    },
    {
      "cell_type": "markdown",
      "metadata": {
        "id": "BlxGvOiKDB-u",
        "colab_type": "text"
      },
      "source": [
        "\n",
        "In this loop, we run through the total number of epochs.  First, we select a random index from our word_target, word_context and labels arrays and place the values in dummy numpy arrays.  Then we supply the input ([word_target, word_context]) and outputs (labels) to the primary model and run a train_on_batch() operation.  This returns the current loss evaluation, loss, of the model and prints it. Every 10,000 iterations we also run functions in the SimilarityCallback.\n",
        "\n",
        "Here are some of the word similarity outputs for the validation example word “eight” as we progress through the training iterations:"
      ]
    },
    {
      "cell_type": "markdown",
      "metadata": {
        "id": "bjlTZPyg3eQj",
        "colab_type": "text"
      },
      "source": [
        "```\n",
        "Nearest to into: in, a, is, this, and, his, an, at,\n",
        "Nearest to up: also, with, a, of, his, it, on, to,\n",
        "Nearest to used: are, to, as, who, an, be, is, in,\n",
        "Nearest to people: the, with, that, is, his, are, a, only,\n",
        "Nearest to known: the, with, and, as, be, by, only, to,\n",
        "Nearest to often: the, as, in, a, s, was, his, with,\n",
        "Nearest to see: who, was, in, the, an, a, and, as,\n",
        "Nearest to a: the, are, as, in, his, for, of, and,\n",
        "Nearest to they: as, that, the, for, s, is, are, was,\n",
        "Nearest to four: nine, zero, eight, one, two, six, five, three,\n",
        "Nearest to over: can, the, region, from, are, which, we, s,\n",
        "Nearest to from: the, a, in, as, for, his, is, was,\n",
        "Nearest to so: an, as, s, from, that, was, can, some,\n",
        "Nearest to world: ii, the, s, of, that, are, was, for,\n",
        "Nearest to be: the, as, in, that, is, are, they, a,\n",
        "Nearest to but: is, it, are, only, that, the, of, to,\n",
        "```\n",
        "\n",
        "We can simply look up the int encoding of a word and pass it through the trained embedding layer in order to determine its dense vector representation"
      ]
    }
  ]
}